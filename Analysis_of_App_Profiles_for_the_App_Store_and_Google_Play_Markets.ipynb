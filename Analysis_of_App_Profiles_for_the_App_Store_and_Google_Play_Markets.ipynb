{
  "nbformat": 4,
  "nbformat_minor": 0,
  "metadata": {
    "kernelspec": {
      "display_name": "Python 3",
      "language": "python",
      "name": "python3"
    },
    "language_info": {
      "codemirror_mode": {
        "name": "ipython",
        "version": 3
      },
      "file_extension": ".py",
      "mimetype": "text/x-python",
      "name": "python",
      "nbconvert_exporter": "python",
      "pygments_lexer": "ipython3",
      "version": "3.4.3"
    },
    "colab": {
      "name": "Analysis of App Profiles for the App Store and Google Play Markets",
      "provenance": [],
      "toc_visible": true
    }
  },
  "cells": [
    {
      "cell_type": "markdown",
      "metadata": {
        "id": "nX_W0YPqzyRc",
        "colab_type": "text"
      },
      "source": [
        "# Analysis of App Profiles for the App Store and Google Play Markets\n",
        "\n",
        "My aim in this project is to find mobile app profiles that are profitable for the App Store and Google Play markets. My job is to enable mobile app developers to make data-driven decisions with respect to the kind of apps they build.\n",
        "\n",
        "I will suppose that the main source of revenue consists of in-app ads. This means that the revenue for any given app is mostly influenced by the number of users that use the app. \n",
        "\n",
        "My goal for this project is to analyze data to help developers understand what kinds of apps are likely to attract more users."
      ]
    },
    {
      "cell_type": "markdown",
      "metadata": {
        "id": "nj3qhQSnzyRg",
        "colab_type": "text"
      },
      "source": [
        "## Opening and Exploring the Data\n",
        "\n",
        "As of January 2020, there were approximately 2 million iOS apps available on the App Store, and 2.1 million Android apps on Google Play.\n",
        "\n",
        "Collecting data for over four million apps requires a significant amount of time and money, so we'll try to analyze a sample of data instead. To avoid spending resources with collecting new data ourselves, we should first try to see whether we can find any relevant existing data at no cost. Luckily, these are two data sets that seem suitable for our purpose:\n",
        "\n",
        "- [A data set](https://www.kaggle.com/lava18/google-play-store-apps) containing data about approximately ten thousand Android apps from Google Play. You can download the data set directly from [this link](https://dq-content.s3.amazonaws.com/350/googleplaystore.csv).\n",
        "- [A data set](https://www.kaggle.com/ramamet4/app-store-apple-data-set-10k-apps) containing data about approximately seven thousand iOS apps from the App Store. You can download the data set directly from [this link](https://dq-content.s3.amazonaws.com/350/AppleStore.csv).\n",
        "\n",
        "Let's start by opening the two data sets and then continue with exploring the data."
      ]
    },
    {
      "cell_type": "code",
      "metadata": {
        "id": "ZNzXBSALzyRl",
        "colab_type": "code",
        "colab": {}
      },
      "source": [
        "from csv import reader\n",
        "\n",
        "# Google Play dataset\n",
        "with open(\"googleplaystore.csv\") as f:\n",
        "    android_data = list(reader(f))\n",
        "# Apple Store dataset\n",
        "with open(\"AppleStore.csv\") as f:\n",
        "    ios_data = list(reader(f))\n",
        "    \n",
        "android_cols = android_data[0]\n",
        "android_data = android_data[1:]\n",
        "ios_cols = ios_data[0]\n",
        "ios_data = ios_data[1:]"
      ],
      "execution_count": 0,
      "outputs": []
    },
    {
      "cell_type": "markdown",
      "metadata": {
        "id": "aVNUM6G2zyRr",
        "colab_type": "text"
      },
      "source": [
        "To make it easier to explore the two data sets, I'll first write a function named `explore_data()` that I can use repeatedly to explore rows in a more readable way. I'll also add an option for our function to show the number of rows and columns for any data set."
      ]
    },
    {
      "cell_type": "code",
      "metadata": {
        "id": "SiW2GuwezyRs",
        "colab_type": "code",
        "colab": {}
      },
      "source": [
        "def explore_data(dataset, start, end, rows_and_columns=False):\n",
        "    dataset_slice = dataset[start:end]    \n",
        "    for row in dataset_slice:\n",
        "        print(row)\n",
        "        print('\\n') # adds a new (empty) line after each row\n",
        "\n",
        "    if rows_and_columns:\n",
        "        print('Number of rows:', len(dataset))\n",
        "        print('Number of columns:', len(dataset[0]))"
      ],
      "execution_count": 0,
      "outputs": []
    },
    {
      "cell_type": "markdown",
      "metadata": {
        "id": "vTlm-FjczyRv",
        "colab_type": "text"
      },
      "source": [
        "Now let's take a look at the first few rows of each dataset."
      ]
    },
    {
      "cell_type": "code",
      "metadata": {
        "id": "FoMhUn5SzyRw",
        "colab_type": "code",
        "colab": {
          "base_uri": "https://localhost:8080/",
          "height": 642
        },
        "outputId": "bde2d770-9092-4397-bb85-01a88a097fce"
      },
      "source": [
        "n_rows = 3\n",
        "print(\"First {} rows of the\".format(n_rows), \"Google Play Store\", \"dataset\\n\")\n",
        "print(android_cols)\n",
        "print(\"\\n\")\n",
        "explore_data(android_data, 0, n_rows, True)\n",
        "print(\"\\n\")\n",
        "print(\"\\n\")\n",
        "print(\"First {} rows of the\".format(n_rows), \"Apple Store\", \"dataset\\n\")\n",
        "print(ios_cols)\n",
        "print(\"\\n\")\n",
        "explore_data(ios_data, 0, n_rows, True)"
      ],
      "execution_count": 3,
      "outputs": [
        {
          "output_type": "stream",
          "text": [
            "First 3 rows of the Google Play Store dataset\n",
            "\n",
            "['App', 'Category', 'Rating', 'Reviews', 'Size', 'Installs', 'Type', 'Price', 'Content Rating', 'Genres', 'Last Updated', 'Current Ver', 'Android Ver']\n",
            "\n",
            "\n",
            "['Photo Editor & Candy Camera & Grid & ScrapBook', 'ART_AND_DESIGN', '4.1', '159', '19M', '10,000+', 'Free', '0', 'Everyone', 'Art & Design', 'January 7, 2018', '1.0.0', '4.0.3 and up']\n",
            "\n",
            "\n",
            "['Coloring book moana', 'ART_AND_DESIGN', '3.9', '967', '14M', '500,000+', 'Free', '0', 'Everyone', 'Art & Design;Pretend Play', 'January 15, 2018', '2.0.0', '4.0.3 and up']\n",
            "\n",
            "\n",
            "['U Launcher Lite – FREE Live Cool Themes, Hide Apps', 'ART_AND_DESIGN', '4.7', '87510', '8.7M', '5,000,000+', 'Free', '0', 'Everyone', 'Art & Design', 'August 1, 2018', '1.2.4', '4.0.3 and up']\n",
            "\n",
            "\n",
            "Number of rows: 10841\n",
            "Number of columns: 13\n",
            "\n",
            "\n",
            "\n",
            "\n",
            "First 3 rows of the Apple Store dataset\n",
            "\n",
            "['id', 'track_name', 'size_bytes', 'currency', 'price', 'rating_count_tot', 'rating_count_ver', 'user_rating', 'user_rating_ver', 'ver', 'cont_rating', 'prime_genre', 'sup_devices.num', 'ipadSc_urls.num', 'lang.num', 'vpp_lic']\n",
            "\n",
            "\n",
            "['284882215', 'Facebook', '389879808', 'USD', '0.0', '2974676', '212', '3.5', '3.5', '95.0', '4+', 'Social Networking', '37', '1', '29', '1']\n",
            "\n",
            "\n",
            "['389801252', 'Instagram', '113954816', 'USD', '0.0', '2161558', '1289', '4.5', '4.0', '10.23', '12+', 'Photo & Video', '37', '0', '29', '1']\n",
            "\n",
            "\n",
            "['529479190', 'Clash of Clans', '116476928', 'USD', '0.0', '2130805', '579', '4.5', '4.5', '9.24.12', '9+', 'Games', '38', '5', '18', '1']\n",
            "\n",
            "\n",
            "Number of rows: 7197\n",
            "Number of columns: 16\n"
          ],
          "name": "stdout"
        }
      ]
    },
    {
      "cell_type": "markdown",
      "metadata": {
        "id": "UE3vWssczyR0",
        "colab_type": "text"
      },
      "source": [
        "The Google Play data set has 10841 apps and 13 columns. At a quick glance, the columns that might be useful for the purpose of our analysis are `'App'`, `'Category'`, `'Reviews'`, `'Installs'`, `'Type'`, `'Price'`, and `'Genres'`.\n",
        "\n",
        "We have 7197 iOS apps in this data set, and the columns that seem interesting are: `'track_name'`, `'currency'`, `'price'`, `'rating_count_tot'`, `'rating_count_ver'`, and `'prime_genre'`. Not all column names are self-explanatory in this case, but details about each column can be found in the data set [documentation](https://www.kaggle.com/ramamet4/app-store-apple-data-set-10k-apps/home)."
      ]
    },
    {
      "cell_type": "markdown",
      "metadata": {
        "id": "XEkJ769CzyR6",
        "colab_type": "text"
      },
      "source": [
        "## Data Cleaning\n",
        "\n",
        "Now we need to process the data to make some analysis.\n",
        "\n",
        "### Deleting Wrong Data\n",
        "\n",
        "I build a function called `clean_dataset()` to analyze row by row the data set and print an error when there is a missing element and eventually remove the row."
      ]
    },
    {
      "cell_type": "code",
      "metadata": {
        "id": "FrEFsxP_zyR7",
        "colab_type": "code",
        "colab": {}
      },
      "source": [
        "def clean_dataset(data, clean=False):\n",
        "    LEN_COL_DATA = len(data[0])\n",
        "    LEN_DATA = len(data)\n",
        "    for idx, row in enumerate(data):\n",
        "        len_row = len(row)\n",
        "        if len_row != LEN_COL_DATA:\n",
        "            print(\"Row number\", len_row, \"contains missing values\\n\")\n",
        "            if clean:\n",
        "                del data[idx]\n",
        "                print(\"Removed bad row\\n\")\n",
        "    if LEN_DATA == len(data):\n",
        "        print(\"No bad rows!\\n\")"
      ],
      "execution_count": 0,
      "outputs": []
    },
    {
      "cell_type": "markdown",
      "metadata": {
        "id": "lt_Y-spPzyR-",
        "colab_type": "text"
      },
      "source": [
        "Now I'm looking on the entire data sets to see if there are some missing values.\n",
        "\n"
      ]
    },
    {
      "cell_type": "code",
      "metadata": {
        "id": "egbI7oCjzyR_",
        "colab_type": "code",
        "colab": {
          "base_uri": "https://localhost:8080/",
          "height": 218
        },
        "outputId": "c556537c-d207-443c-ca41-1507969a742d"
      },
      "source": [
        "print(\"Google Play Store\", \"dataset\\n\")\n",
        "clean_dataset(android_data, True)\n",
        "print(\"\\n\")\n",
        "print(\"Apple Store\", \"dataset\\n\")\n",
        "clean_dataset(ios_data, True)"
      ],
      "execution_count": 5,
      "outputs": [
        {
          "output_type": "stream",
          "text": [
            "Google Play Store dataset\n",
            "\n",
            "Row number 12 contains missing values\n",
            "\n",
            "Removed bad row\n",
            "\n",
            "\n",
            "\n",
            "Apple Store dataset\n",
            "\n",
            "No bad rows!\n",
            "\n"
          ],
          "name": "stdout"
        }
      ]
    },
    {
      "cell_type": "markdown",
      "metadata": {
        "id": "ogtsjo0kzySC",
        "colab_type": "text"
      },
      "source": [
        "### Removing Duplicate Entries\n",
        "\n",
        "Let's build a function called `duplicate_in_dataset()` to analyze row by row the data set and tell us if there are some duplicate rows."
      ]
    },
    {
      "cell_type": "code",
      "metadata": {
        "id": "auCVio7ZzySD",
        "colab_type": "code",
        "colab": {}
      },
      "source": [
        "def duplicate_in_dataset(data, NAME_COL=0):\n",
        "    duplicate_apps = []\n",
        "    unique_apps = []\n",
        "    for app in data:\n",
        "        name = app[NAME_COL]\n",
        "        if name in unique_apps:\n",
        "            duplicate_apps.append(name)\n",
        "        else:\n",
        "            unique_apps.append(name)\n",
        "    \n",
        "    print(\"Number of duplicate apps:\", len(duplicate_apps))\n",
        "    print(\"\\n\")\n",
        "    print(\"Examples of duplicate apps:\", duplicate_apps[:15])"
      ],
      "execution_count": 0,
      "outputs": []
    },
    {
      "cell_type": "markdown",
      "metadata": {
        "id": "Wk_wRbcyzySI",
        "colab_type": "text"
      },
      "source": [
        "For the *Google Play Store* the column that contains the name of the APP is *App* at index 0.\n",
        "\n",
        "For the *Apple Store* the column that contains the name of the APP is *track_name* at index 1."
      ]
    },
    {
      "cell_type": "code",
      "metadata": {
        "id": "IsGRT84FzySK",
        "colab_type": "code",
        "colab": {
          "base_uri": "https://localhost:8080/",
          "height": 272
        },
        "outputId": "8a3e4202-d23a-46d3-f0ff-44fb940a48b4"
      },
      "source": [
        "print(\"Google Play Store\", \"dataset\\n\")\n",
        "duplicate_in_dataset(android_data, 0)\n",
        "print(\"\\n\")\n",
        "print(\"Apple Store\", \"dataset\\n\")\n",
        "duplicate_in_dataset(ios_data, 1)"
      ],
      "execution_count": 7,
      "outputs": [
        {
          "output_type": "stream",
          "text": [
            "Google Play Store dataset\n",
            "\n",
            "Number of duplicate apps: 1181\n",
            "\n",
            "\n",
            "Examples of duplicate apps: ['Quick PDF Scanner + OCR FREE', 'Box', 'Google My Business', 'ZOOM Cloud Meetings', 'join.me - Simple Meetings', 'Box', 'Zenefits', 'Google Ads', 'Google My Business', 'Slack', 'FreshBooks Classic', 'Insightly CRM', 'QuickBooks Accounting: Invoicing & Expenses', 'HipChat - Chat Built for Teams', 'Xero Accounting Software']\n",
            "\n",
            "\n",
            "Apple Store dataset\n",
            "\n",
            "Number of duplicate apps: 2\n",
            "\n",
            "\n",
            "Examples of duplicate apps: ['Mannequin Challenge', 'VR Roller Coaster']\n"
          ],
          "name": "stdout"
        }
      ]
    },
    {
      "cell_type": "markdown",
      "metadata": {
        "id": "t3T74HO0zySQ",
        "colab_type": "text"
      },
      "source": [
        "We don't want to count certain apps more than once when we analyze data, so we need to remove the duplicate entries and keep only one entry per app. One thing we could do is remove the duplicate rows randomly, but we could probably find a better way.\n",
        "\n",
        "The main difference happens on the number of reviews. The different numbers show that the data was collected at different times. We can use this to build a criterion for keeping rows. We won't remove rows randomly, but rather we'll keep the rows that have the highest number of reviews because the higher the number of reviews, the more reliable the ratings.\n",
        "\n",
        "To do that, we will:\n",
        "\n",
        "- Create a dictionary where each key is a unique app name, and the value is the highest number of reviews of that app\n",
        "- Use the dictionary to create a new data set, which will have only one entry per app (and we only select the apps with the highest number of reviews)\n",
        "\n",
        "Let's build a function `remove_duplicates()` to do this."
      ]
    },
    {
      "cell_type": "code",
      "metadata": {
        "id": "hH8yXBRpzySS",
        "colab_type": "code",
        "colab": {}
      },
      "source": [
        "def remove_duplicates(data, NAME_COL, RATING_COL):\n",
        "    # create an empty dict to store unique APPs rows\n",
        "    dict_rows = {}\n",
        "    for row in data:\n",
        "        # save name and rating for next comparison\n",
        "        name = row[NAME_COL]\n",
        "        rating = float(row[RATING_COL])\n",
        "        # if we don't have already a row for that app save it\n",
        "        if name not in dict_rows:\n",
        "            dict_rows[name] = row\n",
        "        # else compare the rating stored to check if its greater\n",
        "        elif rating > float(dict_rows[name][RATING_COL]):\n",
        "            dict_rows[name] = row\n",
        "            \n",
        "    # finally merge all the rows stored as a new dataset\n",
        "    data_new = list(dict_rows.values())\n",
        "    return data_new"
      ],
      "execution_count": 0,
      "outputs": []
    },
    {
      "cell_type": "markdown",
      "metadata": {
        "id": "nFzR0RTwzySV",
        "colab_type": "text"
      },
      "source": [
        "For the *Google Play Store* the column that contains the number of ratings of the APP is *Reviews* at index 3.\n",
        "\n",
        "For the *Apple Store* the column that contains the number of ratings of the APP is *rating_count_tot* at index 5."
      ]
    },
    {
      "cell_type": "code",
      "metadata": {
        "id": "bDYqAIqNzySW",
        "colab_type": "code",
        "colab": {
          "base_uri": "https://localhost:8080/",
          "height": 185
        },
        "outputId": "d11e1bfd-a054-4544-e10e-77bdb1b0aa8c"
      },
      "source": [
        "print(\"Google Play Store\", \"dataset\\n\")\n",
        "android_clean = remove_duplicates(android_data, 0, 3)\n",
        "print(\"Removed:\", len(android_data) - len(android_clean),\"rows\\n\")\n",
        "print(\"\\n\")\n",
        "print(\"Apple Store\", \"dataset\\n\")\n",
        "ios_clean = remove_duplicates(ios_data, 1, 5)\n",
        "print(\"Removed:\", len(ios_data) - len(ios_clean),\"rows\\n\")"
      ],
      "execution_count": 9,
      "outputs": [
        {
          "output_type": "stream",
          "text": [
            "Google Play Store dataset\n",
            "\n",
            "Removed: 1181 rows\n",
            "\n",
            "\n",
            "\n",
            "Apple Store dataset\n",
            "\n",
            "Removed: 2 rows\n",
            "\n"
          ],
          "name": "stdout"
        }
      ]
    },
    {
      "cell_type": "markdown",
      "metadata": {
        "collapsed": false,
        "id": "ioLk2sUSzySa",
        "colab_type": "text"
      },
      "source": [
        "### Removing Non-English Apps\n",
        "\n",
        "If you explore the data sets enough, you'll notice the names of some of the apps suggest they are not directed toward an English-speaking audience.\n",
        "\n",
        "We're not interested in keeping these kind of apps, so we'll remove them. One way to go about this is to remove each app whose name contains a symbol that is not commonly used in English text — English text usually includes letters from the English alphabet, numbers composed of digits from 0 to 9, punctuation marks (., !, ?, ;, etc.), and other symbols (+, *, /, etc.).\n",
        "\n",
        "All these characters that are specific to English texts are encoded using the ASCII standard. Each ASCII character has a corresponding number between 0 and 127 associated with it, and we can take advantage of that to build a function `normal_string()` that checks an app name and tells us whether it contains non-ASCII characters more than a fixed thereshold.\n",
        "\n",
        "We built this function below, and we use the built-in `ord()` function to find out the corresponding encoding number of each character."
      ]
    },
    {
      "cell_type": "code",
      "metadata": {
        "id": "jxPW_xoVzySb",
        "colab_type": "code",
        "colab": {}
      },
      "source": [
        "def normal_string(string, LIMIT=3):\n",
        "    count = 0\n",
        "    for a in string:\n",
        "        if ord(a) > 127: # it is a non-English character\n",
        "            count += 1\n",
        "            if count > LIMIT:\n",
        "                return False\n",
        "    # if it has finished the for loop there aren't non-English characters\n",
        "    return True"
      ],
      "execution_count": 0,
      "outputs": []
    },
    {
      "cell_type": "markdown",
      "metadata": {
        "id": "I-II4VNuzySh",
        "colab_type": "text"
      },
      "source": [
        "Check the output of the function for some examples:"
      ]
    },
    {
      "cell_type": "code",
      "metadata": {
        "id": "L2GadvB6zySi",
        "colab_type": "code",
        "colab": {
          "base_uri": "https://localhost:8080/",
          "height": 84
        },
        "outputId": "ac32dbe4-fc9e-4201-db36-745465b01f16"
      },
      "source": [
        "print(normal_string(\"Instagram\"))\n",
        "print(normal_string(\"爱奇艺PPS -《欢乐颂2》电视剧热播\"))\n",
        "print(normal_string(\"Docs To Go™ Free Office Suite\"))\n",
        "print(normal_string(\"Instachat 😜\"))"
      ],
      "execution_count": 11,
      "outputs": [
        {
          "output_type": "stream",
          "text": [
            "True\n",
            "False\n",
            "True\n",
            "True\n"
          ],
          "name": "stdout"
        }
      ]
    },
    {
      "cell_type": "markdown",
      "metadata": {
        "id": "PdNcNamgzySl",
        "colab_type": "text"
      },
      "source": [
        "Let's build a function called `english_dataset()` to create a new dataset containing only English apps using the `normal_string()` function."
      ]
    },
    {
      "cell_type": "code",
      "metadata": {
        "id": "9C_eTjFezySm",
        "colab_type": "code",
        "colab": {}
      },
      "source": [
        "def english_dataset(data, NAME_COL=0):\n",
        "    data_new = []\n",
        "    for row in data:\n",
        "        name = row[NAME_COL]\n",
        "        if normal_string(name):\n",
        "            data_new.append(row)\n",
        "    return data_new"
      ],
      "execution_count": 0,
      "outputs": []
    },
    {
      "cell_type": "markdown",
      "metadata": {
        "id": "m9v22wUqzySp",
        "colab_type": "text"
      },
      "source": [
        "The function is still not perfect, and very few non-English apps might get past our filter, but this seems good enough at this point in our analysis — we shouldn't spend too much time on optimization at this point.\n",
        "\n",
        "Use the above new function `english_dataset()` to create new datasets."
      ]
    },
    {
      "cell_type": "code",
      "metadata": {
        "id": "eICu3tPYzySq",
        "colab_type": "code",
        "colab": {
          "base_uri": "https://localhost:8080/",
          "height": 185
        },
        "outputId": "fe14dac4-743d-4b12-a978-ce57cd99ec6b"
      },
      "source": [
        "print(\"Google Play Store\", \"dataset\\n\")\n",
        "android_clean_english = english_dataset(android_clean, 0)\n",
        "print(\"Removed:\", len(android_clean) - len(android_clean_english),\"non-English apps\\n\")\n",
        "print(\"\\n\")\n",
        "print(\"Apple Store\", \"dataset\\n\")\n",
        "ios_clean_english = english_dataset(ios_clean, 1)\n",
        "print(\"Removed:\", len(ios_clean) - len(ios_clean_english),\"non-English apps\\n\")"
      ],
      "execution_count": 13,
      "outputs": [
        {
          "output_type": "stream",
          "text": [
            "Google Play Store dataset\n",
            "\n",
            "Removed: 45 non-English apps\n",
            "\n",
            "\n",
            "\n",
            "Apple Store dataset\n",
            "\n",
            "Removed: 1014 non-English apps\n",
            "\n"
          ],
          "name": "stdout"
        }
      ]
    },
    {
      "cell_type": "markdown",
      "metadata": {
        "id": "ubJDzVmYzySt",
        "colab_type": "text"
      },
      "source": [
        "### Isolating the Free Apps\n",
        "\n",
        "As we mentioned in the introduction, we only study apps that are free to download and install, and our main source of revenue consists of in-app ads. Our data sets contain both free and non-free apps, and we'll need to isolate only the free apps for our analysis. Below, we isolate the free apps for both our data sets.\n",
        "\n",
        "Let's build a function called `free_dataset()` to create a new dataset containing only free apps."
      ]
    },
    {
      "cell_type": "code",
      "metadata": {
        "id": "Q4G3kvKDzySv",
        "colab_type": "code",
        "colab": {}
      },
      "source": [
        "def free_dataset(data, PRICE_COL):\n",
        "    data_new = []\n",
        "    for row in data:\n",
        "        # check if the APP is free\n",
        "        if row[PRICE_COL] == \"0.0\" or row[PRICE_COL] == \"0\":\n",
        "            data_new.append(row)\n",
        "    return data_new"
      ],
      "execution_count": 0,
      "outputs": []
    },
    {
      "cell_type": "markdown",
      "metadata": {
        "id": "MEOLV7glzySy",
        "colab_type": "text"
      },
      "source": [
        "For the *Google Play Store* the column that contains the price of the APP is *Price* at index 7.\n",
        "\n",
        "For the *Apple Store* the column that contains the price of the APP is *price* at index 4."
      ]
    },
    {
      "cell_type": "code",
      "metadata": {
        "scrolled": true,
        "id": "j2KnyyQLzySz",
        "colab_type": "code",
        "colab": {
          "base_uri": "https://localhost:8080/",
          "height": 185
        },
        "outputId": "6c9b128f-2a6a-4522-fe0c-723331963450"
      },
      "source": [
        "print(\"Google Play Store\", \"dataset\\n\")\n",
        "android_final = free_dataset(android_clean_english, 7)\n",
        "print(\"Removed:\", len(android_clean_english) - len(android_final),\"paid apps\\n\")\n",
        "print(\"\\n\")\n",
        "print(\"Apple Store\", \"dataset\\n\")\n",
        "ios_final = free_dataset(ios_clean_english, 4)\n",
        "print(\"Removed:\", len(ios_clean_english) - len(ios_final),\"paid apps\\n\")"
      ],
      "execution_count": 15,
      "outputs": [
        {
          "output_type": "stream",
          "text": [
            "Google Play Store dataset\n",
            "\n",
            "Removed: 750 paid apps\n",
            "\n",
            "\n",
            "\n",
            "Apple Store dataset\n",
            "\n",
            "Removed: 2961 paid apps\n",
            "\n"
          ],
          "name": "stdout"
        }
      ]
    },
    {
      "cell_type": "markdown",
      "metadata": {
        "id": "4Uo4zeGdzyS2",
        "colab_type": "text"
      },
      "source": [
        "Final datasets:"
      ]
    },
    {
      "cell_type": "code",
      "metadata": {
        "scrolled": false,
        "id": "gz5H5Hv7zyS2",
        "colab_type": "code",
        "colab": {
          "base_uri": "https://localhost:8080/",
          "height": 507
        },
        "outputId": "0fa7acf6-690e-464a-f399-52fb6a2b4985"
      },
      "source": [
        "print(\"First {} rows of the\".format(n_rows), \"Google Play Store\", \"dataset\\n\")\n",
        "explore_data(android_final, 0, n_rows, True)\n",
        "print(\"\\n\")\n",
        "print(\"First {} rows of the\".format(n_rows), \"Apple Store\", \"dataset\\n\")\n",
        "explore_data(ios_final, 0, n_rows, True)"
      ],
      "execution_count": 16,
      "outputs": [
        {
          "output_type": "stream",
          "text": [
            "First 3 rows of the Google Play Store dataset\n",
            "\n",
            "['Photo Editor & Candy Camera & Grid & ScrapBook', 'ART_AND_DESIGN', '4.1', '159', '19M', '10,000+', 'Free', '0', 'Everyone', 'Art & Design', 'January 7, 2018', '1.0.0', '4.0.3 and up']\n",
            "\n",
            "\n",
            "['Coloring book moana', 'FAMILY', '3.9', '974', '14M', '500,000+', 'Free', '0', 'Everyone', 'Art & Design;Pretend Play', 'January 15, 2018', '2.0.0', '4.0.3 and up']\n",
            "\n",
            "\n",
            "['U Launcher Lite – FREE Live Cool Themes, Hide Apps', 'ART_AND_DESIGN', '4.7', '87510', '8.7M', '5,000,000+', 'Free', '0', 'Everyone', 'Art & Design', 'August 1, 2018', '1.2.4', '4.0.3 and up']\n",
            "\n",
            "\n",
            "Number of rows: 8864\n",
            "Number of columns: 13\n",
            "\n",
            "\n",
            "First 3 rows of the Apple Store dataset\n",
            "\n",
            "['284882215', 'Facebook', '389879808', 'USD', '0.0', '2974676', '212', '3.5', '3.5', '95.0', '4+', 'Social Networking', '37', '1', '29', '1']\n",
            "\n",
            "\n",
            "['389801252', 'Instagram', '113954816', 'USD', '0.0', '2161558', '1289', '4.5', '4.0', '10.23', '12+', 'Photo & Video', '37', '0', '29', '1']\n",
            "\n",
            "\n",
            "['529479190', 'Clash of Clans', '116476928', 'USD', '0.0', '2130805', '579', '4.5', '4.5', '9.24.12', '9+', 'Games', '38', '5', '18', '1']\n",
            "\n",
            "\n",
            "Number of rows: 3220\n",
            "Number of columns: 16\n"
          ],
          "name": "stdout"
        }
      ]
    },
    {
      "cell_type": "markdown",
      "metadata": {
        "id": "sOPAojtFzyS4",
        "colab_type": "text"
      },
      "source": [
        "## Data Analysis\n"
      ]
    },
    {
      "cell_type": "markdown",
      "metadata": {
        "id": "aaAqbsA2Dtk7",
        "colab_type": "text"
      },
      "source": [
        "### Most Common Apps by Genre\n",
        "\n",
        "As I mentioned in the introduction, my aim is to determine the kinds of apps that are likely to attract more users because our revenue is highly influenced by the number of people using the apps.\n",
        "\n",
        "To minimize risks and overhead, the validation strategy for an app idea is comprised of three steps:\n",
        "\n",
        "1. Build a minimal Android version of the app, and add it to Google Play.\n",
        "2. If the app has a good response from users, develop it further.\n",
        "3. If the app is profitable after six months, also build an iOS version of the app and add it to the App Store.\n",
        "\n",
        "Because the end goal is to add the app on both the App Store and Google Play, we need to find app profiles that are successful on both markets. For instance, a profile that might work well for both markets might be a productivity app that makes use of gamification.\n",
        "\n",
        "Let's begin the analysis by getting a sense of the most common genres for each market. For this, we'll build a frequency table for the `prime_genre` column of the App Store data set, and the `Genres` and `Category` columns of the Google Play data set.\n",
        "\n",
        "I'll build two functions we can use to analyze the frequency tables:\n",
        "\n",
        "- One function to generate frequency tables that show percentages\n",
        "- Another function that we can use to display the percentages in a descending order"
      ]
    },
    {
      "cell_type": "code",
      "metadata": {
        "id": "zTEHShVEzyS6",
        "colab_type": "code",
        "colab": {}
      },
      "source": [
        "def freq_table(dataset, index):\n",
        "    table = {}\n",
        "    for row in dataset:\n",
        "        val = row[index]\n",
        "        if val in table:\n",
        "            table[val] += 1\n",
        "        else:\n",
        "            table[val] = 1\n",
        "    return table\n",
        "\n",
        "def display_table(dataset, index):\n",
        "    table = freq_table(dataset, index)\n",
        "    table_display = []\n",
        "    for key in table:\n",
        "        key_val_as_tuple = (table[key], key)\n",
        "        table_display.append(key_val_as_tuple)\n",
        "\n",
        "    table_sorted = sorted(table_display, reverse = True)\n",
        "    for entry in table_sorted:\n",
        "        print(entry[1], ':', entry[0])"
      ],
      "execution_count": 0,
      "outputs": []
    },
    {
      "cell_type": "markdown",
      "metadata": {
        "id": "QqaJpm9qDC9Y",
        "colab_type": "text"
      },
      "source": [
        "We start by examining the frequency table for the `prime_genre` column of the App Store data set."
      ]
    },
    {
      "cell_type": "code",
      "metadata": {
        "id": "jc1EmHq-zyS9",
        "colab_type": "code",
        "colab": {
          "base_uri": "https://localhost:8080/",
          "height": 403
        },
        "outputId": "1ca7be5b-bdd0-480a-d1d8-1b546389e6b7"
      },
      "source": [
        "display_table(ios_final, 11)"
      ],
      "execution_count": 18,
      "outputs": [
        {
          "output_type": "stream",
          "text": [
            "Games : 1872\n",
            "Entertainment : 254\n",
            "Photo & Video : 160\n",
            "Education : 118\n",
            "Social Networking : 106\n",
            "Shopping : 84\n",
            "Utilities : 81\n",
            "Sports : 69\n",
            "Music : 66\n",
            "Health & Fitness : 65\n",
            "Productivity : 56\n",
            "Lifestyle : 51\n",
            "News : 43\n",
            "Travel : 40\n",
            "Finance : 36\n",
            "Weather : 28\n",
            "Food & Drink : 26\n",
            "Reference : 18\n",
            "Business : 17\n",
            "Book : 14\n",
            "Navigation : 6\n",
            "Medical : 6\n",
            "Catalogs : 4\n"
          ],
          "name": "stdout"
        }
      ]
    },
    {
      "cell_type": "markdown",
      "metadata": {
        "id": "XpGySRstDIJx",
        "colab_type": "text"
      },
      "source": [
        "We can see that among the free English apps, more than a half (58.16%) are games. Entertainment apps are close to 8%, followed by photo and video apps, which are close to 5%. Only 3.66% of the apps are designed for education, followed by social networking apps which amount for 3.29% of the apps in our data set. \n",
        "\n",
        "The general impression is that App Store (at least the part containing free English apps) is dominated by apps that are designed for fun (games, entertainment, photo and video, social networking, sports, music, etc.), while apps with practical purposes (education, shopping, utilities, productivity, lifestyle, etc.) are more rare. However, the fact that fun apps are the most numerous doesn't also imply that they also have the greatest number of users — the demand might not be the same as the offer. \n",
        "\n",
        "Let's continue by examining the `Genres` and `Category` columns of the Google Play data set (two columns which seem to be related)."
      ]
    },
    {
      "cell_type": "code",
      "metadata": {
        "id": "V-pUsqpxzyTA",
        "colab_type": "code",
        "colab": {
          "base_uri": "https://localhost:8080/",
          "height": 571
        },
        "outputId": "e93ce24c-6acd-46a4-f7f3-844937f8b252"
      },
      "source": [
        "display_table(android_final, 1) # Category"
      ],
      "execution_count": 19,
      "outputs": [
        {
          "output_type": "stream",
          "text": [
            "FAMILY : 1676\n",
            "GAME : 862\n",
            "TOOLS : 750\n",
            "BUSINESS : 407\n",
            "LIFESTYLE : 346\n",
            "PRODUCTIVITY : 345\n",
            "FINANCE : 328\n",
            "MEDICAL : 313\n",
            "SPORTS : 301\n",
            "PERSONALIZATION : 294\n",
            "COMMUNICATION : 287\n",
            "HEALTH_AND_FITNESS : 273\n",
            "PHOTOGRAPHY : 261\n",
            "NEWS_AND_MAGAZINES : 248\n",
            "SOCIAL : 236\n",
            "TRAVEL_AND_LOCAL : 207\n",
            "SHOPPING : 199\n",
            "BOOKS_AND_REFERENCE : 190\n",
            "DATING : 165\n",
            "VIDEO_PLAYERS : 159\n",
            "MAPS_AND_NAVIGATION : 124\n",
            "FOOD_AND_DRINK : 110\n",
            "EDUCATION : 103\n",
            "ENTERTAINMENT : 85\n",
            "LIBRARIES_AND_DEMO : 83\n",
            "AUTO_AND_VEHICLES : 82\n",
            "HOUSE_AND_HOME : 73\n",
            "WEATHER : 71\n",
            "EVENTS : 63\n",
            "PARENTING : 58\n",
            "ART_AND_DESIGN : 57\n",
            "COMICS : 55\n",
            "BEAUTY : 53\n"
          ],
          "name": "stdout"
        }
      ]
    },
    {
      "cell_type": "markdown",
      "metadata": {
        "id": "fCjmPqbkDQZD",
        "colab_type": "text"
      },
      "source": [
        "The landscape seems significantly different on Google Play: there are not that many apps designed for fun, and it seems that a good number of apps are designed for practical purposes (family, tools, business, lifestyle, productivity, etc.). However, if we investigate this further, we can see that the family category (which accounts for almost 19% of the apps) means mostly games for kids.\n",
        "\n",
        "\n",
        "Even so, practical apps seem to have a better representation on Google Play compared to App Store. This picture is also confirmed by the frequency table we see for the `Genres` column:"
      ]
    },
    {
      "cell_type": "code",
      "metadata": {
        "scrolled": false,
        "id": "zXyPnGArzyTC",
        "colab_type": "code",
        "colab": {
          "base_uri": "https://localhost:8080/",
          "height": 1000
        },
        "outputId": "4f67c657-403a-45de-a037-6a45faf9c68c"
      },
      "source": [
        "display_table(android_final, 9) # Genres"
      ],
      "execution_count": 20,
      "outputs": [
        {
          "output_type": "stream",
          "text": [
            "Tools : 749\n",
            "Entertainment : 538\n",
            "Education : 474\n",
            "Business : 407\n",
            "Productivity : 345\n",
            "Lifestyle : 345\n",
            "Finance : 328\n",
            "Medical : 313\n",
            "Sports : 307\n",
            "Personalization : 294\n",
            "Communication : 287\n",
            "Action : 275\n",
            "Health & Fitness : 273\n",
            "Photography : 261\n",
            "News & Magazines : 248\n",
            "Social : 236\n",
            "Travel & Local : 206\n",
            "Shopping : 199\n",
            "Books & Reference : 190\n",
            "Simulation : 181\n",
            "Dating : 165\n",
            "Arcade : 164\n",
            "Video Players & Editors : 157\n",
            "Casual : 156\n",
            "Maps & Navigation : 124\n",
            "Food & Drink : 110\n",
            "Puzzle : 100\n",
            "Racing : 88\n",
            "Role Playing : 83\n",
            "Libraries & Demo : 83\n",
            "Auto & Vehicles : 82\n",
            "Strategy : 81\n",
            "House & Home : 73\n",
            "Weather : 71\n",
            "Events : 63\n",
            "Adventure : 60\n",
            "Comics : 54\n",
            "Beauty : 53\n",
            "Art & Design : 53\n",
            "Parenting : 44\n",
            "Card : 40\n",
            "Casino : 38\n",
            "Trivia : 37\n",
            "Educational;Education : 35\n",
            "Board : 34\n",
            "Educational : 33\n",
            "Education;Education : 30\n",
            "Word : 23\n",
            "Casual;Pretend Play : 21\n",
            "Music : 18\n",
            "Racing;Action & Adventure : 15\n",
            "Puzzle;Brain Games : 15\n",
            "Entertainment;Music & Video : 15\n",
            "Casual;Brain Games : 12\n",
            "Casual;Action & Adventure : 12\n",
            "Arcade;Action & Adventure : 11\n",
            "Action;Action & Adventure : 9\n",
            "Educational;Pretend Play : 8\n",
            "Simulation;Action & Adventure : 7\n",
            "Parenting;Education : 7\n",
            "Entertainment;Brain Games : 7\n",
            "Board;Brain Games : 7\n",
            "Parenting;Music & Video : 6\n",
            "Educational;Brain Games : 6\n",
            "Casual;Creativity : 6\n",
            "Art & Design;Creativity : 6\n",
            "Education;Pretend Play : 5\n",
            "Role Playing;Pretend Play : 4\n",
            "Education;Creativity : 4\n",
            "Role Playing;Action & Adventure : 3\n",
            "Puzzle;Action & Adventure : 3\n",
            "Entertainment;Creativity : 3\n",
            "Entertainment;Action & Adventure : 3\n",
            "Educational;Creativity : 3\n",
            "Educational;Action & Adventure : 3\n",
            "Education;Music & Video : 3\n",
            "Education;Brain Games : 3\n",
            "Education;Action & Adventure : 3\n",
            "Adventure;Action & Adventure : 3\n",
            "Video Players & Editors;Music & Video : 2\n",
            "Sports;Action & Adventure : 2\n",
            "Simulation;Pretend Play : 2\n",
            "Puzzle;Creativity : 2\n",
            "Music;Music & Video : 2\n",
            "Entertainment;Pretend Play : 2\n",
            "Casual;Education : 2\n",
            "Board;Action & Adventure : 2\n",
            "Video Players & Editors;Creativity : 1\n",
            "Trivia;Education : 1\n",
            "Travel & Local;Action & Adventure : 1\n",
            "Tools;Education : 1\n",
            "Strategy;Education : 1\n",
            "Strategy;Creativity : 1\n",
            "Strategy;Action & Adventure : 1\n",
            "Simulation;Education : 1\n",
            "Role Playing;Brain Games : 1\n",
            "Racing;Pretend Play : 1\n",
            "Puzzle;Education : 1\n",
            "Parenting;Brain Games : 1\n",
            "Music & Audio;Music & Video : 1\n",
            "Lifestyle;Pretend Play : 1\n",
            "Lifestyle;Education : 1\n",
            "Health & Fitness;Education : 1\n",
            "Health & Fitness;Action & Adventure : 1\n",
            "Entertainment;Education : 1\n",
            "Communication;Creativity : 1\n",
            "Comics;Creativity : 1\n",
            "Casual;Music & Video : 1\n",
            "Card;Action & Adventure : 1\n",
            "Books & Reference;Education : 1\n",
            "Art & Design;Pretend Play : 1\n",
            "Art & Design;Action & Adventure : 1\n",
            "Arcade;Pretend Play : 1\n",
            "Adventure;Education : 1\n"
          ],
          "name": "stdout"
        }
      ]
    },
    {
      "cell_type": "markdown",
      "metadata": {
        "id": "kqdqkNr9DbfE",
        "colab_type": "text"
      },
      "source": [
        "The difference between the `Genres` and the `Category` columns is not crystal clear, but one thing we can notice is that the `Genres` column is much more granular (it has more categories). We're only looking for the bigger picture at the moment, so we'll only work with the `Category` column moving forward.\n",
        "\n",
        "Up to this point, we found that the App Store is dominated by apps designed for fun, while Google Play shows a more balanced landscape of both practical and for-fun apps. Now we'd like to get an idea about the kind of apps that have most users."
      ]
    },
    {
      "cell_type": "markdown",
      "metadata": {
        "id": "4itFZkw4DgM_",
        "colab_type": "text"
      },
      "source": [
        "### Most Popular Apps by Genre on the App Store\n",
        "\n",
        "One way to find out what genres are the most popular (have the most users) is to calculate the average number of installs for each app genre. For the Google Play data set, we can find this information in the `Installs` column, but for the App Store data set this information is missing. As a workaround, we'll take the total number of user ratings as a proxy, which we can find in the `rating_count_tot` app.\n",
        "\n",
        "Below, we calculate the average number of user ratings per app genre on the App Store:"
      ]
    },
    {
      "cell_type": "code",
      "metadata": {
        "id": "kGAYQ7O3zyTF",
        "colab_type": "code",
        "colab": {
          "base_uri": "https://localhost:8080/",
          "height": 403
        },
        "outputId": "32776e0f-ff26-4bef-d471-0455bee5735f"
      },
      "source": [
        "ios_genre_freq_table = freq_table(ios_final, 11)\n",
        "\n",
        "for genre in ios_genre_freq_table:\n",
        "    total = 0\n",
        "    len_genre = 0\n",
        "    for row in ios_final:\n",
        "        if row[11] == genre:\n",
        "            total += float(row[5])\n",
        "            len_genre += 1\n",
        "    print(genre, \":\", round(total/len_genre))"
      ],
      "execution_count": 21,
      "outputs": [
        {
          "output_type": "stream",
          "text": [
            "Social Networking : 71548\n",
            "Photo & Video : 28442\n",
            "Games : 22813\n",
            "Music : 57327\n",
            "Reference : 74942\n",
            "Health & Fitness : 23298\n",
            "Weather : 52280\n",
            "Utilities : 18684\n",
            "Travel : 28244\n",
            "Shopping : 26920\n",
            "News : 21248\n",
            "Navigation : 86090\n",
            "Lifestyle : 16486\n",
            "Entertainment : 14030\n",
            "Food & Drink : 33334\n",
            "Sports : 23009\n",
            "Book : 39758\n",
            "Finance : 31468\n",
            "Education : 7004\n",
            "Productivity : 21028\n",
            "Business : 7491\n",
            "Catalogs : 4004\n",
            "Medical : 612\n"
          ],
          "name": "stdout"
        }
      ]
    },
    {
      "cell_type": "markdown",
      "metadata": {
        "id": "VVlrDyBpD-H1",
        "colab_type": "text"
      },
      "source": [
        "On average, navigation apps have the highest number of user reviews, but this figure is heavily influenced by Waze and Google Maps, which have close to half a million user reviews together:"
      ]
    },
    {
      "cell_type": "code",
      "metadata": {
        "colab_type": "code",
        "id": "rdNDNVbVdw4X",
        "outputId": "4d9f8744-a164-4ac0-a56c-ba8eb5ecf6f9",
        "colab": {
          "base_uri": "https://localhost:8080/",
          "height": 118
        }
      },
      "source": [
        "for app in ios_final:\n",
        "    if app[-5] == 'Navigation':\n",
        "        print(app[1], ':', app[5]) # print name and number of ratings"
      ],
      "execution_count": 22,
      "outputs": [
        {
          "output_type": "stream",
          "text": [
            "Waze - GPS Navigation, Maps & Real-time Traffic : 345046\n",
            "Google Maps - Navigation & Transit : 154911\n",
            "Geocaching® : 12811\n",
            "CoPilot GPS – Car Navigation & Offline Maps : 3582\n",
            "ImmobilienScout24: Real Estate Search in Germany : 187\n",
            "Railway Route Search : 5\n"
          ],
          "name": "stdout"
        }
      ]
    },
    {
      "cell_type": "markdown",
      "metadata": {
        "colab_type": "text",
        "id": "55kQqN_qdw4Z"
      },
      "source": [
        "The same pattern applies to social networking apps, where the average number is heavily influenced by a few giants like Facebook, Pinterest, Skype, etc. Same applies to music apps, where a few big players like Pandora, Spotify, and Shazam heavily influence the average number.\n",
        "\n",
        "Our aim is to find popular genres, but navigation, social networking or music apps might seem more popular than they really are. The average number of ratings seem to be skewed by very few apps which have hundreds of thousands of user ratings, while the other apps may struggle to get past the 10,000 threshold. We could get a better picture by removing these extremely popular apps for each genre and then rework the averages, but we'll leave this level of detail for later.\n",
        "\n",
        "Reference apps have 74,942 user ratings on average, but it's actually the Bible and Dictionary.com which skew up the average rating:"
      ]
    },
    {
      "cell_type": "code",
      "metadata": {
        "colab_type": "code",
        "id": "T2H7TxY6dw4a",
        "outputId": "7c81bbba-365c-47bc-e8cf-64beec498733",
        "colab": {
          "base_uri": "https://localhost:8080/",
          "height": 319
        }
      },
      "source": [
        "for app in ios_final:\n",
        "    if app[-5] == 'Reference':\n",
        "        print(app[1], ':', app[5])"
      ],
      "execution_count": 23,
      "outputs": [
        {
          "output_type": "stream",
          "text": [
            "Bible : 985920\n",
            "Dictionary.com Dictionary & Thesaurus : 200047\n",
            "Dictionary.com Dictionary & Thesaurus for iPad : 54175\n",
            "Google Translate : 26786\n",
            "Muslim Pro: Ramadan 2017 Prayer Times, Azan, Quran : 18418\n",
            "New Furniture Mods - Pocket Wiki & Game Tools for Minecraft PC Edition : 17588\n",
            "Merriam-Webster Dictionary : 16849\n",
            "Night Sky : 12122\n",
            "City Maps for Minecraft PE - The Best Maps for Minecraft Pocket Edition (MCPE) : 8535\n",
            "LUCKY BLOCK MOD ™ for Minecraft PC Edition - The Best Pocket Wiki & Mods Installer Tools : 4693\n",
            "GUNS MODS for Minecraft PC Edition - Mods Tools : 1497\n",
            "Guides for Pokémon GO - Pokemon GO News and Cheats : 826\n",
            "WWDC : 762\n",
            "Horror Maps for Minecraft PE - Download The Scariest Maps for Minecraft Pocket Edition (MCPE) Free : 718\n",
            "VPN Express : 14\n",
            "Real Bike Traffic Rider Virtual Reality Glasses : 8\n",
            "教えて!goo : 0\n",
            "Jishokun-Japanese English Dictionary & Translator : 0\n"
          ],
          "name": "stdout"
        }
      ]
    },
    {
      "cell_type": "markdown",
      "metadata": {
        "colab_type": "text",
        "id": "RClnbNGSdw4d"
      },
      "source": [
        "However, this niche seems to show some potential. One thing we could do is take another popular book and turn it into an app where we could add different features besides the raw version of the book. This might include daily quotes from the book, an audio version of the book, quizzes about the book, etc. On top of that, we could also embed a dictionary within the app, so users don't need to exit our app to look up words in an external app.\n",
        "\n",
        "This idea seems to fit well with the fact that the App Store is dominated by for-fun apps. This suggests the market might be a bit saturated with for-fun apps, which means a practical app might have more of a chance to stand out among the huge number of apps on the App Store.\n",
        "\n",
        "Other genres that seem popular include weather, book, food and drink, or finance. The book genre seem to overlap a bit with the app idea we described above, but the other genres don't seem too interesting to us:\n",
        "\n",
        "- Weather apps — people generally don't spend too much time in-app, and the chances of making profit from in-app adds are low. Also, getting reliable live weather data may require us to connect our apps to non-free APIs.\n",
        "\n",
        "- Food and drink — examples here include Starbucks, Dunkin' Donuts, McDonald's, etc. So making a popular food and drink app requires actual cooking and a delivery service, which is outside the scope of our company.\n",
        "\n",
        "- Finance apps — these apps involve banking, paying bills, money transfer, etc. Building a finance app requires domain knowledge, and we don't want to hire a finance expert just to build an app.\n",
        "\n",
        "Now let's analyze the Google Play market a bit."
      ]
    },
    {
      "cell_type": "markdown",
      "metadata": {
        "id": "fkw_5EcKEM2p",
        "colab_type": "text"
      },
      "source": [
        "### Most Popular Apps by Genre on Google Play\n",
        "\n",
        "For the Google Play market, we actually have data about the number of installs, so we should be able to get a clearer picture about genre popularity. However, the install numbers don't seem precise enough — we can see that most values are open-ended (100+, 1,000+, 5,000+, etc.):"
      ]
    },
    {
      "cell_type": "code",
      "metadata": {
        "colab_type": "code",
        "id": "k9XN-3Oxdw4e",
        "outputId": "4c059bef-c6a1-4c8b-8be2-a65f8fb32676",
        "colab": {
          "base_uri": "https://localhost:8080/",
          "height": 370
        }
      },
      "source": [
        "display_table(android_final, 5) # the Installs columns"
      ],
      "execution_count": 24,
      "outputs": [
        {
          "output_type": "stream",
          "text": [
            "1,000,000+ : 1394\n",
            "100,000+ : 1024\n",
            "10,000,000+ : 935\n",
            "10,000+ : 904\n",
            "1,000+ : 744\n",
            "100+ : 613\n",
            "5,000,000+ : 605\n",
            "500,000+ : 493\n",
            "50,000+ : 423\n",
            "5,000+ : 400\n",
            "10+ : 314\n",
            "500+ : 288\n",
            "50,000,000+ : 204\n",
            "100,000,000+ : 189\n",
            "50+ : 170\n",
            "5+ : 70\n",
            "1+ : 45\n",
            "500,000,000+ : 24\n",
            "1,000,000,000+ : 20\n",
            "0+ : 4\n",
            "0 : 1\n"
          ],
          "name": "stdout"
        }
      ]
    },
    {
      "cell_type": "markdown",
      "metadata": {
        "colab_type": "text",
        "id": "MS8oEkvcdw4g"
      },
      "source": [
        "One problem with this data is that is not precise. For instance, we don't know whether an app with 100,000+ installs has 100,000 installs, 200,000, or 350,000. However, we don't need very precise data for our purposes — we only want to get an idea which app genres attract the most users, and we don't need perfect precision with respect to the number of users.\n",
        "\n",
        "We're going to leave the numbers as they are, which means that we'll consider that an app with 100,000+ installs has 100,000 installs, and an app with 1,000,000+ installs has 1,000,000 installs, and so on.\n",
        "\n",
        "To perform computations, however, we'll need to convert each install number to `float` — this means that we need to remove the commas and the plus characters, otherwise the conversion will fail and raise an error. We'll do this directly in the loop below, where we also compute the average number of installs for each genre (category)."
      ]
    },
    {
      "cell_type": "code",
      "metadata": {
        "colab_type": "code",
        "outputId": "68579b74-d620-445b-eccb-8c66726673a7",
        "id": "RUs1BELB42qM",
        "colab": {
          "base_uri": "https://localhost:8080/",
          "height": 571
        }
      },
      "source": [
        "android_category_freq_table = freq_table(android_final, 1)\n",
        "\n",
        "for category in android_category_freq_table:\n",
        "    total = 0\n",
        "    len_category = 0\n",
        "    for row in android_final:\n",
        "        if row[1] == category:\n",
        "            total += float(row[5].replace(\",\", \"\").replace(\"+\", \"\"))\n",
        "            len_category += 1\n",
        "    print(category, \":\", round(total/len_category))"
      ],
      "execution_count": 25,
      "outputs": [
        {
          "output_type": "stream",
          "text": [
            "ART_AND_DESIGN : 1986335\n",
            "FAMILY : 3695642\n",
            "AUTO_AND_VEHICLES : 647318\n",
            "BEAUTY : 513152\n",
            "BOOKS_AND_REFERENCE : 8767812\n",
            "BUSINESS : 1712290\n",
            "COMICS : 817657\n",
            "COMMUNICATION : 38456119\n",
            "TOOLS : 10801391\n",
            "DATING : 854029\n",
            "EDUCATION : 1833495\n",
            "ENTERTAINMENT : 11640706\n",
            "EVENTS : 253542\n",
            "FINANCE : 1387692\n",
            "FOOD_AND_DRINK : 1924898\n",
            "HEALTH_AND_FITNESS : 4188822\n",
            "HOUSE_AND_HOME : 1331541\n",
            "LIBRARIES_AND_DEMO : 638504\n",
            "LIFESTYLE : 1437816\n",
            "GAME : 15588016\n",
            "VIDEO_PLAYERS : 24727872\n",
            "MEDICAL : 120551\n",
            "SOCIAL : 23253652\n",
            "SHOPPING : 7036877\n",
            "PHOTOGRAPHY : 17840110\n",
            "SPORTS : 3638640\n",
            "TRAVEL_AND_LOCAL : 13984078\n",
            "PERSONALIZATION : 5201483\n",
            "PRODUCTIVITY : 16787331\n",
            "PARENTING : 542604\n",
            "WEATHER : 5074486\n",
            "NEWS_AND_MAGAZINES : 9549178\n",
            "MAPS_AND_NAVIGATION : 4056942\n"
          ],
          "name": "stdout"
        }
      ]
    },
    {
      "cell_type": "markdown",
      "metadata": {
        "colab_type": "text",
        "id": "jmJZ_ZNAdw4m"
      },
      "source": [
        "On average, communication apps have the most installs: 38,456,119. This number is heavily skewed up by a few apps that have over one billion installs (WhatsApp, Facebook Messenger, Skype, Google Chrome, Gmail, and Hangouts), and a few others with over 100 and 500 million installs:"
      ]
    },
    {
      "cell_type": "code",
      "metadata": {
        "colab_type": "code",
        "id": "yDgqLB3xdw4p",
        "outputId": "8b5839ac-aac6-4396-85ff-4a816a258717",
        "colab": {
          "base_uri": "https://localhost:8080/",
          "height": 470
        }
      },
      "source": [
        "for app in android_final:\n",
        "    if app[1] == 'COMMUNICATION' and (app[5] == '1,000,000,000+'\n",
        "                                      or app[5] == '500,000,000+'\n",
        "                                      or app[5] == '100,000,000+'):\n",
        "        print(app[0], ':', app[5])"
      ],
      "execution_count": 26,
      "outputs": [
        {
          "output_type": "stream",
          "text": [
            "Messenger – Text and Video Chat for Free : 1,000,000,000+\n",
            "WhatsApp Messenger : 1,000,000,000+\n",
            "Google Chrome: Fast & Secure : 1,000,000,000+\n",
            "Messenger Lite: Free Calls & Messages : 100,000,000+\n",
            "Gmail : 1,000,000,000+\n",
            "Hangouts : 1,000,000,000+\n",
            "Viber Messenger : 500,000,000+\n",
            "Firefox Browser fast & private : 100,000,000+\n",
            "Yahoo Mail – Stay Organized : 100,000,000+\n",
            "imo beta free calls and text : 100,000,000+\n",
            "imo free video calls and chat : 500,000,000+\n",
            "Opera Mini - fast web browser : 100,000,000+\n",
            "Opera Browser: Fast and Secure : 100,000,000+\n",
            "Who : 100,000,000+\n",
            "WeChat : 100,000,000+\n",
            "UC Browser Mini -Tiny Fast Private & Secure : 100,000,000+\n",
            "Android Messages : 100,000,000+\n",
            "Telegram : 100,000,000+\n",
            "Google Duo - High Quality Video Calls : 500,000,000+\n",
            "UC Browser - Fast Download Private & Secure : 500,000,000+\n",
            "Skype - free IM & video calls : 1,000,000,000+\n",
            "GO SMS Pro - Messenger, Free Themes, Emoji : 100,000,000+\n",
            "LINE: Free Calls & Messages : 500,000,000+\n",
            "BBM - Free Calls & Messages : 100,000,000+\n",
            "KakaoTalk: Free Calls & Text : 100,000,000+\n",
            "Truecaller: Caller ID, SMS spam blocking & Dialer : 100,000,000+\n",
            "Kik : 100,000,000+\n"
          ],
          "name": "stdout"
        }
      ]
    },
    {
      "cell_type": "markdown",
      "metadata": {
        "colab_type": "text",
        "id": "GkB0Ewlsdw47"
      },
      "source": [
        "If we removed all the communication apps that have over 100 million installs, the average would be reduced roughly ten times:"
      ]
    },
    {
      "cell_type": "code",
      "metadata": {
        "colab_type": "code",
        "id": "GVS8X24bdw48",
        "outputId": "0eaeadd0-c078-4f0b-fba5-a21dc4fb7d34",
        "colab": {
          "base_uri": "https://localhost:8080/",
          "height": 34
        }
      },
      "source": [
        "under_100_m = []\n",
        "\n",
        "for app in android_final:\n",
        "    n_installs = app[5]\n",
        "    n_installs = n_installs.replace(',', '')\n",
        "    n_installs = n_installs.replace('+', '')\n",
        "    if (app[1] == 'COMMUNICATION') and (float(n_installs) < 100000000):\n",
        "        under_100_m.append(float(n_installs))\n",
        "        \n",
        "sum(under_100_m) / len(under_100_m)"
      ],
      "execution_count": 27,
      "outputs": [
        {
          "output_type": "execute_result",
          "data": {
            "text/plain": [
              "3603485.3884615386"
            ]
          },
          "metadata": {
            "tags": []
          },
          "execution_count": 27
        }
      ]
    },
    {
      "cell_type": "markdown",
      "metadata": {
        "colab_type": "text",
        "id": "VGf0n6cydw5A"
      },
      "source": [
        "We see the same pattern for the video players category, which is the runner-up with 24,727,872 installs. The market is dominated by apps like Youtube, Google Play Movies & TV, or MX Player. The pattern is repeated for social apps (where we have giants like Facebook, Instagram, Google+, etc.), photography apps (Google Photos and other popular photo editors), or productivity apps (Microsoft Word, Dropbox, Google Calendar, Evernote, etc.).\n",
        "\n",
        "Again, the main concern is that these app genres might seem more popular than they really are. Moreover, these niches seem to be dominated by a few giants who are hard to compete against.\n",
        "\n",
        "The game genre seems pretty popular, but previously we found out this part of the market seems a bit saturated, so we'd like to come up with a different app recommendation if possible.\n",
        "\n",
        "The books and reference genre looks fairly popular as well, with an average number of installs of 8,767,811. It's interesting to explore this in more depth, since we found this genre has some potential to work well on the App Store, and our aim is to recommend an app genre that shows potential for being profitable on both the App Store and Google Play. \n",
        "\n",
        "Let's take a look at some of the apps from this genre and their number of installs:"
      ]
    },
    {
      "cell_type": "code",
      "metadata": {
        "colab_type": "code",
        "id": "EsjrE2Nudw5B",
        "outputId": "bc245ebd-ea99-4aaa-9f67-4fc94050f24b",
        "colab": {
          "base_uri": "https://localhost:8080/",
          "height": 1000
        }
      },
      "source": [
        "for app in android_final:\n",
        "    if app[1] == 'BOOKS_AND_REFERENCE':\n",
        "        print(app[0], ':', app[5])"
      ],
      "execution_count": 28,
      "outputs": [
        {
          "output_type": "stream",
          "text": [
            "Wattpad 📖 Free Books : 100,000,000+\n",
            "E-Book Read - Read Book for free : 50,000+\n",
            "Download free book with green book : 100,000+\n",
            "Wikipedia : 10,000,000+\n",
            "Amazon Kindle : 100,000,000+\n",
            "Cool Reader : 10,000,000+\n",
            "Dictionary - Merriam-Webster : 10,000,000+\n",
            "NOOK: Read eBooks & Magazines : 10,000,000+\n",
            "Free Panda Radio Music : 100,000+\n",
            "Book store : 1,000,000+\n",
            "FBReader: Favorite Book Reader : 10,000,000+\n",
            "English Grammar Complete Handbook : 500,000+\n",
            "Free Books - Spirit Fanfiction and Stories : 1,000,000+\n",
            "Google Play Books : 1,000,000,000+\n",
            "AlReader -any text book reader : 5,000,000+\n",
            "Offline English Dictionary : 100,000+\n",
            "Oxford Dictionary of English : Free : 10,000,000+\n",
            "Offline: English to Tagalog Dictionary : 500,000+\n",
            "Spanish English Translator : 10,000,000+\n",
            "FamilySearch Tree : 1,000,000+\n",
            "Cloud of Books : 1,000,000+\n",
            "Recipes of Prophetic Medicine for free : 500,000+\n",
            "ReadEra – free ebook reader : 1,000,000+\n",
            "NOOK App for NOOK Devices : 500,000+\n",
            "Anonymous caller detection : 10,000+\n",
            "Ebook Reader : 5,000,000+\n",
            "Litnet - E-books : 100,000+\n",
            "Read books online : 5,000,000+\n",
            "English to Urdu Dictionary : 500,000+\n",
            "eBoox: book reader fb2 epub zip : 1,000,000+\n",
            "English Persian Dictionary : 500,000+\n",
            "Flybook : 500,000+\n",
            "All Maths Formulas : 1,000,000+\n",
            "Ancestry : 5,000,000+\n",
            "HTC Help : 10,000,000+\n",
            "English translation from Bengali : 100,000+\n",
            "Pdf Book Download - Read Pdf Book : 100,000+\n",
            "Free Book Reader : 100,000+\n",
            "eBoox new: Reader for fb2 epub zip books : 50,000+\n",
            "Only 30 days in English, the guideline is guaranteed : 500,000+\n",
            "Moon+ Reader : 10,000,000+\n",
            "SH-02J Owner's Manual (Android 8.0) : 50,000+\n",
            "English-Myanmar Dictionary : 1,000,000+\n",
            "Golden Dictionary (EN-AR) : 1,000,000+\n",
            "All Language Translator Free : 1,000,000+\n",
            "Azpen eReader : 500,000+\n",
            "URBANO V 02 instruction manual : 100,000+\n",
            "English Dictionary - Offline : 10,000,000+\n",
            "Bible : 100,000,000+\n",
            "C Programs and Reference : 50,000+\n",
            "C Offline Tutorial : 1,000+\n",
            "C Programs Handbook : 50,000+\n",
            "Aab e Hayat Full Novel : 100,000+\n",
            "Aldiko Book Reader : 10,000,000+\n",
            "Google I/O 2018 : 500,000+\n",
            "R Language Reference Guide : 10,000+\n",
            "Learn R Programming Full : 5,000+\n",
            "R Programing Offline Tutorial : 1,000+\n",
            "Guide for R Programming : 5+\n",
            "Learn R Programming : 10+\n",
            "R Quick Reference Big Data : 1,000+\n",
            "V Made : 100,000+\n",
            "Dictionary - WordWeb : 5,000,000+\n",
            "Guide (for X-MEN) : 100,000+\n",
            "AC Air condition Troubleshoot,Repair,Maintenance : 5,000+\n",
            "AE Bulletins : 1,000+\n",
            "Ae Allah na Dai (Rasa) : 10,000+\n",
            "50000 Free eBooks & Free AudioBooks : 5,000,000+\n",
            "Ag PhD Field Guide : 10,000+\n",
            "Ag PhD Deficiencies : 10,000+\n",
            "Ag PhD Planting Population Calculator : 1,000+\n",
            "Ag PhD Soybean Diseases : 1,000+\n",
            "Fertilizer Removal By Crop : 50,000+\n",
            "A-J Media Vault : 50+\n",
            "Al-Quran (Free) : 10,000,000+\n",
            "Al Quran (Tafsir & by Word) : 500,000+\n",
            "Al Quran Indonesia : 10,000,000+\n",
            "Al'Quran Bahasa Indonesia : 10,000,000+\n",
            "Al Quran Al karim : 1,000,000+\n",
            "Al-Muhaffiz : 50,000+\n",
            "Al Quran : EAlim - Translations & MP3 Offline : 5,000,000+\n",
            "Al-Quran 30 Juz free copies : 500,000+\n",
            "Koran Read &MP3 30 Juz Offline : 1,000,000+\n",
            "Hafizi Quran 15 lines per page : 1,000,000+\n",
            "Quran for Android : 10,000,000+\n",
            "Surah Al-Waqiah : 100,000+\n",
            "Hisnul Al Muslim - Hisn Invocations & Adhkaar : 100,000+\n",
            "Satellite AR : 1,000,000+\n",
            "Audiobooks from Audible : 100,000,000+\n",
            "Kinot & Eichah for Tisha B'Av : 10,000+\n",
            "AW Tozer Devotionals - Daily : 5,000+\n",
            "Tozer Devotional -Series 1 : 1,000+\n",
            "The Pursuit of God : 1,000+\n",
            "AY Sing : 5,000+\n",
            "Ay Hasnain k Nana Milad Naat : 10,000+\n",
            "Ay Mohabbat Teri Khatir Novel : 10,000+\n",
            "Arizona Statutes, ARS (AZ Law) : 1,000+\n",
            "Oxford A-Z of English Usage : 1,000,000+\n",
            "BD Fishpedia : 1,000+\n",
            "BD All Sim Offer : 10,000+\n",
            "Youboox - Livres, BD et magazines : 500,000+\n",
            "B&H Kids AR : 10,000+\n",
            "B y H Niños ES : 5,000+\n",
            "Dictionary.com: Find Definitions for English Words : 10,000,000+\n",
            "Bible KJV : 5,000,000+\n",
            "Borneo Bible, BM Bible : 10,000+\n",
            "MOD Black for BM : 100+\n",
            "BM Box : 1,000+\n",
            "Anime Mod for BM : 100+\n",
            "NOOK Audiobooks : 500,000+\n",
            "Browsery by Barnes & Noble : 5,000+\n",
            "bp e-store : 1,000+\n",
            "Brilliant Quotes: Life, Love, Family & Motivation : 1,000,000+\n",
            "BR Ambedkar Biography & Quotes : 10,000+\n",
            "BU Alsace : 100+\n",
            "Catholic La Bu Zo Kam : 500+\n",
            "Khrifa Hla Bu (Solfa) : 10+\n",
            "Kristian Hla Bu : 10,000+\n",
            "SA HLA BU : 1,000+\n",
            "Learn SAP BW : 500+\n",
            "Learn SAP BW on HANA : 500+\n",
            "CA Laws 2018 (California Laws and Codes) : 5,000+\n",
            "Bootable Methods(USB-CD-DVD) : 10,000+\n",
            "cloudLibrary : 100,000+\n",
            "SDA Collegiate Quarterly : 500+\n",
            "Sabbath School : 100,000+\n",
            "Cypress College Library : 100+\n",
            "Stats Royale for Clash Royale : 1,000,000+\n",
            "GATE 21 years CS Papers(2011-2018 Solved) : 50+\n",
            "Learn CT Scan Of Head : 5,000+\n",
            "Easy Cv maker 2018 : 10,000+\n",
            "How to Write CV : 100,000+\n",
            "CW Nuclear : 1,000+\n",
            "CY Spray nozzle : 10+\n",
            "BibleRead En Cy Zh Yue : 5+\n",
            "CZ-Help : 5+\n",
            "Modlitební knížka CZ : 500+\n",
            "Guide for DB Xenoverse : 10,000+\n",
            "Guide for DB Xenoverse 2 : 10,000+\n",
            "Guide for IMS DB : 10+\n",
            "DC HSEMA : 5,000+\n",
            "DC Public Library : 1,000+\n",
            "Painting Lulu DC Super Friends : 1,000+\n",
            "Dictionary : 10,000,000+\n",
            "Fix Error Google Playstore : 1,000+\n",
            "D. H. Lawrence Poems FREE : 1,000+\n",
            "Bilingual Dictionary Audio App : 5,000+\n",
            "DM Screen : 10,000+\n",
            "wikiHow: how to do anything : 1,000,000+\n",
            "Dr. Doug's Tips : 1,000+\n",
            "Bible du Semeur-BDS (French) : 50,000+\n",
            "La citadelle du musulman : 50,000+\n",
            "DV 2019 Entry Guide : 10,000+\n",
            "DV 2019 - EDV Photo & Form : 50,000+\n",
            "DV 2018 Winners Guide : 1,000+\n",
            "EB Annual Meetings : 1,000+\n",
            "EC - AP & Telangana : 5,000+\n",
            "TN Patta Citta & EC : 10,000+\n",
            "AP Stamps and Registration : 10,000+\n",
            "CompactiMa EC pH Calibration : 100+\n",
            "EGW Writings 2 : 100,000+\n",
            "EGW Writings : 1,000,000+\n",
            "Bible with EGW Comments : 100,000+\n",
            "My Little Pony AR Guide : 1,000,000+\n",
            "SDA Sabbath School Quarterly : 500,000+\n",
            "Duaa Ek Ibaadat : 5,000+\n",
            "JW Library : 10,000,000+\n",
            "English Hindi Dictionary : 10,000,000+\n",
            "English to Hindi Dictionary : 5,000,000+\n",
            "EP Research Service : 1,000+\n",
            "Hymnes et Louanges : 100,000+\n",
            "EU Charter : 1,000+\n",
            "EU Data Protection : 1,000+\n",
            "EU IP Codes : 100+\n",
            "EW PDF : 5+\n",
            "BakaReader EX : 100,000+\n",
            "EZ Quran : 50,000+\n",
            "FA Part 1 & 2 Past Papers Solved Free – Offline : 5,000+\n",
            "La Fe de Jesus : 1,000+\n",
            "La Fe de Jesús : 500+\n",
            "Le Fe de Jesus : 500+\n",
            "Florida - Pocket Brainbook : 1,000+\n",
            "Florida Statutes (FL Code) : 1,000+\n",
            "English To Shona Dictionary : 10,000+\n",
            "Greek Bible FP (Audio) : 1,000+\n",
            "Golden Dictionary (FR-AR) : 500,000+\n",
            "Fanfic-FR : 5,000+\n",
            "Bulgarian French Dictionary Fr : 10,000+\n",
            "Chemin (fr) : 1,000+\n",
            "The SCP Foundation DB fr nn5n : 1,000+\n"
          ],
          "name": "stdout"
        }
      ]
    },
    {
      "cell_type": "markdown",
      "metadata": {
        "colab_type": "text",
        "id": "j4vZcL-Udw5G"
      },
      "source": [
        "The book and reference genre includes a variety of apps: software for processing and reading ebooks, various collections of libraries, dictionaries, tutorials on programming or languages, etc. It seems there's still a small number of extremely popular apps that skew the average:"
      ]
    },
    {
      "cell_type": "code",
      "metadata": {
        "colab_type": "code",
        "id": "sPYrMGhKdw5H",
        "outputId": "95ec4ea1-8b98-422f-ec55-2dd7ad72cb20",
        "colab": {
          "base_uri": "https://localhost:8080/",
          "height": 101
        }
      },
      "source": [
        "for app in android_final:\n",
        "    if app[1] == 'BOOKS_AND_REFERENCE' and (app[5] == '1,000,000,000+'\n",
        "                                            or app[5] == '500,000,000+'\n",
        "                                            or app[5] == '100,000,000+'):\n",
        "        print(app[0], ':', app[5])"
      ],
      "execution_count": 29,
      "outputs": [
        {
          "output_type": "stream",
          "text": [
            "Wattpad 📖 Free Books : 100,000,000+\n",
            "Amazon Kindle : 100,000,000+\n",
            "Google Play Books : 1,000,000,000+\n",
            "Bible : 100,000,000+\n",
            "Audiobooks from Audible : 100,000,000+\n"
          ],
          "name": "stdout"
        }
      ]
    },
    {
      "cell_type": "markdown",
      "metadata": {
        "colab_type": "text",
        "id": "jGuGD7ODdw5K"
      },
      "source": [
        "However, it looks like there are only a few very popular apps, so this market still shows potential. Let's try to get some app ideas based on the kind of apps that are somewhere in the middle in terms of popularity (between 1,000,000 and 100,000,000 downloads):"
      ]
    },
    {
      "cell_type": "code",
      "metadata": {
        "colab_type": "code",
        "id": "s9pL6QCddw5K",
        "outputId": "c6b8fa6c-42a1-410a-b87c-c0d93dd3f0a8",
        "colab": {
          "base_uri": "https://localhost:8080/",
          "height": 823
        }
      },
      "source": [
        "for app in android_final:\n",
        "    if app[1] == 'BOOKS_AND_REFERENCE' and (app[5] == '1,000,000+'\n",
        "                                            or app[5] == '5,000,000+'\n",
        "                                            or app[5] == '10,000,000+'\n",
        "                                            or app[5] == '50,000,000+'):\n",
        "        print(app[0], ':', app[5])"
      ],
      "execution_count": 30,
      "outputs": [
        {
          "output_type": "stream",
          "text": [
            "Wikipedia : 10,000,000+\n",
            "Cool Reader : 10,000,000+\n",
            "Dictionary - Merriam-Webster : 10,000,000+\n",
            "NOOK: Read eBooks & Magazines : 10,000,000+\n",
            "Book store : 1,000,000+\n",
            "FBReader: Favorite Book Reader : 10,000,000+\n",
            "Free Books - Spirit Fanfiction and Stories : 1,000,000+\n",
            "AlReader -any text book reader : 5,000,000+\n",
            "Oxford Dictionary of English : Free : 10,000,000+\n",
            "Spanish English Translator : 10,000,000+\n",
            "FamilySearch Tree : 1,000,000+\n",
            "Cloud of Books : 1,000,000+\n",
            "ReadEra – free ebook reader : 1,000,000+\n",
            "Ebook Reader : 5,000,000+\n",
            "Read books online : 5,000,000+\n",
            "eBoox: book reader fb2 epub zip : 1,000,000+\n",
            "All Maths Formulas : 1,000,000+\n",
            "Ancestry : 5,000,000+\n",
            "HTC Help : 10,000,000+\n",
            "Moon+ Reader : 10,000,000+\n",
            "English-Myanmar Dictionary : 1,000,000+\n",
            "Golden Dictionary (EN-AR) : 1,000,000+\n",
            "All Language Translator Free : 1,000,000+\n",
            "English Dictionary - Offline : 10,000,000+\n",
            "Aldiko Book Reader : 10,000,000+\n",
            "Dictionary - WordWeb : 5,000,000+\n",
            "50000 Free eBooks & Free AudioBooks : 5,000,000+\n",
            "Al-Quran (Free) : 10,000,000+\n",
            "Al Quran Indonesia : 10,000,000+\n",
            "Al'Quran Bahasa Indonesia : 10,000,000+\n",
            "Al Quran Al karim : 1,000,000+\n",
            "Al Quran : EAlim - Translations & MP3 Offline : 5,000,000+\n",
            "Koran Read &MP3 30 Juz Offline : 1,000,000+\n",
            "Hafizi Quran 15 lines per page : 1,000,000+\n",
            "Quran for Android : 10,000,000+\n",
            "Satellite AR : 1,000,000+\n",
            "Oxford A-Z of English Usage : 1,000,000+\n",
            "Dictionary.com: Find Definitions for English Words : 10,000,000+\n",
            "Bible KJV : 5,000,000+\n",
            "Brilliant Quotes: Life, Love, Family & Motivation : 1,000,000+\n",
            "Stats Royale for Clash Royale : 1,000,000+\n",
            "Dictionary : 10,000,000+\n",
            "wikiHow: how to do anything : 1,000,000+\n",
            "EGW Writings : 1,000,000+\n",
            "My Little Pony AR Guide : 1,000,000+\n",
            "JW Library : 10,000,000+\n",
            "English Hindi Dictionary : 10,000,000+\n",
            "English to Hindi Dictionary : 5,000,000+\n"
          ],
          "name": "stdout"
        }
      ]
    },
    {
      "cell_type": "markdown",
      "metadata": {
        "colab_type": "text",
        "id": "MnArt0Mbdw5M"
      },
      "source": [
        "This niche seems to be dominated by software for processing and reading ebooks, as well as various collections of libraries and dictionaries, so it's probably not a good idea to build similar apps since there'll be some significant competition.\n",
        "\n",
        "We also notice there are quite a few apps built around the book Quran, which suggests that building an app around a popular book can be profitable. It seems that taking a popular book (perhaps a more recent book) and turning it into an app could be profitable for both the Google Play and the App Store markets.\n",
        "\n",
        "However, it looks like the market is already full of libraries, so we need to add some special features besides the raw version of the book. This might include daily quotes from the book, an audio version of the book, quizzes on the book, a forum where people can discuss the book, etc."
      ]
    },
    {
      "cell_type": "markdown",
      "metadata": {
        "id": "VZcWb5Q7EvQp",
        "colab_type": "text"
      },
      "source": [
        "## Conclusions\n",
        "\n",
        "In this project, we analyzed data about the App Store and Google Play mobile apps with the goal of recommending an app profile that can be profitable for both markets.\n",
        "\n",
        "We concluded that taking a popular book (perhaps a more recent book) and turning it into an app could be profitable for both the Google Play and the App Store markets. The markets are already full of libraries, so we need to add some special features besides the raw version of the book. This might include daily quotes from the book, an audio version of the book, quizzes on the book, a forum where people can discuss the book, etc."
      ]
    }
  ]
}