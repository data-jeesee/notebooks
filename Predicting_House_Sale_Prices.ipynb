{
  "nbformat": 4,
  "nbformat_minor": 0,
  "metadata": {
    "colab": {
      "name": "Predicting House Sale Prices",
      "provenance": [],
      "authorship_tag": "ABX9TyNRNVfLSYWy34xsLjVxAyuu"
    },
    "kernelspec": {
      "name": "python3",
      "display_name": "Python 3"
    }
  },
  "cells": [
    {
      "cell_type": "markdown",
      "metadata": {
        "id": "6hSPzMZ7NOyQ",
        "colab_type": "text"
      },
      "source": [
        "# Predicting House Sale Prices\n",
        "\n",
        "In this project, I want to build a linear regression model that can predict house sale prices based on some numerical features. I also want to explore ways to improve the model. \n",
        "\n",
        "I'll work with housing data for the city of Ames, Iowa, United States from 2006 to 2010.\n",
        "\n"
      ]
    },
    {
      "cell_type": "markdown",
      "metadata": {
        "id": "zfF13F8O4egV",
        "colab_type": "text"
      },
      "source": [
        "## Regression Function\n",
        "\n",
        "Let's write the regression model that will be used at every step to see if the cleaning phase and feature selection give the chance to have better results.\n",
        "\n",
        "It will be employed the `scikit-learn` library to use a `LinearRegression()` model and a `KFold()` instance to give more robust result. "
      ]
    },
    {
      "cell_type": "code",
      "metadata": {
        "id": "r0km4aiJ6RZp",
        "colab_type": "code",
        "colab": {}
      },
      "source": [
        "# Import libraries\n",
        "import pandas as pd\n",
        "import numpy as np\n",
        "# from sklearn.preprocessing import StandardScaler\n",
        "from sklearn.linear_model import LinearRegression\n",
        "from sklearn.model_selection import KFold\n",
        "from sklearn.model_selection import cross_val_score\n",
        "# from sklearn.model_selection import GridSearchCV\n",
        "# from sklearn.metrics import mean_squared_error\n",
        "\n",
        "# Options to set\n",
        "pd.set_option('display.max_columns', 900)\n",
        "pd.set_option('display.max_rows', 100)\n",
        "np.random.seed(1)"
      ],
      "execution_count": 0,
      "outputs": []
    },
    {
      "cell_type": "code",
      "metadata": {
        "id": "mPjtAigj5_lU",
        "colab_type": "code",
        "colab": {}
      },
      "source": [
        "def test_model(df, features, target):\n",
        "  # Check if features is a list to have a dataframe and not a series\n",
        "  if type(features) != list:\n",
        "    features = [features]\n",
        "\n",
        "  lr = LinearRegression()\n",
        "  kf = KFold(n_splits=10, shuffle=True)\n",
        "  rmse = abs(np.mean(cross_val_score(estimator=lr, \n",
        "                                  X=df[features], \n",
        "                                  y=df[target], \n",
        "                                  scoring=\"neg_root_mean_squared_error\",\n",
        "                                  cv=kf)))\n",
        "  return rmse"
      ],
      "execution_count": 0,
      "outputs": []
    },
    {
      "cell_type": "markdown",
      "metadata": {
        "id": "UBktn-vAPWZf",
        "colab_type": "text"
      },
      "source": [
        "# Exploring the Data\n",
        "\n",
        "You can read more about the data [here](https://doi.org/10.1080/10691898.2011.11889627). You can also read about the different columns in the data [here](https://s3.amazonaws.com/dq-content/307/data_description.txt).\n",
        "\n",
        "Here's a preview of the data set:"
      ]
    },
    {
      "cell_type": "code",
      "metadata": {
        "id": "7KDfPCe6NAQ9",
        "colab_type": "code",
        "outputId": "d462d069-5727-437f-8ece-822f9abdbce5",
        "colab": {
          "base_uri": "https://localhost:8080/",
          "height": 275
        }
      },
      "source": [
        "# Load the data\n",
        "df = pd.read_csv(\"AmesHousing.tsv\", delimiter=\"\\t\")\n",
        "\n",
        "df.head()"
      ],
      "execution_count": 246,
      "outputs": [
        {
          "output_type": "execute_result",
          "data": {
            "text/html": [
              "<div>\n",
              "<style scoped>\n",
              "    .dataframe tbody tr th:only-of-type {\n",
              "        vertical-align: middle;\n",
              "    }\n",
              "\n",
              "    .dataframe tbody tr th {\n",
              "        vertical-align: top;\n",
              "    }\n",
              "\n",
              "    .dataframe thead th {\n",
              "        text-align: right;\n",
              "    }\n",
              "</style>\n",
              "<table border=\"1\" class=\"dataframe\">\n",
              "  <thead>\n",
              "    <tr style=\"text-align: right;\">\n",
              "      <th></th>\n",
              "      <th>Order</th>\n",
              "      <th>PID</th>\n",
              "      <th>MS SubClass</th>\n",
              "      <th>MS Zoning</th>\n",
              "      <th>Lot Frontage</th>\n",
              "      <th>Lot Area</th>\n",
              "      <th>Street</th>\n",
              "      <th>Alley</th>\n",
              "      <th>Lot Shape</th>\n",
              "      <th>Land Contour</th>\n",
              "      <th>Utilities</th>\n",
              "      <th>Lot Config</th>\n",
              "      <th>Land Slope</th>\n",
              "      <th>Neighborhood</th>\n",
              "      <th>Condition 1</th>\n",
              "      <th>Condition 2</th>\n",
              "      <th>Bldg Type</th>\n",
              "      <th>House Style</th>\n",
              "      <th>Overall Qual</th>\n",
              "      <th>Overall Cond</th>\n",
              "      <th>Year Built</th>\n",
              "      <th>Year Remod/Add</th>\n",
              "      <th>Roof Style</th>\n",
              "      <th>Roof Matl</th>\n",
              "      <th>Exterior 1st</th>\n",
              "      <th>Exterior 2nd</th>\n",
              "      <th>Mas Vnr Type</th>\n",
              "      <th>Mas Vnr Area</th>\n",
              "      <th>Exter Qual</th>\n",
              "      <th>Exter Cond</th>\n",
              "      <th>Foundation</th>\n",
              "      <th>Bsmt Qual</th>\n",
              "      <th>Bsmt Cond</th>\n",
              "      <th>Bsmt Exposure</th>\n",
              "      <th>BsmtFin Type 1</th>\n",
              "      <th>BsmtFin SF 1</th>\n",
              "      <th>BsmtFin Type 2</th>\n",
              "      <th>BsmtFin SF 2</th>\n",
              "      <th>Bsmt Unf SF</th>\n",
              "      <th>Total Bsmt SF</th>\n",
              "      <th>Heating</th>\n",
              "      <th>Heating QC</th>\n",
              "      <th>Central Air</th>\n",
              "      <th>Electrical</th>\n",
              "      <th>1st Flr SF</th>\n",
              "      <th>2nd Flr SF</th>\n",
              "      <th>Low Qual Fin SF</th>\n",
              "      <th>Gr Liv Area</th>\n",
              "      <th>Bsmt Full Bath</th>\n",
              "      <th>Bsmt Half Bath</th>\n",
              "      <th>Full Bath</th>\n",
              "      <th>Half Bath</th>\n",
              "      <th>Bedroom AbvGr</th>\n",
              "      <th>Kitchen AbvGr</th>\n",
              "      <th>Kitchen Qual</th>\n",
              "      <th>TotRms AbvGrd</th>\n",
              "      <th>Functional</th>\n",
              "      <th>Fireplaces</th>\n",
              "      <th>Fireplace Qu</th>\n",
              "      <th>Garage Type</th>\n",
              "      <th>Garage Yr Blt</th>\n",
              "      <th>Garage Finish</th>\n",
              "      <th>Garage Cars</th>\n",
              "      <th>Garage Area</th>\n",
              "      <th>Garage Qual</th>\n",
              "      <th>Garage Cond</th>\n",
              "      <th>Paved Drive</th>\n",
              "      <th>Wood Deck SF</th>\n",
              "      <th>Open Porch SF</th>\n",
              "      <th>Enclosed Porch</th>\n",
              "      <th>3Ssn Porch</th>\n",
              "      <th>Screen Porch</th>\n",
              "      <th>Pool Area</th>\n",
              "      <th>Pool QC</th>\n",
              "      <th>Fence</th>\n",
              "      <th>Misc Feature</th>\n",
              "      <th>Misc Val</th>\n",
              "      <th>Mo Sold</th>\n",
              "      <th>Yr Sold</th>\n",
              "      <th>Sale Type</th>\n",
              "      <th>Sale Condition</th>\n",
              "      <th>SalePrice</th>\n",
              "    </tr>\n",
              "  </thead>\n",
              "  <tbody>\n",
              "    <tr>\n",
              "      <th>0</th>\n",
              "      <td>1</td>\n",
              "      <td>526301100</td>\n",
              "      <td>20</td>\n",
              "      <td>RL</td>\n",
              "      <td>141.0</td>\n",
              "      <td>31770</td>\n",
              "      <td>Pave</td>\n",
              "      <td>NaN</td>\n",
              "      <td>IR1</td>\n",
              "      <td>Lvl</td>\n",
              "      <td>AllPub</td>\n",
              "      <td>Corner</td>\n",
              "      <td>Gtl</td>\n",
              "      <td>NAmes</td>\n",
              "      <td>Norm</td>\n",
              "      <td>Norm</td>\n",
              "      <td>1Fam</td>\n",
              "      <td>1Story</td>\n",
              "      <td>6</td>\n",
              "      <td>5</td>\n",
              "      <td>1960</td>\n",
              "      <td>1960</td>\n",
              "      <td>Hip</td>\n",
              "      <td>CompShg</td>\n",
              "      <td>BrkFace</td>\n",
              "      <td>Plywood</td>\n",
              "      <td>Stone</td>\n",
              "      <td>112.0</td>\n",
              "      <td>TA</td>\n",
              "      <td>TA</td>\n",
              "      <td>CBlock</td>\n",
              "      <td>TA</td>\n",
              "      <td>Gd</td>\n",
              "      <td>Gd</td>\n",
              "      <td>BLQ</td>\n",
              "      <td>639.0</td>\n",
              "      <td>Unf</td>\n",
              "      <td>0.0</td>\n",
              "      <td>441.0</td>\n",
              "      <td>1080.0</td>\n",
              "      <td>GasA</td>\n",
              "      <td>Fa</td>\n",
              "      <td>Y</td>\n",
              "      <td>SBrkr</td>\n",
              "      <td>1656</td>\n",
              "      <td>0</td>\n",
              "      <td>0</td>\n",
              "      <td>1656</td>\n",
              "      <td>1.0</td>\n",
              "      <td>0.0</td>\n",
              "      <td>1</td>\n",
              "      <td>0</td>\n",
              "      <td>3</td>\n",
              "      <td>1</td>\n",
              "      <td>TA</td>\n",
              "      <td>7</td>\n",
              "      <td>Typ</td>\n",
              "      <td>2</td>\n",
              "      <td>Gd</td>\n",
              "      <td>Attchd</td>\n",
              "      <td>1960.0</td>\n",
              "      <td>Fin</td>\n",
              "      <td>2.0</td>\n",
              "      <td>528.0</td>\n",
              "      <td>TA</td>\n",
              "      <td>TA</td>\n",
              "      <td>P</td>\n",
              "      <td>210</td>\n",
              "      <td>62</td>\n",
              "      <td>0</td>\n",
              "      <td>0</td>\n",
              "      <td>0</td>\n",
              "      <td>0</td>\n",
              "      <td>NaN</td>\n",
              "      <td>NaN</td>\n",
              "      <td>NaN</td>\n",
              "      <td>0</td>\n",
              "      <td>5</td>\n",
              "      <td>2010</td>\n",
              "      <td>WD</td>\n",
              "      <td>Normal</td>\n",
              "      <td>215000</td>\n",
              "    </tr>\n",
              "    <tr>\n",
              "      <th>1</th>\n",
              "      <td>2</td>\n",
              "      <td>526350040</td>\n",
              "      <td>20</td>\n",
              "      <td>RH</td>\n",
              "      <td>80.0</td>\n",
              "      <td>11622</td>\n",
              "      <td>Pave</td>\n",
              "      <td>NaN</td>\n",
              "      <td>Reg</td>\n",
              "      <td>Lvl</td>\n",
              "      <td>AllPub</td>\n",
              "      <td>Inside</td>\n",
              "      <td>Gtl</td>\n",
              "      <td>NAmes</td>\n",
              "      <td>Feedr</td>\n",
              "      <td>Norm</td>\n",
              "      <td>1Fam</td>\n",
              "      <td>1Story</td>\n",
              "      <td>5</td>\n",
              "      <td>6</td>\n",
              "      <td>1961</td>\n",
              "      <td>1961</td>\n",
              "      <td>Gable</td>\n",
              "      <td>CompShg</td>\n",
              "      <td>VinylSd</td>\n",
              "      <td>VinylSd</td>\n",
              "      <td>None</td>\n",
              "      <td>0.0</td>\n",
              "      <td>TA</td>\n",
              "      <td>TA</td>\n",
              "      <td>CBlock</td>\n",
              "      <td>TA</td>\n",
              "      <td>TA</td>\n",
              "      <td>No</td>\n",
              "      <td>Rec</td>\n",
              "      <td>468.0</td>\n",
              "      <td>LwQ</td>\n",
              "      <td>144.0</td>\n",
              "      <td>270.0</td>\n",
              "      <td>882.0</td>\n",
              "      <td>GasA</td>\n",
              "      <td>TA</td>\n",
              "      <td>Y</td>\n",
              "      <td>SBrkr</td>\n",
              "      <td>896</td>\n",
              "      <td>0</td>\n",
              "      <td>0</td>\n",
              "      <td>896</td>\n",
              "      <td>0.0</td>\n",
              "      <td>0.0</td>\n",
              "      <td>1</td>\n",
              "      <td>0</td>\n",
              "      <td>2</td>\n",
              "      <td>1</td>\n",
              "      <td>TA</td>\n",
              "      <td>5</td>\n",
              "      <td>Typ</td>\n",
              "      <td>0</td>\n",
              "      <td>NaN</td>\n",
              "      <td>Attchd</td>\n",
              "      <td>1961.0</td>\n",
              "      <td>Unf</td>\n",
              "      <td>1.0</td>\n",
              "      <td>730.0</td>\n",
              "      <td>TA</td>\n",
              "      <td>TA</td>\n",
              "      <td>Y</td>\n",
              "      <td>140</td>\n",
              "      <td>0</td>\n",
              "      <td>0</td>\n",
              "      <td>0</td>\n",
              "      <td>120</td>\n",
              "      <td>0</td>\n",
              "      <td>NaN</td>\n",
              "      <td>MnPrv</td>\n",
              "      <td>NaN</td>\n",
              "      <td>0</td>\n",
              "      <td>6</td>\n",
              "      <td>2010</td>\n",
              "      <td>WD</td>\n",
              "      <td>Normal</td>\n",
              "      <td>105000</td>\n",
              "    </tr>\n",
              "    <tr>\n",
              "      <th>2</th>\n",
              "      <td>3</td>\n",
              "      <td>526351010</td>\n",
              "      <td>20</td>\n",
              "      <td>RL</td>\n",
              "      <td>81.0</td>\n",
              "      <td>14267</td>\n",
              "      <td>Pave</td>\n",
              "      <td>NaN</td>\n",
              "      <td>IR1</td>\n",
              "      <td>Lvl</td>\n",
              "      <td>AllPub</td>\n",
              "      <td>Corner</td>\n",
              "      <td>Gtl</td>\n",
              "      <td>NAmes</td>\n",
              "      <td>Norm</td>\n",
              "      <td>Norm</td>\n",
              "      <td>1Fam</td>\n",
              "      <td>1Story</td>\n",
              "      <td>6</td>\n",
              "      <td>6</td>\n",
              "      <td>1958</td>\n",
              "      <td>1958</td>\n",
              "      <td>Hip</td>\n",
              "      <td>CompShg</td>\n",
              "      <td>Wd Sdng</td>\n",
              "      <td>Wd Sdng</td>\n",
              "      <td>BrkFace</td>\n",
              "      <td>108.0</td>\n",
              "      <td>TA</td>\n",
              "      <td>TA</td>\n",
              "      <td>CBlock</td>\n",
              "      <td>TA</td>\n",
              "      <td>TA</td>\n",
              "      <td>No</td>\n",
              "      <td>ALQ</td>\n",
              "      <td>923.0</td>\n",
              "      <td>Unf</td>\n",
              "      <td>0.0</td>\n",
              "      <td>406.0</td>\n",
              "      <td>1329.0</td>\n",
              "      <td>GasA</td>\n",
              "      <td>TA</td>\n",
              "      <td>Y</td>\n",
              "      <td>SBrkr</td>\n",
              "      <td>1329</td>\n",
              "      <td>0</td>\n",
              "      <td>0</td>\n",
              "      <td>1329</td>\n",
              "      <td>0.0</td>\n",
              "      <td>0.0</td>\n",
              "      <td>1</td>\n",
              "      <td>1</td>\n",
              "      <td>3</td>\n",
              "      <td>1</td>\n",
              "      <td>Gd</td>\n",
              "      <td>6</td>\n",
              "      <td>Typ</td>\n",
              "      <td>0</td>\n",
              "      <td>NaN</td>\n",
              "      <td>Attchd</td>\n",
              "      <td>1958.0</td>\n",
              "      <td>Unf</td>\n",
              "      <td>1.0</td>\n",
              "      <td>312.0</td>\n",
              "      <td>TA</td>\n",
              "      <td>TA</td>\n",
              "      <td>Y</td>\n",
              "      <td>393</td>\n",
              "      <td>36</td>\n",
              "      <td>0</td>\n",
              "      <td>0</td>\n",
              "      <td>0</td>\n",
              "      <td>0</td>\n",
              "      <td>NaN</td>\n",
              "      <td>NaN</td>\n",
              "      <td>Gar2</td>\n",
              "      <td>12500</td>\n",
              "      <td>6</td>\n",
              "      <td>2010</td>\n",
              "      <td>WD</td>\n",
              "      <td>Normal</td>\n",
              "      <td>172000</td>\n",
              "    </tr>\n",
              "    <tr>\n",
              "      <th>3</th>\n",
              "      <td>4</td>\n",
              "      <td>526353030</td>\n",
              "      <td>20</td>\n",
              "      <td>RL</td>\n",
              "      <td>93.0</td>\n",
              "      <td>11160</td>\n",
              "      <td>Pave</td>\n",
              "      <td>NaN</td>\n",
              "      <td>Reg</td>\n",
              "      <td>Lvl</td>\n",
              "      <td>AllPub</td>\n",
              "      <td>Corner</td>\n",
              "      <td>Gtl</td>\n",
              "      <td>NAmes</td>\n",
              "      <td>Norm</td>\n",
              "      <td>Norm</td>\n",
              "      <td>1Fam</td>\n",
              "      <td>1Story</td>\n",
              "      <td>7</td>\n",
              "      <td>5</td>\n",
              "      <td>1968</td>\n",
              "      <td>1968</td>\n",
              "      <td>Hip</td>\n",
              "      <td>CompShg</td>\n",
              "      <td>BrkFace</td>\n",
              "      <td>BrkFace</td>\n",
              "      <td>None</td>\n",
              "      <td>0.0</td>\n",
              "      <td>Gd</td>\n",
              "      <td>TA</td>\n",
              "      <td>CBlock</td>\n",
              "      <td>TA</td>\n",
              "      <td>TA</td>\n",
              "      <td>No</td>\n",
              "      <td>ALQ</td>\n",
              "      <td>1065.0</td>\n",
              "      <td>Unf</td>\n",
              "      <td>0.0</td>\n",
              "      <td>1045.0</td>\n",
              "      <td>2110.0</td>\n",
              "      <td>GasA</td>\n",
              "      <td>Ex</td>\n",
              "      <td>Y</td>\n",
              "      <td>SBrkr</td>\n",
              "      <td>2110</td>\n",
              "      <td>0</td>\n",
              "      <td>0</td>\n",
              "      <td>2110</td>\n",
              "      <td>1.0</td>\n",
              "      <td>0.0</td>\n",
              "      <td>2</td>\n",
              "      <td>1</td>\n",
              "      <td>3</td>\n",
              "      <td>1</td>\n",
              "      <td>Ex</td>\n",
              "      <td>8</td>\n",
              "      <td>Typ</td>\n",
              "      <td>2</td>\n",
              "      <td>TA</td>\n",
              "      <td>Attchd</td>\n",
              "      <td>1968.0</td>\n",
              "      <td>Fin</td>\n",
              "      <td>2.0</td>\n",
              "      <td>522.0</td>\n",
              "      <td>TA</td>\n",
              "      <td>TA</td>\n",
              "      <td>Y</td>\n",
              "      <td>0</td>\n",
              "      <td>0</td>\n",
              "      <td>0</td>\n",
              "      <td>0</td>\n",
              "      <td>0</td>\n",
              "      <td>0</td>\n",
              "      <td>NaN</td>\n",
              "      <td>NaN</td>\n",
              "      <td>NaN</td>\n",
              "      <td>0</td>\n",
              "      <td>4</td>\n",
              "      <td>2010</td>\n",
              "      <td>WD</td>\n",
              "      <td>Normal</td>\n",
              "      <td>244000</td>\n",
              "    </tr>\n",
              "    <tr>\n",
              "      <th>4</th>\n",
              "      <td>5</td>\n",
              "      <td>527105010</td>\n",
              "      <td>60</td>\n",
              "      <td>RL</td>\n",
              "      <td>74.0</td>\n",
              "      <td>13830</td>\n",
              "      <td>Pave</td>\n",
              "      <td>NaN</td>\n",
              "      <td>IR1</td>\n",
              "      <td>Lvl</td>\n",
              "      <td>AllPub</td>\n",
              "      <td>Inside</td>\n",
              "      <td>Gtl</td>\n",
              "      <td>Gilbert</td>\n",
              "      <td>Norm</td>\n",
              "      <td>Norm</td>\n",
              "      <td>1Fam</td>\n",
              "      <td>2Story</td>\n",
              "      <td>5</td>\n",
              "      <td>5</td>\n",
              "      <td>1997</td>\n",
              "      <td>1998</td>\n",
              "      <td>Gable</td>\n",
              "      <td>CompShg</td>\n",
              "      <td>VinylSd</td>\n",
              "      <td>VinylSd</td>\n",
              "      <td>None</td>\n",
              "      <td>0.0</td>\n",
              "      <td>TA</td>\n",
              "      <td>TA</td>\n",
              "      <td>PConc</td>\n",
              "      <td>Gd</td>\n",
              "      <td>TA</td>\n",
              "      <td>No</td>\n",
              "      <td>GLQ</td>\n",
              "      <td>791.0</td>\n",
              "      <td>Unf</td>\n",
              "      <td>0.0</td>\n",
              "      <td>137.0</td>\n",
              "      <td>928.0</td>\n",
              "      <td>GasA</td>\n",
              "      <td>Gd</td>\n",
              "      <td>Y</td>\n",
              "      <td>SBrkr</td>\n",
              "      <td>928</td>\n",
              "      <td>701</td>\n",
              "      <td>0</td>\n",
              "      <td>1629</td>\n",
              "      <td>0.0</td>\n",
              "      <td>0.0</td>\n",
              "      <td>2</td>\n",
              "      <td>1</td>\n",
              "      <td>3</td>\n",
              "      <td>1</td>\n",
              "      <td>TA</td>\n",
              "      <td>6</td>\n",
              "      <td>Typ</td>\n",
              "      <td>1</td>\n",
              "      <td>TA</td>\n",
              "      <td>Attchd</td>\n",
              "      <td>1997.0</td>\n",
              "      <td>Fin</td>\n",
              "      <td>2.0</td>\n",
              "      <td>482.0</td>\n",
              "      <td>TA</td>\n",
              "      <td>TA</td>\n",
              "      <td>Y</td>\n",
              "      <td>212</td>\n",
              "      <td>34</td>\n",
              "      <td>0</td>\n",
              "      <td>0</td>\n",
              "      <td>0</td>\n",
              "      <td>0</td>\n",
              "      <td>NaN</td>\n",
              "      <td>MnPrv</td>\n",
              "      <td>NaN</td>\n",
              "      <td>0</td>\n",
              "      <td>3</td>\n",
              "      <td>2010</td>\n",
              "      <td>WD</td>\n",
              "      <td>Normal</td>\n",
              "      <td>189900</td>\n",
              "    </tr>\n",
              "  </tbody>\n",
              "</table>\n",
              "</div>"
            ],
            "text/plain": [
              "   Order        PID  MS SubClass MS Zoning  Lot Frontage  Lot Area Street  \\\n",
              "0      1  526301100           20        RL         141.0     31770   Pave   \n",
              "1      2  526350040           20        RH          80.0     11622   Pave   \n",
              "2      3  526351010           20        RL          81.0     14267   Pave   \n",
              "3      4  526353030           20        RL          93.0     11160   Pave   \n",
              "4      5  527105010           60        RL          74.0     13830   Pave   \n",
              "\n",
              "  Alley Lot Shape Land Contour Utilities Lot Config Land Slope Neighborhood  \\\n",
              "0   NaN       IR1          Lvl    AllPub     Corner        Gtl        NAmes   \n",
              "1   NaN       Reg          Lvl    AllPub     Inside        Gtl        NAmes   \n",
              "2   NaN       IR1          Lvl    AllPub     Corner        Gtl        NAmes   \n",
              "3   NaN       Reg          Lvl    AllPub     Corner        Gtl        NAmes   \n",
              "4   NaN       IR1          Lvl    AllPub     Inside        Gtl      Gilbert   \n",
              "\n",
              "  Condition 1 Condition 2 Bldg Type House Style  Overall Qual  Overall Cond  \\\n",
              "0        Norm        Norm      1Fam      1Story             6             5   \n",
              "1       Feedr        Norm      1Fam      1Story             5             6   \n",
              "2        Norm        Norm      1Fam      1Story             6             6   \n",
              "3        Norm        Norm      1Fam      1Story             7             5   \n",
              "4        Norm        Norm      1Fam      2Story             5             5   \n",
              "\n",
              "   Year Built  Year Remod/Add Roof Style Roof Matl Exterior 1st Exterior 2nd  \\\n",
              "0        1960            1960        Hip   CompShg      BrkFace      Plywood   \n",
              "1        1961            1961      Gable   CompShg      VinylSd      VinylSd   \n",
              "2        1958            1958        Hip   CompShg      Wd Sdng      Wd Sdng   \n",
              "3        1968            1968        Hip   CompShg      BrkFace      BrkFace   \n",
              "4        1997            1998      Gable   CompShg      VinylSd      VinylSd   \n",
              "\n",
              "  Mas Vnr Type  Mas Vnr Area Exter Qual Exter Cond Foundation Bsmt Qual  \\\n",
              "0        Stone         112.0         TA         TA     CBlock        TA   \n",
              "1         None           0.0         TA         TA     CBlock        TA   \n",
              "2      BrkFace         108.0         TA         TA     CBlock        TA   \n",
              "3         None           0.0         Gd         TA     CBlock        TA   \n",
              "4         None           0.0         TA         TA      PConc        Gd   \n",
              "\n",
              "  Bsmt Cond Bsmt Exposure BsmtFin Type 1  BsmtFin SF 1 BsmtFin Type 2  \\\n",
              "0        Gd            Gd            BLQ         639.0            Unf   \n",
              "1        TA            No            Rec         468.0            LwQ   \n",
              "2        TA            No            ALQ         923.0            Unf   \n",
              "3        TA            No            ALQ        1065.0            Unf   \n",
              "4        TA            No            GLQ         791.0            Unf   \n",
              "\n",
              "   BsmtFin SF 2  Bsmt Unf SF  Total Bsmt SF Heating Heating QC Central Air  \\\n",
              "0           0.0        441.0         1080.0    GasA         Fa           Y   \n",
              "1         144.0        270.0          882.0    GasA         TA           Y   \n",
              "2           0.0        406.0         1329.0    GasA         TA           Y   \n",
              "3           0.0       1045.0         2110.0    GasA         Ex           Y   \n",
              "4           0.0        137.0          928.0    GasA         Gd           Y   \n",
              "\n",
              "  Electrical  1st Flr SF  2nd Flr SF  Low Qual Fin SF  Gr Liv Area  \\\n",
              "0      SBrkr        1656           0                0         1656   \n",
              "1      SBrkr         896           0                0          896   \n",
              "2      SBrkr        1329           0                0         1329   \n",
              "3      SBrkr        2110           0                0         2110   \n",
              "4      SBrkr         928         701                0         1629   \n",
              "\n",
              "   Bsmt Full Bath  Bsmt Half Bath  Full Bath  Half Bath  Bedroom AbvGr  \\\n",
              "0             1.0             0.0          1          0              3   \n",
              "1             0.0             0.0          1          0              2   \n",
              "2             0.0             0.0          1          1              3   \n",
              "3             1.0             0.0          2          1              3   \n",
              "4             0.0             0.0          2          1              3   \n",
              "\n",
              "   Kitchen AbvGr Kitchen Qual  TotRms AbvGrd Functional  Fireplaces  \\\n",
              "0              1           TA              7        Typ           2   \n",
              "1              1           TA              5        Typ           0   \n",
              "2              1           Gd              6        Typ           0   \n",
              "3              1           Ex              8        Typ           2   \n",
              "4              1           TA              6        Typ           1   \n",
              "\n",
              "  Fireplace Qu Garage Type  Garage Yr Blt Garage Finish  Garage Cars  \\\n",
              "0           Gd      Attchd         1960.0           Fin          2.0   \n",
              "1          NaN      Attchd         1961.0           Unf          1.0   \n",
              "2          NaN      Attchd         1958.0           Unf          1.0   \n",
              "3           TA      Attchd         1968.0           Fin          2.0   \n",
              "4           TA      Attchd         1997.0           Fin          2.0   \n",
              "\n",
              "   Garage Area Garage Qual Garage Cond Paved Drive  Wood Deck SF  \\\n",
              "0        528.0          TA          TA           P           210   \n",
              "1        730.0          TA          TA           Y           140   \n",
              "2        312.0          TA          TA           Y           393   \n",
              "3        522.0          TA          TA           Y             0   \n",
              "4        482.0          TA          TA           Y           212   \n",
              "\n",
              "   Open Porch SF  Enclosed Porch  3Ssn Porch  Screen Porch  Pool Area Pool QC  \\\n",
              "0             62               0           0             0          0     NaN   \n",
              "1              0               0           0           120          0     NaN   \n",
              "2             36               0           0             0          0     NaN   \n",
              "3              0               0           0             0          0     NaN   \n",
              "4             34               0           0             0          0     NaN   \n",
              "\n",
              "   Fence Misc Feature  Misc Val  Mo Sold  Yr Sold Sale Type Sale Condition  \\\n",
              "0    NaN          NaN         0        5     2010       WD          Normal   \n",
              "1  MnPrv          NaN         0        6     2010       WD          Normal   \n",
              "2    NaN         Gar2     12500        6     2010       WD          Normal   \n",
              "3    NaN          NaN         0        4     2010       WD          Normal   \n",
              "4  MnPrv          NaN         0        3     2010       WD          Normal   \n",
              "\n",
              "   SalePrice  \n",
              "0     215000  \n",
              "1     105000  \n",
              "2     172000  \n",
              "3     244000  \n",
              "4     189900  "
            ]
          },
          "metadata": {
            "tags": []
          },
          "execution_count": 246
        }
      ]
    },
    {
      "cell_type": "code",
      "metadata": {
        "id": "9ZIcSIKZNCjO",
        "colab_type": "code",
        "outputId": "8a951d03-5b6e-4396-bab4-6a40a419fcdb",
        "colab": {
          "base_uri": "https://localhost:8080/",
          "height": 85
        }
      },
      "source": [
        "df.dtypes.value_counts()"
      ],
      "execution_count": 247,
      "outputs": [
        {
          "output_type": "execute_result",
          "data": {
            "text/plain": [
              "object     43\n",
              "int64      28\n",
              "float64    11\n",
              "dtype: int64"
            ]
          },
          "metadata": {
            "tags": []
          },
          "execution_count": 247
        }
      ]
    },
    {
      "cell_type": "markdown",
      "metadata": {
        "id": "p-aqpzTAUm94",
        "colab_type": "text"
      },
      "source": [
        "Most of the columns are `string` type, the others are `float` and `integer`."
      ]
    },
    {
      "cell_type": "code",
      "metadata": {
        "id": "vkEYPszWVLVD",
        "colab_type": "code",
        "outputId": "ca956bb1-745d-4235-ef38-eca2bf961356",
        "colab": {
          "base_uri": "https://localhost:8080/",
          "height": 1000
        }
      },
      "source": [
        "# Percentage of missing values for every column\n",
        "cols_perc_null = 100*(df.isnull().sum().sort_values()) / df.shape[0]\n",
        "\n",
        "cols_perc_null"
      ],
      "execution_count": 248,
      "outputs": [
        {
          "output_type": "execute_result",
          "data": {
            "text/plain": [
              "Order               0.000000\n",
              "Sale Condition      0.000000\n",
              "Heating QC          0.000000\n",
              "Central Air         0.000000\n",
              "1st Flr SF          0.000000\n",
              "2nd Flr SF          0.000000\n",
              "Low Qual Fin SF     0.000000\n",
              "Gr Liv Area         0.000000\n",
              "Full Bath           0.000000\n",
              "Half Bath           0.000000\n",
              "Bedroom AbvGr       0.000000\n",
              "Kitchen AbvGr       0.000000\n",
              "Kitchen Qual        0.000000\n",
              "Foundation          0.000000\n",
              "TotRms AbvGrd       0.000000\n",
              "Fireplaces          0.000000\n",
              "Paved Drive         0.000000\n",
              "Wood Deck SF        0.000000\n",
              "Open Porch SF       0.000000\n",
              "Enclosed Porch      0.000000\n",
              "3Ssn Porch          0.000000\n",
              "Screen Porch        0.000000\n",
              "Pool Area           0.000000\n",
              "Misc Val            0.000000\n",
              "Mo Sold             0.000000\n",
              "Yr Sold             0.000000\n",
              "Sale Type           0.000000\n",
              "Functional          0.000000\n",
              "Exter Cond          0.000000\n",
              "Heating             0.000000\n",
              "Condition 1         0.000000\n",
              "House Style         0.000000\n",
              "Bldg Type           0.000000\n",
              "Condition 2         0.000000\n",
              "Exter Qual          0.000000\n",
              "Neighborhood        0.000000\n",
              "Land Slope          0.000000\n",
              "Lot Config          0.000000\n",
              "Utilities           0.000000\n",
              "Land Contour        0.000000\n",
              "Lot Shape           0.000000\n",
              "Street              0.000000\n",
              "Lot Area            0.000000\n",
              "MS Zoning           0.000000\n",
              "MS SubClass         0.000000\n",
              "PID                 0.000000\n",
              "Overall Qual        0.000000\n",
              "Overall Cond        0.000000\n",
              "SalePrice           0.000000\n",
              "Year Built          0.000000\n",
              "Year Remod/Add      0.000000\n",
              "Roof Style          0.000000\n",
              "Roof Matl           0.000000\n",
              "Exterior 1st        0.000000\n",
              "Exterior 2nd        0.000000\n",
              "Electrical          0.034130\n",
              "BsmtFin SF 1        0.034130\n",
              "BsmtFin SF 2        0.034130\n",
              "Bsmt Unf SF         0.034130\n",
              "Total Bsmt SF       0.034130\n",
              "Garage Cars         0.034130\n",
              "Garage Area         0.034130\n",
              "Bsmt Half Bath      0.068259\n",
              "Bsmt Full Bath      0.068259\n",
              "Mas Vnr Area        0.784983\n",
              "Mas Vnr Type        0.784983\n",
              "Bsmt Qual           2.730375\n",
              "Bsmt Cond           2.730375\n",
              "BsmtFin Type 1      2.730375\n",
              "BsmtFin Type 2      2.764505\n",
              "Bsmt Exposure       2.832765\n",
              "Garage Type         5.358362\n",
              "Garage Finish       5.426621\n",
              "Garage Cond         5.426621\n",
              "Garage Yr Blt       5.426621\n",
              "Garage Qual         5.426621\n",
              "Lot Frontage       16.723549\n",
              "Fireplace Qu       48.532423\n",
              "Fence              80.477816\n",
              "Alley              93.242321\n",
              "Misc Feature       96.382253\n",
              "Pool QC            99.556314\n",
              "dtype: float64"
            ]
          },
          "metadata": {
            "tags": []
          },
          "execution_count": 248
        }
      ]
    },
    {
      "cell_type": "markdown",
      "metadata": {
        "id": "qIyYoh7O2Eq-",
        "colab_type": "text"
      },
      "source": [
        "Most of the columns have under 6% of missing values."
      ]
    },
    {
      "cell_type": "markdown",
      "metadata": {
        "id": "lvU6AepgiGnh",
        "colab_type": "text"
      },
      "source": [
        "## Target Feature\n",
        "\n",
        "Let's explore the target feature `SalePrice` to better understand it."
      ]
    },
    {
      "cell_type": "code",
      "metadata": {
        "colab_type": "code",
        "outputId": "313c2855-1a4a-4370-8327-0b16705f07cd",
        "id": "PBPzvY1biF2e",
        "colab": {
          "base_uri": "https://localhost:8080/",
          "height": 418
        }
      },
      "source": [
        "df[\"SalePrice\"].hist()\n",
        "df[\"SalePrice\"].describe()"
      ],
      "execution_count": 249,
      "outputs": [
        {
          "output_type": "execute_result",
          "data": {
            "text/plain": [
              "count      2930.000000\n",
              "mean     180796.060068\n",
              "std       79886.692357\n",
              "min       12789.000000\n",
              "25%      129500.000000\n",
              "50%      160000.000000\n",
              "75%      213500.000000\n",
              "max      755000.000000\n",
              "Name: SalePrice, dtype: float64"
            ]
          },
          "metadata": {
            "tags": []
          },
          "execution_count": 249
        },
        {
          "output_type": "display_data",
          "data": {
            "image/png": "[encoded data removed]",
            "text/plain": [
              "<Figure size 432x288 with 1 Axes>"
            ]
          },
          "metadata": {
            "tags": []
          }
        }
      ]
    },
    {
      "cell_type": "markdown",
      "metadata": {
        "id": "8yzb4uQ_io2z",
        "colab_type": "text"
      },
      "source": [
        "So, usually prices range from 100,000\\$ to 250,000\\$."
      ]
    },
    {
      "cell_type": "markdown",
      "metadata": {
        "id": "V8p-eWOq9xA3",
        "colab_type": "text"
      },
      "source": [
        "## First Test\n",
        "\n",
        "Let's test the model with all the numeric columns with 0 missing values to predict values in `SalePrice` column."
      ]
    },
    {
      "cell_type": "code",
      "metadata": {
        "id": "F5CnLlUZ-HtM",
        "colab_type": "code",
        "colab": {
          "base_uri": "https://localhost:8080/",
          "height": 34
        },
        "outputId": "a44912c2-dc3a-4690-c8f7-e2aabe0203ce"
      },
      "source": [
        "# select cols with 0 missing values\n",
        "cols_zero_null = cols_perc_null[cols_perc_null == 0].index\n",
        "\n",
        "# select only the numerical features\n",
        "numeric_features = df[cols_zero_null].select_dtypes(include=['integer', 'float']).columns.copy()\n",
        "\n",
        "# Remove columns that are not useful for ML or that leak info about the final sale\n",
        "numeric_features = numeric_features.drop([\"PID\", \"Order\", \"Mo Sold\", \"Yr Sold\", \"Year Built\", \"Year Remod/Add\", \"SalePrice\"]).tolist()\n",
        "\n",
        "# Apply the model\n",
        "rmse_result = test_model(df=df, features=numeric_features, target=\"SalePrice\")\n",
        "\n",
        "print(\"RMSE: {:,} $\".format(round(rmse_result,2)))"
      ],
      "execution_count": 250,
      "outputs": [
        {
          "output_type": "stream",
          "text": [
            "RMSE: 37,024.77 $\n"
          ],
          "name": "stdout"
        }
      ]
    },
    {
      "cell_type": "markdown",
      "metadata": {
        "id": "pCvQpUBTBIXR",
        "colab_type": "text"
      },
      "source": [
        "# Data Cleaning\n",
        "\n",
        "Let's now start removing features with many missing values, diving deeper into potential categorical features, and transforming text and numerical columns. I also need to remove any columns that leak information about the sale (e.g. like the year the sale happened). \n",
        "\n",
        "In general, the goal is to:\n",
        "\n",
        "- Remove features that I don't want to use in the model, just based on the number of missing values or data leakage;\n",
        "- Transform features into the proper format (numerical to categorical, scaling numerical, filling in missing values, etc.);\n",
        "- Create new features by combining other features."
      ]
    },
    {
      "cell_type": "markdown",
      "metadata": {
        "id": "L3Sb45OEBsbz",
        "colab_type": "text"
      },
      "source": [
        "## Manage Missing Values\n",
        "\n",
        "Let's remove all the columns that have 5% or more of missing values.\n",
        "\n"
      ]
    },
    {
      "cell_type": "code",
      "metadata": {
        "id": "JdAh-YahGTKB",
        "colab_type": "code",
        "colab": {}
      },
      "source": [
        "# select cols with less than 5% of missing values\n",
        "cols_5_null = cols_perc_null[cols_perc_null < 5].index"
      ],
      "execution_count": 0,
      "outputs": []
    },
    {
      "cell_type": "markdown",
      "metadata": {
        "id": "AUdJMrJoHvaW",
        "colab_type": "text"
      },
      "source": [
        "For numerical columns fill missing values with the most common value, the mode."
      ]
    },
    {
      "cell_type": "code",
      "metadata": {
        "id": "jX86OOHQIIGV",
        "colab_type": "code",
        "colab": {}
      },
      "source": [
        "# select only the numerical features\n",
        "numeric_features = df[cols_5_null].select_dtypes(include=['integer', 'float']).columns.copy()\n",
        "\n",
        "# fill missing values\n",
        "df[numeric_features] = df[numeric_features].fillna(df[numeric_features].mode().iloc[0])"
      ],
      "execution_count": 0,
      "outputs": []
    },
    {
      "cell_type": "markdown",
      "metadata": {
        "id": "VC7J8668JCGP",
        "colab_type": "text"
      },
      "source": [
        "## Create New Features\n",
        "\n",
        "Let's create new features by combining other features that better capture the information in some of them."
      ]
    },
    {
      "cell_type": "code",
      "metadata": {
        "id": "uo64ZBkUJV-G",
        "colab_type": "code",
        "colab": {}
      },
      "source": [
        "# create new columns\n",
        "df['Years Before Sale'] = df['Yr Sold'] - df['Year Built']\n",
        "df['Years Since Remod'] = df['Yr Sold'] - df['Year Remod/Add']\n",
        "\n",
        "# remove the rows that have negative values for these new columns\n",
        "df.drop(df[(df['Years Before Sale'] < 0) | (df['Years Since Remod'] < 0)].index, inplace=True)\n",
        "\n",
        "# remove no longer needed columns\n",
        "df.drop(['Yr Sold', 'Year Built', 'Year Remod/Add'], axis=1, inplace=True)"
      ],
      "execution_count": 0,
      "outputs": []
    },
    {
      "cell_type": "markdown",
      "metadata": {
        "colab_type": "text",
        "id": "IuaDerGcLMFw"
      },
      "source": [
        "## Second Test\n",
        "\n",
        "Let's test again the model after this cleaning phase."
      ]
    },
    {
      "cell_type": "code",
      "metadata": {
        "id": "6Uv07tIwLg-x",
        "colab_type": "code",
        "colab": {
          "base_uri": "https://localhost:8080/",
          "height": 51
        },
        "outputId": "f63e3cc0-1469-4f41-81f4-2815ada9bbaf"
      },
      "source": [
        "# Add the 2 new created columns\n",
        "numeric_features = numeric_features.union(['Years Before Sale', 'Years Since Remod'])\n",
        "\n",
        "# Remove columns that are not useful for ML or that leak info about the final sale\n",
        "numeric_features = numeric_features.drop([\"PID\", \"Order\", \"Mo Sold\", \"Yr Sold\", \"Year Built\", \"Year Remod/Add\", \"SalePrice\"]).tolist()\n",
        "\n",
        "# Apply the model\n",
        "rmse_result_2 = test_model(df=df, features=numeric_features, target=\"SalePrice\")\n",
        "\n",
        "print(\"RMSE: {:,.2f} $\".format(rmse_result_2))\n",
        "print(\"Improvement from before of {:.2f}%\".format(100*(rmse_result-rmse_result_2)/rmse_result))"
      ],
      "execution_count": 254,
      "outputs": [
        {
          "output_type": "stream",
          "text": [
            "RMSE: 31,365.78 $\n",
            "Improvement from before of 15.28%\n"
          ],
          "name": "stdout"
        }
      ]
    },
    {
      "cell_type": "markdown",
      "metadata": {
        "id": "93ZJ1cwxWit_",
        "colab_type": "text"
      },
      "source": [
        "There was an interesting improvement of about 16% on the RMSE value after this cleaning phase."
      ]
    },
    {
      "cell_type": "markdown",
      "metadata": {
        "id": "spBo6IPPWyUM",
        "colab_type": "text"
      },
      "source": [
        "# Feature Selection\n",
        "\n",
        "Now that I have cleaned and transformed a lot of the features in the data set, it's time to move on to feature selection for numerical features."
      ]
    },
    {
      "cell_type": "markdown",
      "metadata": {
        "id": "H26nMSa9XOCa",
        "colab_type": "text"
      },
      "source": [
        "# Correlation of Numerical Features\n",
        "\n",
        "Let's generate a correlation heatmap matrix of the numerical features and keep only the columns with a correlation coefficient larger than 0.40."
      ]
    },
    {
      "cell_type": "code",
      "metadata": {
        "id": "7Yfh2KEEVPXd",
        "colab_type": "code",
        "colab": {
          "base_uri": "https://localhost:8080/",
          "height": 255
        },
        "outputId": "dfe66ba3-197c-4daa-dbcd-a80ddf2e14b8"
      },
      "source": [
        "# Generate the correlation matrix for SalePrice column\n",
        "corr_coef_abs = df.corr().loc[numeric_features,\"SalePrice\"].abs()\n",
        "\n",
        "# Keep only the columns with a value larger than 0.40\n",
        "numeric_features = corr_coef_abs[corr_coef_abs > .4].index.tolist()\n",
        "\n",
        "corr_coef_abs[corr_coef_abs > .4].sort_values(ascending=False)"
      ],
      "execution_count": 255,
      "outputs": [
        {
          "output_type": "execute_result",
          "data": {
            "text/plain": [
              "Overall Qual         0.801206\n",
              "Gr Liv Area          0.717596\n",
              "Garage Cars          0.648361\n",
              "Total Bsmt SF        0.644012\n",
              "Garage Area          0.641425\n",
              "1st Flr SF           0.635185\n",
              "Years Before Sale    0.558979\n",
              "Full Bath            0.546118\n",
              "Years Since Remod    0.534985\n",
              "Mas Vnr Area         0.506983\n",
              "TotRms AbvGrd        0.498574\n",
              "Fireplaces           0.474831\n",
              "BsmtFin SF 1         0.439284\n",
              "Name: SalePrice, dtype: float64"
            ]
          },
          "metadata": {
            "tags": []
          },
          "execution_count": 255
        }
      ]
    },
    {
      "cell_type": "markdown",
      "metadata": {
        "id": "If0S2zRnNAR3",
        "colab_type": "text"
      },
      "source": [
        "## Which Categorical Column to Keep\n",
        "\n",
        "Now I'm going to answer these questions:\n",
        "\n",
        "- Which columns are currently numerical but need to be encoded as categorical instead (because the numbers don't have any semantic meaning)?\n",
        "- If a categorical column has hundreds of unique values (or categories), should we keep it? When we dummy code this column, hundreds of columns will need to be added back to the dataframe, so it will be better to elimate them."
      ]
    },
    {
      "cell_type": "code",
      "metadata": {
        "id": "e7YfBhW6NAR1",
        "colab_type": "code",
        "colab": {
          "base_uri": "https://localhost:8080/",
          "height": 102
        },
        "outputId": "6306afd5-cf5b-4201-ea1e-db7a7d37cd4a"
      },
      "source": [
        "# List of column names from documentation that are meant to be categorical\n",
        "nominal_features = [\"MS SubClass\", \"MS Zoning\", \"Street\", \"Alley\", \"Land Contour\", \"Lot Config\", \"Neighborhood\", \n",
        "                    \"Condition 1\", \"Condition 2\", \"Bldg Type\", \"House Style\", \"Roof Style\", \"Roof Matl\", \"Exterior 1st\", \n",
        "                    \"Exterior 2nd\", \"Mas Vnr Type\", \"Foundation\", \"Heating\", \"Central Air\", \"Garage Type\", \n",
        "                    \"Misc Feature\", \"Sale Type\", \"Sale Condition\"]\n",
        "\n",
        "# How many unique values in each categorical column?\n",
        "uniqueness_counts = df[nominal_features].apply(lambda x: len(x.unique()))\n",
        "# Aribtrary cutoff of 10 unique values\n",
        "cutoff = 10\n",
        "cols_nonunique = uniqueness_counts[uniqueness_counts > cutoff].index.tolist()\n",
        "\n",
        "uniqueness_counts[uniqueness_counts > cutoff]"
      ],
      "execution_count": 256,
      "outputs": [
        {
          "output_type": "execute_result",
          "data": {
            "text/plain": [
              "MS SubClass     16\n",
              "Neighborhood    28\n",
              "Exterior 1st    16\n",
              "Exterior 2nd    17\n",
              "dtype: int64"
            ]
          },
          "metadata": {
            "tags": []
          },
          "execution_count": 256
        }
      ]
    },
    {
      "cell_type": "code",
      "metadata": {
        "id": "vDmfzywLNAR5",
        "colab_type": "code",
        "colab": {}
      },
      "source": [
        "# Select just the remaining text columns and convert to categorical\n",
        "text_cols = df[cols_nonunique].select_dtypes(include=['object']).columns.tolist()\n",
        "for col in text_cols:\n",
        "    df[col] = df[col].astype('category')\n",
        "    \n",
        "# Create dummy dataframe\n",
        "dummy_df = pd.get_dummies(df[text_cols])\n",
        "# Save dummy columns\n",
        "dummy_features = dummy_df.columns.tolist()\n",
        "# Add back to the original dataframe\n",
        "df = pd.concat([df, dummy_df], axis=1).drop(text_cols, axis=1)"
      ],
      "execution_count": 0,
      "outputs": []
    },
    {
      "cell_type": "markdown",
      "metadata": {
        "colab_type": "text",
        "id": "kpQPQvlPe494"
      },
      "source": [
        "## Third Test\n",
        "\n",
        "Let's test again the model after this feature selection phase."
      ]
    },
    {
      "cell_type": "code",
      "metadata": {
        "colab_type": "code",
        "outputId": "6b80853f-c728-464b-931f-b8070b941891",
        "id": "v4mjcSNde496",
        "colab": {
          "base_uri": "https://localhost:8080/",
          "height": 68
        }
      },
      "source": [
        "# Add dummy features with numeric features\n",
        "final_features = numeric_features + dummy_features\n",
        "\n",
        "# Apply the model\n",
        "rmse_result_3 = test_model(df=df, features=final_features, target=\"SalePrice\")\n",
        "\n",
        "print(\"RMSE: {:,.2f} $\".format(rmse_result_3))\n",
        "print(\"Improvement from before of {:.2f}%\".format(100*(rmse_result_2-rmse_result_3)/rmse_result_2))\n",
        "print(\"Improvement from the first test of {:.2f}%\".format(100*(rmse_result-rmse_result_3)/rmse_result))"
      ],
      "execution_count": 258,
      "outputs": [
        {
          "output_type": "stream",
          "text": [
            "RMSE: 30,823.53 $\n",
            "Improvement from before of 1.73%\n",
            "Improvement from the first test of 16.75%\n"
          ],
          "name": "stdout"
        }
      ]
    },
    {
      "cell_type": "markdown",
      "metadata": {
        "colab_type": "text",
        "id": "wu6s0AVae49-"
      },
      "source": [
        "There was another improvement of about 2% on the RMSE value after this feature selection phase."
      ]
    },
    {
      "cell_type": "markdown",
      "metadata": {
        "id": "J5CJAc7TjCCN",
        "colab_type": "text"
      },
      "source": [
        "# Conclusion\n",
        "\n",
        "In this project, I build a linear regressor to predict the house prices. The whole data preprocessing phase improved the RMSE score of the last model about 17% from the first one.\n",
        "\n",
        "The final RMSE value of 30,823\\$ is a really good result compared to the range of values of `SalePrice` column."
      ]
    }
  ]
}