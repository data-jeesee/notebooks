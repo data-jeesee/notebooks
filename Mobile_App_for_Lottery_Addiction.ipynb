{
  "nbformat": 4,
  "nbformat_minor": 0,
  "metadata": {
    "colab": {
      "name": "Mobile App for Lottery Addiction",
      "provenance": [],
      "authorship_tag": "ABX9TyOT4Ek/zoapLpQwUZqTvSay"
    },
    "kernelspec": {
      "name": "python3",
      "display_name": "Python 3"
    }
  },
  "cells": [
    {
      "cell_type": "markdown",
      "metadata": {
        "id": "pPhJclX3m6m0",
        "colab_type": "text"
      },
      "source": [
        "# Mobile App for Lottery Addiction\n",
        "\n",
        "In this project, I'll contribute to the development of a mobile app that is meant to help lottery addicts better estimate their chances of winning.\n",
        "\n",
        "Many people start playing the lottery for fun, but for some this activity turns into a habit which eventually escalates into addiction. Like other compulsive gamblers, lottery addicts soon begin spending from their savings and loans, they start to accumulate debts, and eventually engage in desperate behaviors like theft.\n",
        "\n",
        "A medical institute that aims to prevent and treat gambling addictions wants to build a dedicated mobile app to help lottery addicts better estimate their chances of winning. The institute has a team of engineers that will build the app, but they need me to create the logical core of the app and calculate probabilities.\n",
        "\n",
        "For the first version of the app, they want me to focus on the [6/49 lottery](https://en.wikipedia.org/wiki/Lotto_6/49) and build functions that enable users to answer questions like:\n",
        "\n",
        "- What is the probability of winning the big prize with a single ticket?\n",
        "- What is the probability of winning the big prize if we play 40 different tickets (or any other number)?\n",
        "- What is the probability of having at least five (or four, or three, or two) winning numbers on a single ticket?\n",
        "\n",
        "The institute also wants me to consider historical data coming from the national 6/49 lottery game in Canada. The data set has data for 3,665 drawings, dating from 1982 to 2018.\n",
        "\n",
        "The scenario I'm following throughout this project is fictional."
      ]
    },
    {
      "cell_type": "markdown",
      "metadata": {
        "id": "VDiLRBjVo-EY",
        "colab_type": "text"
      },
      "source": [
        "## Main functions\n",
        "\n",
        "Throughout the project, I'll need to calculate repeatedly probabilities and combinations. As a consequence, I'll start by writing two functions that I'll use often:\n",
        "\n",
        "- `factorial()`: a function that calculates factorials\n",
        "- `combinations()`: a function that calculates combinations\n",
        "\n",
        "Let's start coding the two functions."
      ]
    },
    {
      "cell_type": "code",
      "metadata": {
        "id": "6nSzj15rmzbJ",
        "colab_type": "code",
        "colab": {}
      },
      "source": [
        "# Factorial\n",
        "def factorial(n):\n",
        "  if (n == 0) or (n == 1):\n",
        "      return 1\n",
        "  elif n > 1:\n",
        "      return n*factorial(n-1)\n",
        "  else:\n",
        "      return \"ERROR - negative number\"\n",
        "\n",
        "# Combinations\n",
        "def combinations(n, k):\n",
        "  numerator = factorial(n)\n",
        "  denominator = factorial(k) * factorial(n-k)\n",
        "  return numerator/denominator"
      ],
      "execution_count": 0,
      "outputs": []
    },
    {
      "cell_type": "markdown",
      "metadata": {
        "id": "X7AkLrx7qnMR",
        "colab_type": "text"
      },
      "source": [
        "# Probability of Winning the Big Prize with a Single Ticket\n",
        "\n",
        "Let's focus on writing a function `one_ticket_probability()` that calculates the probability of winning the big prize.\n",
        "\n",
        "In the 6/49 lottery, six numbers are drawn from a set of 49 numbers that range from 1 to 49. A player wins the big prize if the six numbers on their tickets match all the six numbers drawn. If a player has a ticket with the numbers {13, 22, 24, 27, 42, 44}, he only wins the big prize if the numbers drawn are {13, 22, 24, 27, 42, 44}. If only one number differs, he doesn't win.\n",
        "\n",
        "For the first version of the app, I want players to be able to calculate the probability of winning the big prize with the various numbers they play on a single ticket (for each ticket a player chooses six numbers out of 49). So, I'll start by building a function that calculates the probability of winning the big prize for any given ticket.\n",
        "\n",
        "I discussed with the engineering team of the medical institute, and they told me that I need to be aware of the following details when I write the function:\n",
        "\n",
        "- Inside the app, the user inputs six different numbers from 1 to 49.\n",
        "- Under the hood, the six numbers will come as a Python list, which will serve as the single input to the function.\n",
        "- The engineering team wants the function to print the probability value in a friendly way — in a way that people without any probability training are able to understand.\n"
      ]
    },
    {
      "cell_type": "code",
      "metadata": {
        "id": "TRkO0l5MsDRH",
        "colab_type": "code",
        "colab": {}
      },
      "source": [
        "def one_ticket_probability(number_list):\n",
        "  n_combinations = combinations(49, 6)\n",
        "  percentage_prob = 100 / n_combinations\n",
        "\n",
        "  print('''Your chances to win the big prize with the numbers {} are {:.6f}%. \n",
        "  In other words, you have a 1 in {:,} chances to win.'''.format(number_list, percentage_prob, int(n_combinations)))"
      ],
      "execution_count": 0,
      "outputs": []
    },
    {
      "cell_type": "code",
      "metadata": {
        "id": "G63fCFlzmuRi",
        "colab_type": "code",
        "outputId": "1bcd1964-664d-47e3-dfb9-55ac848af18c",
        "colab": {
          "base_uri": "https://localhost:8080/",
          "height": 51
        }
      },
      "source": [
        "test_input = [2, 43, 22, 23, 11, 5]\n",
        "one_ticket_probability(test_input)"
      ],
      "execution_count": 44,
      "outputs": [
        {
          "output_type": "stream",
          "text": [
            "Your chances to win the big prize with the numbers [2, 43, 22, 23, 11, 5] are 0.000007%. \n",
            "  In other words, you have a 1 in 13,983,816 chances to win.\n"
          ],
          "name": "stdout"
        }
      ]
    },
    {
      "cell_type": "markdown",
      "metadata": {
        "id": "F00zS_iMtgZU",
        "colab_type": "text"
      },
      "source": [
        "# Compare Ticket Against Historical Lottery Data\n",
        "\n",
        "\n",
        "For the first version of the app, however, users should also be able to compare their ticket against the historical lottery data in Canada and determine whether they would have ever won by now.\n",
        "\n",
        "Now I'll focus on exploring the historical data coming from the Canada 6/49 lottery. The data set can be downloaded from [Kaggle](https://www.kaggle.com/datascienceai/lottery-dataset) and it has the following structure:"
      ]
    },
    {
      "cell_type": "code",
      "metadata": {
        "id": "3whgf0FFmuRq",
        "colab_type": "code",
        "outputId": "d3f9514d-a5bf-4e3e-f3c3-1a483b77670f",
        "colab": {
          "base_uri": "https://localhost:8080/",
          "height": 34
        }
      },
      "source": [
        "# Import Libraries\n",
        "import pandas as pd\n",
        "\n",
        "lottery_canada = pd.read_csv('649.csv')\n",
        "lottery_canada.shape"
      ],
      "execution_count": 45,
      "outputs": [
        {
          "output_type": "execute_result",
          "data": {
            "text/plain": [
              "(3665, 11)"
            ]
          },
          "metadata": {
            "tags": []
          },
          "execution_count": 45
        }
      ]
    },
    {
      "cell_type": "code",
      "metadata": {
        "id": "bTYBEYYomuRu",
        "colab_type": "code",
        "outputId": "53b32977-ade0-406d-aae5-7ca1e647f547",
        "colab": {
          "base_uri": "https://localhost:8080/",
          "height": 142
        }
      },
      "source": [
        "lottery_canada.head(3)"
      ],
      "execution_count": 46,
      "outputs": [
        {
          "output_type": "execute_result",
          "data": {
            "text/html": [
              "<div>\n",
              "<style scoped>\n",
              "    .dataframe tbody tr th:only-of-type {\n",
              "        vertical-align: middle;\n",
              "    }\n",
              "\n",
              "    .dataframe tbody tr th {\n",
              "        vertical-align: top;\n",
              "    }\n",
              "\n",
              "    .dataframe thead th {\n",
              "        text-align: right;\n",
              "    }\n",
              "</style>\n",
              "<table border=\"1\" class=\"dataframe\">\n",
              "  <thead>\n",
              "    <tr style=\"text-align: right;\">\n",
              "      <th></th>\n",
              "      <th>PRODUCT</th>\n",
              "      <th>DRAW NUMBER</th>\n",
              "      <th>SEQUENCE NUMBER</th>\n",
              "      <th>DRAW DATE</th>\n",
              "      <th>NUMBER DRAWN 1</th>\n",
              "      <th>NUMBER DRAWN 2</th>\n",
              "      <th>NUMBER DRAWN 3</th>\n",
              "      <th>NUMBER DRAWN 4</th>\n",
              "      <th>NUMBER DRAWN 5</th>\n",
              "      <th>NUMBER DRAWN 6</th>\n",
              "      <th>BONUS NUMBER</th>\n",
              "    </tr>\n",
              "  </thead>\n",
              "  <tbody>\n",
              "    <tr>\n",
              "      <th>0</th>\n",
              "      <td>649</td>\n",
              "      <td>1</td>\n",
              "      <td>0</td>\n",
              "      <td>6/12/1982</td>\n",
              "      <td>3</td>\n",
              "      <td>11</td>\n",
              "      <td>12</td>\n",
              "      <td>14</td>\n",
              "      <td>41</td>\n",
              "      <td>43</td>\n",
              "      <td>13</td>\n",
              "    </tr>\n",
              "    <tr>\n",
              "      <th>1</th>\n",
              "      <td>649</td>\n",
              "      <td>2</td>\n",
              "      <td>0</td>\n",
              "      <td>6/19/1982</td>\n",
              "      <td>8</td>\n",
              "      <td>33</td>\n",
              "      <td>36</td>\n",
              "      <td>37</td>\n",
              "      <td>39</td>\n",
              "      <td>41</td>\n",
              "      <td>9</td>\n",
              "    </tr>\n",
              "    <tr>\n",
              "      <th>2</th>\n",
              "      <td>649</td>\n",
              "      <td>3</td>\n",
              "      <td>0</td>\n",
              "      <td>6/26/1982</td>\n",
              "      <td>1</td>\n",
              "      <td>6</td>\n",
              "      <td>23</td>\n",
              "      <td>24</td>\n",
              "      <td>27</td>\n",
              "      <td>39</td>\n",
              "      <td>34</td>\n",
              "    </tr>\n",
              "  </tbody>\n",
              "</table>\n",
              "</div>"
            ],
            "text/plain": [
              "   PRODUCT  DRAW NUMBER  ...  NUMBER DRAWN 6 BONUS NUMBER\n",
              "0      649            1  ...              43           13\n",
              "1      649            2  ...              41            9\n",
              "2      649            3  ...              39           34\n",
              "\n",
              "[3 rows x 11 columns]"
            ]
          },
          "metadata": {
            "tags": []
          },
          "execution_count": 46
        }
      ]
    },
    {
      "cell_type": "markdown",
      "metadata": {
        "id": "be1rJvyouSFC",
        "colab_type": "text"
      },
      "source": [
        "The data set contains historical data for 3,665 drawings (each row shows data for a single drawing), dating from 1982 to 2018. For each drawing, there are the six numbers drawn in the following six columns:\n",
        "\n",
        "- `NUMBER DRAWN 1`\n",
        "- `NUMBER DRAWN 2`\n",
        "- `NUMBER DRAWN 3`\n",
        "- `NUMBER DRAWN 4`\n",
        "- `NUMBER DRAWN 5`\n",
        "- `NUMBER DRAWN 6`"
      ]
    },
    {
      "cell_type": "markdown",
      "metadata": {
        "id": "HYgCV8Rmuxsw",
        "colab_type": "text"
      },
      "source": [
        "## Create the Function for the Comparison\n",
        "\n",
        "Now I'm going to write a function that will enable users to compare their ticket against the historical lottery data in Canada and determine whether they would have ever won by now.\n",
        "\n",
        "The engineering team told me that I need to be aware of the following details:\n",
        "\n",
        "- Inside the app, the user inputs six different numbers from 1 to 49.\n",
        "- Under the hood, the six numbers will come as a Python list and serve as an input to the function.\n",
        "- The engineering team wants me to write a function that prints:\n",
        "    - the number of times the combination selected occurred in the Canada data set;\n",
        "    - the probability of winning the big prize in the next drawing with that combination."
      ]
    },
    {
      "cell_type": "code",
      "metadata": {
        "id": "W1meT4fxvlzS",
        "colab_type": "code",
        "colab": {}
      },
      "source": [
        "def count_historical_occurrence(number_list, historical_numbers):\n",
        "  # generate a single column grouping all values in a set per every row\n",
        "  single_column = pd.Series(historical_numbers.values.tolist()).apply(set)\n",
        "\n",
        "  # check when there are matches\n",
        "  matches = single_column == set(number_list)\n",
        "\n",
        "  # count the matches\n",
        "  matches_count = matches.sum()\n",
        "\n",
        "  # output\n",
        "  if matches_count == 0:\n",
        "    print(\"The combination {} has never occured. This doesn't mean it's more likely to occur now.\".format(number_list))\n",
        "    one_ticket_probability(number_list)\n",
        "        \n",
        "  else:\n",
        "    print(\"The number of times combination {} has occured in the past is {}.\".format(number_list, matches_count))\n",
        "    one_ticket_probability(number_list)\n"
      ],
      "execution_count": 0,
      "outputs": []
    },
    {
      "cell_type": "code",
      "metadata": {
        "id": "NlWbXNpgmuR7",
        "colab_type": "code",
        "outputId": "dcb6f75b-e0af-412f-b9b5-8e9f4df395a5",
        "colab": {
          "base_uri": "https://localhost:8080/",
          "height": 68
        }
      },
      "source": [
        "test_input = [33, 36, 37, 39, 8, 41]\n",
        "\n",
        "count_historical_occurrence(test_input, lottery_canada.iloc[:, 4:10])"
      ],
      "execution_count": 48,
      "outputs": [
        {
          "output_type": "stream",
          "text": [
            "The number of times combination [33, 36, 37, 39, 8, 41] has occured in the past is 1.\n",
            "Your chances to win the big prize with the numbers [33, 36, 37, 39, 8, 41] are 0.000007%. \n",
            "  In other words, you have a 1 in 13,983,816 chances to win.\n"
          ],
          "name": "stdout"
        }
      ]
    },
    {
      "cell_type": "markdown",
      "metadata": {
        "id": "Z_h2s3Ki92j6",
        "colab_type": "text"
      },
      "source": [
        "# Probability of Winning the Big Prize with Multiple Tickets\n",
        "\n",
        "Lottery addicts usually play more than one ticket on a single drawing, thinking that this might increase their chances of winning significantly. The goal here is to help them better estimate their chances of winning. Now, I'm going to write the function `multi_ticket_probability()` that will allow the users to calculate the chances of winning for any number of different tickets.\n",
        "\n",
        "I've talked with the engineering team and they gave me the following information:\n",
        "\n",
        "- The user will input the number of different tickets they want to play (without inputting the specific combinations they intend to play).\n",
        "- The function will see an integer between 1 and 13,983,816 (the maximum number of different tickets).\n",
        "- The function should print information about the probability of winning the big prize depending on the number of different tickets played.\n",
        "\n",
        "Let's now start writing this function."
      ]
    },
    {
      "cell_type": "code",
      "metadata": {
        "id": "xdIgL315-eq0",
        "colab_type": "code",
        "colab": {}
      },
      "source": [
        "def multi_ticket_probability(n_tickets):\n",
        "    \n",
        "    n_combinations = combinations(49, 6)\n",
        "    \n",
        "    percentage_prob = 100 * n_tickets / n_combinations\n",
        "    \n",
        "    if n_tickets == 1:\n",
        "        print('''Your chances to win the big prize with one ticket are {:.6f}%.\n",
        "In other words, you have a 1 in {:,} chances to win.'''.format(percentage_prob, int(n_combinations)))\n",
        "    \n",
        "    else:\n",
        "        print('''Your chances to win the big prize with {:,} different tickets are {:.6f}%.\n",
        "In other words, you have a 1 in {:,} chances to win.'''.format(n_tickets, percentage_prob,\n",
        "                                                               round(n_combinations / n_tickets)))"
      ],
      "execution_count": 0,
      "outputs": []
    },
    {
      "cell_type": "code",
      "metadata": {
        "id": "5UQeUTpimuSF",
        "colab_type": "code",
        "outputId": "e5a920c2-251d-423e-9310-32475f0cc171",
        "colab": {
          "base_uri": "https://localhost:8080/",
          "height": 374
        }
      },
      "source": [
        "test_inputs = [1, 10, 100, 10000, 1000000, 6991908, 13983816]\n",
        "\n",
        "for test_input in test_inputs:\n",
        "    multi_ticket_probability(test_input)\n",
        "    print('------------------------')"
      ],
      "execution_count": 50,
      "outputs": [
        {
          "output_type": "stream",
          "text": [
            "Your chances to win the big prize with one ticket are 0.000007%.\n",
            "In other words, you have a 1 in 13,983,816 chances to win.\n",
            "------------------------\n",
            "Your chances to win the big prize with 10 different tickets are 0.000072%.\n",
            "In other words, you have a 1 in 1,398,382 chances to win.\n",
            "------------------------\n",
            "Your chances to win the big prize with 100 different tickets are 0.000715%.\n",
            "In other words, you have a 1 in 139,838 chances to win.\n",
            "------------------------\n",
            "Your chances to win the big prize with 10,000 different tickets are 0.071511%.\n",
            "In other words, you have a 1 in 1,398 chances to win.\n",
            "------------------------\n",
            "Your chances to win the big prize with 1,000,000 different tickets are 7.151124%.\n",
            "In other words, you have a 1 in 14 chances to win.\n",
            "------------------------\n",
            "Your chances to win the big prize with 6,991,908 different tickets are 50.000000%.\n",
            "In other words, you have a 1 in 2 chances to win.\n",
            "------------------------\n",
            "Your chances to win the big prize with 13,983,816 different tickets are 100.000000%.\n",
            "In other words, you have a 1 in 1 chances to win.\n",
            "------------------------\n"
          ],
          "name": "stdout"
        }
      ]
    },
    {
      "cell_type": "markdown",
      "metadata": {
        "id": "H4ddVb-AATjG",
        "colab_type": "text"
      },
      "source": [
        "# Probability of Winning with Less Numbers\n",
        "\n",
        "Now I'm going to write one more function to allow the users to calculate probabilities for two, three, four, or five winning numbers.\n",
        "\n",
        "In most 6/49 lotteries there are smaller prizes if a player's ticket match two, three, four, or five of the six numbers drawn. As a consequence, the users might be interested in knowing the probability of having two, three, four, or five winning numbers.\n",
        "\n",
        "These are the engineering details I'll need to be aware of:\n",
        "\n",
        "- Inside the app, the user inputs:\n",
        "    - six different numbers from 1 to 49;\n",
        "    - an integer between 2 and 5 that represents the number of winning numbers expected.\n",
        "- Our function prints information about the probability of having the inputted number of winning numbers.\n",
        "\n",
        "Let's write the function `one_ticket_probability_less_6()` that calculates the probability of having *exactly* the given number of winning numbers."
      ]
    },
    {
      "cell_type": "code",
      "metadata": {
        "id": "TL94Ah2EYc1W",
        "colab_type": "code",
        "colab": {}
      },
      "source": [
        "def one_ticket_probability_less_6(number_list, winning_n):\n",
        "  # winning numbers over 6 elements\n",
        "  winning_numbers = combinations(6, winning_n)\n",
        "\n",
        "  #remaining numbers over 6 elements\n",
        "  remaining_numbers = combinations(43, 6-winning_n)\n",
        "\n",
        "  # total combinations\n",
        "  total_combinations = combinations(49, 6)\n",
        "\n",
        "  # final percentage probability\n",
        "  percentage_prob = 100 * winning_numbers * remaining_numbers / total_combinations\n",
        "\n",
        "  print('''Your chances of having {} winning numbers with this ticket are {:.6f}%.\n",
        "In other words, you have a 1 in {:,} chances to win.'''.format(winning_n, percentage_prob, int(total_combinations/(winning_numbers*remaining_numbers))))"
      ],
      "execution_count": 0,
      "outputs": []
    },
    {
      "cell_type": "code",
      "metadata": {
        "id": "vb0xthpVmuSQ",
        "colab_type": "code",
        "outputId": "252a2ca7-893d-45a2-d443-69d88ef1c66b",
        "colab": {
          "base_uri": "https://localhost:8080/",
          "height": 221
        }
      },
      "source": [
        "test_input = [33, 36, 37, 39, 8, 41]\n",
        "\n",
        "for test_number in [2, 3, 4, 5]:\n",
        "    one_ticket_probability_less_6(test_input, test_number)\n",
        "    print('--------------------------')"
      ],
      "execution_count": 52,
      "outputs": [
        {
          "output_type": "stream",
          "text": [
            "Your chances of having 2 winning numbers with this ticket are 13.237803%.\n",
            "In other words, you have a 1 in 7 chances to win.\n",
            "--------------------------\n",
            "Your chances of having 3 winning numbers with this ticket are 1.765040%.\n",
            "In other words, you have a 1 in 56 chances to win.\n",
            "--------------------------\n",
            "Your chances of having 4 winning numbers with this ticket are 0.096862%.\n",
            "In other words, you have a 1 in 1,032 chances to win.\n",
            "--------------------------\n",
            "Your chances of having 5 winning numbers with this ticket are 0.001845%.\n",
            "In other words, you have a 1 in 54,200 chances to win.\n",
            "--------------------------\n"
          ],
          "name": "stdout"
        }
      ]
    },
    {
      "cell_type": "markdown",
      "metadata": {
        "id": "NsY2fGHZcl7k",
        "colab_type": "text"
      },
      "source": [
        "# Conclusion\n",
        "\n",
        "I have finally achieved the main goals in this project.\n",
        "\n",
        "Possible features for a second version of the app include:\n",
        "\n",
        "- Making the outputs even easier to understand by adding fun analogies (for example, I can find probabilities for strange events and compare with the chances of winning in lottery; for instance, I can output something along the lines \"You are 100 times more likely to be the victim of a shark attack than winning the lottery\")\n",
        "- Combining the `one_ticket_probability()`  and `count_historical_occurrence()` to output information on probability and historical occurrence at the same time\n",
        "- Create a function similar to `one_ticket_probability_less_6()` which calculates the probability of having _at least_ two, three, four or five winning numbers."
      ]
    }
  ]
}