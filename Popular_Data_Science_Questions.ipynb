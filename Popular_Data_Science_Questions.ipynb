{
  "nbformat": 4,
  "nbformat_minor": 0,
  "metadata": {
    "colab": {
      "name": "Popular Data Science Questions",
      "provenance": [],
      "toc_visible": true,
      "authorship_tag": "ABX9TyNXRO95sijGzzO2fcl9pS0L"
    },
    "kernelspec": {
      "name": "python3",
      "display_name": "Python 3"
    }
  },
  "cells": [
    {
      "cell_type": "markdown",
      "metadata": {
        "id": "JZ_VUZFMRozf",
        "colab_type": "text"
      },
      "source": [
        "# Popular Data Science Questions\n",
        "\n",
        "In this project, let's assume that I'm working for a company that creates data science content, be it books, online articles, videos or interactive text-based platforms.\n",
        "\n",
        "I'm tasked with figuring out what is best content to write about. So, I decide to scower the internet in search for the answer to the question \"What is it that people want to learn about in data science?\".\n",
        "\n",
        "Thinking back to my experience when I first started learning programming, it occurs to me that if I wanted to figure out what programming content to write, I could consult [Stack Overflow](https://stackoverflow.com/) (a question and answer website about programming) and see what kind of content is more popular.\n",
        "\n",
        "You decide to investigate Stack Overflow a little more and find out that it is part of a question and answer website network called [Stack Exchange](https://en.wikipedia.org/wiki/Stack_Exchange)."
      ]
    },
    {
      "cell_type": "markdown",
      "metadata": {
        "id": "teh_nd_AUoOC",
        "colab_type": "text"
      },
      "source": [
        "## Stack Exchange \n",
        "\n",
        "Stack Exchange hosts sites on a multitude of fields and subjects, including mathematics, physics, philosophy, and [data science](https://datascience.stackexchange.com/)!\n",
        "\n",
        "Stack Exchange employs a reputation award system for its questions and answers. Each post — each question/answer — is a post that is subject to upvotes and downvotes. This ensures that good posts are easily identifiable.\n",
        "\n",
        "If you open [this link](https://stackexchange.com/sites?view=list#percentanswered), you'll find a complete list of Stack Exchange websites sorted by percentage of questions that received answers. At the time of this writing, Data Science Stack Exchange (DSSE) is on the bottom 10 sites with respect to this metric.\n",
        "\n",
        "The fact that DSSE is a data science dedicated site (contrarily to the others), coupled with it having a lot of an unanswered questions, makes it an ideal candidate for this investigation. DSSE will be the focus of this guided project.\n",
        "\n",
        "The tagging system used by Stack Exchange looks just like what I need to solve this problem as it allow me to quantify how many questions are asked about each subject.\n",
        "\n"
      ]
    },
    {
      "cell_type": "markdown",
      "metadata": {
        "id": "yXkShBj_W0Jx",
        "colab_type": "text"
      },
      "source": [
        "### What information is available in each post?\n",
        "\n",
        "Looking, just as an example, at [this](https://datascience.stackexchange.com/questions/19141/linear-model-to-generate-probability-of-each-possible-output?rq=1) question, some of the information we see is:\n",
        "\n",
        "* For both questions and answers:\n",
        "    * The posts's score;\n",
        "    * The posts's title;\n",
        "    * The posts's author;\n",
        "    * The posts's body;\n",
        "* For questions only:\n",
        "    * The last time the question as active;\n",
        "    * How many times the question was viewed;\n",
        "    * Related questions;\n",
        "    * The question's tags;"
      ]
    },
    {
      "cell_type": "markdown",
      "metadata": {
        "id": "rFRCpgtDRdVP",
        "colab_type": "text"
      },
      "source": [
        "## Stack Exchange Data Explorer\n",
        "\n",
        "Perusing the table names, a few stand out as relevant for the goal:\n",
        "\n",
        "* Posts\n",
        "* PostTags\n",
        "* Tags\n",
        "* TagSynonyms\n",
        "\n",
        "Running a few exploratory queries, leads me to focus my effort on `Posts` table. For examples, the `Tags` table looked very promising as it tells me how many times each tag was used, but there's no way to tell just from this if the interest in these tags is recent or a thing from the past.\n",
        "\n",
        "\n",
        "<table>\n",
        "  <tr>\n",
        "    <th>Id</th>\n",
        "    <th>TagName</th>\n",
        "    <th>Count</th>\n",
        "    <th>ExcerptPostId</th>\n",
        "    <th>WikiPostId</th>\n",
        "  </tr>\n",
        "  <tr>\n",
        "    <td>2</td>\n",
        "    <td>machine-learning</td>\n",
        "    <td>6919</td>\n",
        "    <td>4909</td>\n",
        "    <td>4908</td>\n",
        "  </tr>\n",
        "  <tr>\n",
        "    <td>46</td>\n",
        "    <td>python</td>\n",
        "    <td>3907</td>\n",
        "    <td>5523</td>\n",
        "    <td>5522</td>\n",
        "  </tr>\n",
        "  <tr>\n",
        "    <td>81</td>\n",
        "    <td>neural-network</td>\n",
        "    <td>2923</td>\n",
        "    <td>8885</td>\n",
        "    <td>8884</td>\n",
        "  </tr>\n",
        "  <tr>\n",
        "    <td>194</td>\n",
        "    <td>deep-learning</td>\n",
        "    <td>2786</td>\n",
        "    <td>8956</td>\n",
        "    <td>8955</td>\n",
        "  </tr>\n",
        "  <tr>\n",
        "    <td>77</td>\n",
        "    <td>classification</td>\n",
        "    <td>1899</td>\n",
        "    <td>4911</td>\n",
        "    <td>4910</td>\n",
        "  </tr>\n",
        "</table>"
      ]
    },
    {
      "cell_type": "markdown",
      "metadata": {
        "id": "rZT2SZ2WZPvp",
        "colab_type": "text"
      },
      "source": [
        "The posts table has a lot of columns. I'll be focusing the attention on those that seem relevant towards the goal:\n",
        "\n",
        "- `Id`: An identification number for the post.\n",
        "- `PostTypeId`: An identification number for the type of post.\n",
        "- `CreationDate`: The date and time of creation of the post.\n",
        "- `Score`: The post's score.\n",
        "- `ViewCount`: How many times the post was viewed.\n",
        "- `Tags`: What tags were used.\n",
        "- `AnswerCount`: How many answers the question got (only applicable to question posts).\n",
        "-`FavoriteCount`: How many times the question was favored (only applicable to question posts).\n",
        "\n",
        "The last few columns contain information about how popular the post is — the kind of information I'm after.\n",
        "\n",
        "Anything that isn't questions or answers is mostly inconsequential. Even if it happens to be the case that such kind of posts is immensely popular, they would just be outliers and not relevant to me. I'll then just focus on the questions.\n",
        "\n",
        "Since I'm only interested in recent posts, I'll limit my analysis to the posts of 2019."
      ]
    },
    {
      "cell_type": "markdown",
      "metadata": {
        "id": "2Z_tvc-pRdVQ",
        "colab_type": "text"
      },
      "source": [
        "## Getting the Data\n",
        "\n",
        "To get the relevant data I run the following query.\n",
        "\n",
        "```\n",
        "SELECT Id, CreationDate,\n",
        "       Score, ViewCount, Tags,\n",
        "       AnswerCount, FavoriteCount\n",
        "  FROM posts\n",
        " WHERE PostTypeId = 1 AND YEAR(CreationDate) = 2019;\n",
        "```\n",
        "The result of the query was stored in a file called `2019_questions.csv`.\n",
        "Here's what the first few rows look like:\n",
        "\n",
        "<table>\n",
        "  <tr>\n",
        "    <th>Id</th>\n",
        "    <th>PostTypeId</th>\n",
        "    <th>CreationDate</th>\n",
        "    <th>Score</th>\n",
        "    <th>ViewCount</th>\n",
        "    <th>Tags</th>\n",
        "    <th>AnswerCount</th>\n",
        "    <th>FavoriteCount</th>\n",
        "  </tr>\n",
        "  <tr>\n",
        "    <td>44419</td>\n",
        "    <td>1</td>\n",
        "    <td>2019-01-23 09:21:13</td>\n",
        "    <td>1</td>\n",
        "    <td>21</td>\n",
        "    <td>&lt;machine-learning&gt;&lt;data-mining&gt;</td>\n",
        "    <td>0</td>\n",
        "    <td></td>\n",
        "  </tr>\n",
        "  <tr>\n",
        "    <td>44420</td>\n",
        "    <td>1</td>\n",
        "    <td>2019-01-23 09:34:01</td>\n",
        "    <td>0</td>\n",
        "    <td>25</td>\n",
        "    <td>&lt;machine-learning&gt;&lt;regression&gt;&lt;linear-regression&gt;&lt;regularization&gt;</td>\n",
        "    <td>0</td>\n",
        "    <td></td>\n",
        "  </tr>\n",
        "  <tr>\n",
        "    <td>44423</td>\n",
        "    <td>1</td>\n",
        "    <td>2019-01-23 09:58:41</td>\n",
        "    <td>2</td>\n",
        "    <td>1651</td>\n",
        "    <td>&lt;python&gt;&lt;time-series&gt;&lt;forecast&gt;&lt;forecasting&gt;</td>\n",
        "    <td>0</td>\n",
        "    <td></td>\n",
        "  </tr>\n",
        "  <tr>\n",
        "    <td>44427</td>\n",
        "    <td>1</td>\n",
        "    <td>2019-01-23 10:57:09</td>\n",
        "    <td>0</td>\n",
        "    <td>55</td>\n",
        "    <td>&lt;machine-learning&gt;&lt;scikit-learn&gt;&lt;pca&gt;</td>\n",
        "    <td>1</td>\n",
        "    <td></td>\n",
        "  </tr>\n",
        "  <tr>\n",
        "    <td>44428</td>\n",
        "    <td>1</td>\n",
        "    <td>2019-01-23 11:02:15</td>\n",
        "    <td>0</td>\n",
        "    <td>19</td>\n",
        "    <td>&lt;dataset&gt;&lt;bigdata&gt;&lt;data&gt;&lt;speech-to-text&gt;</td>\n",
        "    <td>0</td>\n",
        "    <td></td>\n",
        "  </tr>\n",
        "</table>"
      ]
    },
    {
      "cell_type": "markdown",
      "metadata": {
        "id": "HphOsieGRdVR",
        "colab_type": "text"
      },
      "source": [
        "# Exploring the Data\n",
        "\n",
        "I can read in the data while immediately making sure `CreationDate` will be stored as a datetime object:"
      ]
    },
    {
      "cell_type": "code",
      "metadata": {
        "id": "e13ZOb9PRdVS",
        "colab_type": "code",
        "colab": {}
      },
      "source": [
        "# We import everything that we'll use\n",
        "\n",
        "import numpy as np\n",
        "import pandas as pd\n",
        "import matplotlib.pyplot as plt\n",
        "import seaborn as sns\n",
        "\n",
        "%matplotlib inline"
      ],
      "execution_count": 0,
      "outputs": []
    },
    {
      "cell_type": "code",
      "metadata": {
        "id": "_MmkyK6hRdVV",
        "colab_type": "code",
        "colab": {}
      },
      "source": [
        "questions = pd.read_csv(\"/content/2019_questions.csv\", parse_dates=[\"CreationDate\"])"
      ],
      "execution_count": 0,
      "outputs": []
    },
    {
      "cell_type": "markdown",
      "metadata": {
        "id": "QqfWCfJNRdVY",
        "colab_type": "text"
      },
      "source": [
        "Running [`questions.info()`](https://pandas.pydata.org/pandas-docs/stable/reference/api/pandas.DataFrame.info.html) should gives a lot of useful information."
      ]
    },
    {
      "cell_type": "code",
      "metadata": {
        "id": "eNg-P8g7RdVZ",
        "colab_type": "code",
        "outputId": "38f7d160-d5ac-4be4-e6dd-0d1d7b287910",
        "colab": {
          "base_uri": "https://localhost:8080/",
          "height": 221
        }
      },
      "source": [
        "questions.info()"
      ],
      "execution_count": 100,
      "outputs": [
        {
          "output_type": "stream",
          "text": [
            "<class 'pandas.core.frame.DataFrame'>\n",
            "RangeIndex: 8839 entries, 0 to 8838\n",
            "Data columns (total 7 columns):\n",
            "Id               8839 non-null int64\n",
            "CreationDate     8839 non-null datetime64[ns]\n",
            "Score            8839 non-null int64\n",
            "ViewCount        8839 non-null int64\n",
            "Tags             8839 non-null object\n",
            "AnswerCount      8839 non-null int64\n",
            "FavoriteCount    1407 non-null float64\n",
            "dtypes: datetime64[ns](1), float64(1), int64(4), object(1)\n",
            "memory usage: 483.5+ KB\n"
          ],
          "name": "stdout"
        }
      ]
    },
    {
      "cell_type": "markdown",
      "metadata": {
        "id": "71ghESDbRdVc",
        "colab_type": "text"
      },
      "source": [
        "It's possible to see that only `FavoriteCount` has missing values. A missing value on this column probably means that the question wasn't present in any users' favorite list, so we can replace the missing values with zero.\n",
        "\n",
        "The types seem adequate for every column, however, after I fill in the missing values on `FavoriteCount`, there is no reason to store the values as floats."
      ]
    },
    {
      "cell_type": "markdown",
      "metadata": {
        "id": "ET961sxFRdVi",
        "colab_type": "text"
      },
      "source": [
        "# Data Cleaning\n",
        "\n",
        "I'll begin by fixing `FavoriteCount`."
      ]
    },
    {
      "cell_type": "code",
      "metadata": {
        "id": "vtzyQXQ2RdVj",
        "colab_type": "code",
        "outputId": "abe9eeba-24a9-4029-d660-08b44e2c9d66",
        "colab": {
          "base_uri": "https://localhost:8080/",
          "height": 153
        }
      },
      "source": [
        "questions.fillna(value={\"FavoriteCount\": 0}, inplace=True)\n",
        "questions[\"FavoriteCount\"] = questions[\"FavoriteCount\"].astype(int)\n",
        "questions.dtypes"
      ],
      "execution_count": 101,
      "outputs": [
        {
          "output_type": "execute_result",
          "data": {
            "text/plain": [
              "Id                        int64\n",
              "CreationDate     datetime64[ns]\n",
              "Score                     int64\n",
              "ViewCount                 int64\n",
              "Tags                     object\n",
              "AnswerCount               int64\n",
              "FavoriteCount             int64\n",
              "dtype: object"
            ]
          },
          "metadata": {
            "tags": []
          },
          "execution_count": 101
        }
      ]
    },
    {
      "cell_type": "markdown",
      "metadata": {
        "id": "JmyHIBBFRdVl",
        "colab_type": "text"
      },
      "source": [
        "Let's now modify `Tags` to make it easier to work with."
      ]
    },
    {
      "cell_type": "code",
      "metadata": {
        "id": "ZHMIPcdRRdVm",
        "colab_type": "code",
        "outputId": "051aaa5b-23c5-4032-82d4-4758d3691e32",
        "colab": {
          "base_uri": "https://localhost:8080/",
          "height": 142
        }
      },
      "source": [
        "questions[\"Tags\"] = questions[\"Tags\"].str.strip(r\"[<>]\").str.split(\"><\")\n",
        "questions.sample(3)"
      ],
      "execution_count": 102,
      "outputs": [
        {
          "output_type": "execute_result",
          "data": {
            "text/html": [
              "<div>\n",
              "<style scoped>\n",
              "    .dataframe tbody tr th:only-of-type {\n",
              "        vertical-align: middle;\n",
              "    }\n",
              "\n",
              "    .dataframe tbody tr th {\n",
              "        vertical-align: top;\n",
              "    }\n",
              "\n",
              "    .dataframe thead th {\n",
              "        text-align: right;\n",
              "    }\n",
              "</style>\n",
              "<table border=\"1\" class=\"dataframe\">\n",
              "  <thead>\n",
              "    <tr style=\"text-align: right;\">\n",
              "      <th></th>\n",
              "      <th>Id</th>\n",
              "      <th>CreationDate</th>\n",
              "      <th>Score</th>\n",
              "      <th>ViewCount</th>\n",
              "      <th>Tags</th>\n",
              "      <th>AnswerCount</th>\n",
              "      <th>FavoriteCount</th>\n",
              "    </tr>\n",
              "  </thead>\n",
              "  <tbody>\n",
              "    <tr>\n",
              "      <th>6568</th>\n",
              "      <td>64304</td>\n",
              "      <td>2019-12-06 00:22:55</td>\n",
              "      <td>1</td>\n",
              "      <td>11</td>\n",
              "      <td>[efficiency]</td>\n",
              "      <td>0</td>\n",
              "      <td>0</td>\n",
              "    </tr>\n",
              "    <tr>\n",
              "      <th>2292</th>\n",
              "      <td>58413</td>\n",
              "      <td>2019-08-30 08:03:56</td>\n",
              "      <td>0</td>\n",
              "      <td>48</td>\n",
              "      <td>[python, numpy]</td>\n",
              "      <td>1</td>\n",
              "      <td>0</td>\n",
              "    </tr>\n",
              "    <tr>\n",
              "      <th>5672</th>\n",
              "      <td>51992</td>\n",
              "      <td>2019-05-15 08:12:08</td>\n",
              "      <td>0</td>\n",
              "      <td>168</td>\n",
              "      <td>[data, data-cleaning, beginner]</td>\n",
              "      <td>2</td>\n",
              "      <td>0</td>\n",
              "    </tr>\n",
              "  </tbody>\n",
              "</table>\n",
              "</div>"
            ],
            "text/plain": [
              "         Id        CreationDate  ...  AnswerCount  FavoriteCount\n",
              "6568  64304 2019-12-06 00:22:55  ...            0              0\n",
              "2292  58413 2019-08-30 08:03:56  ...            1              0\n",
              "5672  51992 2019-05-15 08:12:08  ...            2              0\n",
              "\n",
              "[3 rows x 7 columns]"
            ]
          },
          "metadata": {
            "tags": []
          },
          "execution_count": 102
        }
      ]
    },
    {
      "cell_type": "markdown",
      "metadata": {
        "id": "LluZEGGX05B5",
        "colab_type": "text"
      },
      "source": [
        "# Data Analysis"
      ]
    },
    {
      "cell_type": "markdown",
      "metadata": {
        "id": "cWgSvvDmRdVp",
        "colab_type": "text"
      },
      "source": [
        "## Most Used and Most Viewed `Tags`\n",
        "\n",
        "I'll begin by creating a dataframe of all the tags to store how many times each tag was used and its post viewed."
      ]
    },
    {
      "cell_type": "code",
      "metadata": {
        "id": "gdjg33Ly43cO",
        "colab_type": "code",
        "colab": {
          "base_uri": "https://localhost:8080/",
          "height": 204
        },
        "outputId": "36e6f975-958a-4c34-d96a-c77817118053"
      },
      "source": [
        "# Select all the Tags\n",
        "all_tags = set(questions[\"Tags\"].sum())\n",
        "\n",
        "# Create the dataframe\n",
        "df_tag = pd.DataFrame(0, index=all_tags, columns=[\"Count\", \"ViewCount\"])\n",
        "\n",
        "df_tag.head()"
      ],
      "execution_count": 103,
      "outputs": [
        {
          "output_type": "execute_result",
          "data": {
            "text/html": [
              "<div>\n",
              "<style scoped>\n",
              "    .dataframe tbody tr th:only-of-type {\n",
              "        vertical-align: middle;\n",
              "    }\n",
              "\n",
              "    .dataframe tbody tr th {\n",
              "        vertical-align: top;\n",
              "    }\n",
              "\n",
              "    .dataframe thead th {\n",
              "        text-align: right;\n",
              "    }\n",
              "</style>\n",
              "<table border=\"1\" class=\"dataframe\">\n",
              "  <thead>\n",
              "    <tr style=\"text-align: right;\">\n",
              "      <th></th>\n",
              "      <th>Count</th>\n",
              "      <th>ViewCount</th>\n",
              "    </tr>\n",
              "  </thead>\n",
              "  <tbody>\n",
              "    <tr>\n",
              "      <th>gradient-descent</th>\n",
              "      <td>0</td>\n",
              "      <td>0</td>\n",
              "    </tr>\n",
              "    <tr>\n",
              "      <th>allennlp</th>\n",
              "      <td>0</td>\n",
              "      <td>0</td>\n",
              "    </tr>\n",
              "    <tr>\n",
              "      <th>distributed</th>\n",
              "      <td>0</td>\n",
              "      <td>0</td>\n",
              "    </tr>\n",
              "    <tr>\n",
              "      <th>dialog-flow</th>\n",
              "      <td>0</td>\n",
              "      <td>0</td>\n",
              "    </tr>\n",
              "    <tr>\n",
              "      <th>parquet</th>\n",
              "      <td>0</td>\n",
              "      <td>0</td>\n",
              "    </tr>\n",
              "  </tbody>\n",
              "</table>\n",
              "</div>"
            ],
            "text/plain": [
              "                  Count  ViewCount\n",
              "gradient-descent      0          0\n",
              "allennlp              0          0\n",
              "distributed           0          0\n",
              "dialog-flow           0          0\n",
              "parquet               0          0"
            ]
          },
          "metadata": {
            "tags": []
          },
          "execution_count": 103
        }
      ]
    },
    {
      "cell_type": "markdown",
      "metadata": {
        "id": "VdzzpaYX7Syo",
        "colab_type": "text"
      },
      "source": [
        "Now I need to create a function that will be useful to extract how many times each tag was used and its post viewed from the `questions` dataframe.\n",
        "\n"
      ]
    },
    {
      "cell_type": "code",
      "metadata": {
        "id": "FdIi6zAC7N3U",
        "colab_type": "code",
        "colab": {}
      },
      "source": [
        "def extract_count(row):\n",
        "  # Take the index of the row\n",
        "  idx = row.name\n",
        "\n",
        "  for i in row[\"Tags\"]:\n",
        "    df_tag.loc[i, \"Count\"] += 1\n",
        "    df_tag.loc[i, \"ViewCount\"] += questions.loc[idx, \"ViewCount\"]"
      ],
      "execution_count": 0,
      "outputs": []
    },
    {
      "cell_type": "markdown",
      "metadata": {
        "id": "PuTloj1a8h7b",
        "colab_type": "text"
      },
      "source": [
        "Let's apply `extract_count` function to fill the dataframe."
      ]
    },
    {
      "cell_type": "code",
      "metadata": {
        "id": "Ycow2k1v8r1P",
        "colab_type": "code",
        "colab": {
          "base_uri": "https://localhost:8080/",
          "height": 359
        },
        "outputId": "1cfc3f7c-10eb-481f-e9c4-c651fbaaa4f8"
      },
      "source": [
        "questions.apply(extract_count, axis=1)\n",
        "\n",
        "df_tag.head(10)"
      ],
      "execution_count": 105,
      "outputs": [
        {
          "output_type": "execute_result",
          "data": {
            "text/html": [
              "<div>\n",
              "<style scoped>\n",
              "    .dataframe tbody tr th:only-of-type {\n",
              "        vertical-align: middle;\n",
              "    }\n",
              "\n",
              "    .dataframe tbody tr th {\n",
              "        vertical-align: top;\n",
              "    }\n",
              "\n",
              "    .dataframe thead th {\n",
              "        text-align: right;\n",
              "    }\n",
              "</style>\n",
              "<table border=\"1\" class=\"dataframe\">\n",
              "  <thead>\n",
              "    <tr style=\"text-align: right;\">\n",
              "      <th></th>\n",
              "      <th>Count</th>\n",
              "      <th>ViewCount</th>\n",
              "    </tr>\n",
              "  </thead>\n",
              "  <tbody>\n",
              "    <tr>\n",
              "      <th>gradient-descent</th>\n",
              "      <td>98</td>\n",
              "      <td>14837</td>\n",
              "    </tr>\n",
              "    <tr>\n",
              "      <th>allennlp</th>\n",
              "      <td>2</td>\n",
              "      <td>183</td>\n",
              "    </tr>\n",
              "    <tr>\n",
              "      <th>distributed</th>\n",
              "      <td>7</td>\n",
              "      <td>227</td>\n",
              "    </tr>\n",
              "    <tr>\n",
              "      <th>dialog-flow</th>\n",
              "      <td>2</td>\n",
              "      <td>51</td>\n",
              "    </tr>\n",
              "    <tr>\n",
              "      <th>parquet</th>\n",
              "      <td>1</td>\n",
              "      <td>17</td>\n",
              "    </tr>\n",
              "    <tr>\n",
              "      <th>reinforcement-learning</th>\n",
              "      <td>203</td>\n",
              "      <td>20101</td>\n",
              "    </tr>\n",
              "    <tr>\n",
              "      <th>competitions</th>\n",
              "      <td>2</td>\n",
              "      <td>125</td>\n",
              "    </tr>\n",
              "    <tr>\n",
              "      <th>gaussian-process</th>\n",
              "      <td>12</td>\n",
              "      <td>471</td>\n",
              "    </tr>\n",
              "    <tr>\n",
              "      <th>rbf</th>\n",
              "      <td>5</td>\n",
              "      <td>359</td>\n",
              "    </tr>\n",
              "    <tr>\n",
              "      <th>pooling</th>\n",
              "      <td>4</td>\n",
              "      <td>160</td>\n",
              "    </tr>\n",
              "  </tbody>\n",
              "</table>\n",
              "</div>"
            ],
            "text/plain": [
              "                        Count  ViewCount\n",
              "gradient-descent           98      14837\n",
              "allennlp                    2        183\n",
              "distributed                 7        227\n",
              "dialog-flow                 2         51\n",
              "parquet                     1         17\n",
              "reinforcement-learning    203      20101\n",
              "competitions                2        125\n",
              "gaussian-process           12        471\n",
              "rbf                         5        359\n",
              "pooling                     4        160"
            ]
          },
          "metadata": {
            "tags": []
          },
          "execution_count": 105
        }
      ]
    },
    {
      "cell_type": "markdown",
      "metadata": {
        "id": "HzoHD_WHRdV2",
        "colab_type": "text"
      },
      "source": [
        " Let's visualize `Count` and `ViewCount` data side by side with a threshold of `20` because popularity of the tags rapidly declines, so looking at these tags should be enough to help us with the goal."
      ]
    },
    {
      "cell_type": "code",
      "metadata": {
        "id": "wREqz9GyRdWB",
        "colab_type": "code",
        "outputId": "c268eb4f-d1a8-4030-e280-d0afc2a53523",
        "colab": {
          "base_uri": "https://localhost:8080/",
          "height": 641
        }
      },
      "source": [
        "fig, axes = plt.subplots(nrows=1, ncols=2)\n",
        "fig.set_size_inches((24, 10))\n",
        "df_tag.sort_values(\"Count\").tail(20).plot.barh(y=\"Count\", ax=axes[0], subplots=True)\n",
        "df_tag.sort_values(\"ViewCount\").tail(20).plot.barh(y=\"ViewCount\", ax=axes[1], subplots=True)"
      ],
      "execution_count": 106,
      "outputs": [
        {
          "output_type": "execute_result",
          "data": {
            "text/plain": [
              "array([<matplotlib.axes._subplots.AxesSubplot object at 0x7fb884ec79b0>],\n",
              "      dtype=object)"
            ]
          },
          "metadata": {
            "tags": []
          },
          "execution_count": 106
        },
        {
          "output_type": "display_data",
          "data": {
            "image/png": "[encoded data removed]",
            "text/plain": [
              "<Figure size 1728x720 with 2 Axes>"
            ]
          },
          "metadata": {
            "tags": []
          }
        }
      ]
    },
    {
      "cell_type": "markdown",
      "metadata": {
        "id": "NVXITMauRdV5",
        "colab_type": "text"
      },
      "source": [
        "Some tags are very, very broad and are unlikely to be useful; e.g.: `python`, `dataset`, `r`."
      ]
    },
    {
      "cell_type": "markdown",
      "metadata": {
        "id": "7F1SFp52RdWH",
        "colab_type": "text"
      },
      "source": [
        "## Relations Between `Tags`\n",
        "\n",
        "One way of trying to gauge how pairs of tags are related to each other, is to count how many times each pair appears together.\n",
        "\n",
        "I'll now create a dataframe where each row will represent a tag, and each column as well."
      ]
    },
    {
      "cell_type": "code",
      "metadata": {
        "id": "YqWk1gDPRdWM",
        "colab_type": "code",
        "outputId": "43d13545-068d-45c9-d572-bddf68b79b59",
        "colab": {
          "base_uri": "https://localhost:8080/",
          "height": 173
        }
      },
      "source": [
        "associations = pd.DataFrame(0, index=all_tags, columns=all_tags, dtype=float)\n",
        "\n",
        "associations.iloc[0:4,0:4]"
      ],
      "execution_count": 107,
      "outputs": [
        {
          "output_type": "execute_result",
          "data": {
            "text/html": [
              "<div>\n",
              "<style scoped>\n",
              "    .dataframe tbody tr th:only-of-type {\n",
              "        vertical-align: middle;\n",
              "    }\n",
              "\n",
              "    .dataframe tbody tr th {\n",
              "        vertical-align: top;\n",
              "    }\n",
              "\n",
              "    .dataframe thead th {\n",
              "        text-align: right;\n",
              "    }\n",
              "</style>\n",
              "<table border=\"1\" class=\"dataframe\">\n",
              "  <thead>\n",
              "    <tr style=\"text-align: right;\">\n",
              "      <th></th>\n",
              "      <th>gradient-descent</th>\n",
              "      <th>allennlp</th>\n",
              "      <th>distributed</th>\n",
              "      <th>dialog-flow</th>\n",
              "    </tr>\n",
              "  </thead>\n",
              "  <tbody>\n",
              "    <tr>\n",
              "      <th>gradient-descent</th>\n",
              "      <td>0.0</td>\n",
              "      <td>0.0</td>\n",
              "      <td>0.0</td>\n",
              "      <td>0.0</td>\n",
              "    </tr>\n",
              "    <tr>\n",
              "      <th>allennlp</th>\n",
              "      <td>0.0</td>\n",
              "      <td>0.0</td>\n",
              "      <td>0.0</td>\n",
              "      <td>0.0</td>\n",
              "    </tr>\n",
              "    <tr>\n",
              "      <th>distributed</th>\n",
              "      <td>0.0</td>\n",
              "      <td>0.0</td>\n",
              "      <td>0.0</td>\n",
              "      <td>0.0</td>\n",
              "    </tr>\n",
              "    <tr>\n",
              "      <th>dialog-flow</th>\n",
              "      <td>0.0</td>\n",
              "      <td>0.0</td>\n",
              "      <td>0.0</td>\n",
              "      <td>0.0</td>\n",
              "    </tr>\n",
              "  </tbody>\n",
              "</table>\n",
              "</div>"
            ],
            "text/plain": [
              "                  gradient-descent  allennlp  distributed  dialog-flow\n",
              "gradient-descent               0.0       0.0          0.0          0.0\n",
              "allennlp                       0.0       0.0          0.0          0.0\n",
              "distributed                    0.0       0.0          0.0          0.0\n",
              "dialog-flow                    0.0       0.0          0.0          0.0"
            ]
          },
          "metadata": {
            "tags": []
          },
          "execution_count": 107
        }
      ]
    },
    {
      "cell_type": "markdown",
      "metadata": {
        "id": "fm_kXmLCRdWO",
        "colab_type": "text"
      },
      "source": [
        "Now for each lists of tags in `questions[\"Tags\"]`, I will increment the intervening tags by one. The end result will be a dataframe that for each pair of tags, it tells us how many times they were used together."
      ]
    },
    {
      "cell_type": "code",
      "metadata": {
        "id": "IWJBxPVsRdWP",
        "colab_type": "code",
        "colab": {}
      },
      "source": [
        "for tags in questions[\"Tags\"]:\n",
        "    associations.loc[tags, tags] += 1"
      ],
      "execution_count": 0,
      "outputs": []
    },
    {
      "cell_type": "markdown",
      "metadata": {
        "id": "Vuj0Q0r2RdWR",
        "colab_type": "text"
      },
      "source": [
        "This dataframe is quite large. Let's focus our attention on the most used tags."
      ]
    },
    {
      "cell_type": "code",
      "metadata": {
        "id": "B8xdykpnRdWR",
        "colab_type": "code",
        "colab": {}
      },
      "source": [
        "most_used_tags = df_tag.sort_values(\"Count\").tail(20).index\n",
        "\n",
        "relations_most_used = associations.loc[most_used_tags, most_used_tags]"
      ],
      "execution_count": 0,
      "outputs": []
    },
    {
      "cell_type": "markdown",
      "metadata": {
        "id": "wAoxi22vRdWU",
        "colab_type": "text"
      },
      "source": [
        "It's hard for a human to understand what is going on in this dataframe. Let's create a heatmap. But before I do it, let's get rid of the diagonal values, otherwise the colors will be too skewed."
      ]
    },
    {
      "cell_type": "code",
      "metadata": {
        "id": "XlFVxr_mRdWV",
        "colab_type": "code",
        "colab": {}
      },
      "source": [
        "# Get rid of the diagonal values\n",
        "np.fill_diagonal(relations_most_used.values, np.NaN)"
      ],
      "execution_count": 0,
      "outputs": []
    },
    {
      "cell_type": "code",
      "metadata": {
        "id": "MF3NdN99RdWX",
        "colab_type": "code",
        "outputId": "aa4b994e-378c-4840-dd7d-72c8f1a6c5b5",
        "colab": {
          "base_uri": "https://localhost:8080/",
          "height": 612
        }
      },
      "source": [
        "# Plot the heatmap\n",
        "plt.figure(figsize=(12,8))\n",
        "sns.heatmap(relations_most_used, cmap=\"Greens\", annot=False)"
      ],
      "execution_count": 111,
      "outputs": [
        {
          "output_type": "execute_result",
          "data": {
            "text/plain": [
              "<matplotlib.axes._subplots.AxesSubplot at 0x7fb885fcf908>"
            ]
          },
          "metadata": {
            "tags": []
          },
          "execution_count": 111
        },
        {
          "output_type": "display_data",
          "data": {
            "image/png": "[encoded data removed]",
            "text/plain": [
              "<Figure size 864x576 with 2 Axes>"
            ]
          },
          "metadata": {
            "tags": []
          }
        }
      ]
    },
    {
      "cell_type": "markdown",
      "metadata": {
        "id": "58zO33ASRdWa",
        "colab_type": "text"
      },
      "source": [
        "The most used tags also seem to have the strongest relationships, as given by the dark concentration in the bottom right corner. However, this could simply be because each of these tags is used a lot, and so end up being used together a lot without possibly even having any strong relation between them."
      ]
    },
    {
      "cell_type": "markdown",
      "metadata": {
        "id": "WsTetoUNRdWb",
        "colab_type": "text"
      },
      "source": [
        "# Enter Domain Knowledge\n",
        "\n",
        "[Keras](https://keras.io/), [scikit-learn](https://scikit-learn.org/), [TensorFlow](https://www.tensorflow.org/) are all Python libraries that allow their users to employ deep learning (a type of neural network).\n",
        "\n",
        "Most of the top tags are all intimately related with one central machine learning theme: deep learning. If I want to be very specific, I can suggest the creation of Python content that uses deep learning for classification problems (and other variations of this suggestion).\n",
        "\n",
        "At the glance of an eye, someone with sufficient domain knowledge can tell that the most popular topic at the moment, as shown by the analysis, is deep learning."
      ]
    },
    {
      "cell_type": "markdown",
      "metadata": {
        "id": "YQ0kN4vMRdWc",
        "colab_type": "text"
      },
      "source": [
        "## Is Deep Learning just a Fad?\n",
        "\n",
        "Before I officially make our recommendation, it would be nice to solidy the findings with additional proof. More specifically, one thing that comes to mind is \"Is deep learning just a fad?\" Ideally, the content I decide to create will be the most useful for as long as possible. Could interest in deep learning be slowing down?\n",
        "\n",
        "The file `all_questions.csv` holds the result of the query below — this query fetches all of the questions ever asked on DSSE, their dates and tags:\n",
        "```\n",
        "SELECT Id, CreationDate, Tags\n",
        "  FROM posts\n",
        " WHERE PostTypeId = 1;\n",
        "```\n",
        "\n",
        "Let's read in the file into a dataframe called `all_q`. I'll parse the dates at read-time."
      ]
    },
    {
      "cell_type": "code",
      "metadata": {
        "id": "PjXnAnWSRdWc",
        "colab_type": "code",
        "colab": {}
      },
      "source": [
        "all_q = pd.read_csv(\"/content/all_questions.csv\", parse_dates=[\"CreationDate\"])"
      ],
      "execution_count": 0,
      "outputs": []
    },
    {
      "cell_type": "markdown",
      "metadata": {
        "id": "8nZw3OwRRdWf",
        "colab_type": "text"
      },
      "source": [
        "It's possible to use the same technique as before to clean the tags column."
      ]
    },
    {
      "cell_type": "code",
      "metadata": {
        "id": "jlxiq7EN9Frt",
        "colab_type": "code",
        "colab": {}
      },
      "source": [
        "all_q[\"Tags\"] = all_q[\"Tags\"].str.strip(r\"[<>]\").str.split(\"><\")"
      ],
      "execution_count": 0,
      "outputs": []
    },
    {
      "cell_type": "markdown",
      "metadata": {
        "id": "XW-NKX0IRdWj",
        "colab_type": "text"
      },
      "source": [
        "Before deciding which questions should be classified as being deep learning questions, I should decide what tags are deep learning tags.\n",
        "\n",
        "The definition of what constitutes a deep learning tag I'll use is: a tag that belongs to the list `[\"lstm\", \"cnn\", \"scikit-learn\", \"tensorflow\", \"keras\", \"neural-network\", \"deep-learning\"]`.\n",
        "\n",
        "This list was obtained by looking at all the tags in `most_used:tags` and seeing which ones had any relation to deep learning.\n",
        "\n",
        "I'll now create a function that assigns `1` to deep learning questions and `0` otherwise."
      ]
    },
    {
      "cell_type": "code",
      "metadata": {
        "id": "YS-1qbZ3RdWk",
        "colab_type": "code",
        "colab": {}
      },
      "source": [
        "def class_deep_learning(tags):\n",
        "    for tag in tags:\n",
        "        if tag in [\"lstm\", \"cnn\", \"scikit-learn\", \"tensorflow\",\n",
        "                   \"keras\", \"neural-network\", \"deep-learning\"]:\n",
        "            return 1\n",
        "    return 0"
      ],
      "execution_count": 0,
      "outputs": []
    },
    {
      "cell_type": "code",
      "metadata": {
        "id": "SFlqK-HPRdWm",
        "colab_type": "code",
        "colab": {}
      },
      "source": [
        "all_q[\"DeepLearning\"] = all_q[\"Tags\"].apply(class_deep_learning)"
      ],
      "execution_count": 0,
      "outputs": []
    },
    {
      "cell_type": "code",
      "metadata": {
        "id": "SEJtGW03RdWp",
        "colab_type": "code",
        "outputId": "c4c6f411-9582-4b4e-fe56-a12a08b92506",
        "colab": {
          "base_uri": "https://localhost:8080/",
          "height": 204
        }
      },
      "source": [
        "all_q.sample(5)"
      ],
      "execution_count": 116,
      "outputs": [
        {
          "output_type": "execute_result",
          "data": {
            "text/html": [
              "<div>\n",
              "<style scoped>\n",
              "    .dataframe tbody tr th:only-of-type {\n",
              "        vertical-align: middle;\n",
              "    }\n",
              "\n",
              "    .dataframe tbody tr th {\n",
              "        vertical-align: top;\n",
              "    }\n",
              "\n",
              "    .dataframe thead th {\n",
              "        text-align: right;\n",
              "    }\n",
              "</style>\n",
              "<table border=\"1\" class=\"dataframe\">\n",
              "  <thead>\n",
              "    <tr style=\"text-align: right;\">\n",
              "      <th></th>\n",
              "      <th>Id</th>\n",
              "      <th>CreationDate</th>\n",
              "      <th>Tags</th>\n",
              "      <th>DeepLearning</th>\n",
              "    </tr>\n",
              "  </thead>\n",
              "  <tbody>\n",
              "    <tr>\n",
              "      <th>12256</th>\n",
              "      <td>9664</td>\n",
              "      <td>2016-01-07 06:01:43</td>\n",
              "      <td>[machine-learning, data-mining, clustering, k-...</td>\n",
              "      <td>0</td>\n",
              "    </tr>\n",
              "    <tr>\n",
              "      <th>21306</th>\n",
              "      <td>36313</td>\n",
              "      <td>2018-08-01 13:49:38</td>\n",
              "      <td>[nlp, text-mining, preprocessing]</td>\n",
              "      <td>0</td>\n",
              "    </tr>\n",
              "    <tr>\n",
              "      <th>2884</th>\n",
              "      <td>56598</td>\n",
              "      <td>2019-07-30 05:02:26</td>\n",
              "      <td>[machine-learning, classification, nlp, featur...</td>\n",
              "      <td>0</td>\n",
              "    </tr>\n",
              "    <tr>\n",
              "      <th>9421</th>\n",
              "      <td>19186</td>\n",
              "      <td>2017-05-24 16:13:03</td>\n",
              "      <td>[machine-learning, classification, regression,...</td>\n",
              "      <td>1</td>\n",
              "    </tr>\n",
              "    <tr>\n",
              "      <th>9879</th>\n",
              "      <td>19437</td>\n",
              "      <td>2017-06-02 20:28:51</td>\n",
              "      <td>[machine-learning, python, neural-network, cla...</td>\n",
              "      <td>1</td>\n",
              "    </tr>\n",
              "  </tbody>\n",
              "</table>\n",
              "</div>"
            ],
            "text/plain": [
              "          Id  ... DeepLearning\n",
              "12256   9664  ...            0\n",
              "21306  36313  ...            0\n",
              "2884   56598  ...            0\n",
              "9421   19186  ...            1\n",
              "9879   19437  ...            1\n",
              "\n",
              "[5 rows x 4 columns]"
            ]
          },
          "metadata": {
            "tags": []
          },
          "execution_count": 116
        }
      ]
    },
    {
      "cell_type": "markdown",
      "metadata": {
        "id": "SoRFBXzVRdWs",
        "colab_type": "text"
      },
      "source": [
        "Looks good!"
      ]
    },
    {
      "cell_type": "markdown",
      "metadata": {
        "id": "gJ07yeniRdWs",
        "colab_type": "text"
      },
      "source": [
        "The data-science-techonology landscape isn't something as dynamic to merit daily, weekly, or even monthly tracking. Let's track it quarterly.\n",
        "\n",
        "Since I don't have all the data for the first quarter of 2020, I'll get rid of those dates:"
      ]
    },
    {
      "cell_type": "code",
      "metadata": {
        "id": "c8ExdAfmRdWt",
        "colab_type": "code",
        "colab": {}
      },
      "source": [
        "all_q = all_q[all_q[\"CreationDate\"].dt.year < 2020]"
      ],
      "execution_count": 0,
      "outputs": []
    },
    {
      "cell_type": "markdown",
      "metadata": {
        "id": "6sjH1NePRdWv",
        "colab_type": "text"
      },
      "source": [
        "Let's create a column that identifies the quarter in which a question was asked."
      ]
    },
    {
      "cell_type": "code",
      "metadata": {
        "id": "XLGzlag8RdWw",
        "colab_type": "code",
        "colab": {}
      },
      "source": [
        "def fetch_quarter(datetime):\n",
        "    year = str(datetime.year)[-2:]\n",
        "    quarter = str(((datetime.month-1) // 3) + 1)\n",
        "    return \"{y}Q{q}\".format(y=year, q=quarter)\n",
        "\n",
        "all_q[\"Quarter\"] = all_q[\"CreationDate\"].apply(fetch_quarter)"
      ],
      "execution_count": 0,
      "outputs": []
    },
    {
      "cell_type": "code",
      "metadata": {
        "id": "T1Fpi3F7RdWz",
        "colab_type": "code",
        "outputId": "6176ea33-aba2-4547-98b0-b9fba867325e",
        "colab": {
          "base_uri": "https://localhost:8080/",
          "height": 204
        }
      },
      "source": [
        "all_q.head()"
      ],
      "execution_count": 119,
      "outputs": [
        {
          "output_type": "execute_result",
          "data": {
            "text/html": [
              "<div>\n",
              "<style scoped>\n",
              "    .dataframe tbody tr th:only-of-type {\n",
              "        vertical-align: middle;\n",
              "    }\n",
              "\n",
              "    .dataframe tbody tr th {\n",
              "        vertical-align: top;\n",
              "    }\n",
              "\n",
              "    .dataframe thead th {\n",
              "        text-align: right;\n",
              "    }\n",
              "</style>\n",
              "<table border=\"1\" class=\"dataframe\">\n",
              "  <thead>\n",
              "    <tr style=\"text-align: right;\">\n",
              "      <th></th>\n",
              "      <th>Id</th>\n",
              "      <th>CreationDate</th>\n",
              "      <th>Tags</th>\n",
              "      <th>DeepLearning</th>\n",
              "      <th>Quarter</th>\n",
              "    </tr>\n",
              "  </thead>\n",
              "  <tbody>\n",
              "    <tr>\n",
              "      <th>0</th>\n",
              "      <td>45416</td>\n",
              "      <td>2019-02-12 00:36:29</td>\n",
              "      <td>[python, keras, tensorflow, cnn, probability]</td>\n",
              "      <td>1</td>\n",
              "      <td>19Q1</td>\n",
              "    </tr>\n",
              "    <tr>\n",
              "      <th>1</th>\n",
              "      <td>45418</td>\n",
              "      <td>2019-02-12 00:50:39</td>\n",
              "      <td>[neural-network]</td>\n",
              "      <td>1</td>\n",
              "      <td>19Q1</td>\n",
              "    </tr>\n",
              "    <tr>\n",
              "      <th>2</th>\n",
              "      <td>45422</td>\n",
              "      <td>2019-02-12 04:40:51</td>\n",
              "      <td>[python, ibm-watson, chatbot]</td>\n",
              "      <td>0</td>\n",
              "      <td>19Q1</td>\n",
              "    </tr>\n",
              "    <tr>\n",
              "      <th>3</th>\n",
              "      <td>45426</td>\n",
              "      <td>2019-02-12 04:51:49</td>\n",
              "      <td>[keras]</td>\n",
              "      <td>1</td>\n",
              "      <td>19Q1</td>\n",
              "    </tr>\n",
              "    <tr>\n",
              "      <th>4</th>\n",
              "      <td>45427</td>\n",
              "      <td>2019-02-12 05:08:24</td>\n",
              "      <td>[r, predictive-modeling, machine-learning-mode...</td>\n",
              "      <td>0</td>\n",
              "      <td>19Q1</td>\n",
              "    </tr>\n",
              "  </tbody>\n",
              "</table>\n",
              "</div>"
            ],
            "text/plain": [
              "      Id        CreationDate  ... DeepLearning  Quarter\n",
              "0  45416 2019-02-12 00:36:29  ...            1     19Q1\n",
              "1  45418 2019-02-12 00:50:39  ...            1     19Q1\n",
              "2  45422 2019-02-12 04:40:51  ...            0     19Q1\n",
              "3  45426 2019-02-12 04:51:49  ...            1     19Q1\n",
              "4  45427 2019-02-12 05:08:24  ...            0     19Q1\n",
              "\n",
              "[5 rows x 5 columns]"
            ]
          },
          "metadata": {
            "tags": []
          },
          "execution_count": 119
        }
      ]
    },
    {
      "cell_type": "markdown",
      "metadata": {
        "id": "aahqmnLWRdW1",
        "colab_type": "text"
      },
      "source": [
        "For the final stretch of this screen, I'll group by quarter and:\n",
        "\n",
        "* Count the number of deep learning questions.\n",
        "* Count the total number of questions.\n",
        "* Compute the ratio between the two numbers above."
      ]
    },
    {
      "cell_type": "code",
      "metadata": {
        "id": "3c63f7ljRdW2",
        "colab_type": "code",
        "outputId": "1a4ada45-68fa-47e4-d0f8-cf75cb9a5b81",
        "colab": {
          "base_uri": "https://localhost:8080/",
          "height": 204
        }
      },
      "source": [
        "quarterly = all_q.groupby('Quarter').agg({\"DeepLearning\": ['sum', 'size']})\n",
        "quarterly.columns = ['DeepLearningQuestions', 'TotalQuestions']\n",
        "quarterly[\"DeepLearningRate\"] = quarterly[\"DeepLearningQuestions\"]\\\n",
        "                                /quarterly[\"TotalQuestions\"]\n",
        "# The following is done to help with visualizations later.\n",
        "quarterly.reset_index(inplace=True)\n",
        "quarterly.sample(5)"
      ],
      "execution_count": 120,
      "outputs": [
        {
          "output_type": "execute_result",
          "data": {
            "text/html": [
              "<div>\n",
              "<style scoped>\n",
              "    .dataframe tbody tr th:only-of-type {\n",
              "        vertical-align: middle;\n",
              "    }\n",
              "\n",
              "    .dataframe tbody tr th {\n",
              "        vertical-align: top;\n",
              "    }\n",
              "\n",
              "    .dataframe thead th {\n",
              "        text-align: right;\n",
              "    }\n",
              "</style>\n",
              "<table border=\"1\" class=\"dataframe\">\n",
              "  <thead>\n",
              "    <tr style=\"text-align: right;\">\n",
              "      <th></th>\n",
              "      <th>Quarter</th>\n",
              "      <th>DeepLearningQuestions</th>\n",
              "      <th>TotalQuestions</th>\n",
              "      <th>DeepLearningRate</th>\n",
              "    </tr>\n",
              "  </thead>\n",
              "  <tbody>\n",
              "    <tr>\n",
              "      <th>13</th>\n",
              "      <td>17Q3</td>\n",
              "      <td>247</td>\n",
              "      <td>714</td>\n",
              "      <td>0.345938</td>\n",
              "    </tr>\n",
              "    <tr>\n",
              "      <th>20</th>\n",
              "      <td>19Q2</td>\n",
              "      <td>935</td>\n",
              "      <td>2393</td>\n",
              "      <td>0.390723</td>\n",
              "    </tr>\n",
              "    <tr>\n",
              "      <th>8</th>\n",
              "      <td>16Q2</td>\n",
              "      <td>109</td>\n",
              "      <td>518</td>\n",
              "      <td>0.210425</td>\n",
              "    </tr>\n",
              "    <tr>\n",
              "      <th>16</th>\n",
              "      <td>18Q2</td>\n",
              "      <td>566</td>\n",
              "      <td>1448</td>\n",
              "      <td>0.390884</td>\n",
              "    </tr>\n",
              "    <tr>\n",
              "      <th>0</th>\n",
              "      <td>14Q2</td>\n",
              "      <td>9</td>\n",
              "      <td>157</td>\n",
              "      <td>0.057325</td>\n",
              "    </tr>\n",
              "  </tbody>\n",
              "</table>\n",
              "</div>"
            ],
            "text/plain": [
              "   Quarter  DeepLearningQuestions  TotalQuestions  DeepLearningRate\n",
              "13    17Q3                    247             714          0.345938\n",
              "20    19Q2                    935            2393          0.390723\n",
              "8     16Q2                    109             518          0.210425\n",
              "16    18Q2                    566            1448          0.390884\n",
              "0     14Q2                      9             157          0.057325"
            ]
          },
          "metadata": {
            "tags": []
          },
          "execution_count": 120
        }
      ]
    },
    {
      "cell_type": "code",
      "metadata": {
        "id": "BuPNkM6fRdW4",
        "colab_type": "code",
        "outputId": "dc8e45b3-d8e3-4478-ba22-44a2abee7ccf",
        "colab": {
          "base_uri": "https://localhost:8080/",
          "height": 730
        }
      },
      "source": [
        "ax1 = quarterly.plot(x=\"Quarter\", y=\"DeepLearningRate\",\n",
        "                    kind=\"line\", linestyle=\"-\", marker=\"o\", color=\"orange\",\n",
        "                    figsize=(24,12)\n",
        "                    )\n",
        "\n",
        "ax2 = quarterly.plot(x=\"Quarter\", y=\"TotalQuestions\",\n",
        "                     kind=\"bar\", ax=ax1, secondary_y=True, alpha=0.7, rot=45)\n",
        "\n",
        "for idx, t in enumerate(quarterly[\"TotalQuestions\"]):\n",
        "    ax2.text(idx, t, str(t), ha=\"center\", va=\"bottom\")\n",
        "xlims = ax1.get_xlim()\n",
        "\n",
        "ax1.get_legend().remove()\n",
        "\n",
        "handles1, labels1 = ax1.get_legend_handles_labels()\n",
        "handles2, labels2 = ax2.get_legend_handles_labels()\n",
        "ax1.legend(handles=handles1 + handles2,\n",
        "           labels=labels1 + labels2,\n",
        "           loc=\"upper left\", prop={\"size\": 12})\n",
        "\n",
        "\n",
        "for ax in (ax1, ax2):\n",
        "    for where in (\"top\", \"right\"):\n",
        "        ax.spines[where].set_visible(False)\n",
        "        ax.tick_params(right=False, labelright=False)"
      ],
      "execution_count": 121,
      "outputs": [
        {
          "output_type": "display_data",
          "data": {
            "image/png": "[encoded data removed]",
            "text/plain": [
              "<Figure size 1728x864 with 2 Axes>"
            ]
          },
          "metadata": {
            "tags": []
          }
        }
      ]
    },
    {
      "cell_type": "markdown",
      "metadata": {
        "id": "cz6Mcpw3RdW7",
        "colab_type": "text"
      },
      "source": [
        "It seems that deep learning questions was a high-growth trend since the start of DSSE and it looks like it is plateauing. There is no evidence to suggest that interest in deep learning is decreasing and so I maintain my previous idea of proposing to create deep learning content."
      ]
    }
  ]
}