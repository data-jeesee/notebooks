{
  "nbformat": 4,
  "nbformat_minor": 0,
  "metadata": {
    "colab": {
      "name": "Exploring eBay Car Sales Data",
      "provenance": [],
      "toc_visible": true,
      "authorship_tag": "ABX9TyOpARMdbEi8vzvDoXu+oidT"
    },
    "kernelspec": {
      "name": "python3",
      "display_name": "Python 3"
    }
  },
  "cells": [
    {
      "cell_type": "markdown",
      "metadata": {
        "id": "g8_-JSa5m_oA",
        "colab_type": "text"
      },
      "source": [
        "# Analyzing Used Car Listings on eBay\n",
        "\n",
        "I will be working on a dataset of used cars from *eBay Kleinanzeigen*, a [classifieds](https://en.wikipedia.org/wiki/Classified_advertising) section of the German eBay website.\n",
        "\n",
        "The dataset was originally scraped and uploaded to [Kaggle](https://www.kaggle.com/orgesleka/used-cars-database/data). The version of the dataset I'm working with is a sample of 50,000 data points.\n",
        "\n",
        "The data dictionary provided with data is as follows:\n",
        "\n",
        "- `dateCrawled` - When this ad was first crawled. All field-values are taken from this date.\n",
        "- `name` - Name of the car.\n",
        "- `seller` - Whether the seller is private or a dealer.\n",
        "- `offerType` - The type of listing\n",
        "- `price` - The price on the ad to sell the car.\n",
        "- `abtest` - Whether the listing is included in an A/B test.\n",
        "- `vehicleType` - The vehicle Type.\n",
        "- `yearOfRegistration` - The year in which which year the car was first registered.\n",
        "- `gearbox` - The transmission type.\n",
        "- `powerPS` - The power of the car in PS.\n",
        "- `model` - The car model name.\n",
        "- `kilometer` - How many kilometers the car has driven.\n",
        "- `monthOfRegistration` - The month in which which year the car was first registered.\n",
        "- `fuelType` - What type of fuel the car uses.\n",
        "- `brand` - The brand of the car.\n",
        "- `notRepairedDamage` - If the car has a damage which is not yet repaired.\n",
        "- `dateCreated` - The date on which the eBay listing was created.\n",
        "- `nrOfPictures` - The number of pictures in the ad.\n",
        "- `postalCode` - The postal code for the location of the vehicle.\n",
        "- `lastSeenOnline` - When the crawler saw this ad last online.\n",
        "\n",
        "\n",
        "The aim of this project is to clean the data and analyze the included used car listings."
      ]
    },
    {
      "cell_type": "code",
      "metadata": {
        "id": "7eZokNxcm0pb",
        "colab_type": "code",
        "colab": {
          "base_uri": "https://localhost:8080/",
          "height": 819
        },
        "outputId": "2e66c69f-1090-4032-d802-6c7e8d11c1cc"
      },
      "source": [
        "import numpy as np\n",
        "import pandas as pd\n",
        "import re\n",
        "\n",
        "autos = pd.read_csv(\"autos.csv\", encoding=\"Latin-1\")\n",
        "\n",
        "autos.info()\n",
        "autos.head()"
      ],
      "execution_count": 96,
      "outputs": [
        {
          "output_type": "stream",
          "text": [
            "<class 'pandas.core.frame.DataFrame'>\n",
            "RangeIndex: 50000 entries, 0 to 49999\n",
            "Data columns (total 20 columns):\n",
            "dateCrawled            50000 non-null object\n",
            "name                   50000 non-null object\n",
            "seller                 50000 non-null object\n",
            "offerType              50000 non-null object\n",
            "price                  50000 non-null object\n",
            "abtest                 50000 non-null object\n",
            "vehicleType            44905 non-null object\n",
            "yearOfRegistration     50000 non-null int64\n",
            "gearbox                47320 non-null object\n",
            "powerPS                50000 non-null int64\n",
            "model                  47242 non-null object\n",
            "odometer               50000 non-null object\n",
            "monthOfRegistration    50000 non-null int64\n",
            "fuelType               45518 non-null object\n",
            "brand                  50000 non-null object\n",
            "notRepairedDamage      40171 non-null object\n",
            "dateCreated            50000 non-null object\n",
            "nrOfPictures           50000 non-null int64\n",
            "postalCode             50000 non-null int64\n",
            "lastSeen               50000 non-null object\n",
            "dtypes: int64(5), object(15)\n",
            "memory usage: 7.6+ MB\n"
          ],
          "name": "stdout"
        },
        {
          "output_type": "execute_result",
          "data": {
            "text/html": [
              "<div>\n",
              "<style scoped>\n",
              "    .dataframe tbody tr th:only-of-type {\n",
              "        vertical-align: middle;\n",
              "    }\n",
              "\n",
              "    .dataframe tbody tr th {\n",
              "        vertical-align: top;\n",
              "    }\n",
              "\n",
              "    .dataframe thead th {\n",
              "        text-align: right;\n",
              "    }\n",
              "</style>\n",
              "<table border=\"1\" class=\"dataframe\">\n",
              "  <thead>\n",
              "    <tr style=\"text-align: right;\">\n",
              "      <th></th>\n",
              "      <th>dateCrawled</th>\n",
              "      <th>name</th>\n",
              "      <th>seller</th>\n",
              "      <th>offerType</th>\n",
              "      <th>price</th>\n",
              "      <th>abtest</th>\n",
              "      <th>vehicleType</th>\n",
              "      <th>yearOfRegistration</th>\n",
              "      <th>gearbox</th>\n",
              "      <th>powerPS</th>\n",
              "      <th>model</th>\n",
              "      <th>odometer</th>\n",
              "      <th>monthOfRegistration</th>\n",
              "      <th>fuelType</th>\n",
              "      <th>brand</th>\n",
              "      <th>notRepairedDamage</th>\n",
              "      <th>dateCreated</th>\n",
              "      <th>nrOfPictures</th>\n",
              "      <th>postalCode</th>\n",
              "      <th>lastSeen</th>\n",
              "    </tr>\n",
              "  </thead>\n",
              "  <tbody>\n",
              "    <tr>\n",
              "      <th>0</th>\n",
              "      <td>2016-03-26 17:47:46</td>\n",
              "      <td>Peugeot_807_160_NAVTECH_ON_BOARD</td>\n",
              "      <td>privat</td>\n",
              "      <td>Angebot</td>\n",
              "      <td>$5,000</td>\n",
              "      <td>control</td>\n",
              "      <td>bus</td>\n",
              "      <td>2004</td>\n",
              "      <td>manuell</td>\n",
              "      <td>158</td>\n",
              "      <td>andere</td>\n",
              "      <td>150,000km</td>\n",
              "      <td>3</td>\n",
              "      <td>lpg</td>\n",
              "      <td>peugeot</td>\n",
              "      <td>nein</td>\n",
              "      <td>2016-03-26 00:00:00</td>\n",
              "      <td>0</td>\n",
              "      <td>79588</td>\n",
              "      <td>2016-04-06 06:45:54</td>\n",
              "    </tr>\n",
              "    <tr>\n",
              "      <th>1</th>\n",
              "      <td>2016-04-04 13:38:56</td>\n",
              "      <td>BMW_740i_4_4_Liter_HAMANN_UMBAU_Mega_Optik</td>\n",
              "      <td>privat</td>\n",
              "      <td>Angebot</td>\n",
              "      <td>$8,500</td>\n",
              "      <td>control</td>\n",
              "      <td>limousine</td>\n",
              "      <td>1997</td>\n",
              "      <td>automatik</td>\n",
              "      <td>286</td>\n",
              "      <td>7er</td>\n",
              "      <td>150,000km</td>\n",
              "      <td>6</td>\n",
              "      <td>benzin</td>\n",
              "      <td>bmw</td>\n",
              "      <td>nein</td>\n",
              "      <td>2016-04-04 00:00:00</td>\n",
              "      <td>0</td>\n",
              "      <td>71034</td>\n",
              "      <td>2016-04-06 14:45:08</td>\n",
              "    </tr>\n",
              "    <tr>\n",
              "      <th>2</th>\n",
              "      <td>2016-03-26 18:57:24</td>\n",
              "      <td>Volkswagen_Golf_1.6_United</td>\n",
              "      <td>privat</td>\n",
              "      <td>Angebot</td>\n",
              "      <td>$8,990</td>\n",
              "      <td>test</td>\n",
              "      <td>limousine</td>\n",
              "      <td>2009</td>\n",
              "      <td>manuell</td>\n",
              "      <td>102</td>\n",
              "      <td>golf</td>\n",
              "      <td>70,000km</td>\n",
              "      <td>7</td>\n",
              "      <td>benzin</td>\n",
              "      <td>volkswagen</td>\n",
              "      <td>nein</td>\n",
              "      <td>2016-03-26 00:00:00</td>\n",
              "      <td>0</td>\n",
              "      <td>35394</td>\n",
              "      <td>2016-04-06 20:15:37</td>\n",
              "    </tr>\n",
              "    <tr>\n",
              "      <th>3</th>\n",
              "      <td>2016-03-12 16:58:10</td>\n",
              "      <td>Smart_smart_fortwo_coupe_softouch/F1/Klima/Pan...</td>\n",
              "      <td>privat</td>\n",
              "      <td>Angebot</td>\n",
              "      <td>$4,350</td>\n",
              "      <td>control</td>\n",
              "      <td>kleinwagen</td>\n",
              "      <td>2007</td>\n",
              "      <td>automatik</td>\n",
              "      <td>71</td>\n",
              "      <td>fortwo</td>\n",
              "      <td>70,000km</td>\n",
              "      <td>6</td>\n",
              "      <td>benzin</td>\n",
              "      <td>smart</td>\n",
              "      <td>nein</td>\n",
              "      <td>2016-03-12 00:00:00</td>\n",
              "      <td>0</td>\n",
              "      <td>33729</td>\n",
              "      <td>2016-03-15 03:16:28</td>\n",
              "    </tr>\n",
              "    <tr>\n",
              "      <th>4</th>\n",
              "      <td>2016-04-01 14:38:50</td>\n",
              "      <td>Ford_Focus_1_6_Benzin_TÜV_neu_ist_sehr_gepfleg...</td>\n",
              "      <td>privat</td>\n",
              "      <td>Angebot</td>\n",
              "      <td>$1,350</td>\n",
              "      <td>test</td>\n",
              "      <td>kombi</td>\n",
              "      <td>2003</td>\n",
              "      <td>manuell</td>\n",
              "      <td>0</td>\n",
              "      <td>focus</td>\n",
              "      <td>150,000km</td>\n",
              "      <td>7</td>\n",
              "      <td>benzin</td>\n",
              "      <td>ford</td>\n",
              "      <td>nein</td>\n",
              "      <td>2016-04-01 00:00:00</td>\n",
              "      <td>0</td>\n",
              "      <td>39218</td>\n",
              "      <td>2016-04-01 14:38:50</td>\n",
              "    </tr>\n",
              "  </tbody>\n",
              "</table>\n",
              "</div>"
            ],
            "text/plain": [
              "           dateCrawled  ...             lastSeen\n",
              "0  2016-03-26 17:47:46  ...  2016-04-06 06:45:54\n",
              "1  2016-04-04 13:38:56  ...  2016-04-06 14:45:08\n",
              "2  2016-03-26 18:57:24  ...  2016-04-06 20:15:37\n",
              "3  2016-03-12 16:58:10  ...  2016-03-15 03:16:28\n",
              "4  2016-04-01 14:38:50  ...  2016-04-01 14:38:50\n",
              "\n",
              "[5 rows x 20 columns]"
            ]
          },
          "metadata": {
            "tags": []
          },
          "execution_count": 96
        }
      ]
    },
    {
      "cell_type": "markdown",
      "metadata": {
        "id": "k_DR5cHIbN60",
        "colab_type": "text"
      },
      "source": [
        "The data set contains 20 columns, most of which are stored as strings.  There are a few columns with null values, but no columns have more than ~20% null values. There are some columns that contain dates stored as strings.\n",
        "\n",
        "I'll start by cleaning the column names to make the data easier to work with."
      ]
    },
    {
      "cell_type": "markdown",
      "metadata": {
        "id": "WaGN4TuAbN62",
        "colab_type": "text"
      },
      "source": [
        "## Clean Columns"
      ]
    },
    {
      "cell_type": "markdown",
      "metadata": {
        "id": "OxvzQh55bN69",
        "colab_type": "text"
      },
      "source": [
        "I'll make a few changes here:\n",
        "\n",
        "- Change the column names from camelcase to snakecase.\n",
        "- Change a few wordings to more accurately describe the columns."
      ]
    },
    {
      "cell_type": "code",
      "metadata": {
        "id": "U7pWVm3AiETb",
        "colab_type": "code",
        "colab": {}
      },
      "source": [
        "def camel_to_snake(name):\n",
        "  name = re.sub('(.)([A-Z][a-z]+)', r'\\1_\\2', name)\n",
        "  return re.sub('([a-z0-9])([A-Z])', r'\\1_\\2', name).lower()"
      ],
      "execution_count": 0,
      "outputs": []
    },
    {
      "cell_type": "code",
      "metadata": {
        "id": "F3CC05sFkZ3-",
        "colab_type": "code",
        "colab": {
          "base_uri": "https://localhost:8080/",
          "height": 394
        },
        "outputId": "50da74a4-2714-4c95-ef8d-ea5e5e8dd258"
      },
      "source": [
        "columns_new = {}\n",
        "\n",
        "for col in autos.columns:\n",
        "  columns_new[col] = camel_to_snake(col)\n",
        "\n",
        "columns_new[\"yearOfRegistration\"] = \"registration_year\"\n",
        "columns_new[\"monthOfRegistration\"] = \"registration_month\"\n",
        "columns_new[\"notRepairedDamage\"] = \"unrepaired_damage\"\n",
        "columns_new[\"dateCreated\"] = \"ad_created\"\n",
        "columns_new[\"nrOfPictures\"] = \"num_photos\"\n",
        "\n",
        "autos.rename(columns_new, axis=1, inplace=True)\n",
        "\n",
        "autos.head()"
      ],
      "execution_count": 98,
      "outputs": [
        {
          "output_type": "execute_result",
          "data": {
            "text/html": [
              "<div>\n",
              "<style scoped>\n",
              "    .dataframe tbody tr th:only-of-type {\n",
              "        vertical-align: middle;\n",
              "    }\n",
              "\n",
              "    .dataframe tbody tr th {\n",
              "        vertical-align: top;\n",
              "    }\n",
              "\n",
              "    .dataframe thead th {\n",
              "        text-align: right;\n",
              "    }\n",
              "</style>\n",
              "<table border=\"1\" class=\"dataframe\">\n",
              "  <thead>\n",
              "    <tr style=\"text-align: right;\">\n",
              "      <th></th>\n",
              "      <th>date_crawled</th>\n",
              "      <th>name</th>\n",
              "      <th>seller</th>\n",
              "      <th>offer_type</th>\n",
              "      <th>price</th>\n",
              "      <th>abtest</th>\n",
              "      <th>vehicle_type</th>\n",
              "      <th>registration_year</th>\n",
              "      <th>gearbox</th>\n",
              "      <th>power_ps</th>\n",
              "      <th>model</th>\n",
              "      <th>odometer</th>\n",
              "      <th>registration_month</th>\n",
              "      <th>fuel_type</th>\n",
              "      <th>brand</th>\n",
              "      <th>unrepaired_damage</th>\n",
              "      <th>ad_created</th>\n",
              "      <th>num_photos</th>\n",
              "      <th>postal_code</th>\n",
              "      <th>last_seen</th>\n",
              "    </tr>\n",
              "  </thead>\n",
              "  <tbody>\n",
              "    <tr>\n",
              "      <th>0</th>\n",
              "      <td>2016-03-26 17:47:46</td>\n",
              "      <td>Peugeot_807_160_NAVTECH_ON_BOARD</td>\n",
              "      <td>privat</td>\n",
              "      <td>Angebot</td>\n",
              "      <td>$5,000</td>\n",
              "      <td>control</td>\n",
              "      <td>bus</td>\n",
              "      <td>2004</td>\n",
              "      <td>manuell</td>\n",
              "      <td>158</td>\n",
              "      <td>andere</td>\n",
              "      <td>150,000km</td>\n",
              "      <td>3</td>\n",
              "      <td>lpg</td>\n",
              "      <td>peugeot</td>\n",
              "      <td>nein</td>\n",
              "      <td>2016-03-26 00:00:00</td>\n",
              "      <td>0</td>\n",
              "      <td>79588</td>\n",
              "      <td>2016-04-06 06:45:54</td>\n",
              "    </tr>\n",
              "    <tr>\n",
              "      <th>1</th>\n",
              "      <td>2016-04-04 13:38:56</td>\n",
              "      <td>BMW_740i_4_4_Liter_HAMANN_UMBAU_Mega_Optik</td>\n",
              "      <td>privat</td>\n",
              "      <td>Angebot</td>\n",
              "      <td>$8,500</td>\n",
              "      <td>control</td>\n",
              "      <td>limousine</td>\n",
              "      <td>1997</td>\n",
              "      <td>automatik</td>\n",
              "      <td>286</td>\n",
              "      <td>7er</td>\n",
              "      <td>150,000km</td>\n",
              "      <td>6</td>\n",
              "      <td>benzin</td>\n",
              "      <td>bmw</td>\n",
              "      <td>nein</td>\n",
              "      <td>2016-04-04 00:00:00</td>\n",
              "      <td>0</td>\n",
              "      <td>71034</td>\n",
              "      <td>2016-04-06 14:45:08</td>\n",
              "    </tr>\n",
              "    <tr>\n",
              "      <th>2</th>\n",
              "      <td>2016-03-26 18:57:24</td>\n",
              "      <td>Volkswagen_Golf_1.6_United</td>\n",
              "      <td>privat</td>\n",
              "      <td>Angebot</td>\n",
              "      <td>$8,990</td>\n",
              "      <td>test</td>\n",
              "      <td>limousine</td>\n",
              "      <td>2009</td>\n",
              "      <td>manuell</td>\n",
              "      <td>102</td>\n",
              "      <td>golf</td>\n",
              "      <td>70,000km</td>\n",
              "      <td>7</td>\n",
              "      <td>benzin</td>\n",
              "      <td>volkswagen</td>\n",
              "      <td>nein</td>\n",
              "      <td>2016-03-26 00:00:00</td>\n",
              "      <td>0</td>\n",
              "      <td>35394</td>\n",
              "      <td>2016-04-06 20:15:37</td>\n",
              "    </tr>\n",
              "    <tr>\n",
              "      <th>3</th>\n",
              "      <td>2016-03-12 16:58:10</td>\n",
              "      <td>Smart_smart_fortwo_coupe_softouch/F1/Klima/Pan...</td>\n",
              "      <td>privat</td>\n",
              "      <td>Angebot</td>\n",
              "      <td>$4,350</td>\n",
              "      <td>control</td>\n",
              "      <td>kleinwagen</td>\n",
              "      <td>2007</td>\n",
              "      <td>automatik</td>\n",
              "      <td>71</td>\n",
              "      <td>fortwo</td>\n",
              "      <td>70,000km</td>\n",
              "      <td>6</td>\n",
              "      <td>benzin</td>\n",
              "      <td>smart</td>\n",
              "      <td>nein</td>\n",
              "      <td>2016-03-12 00:00:00</td>\n",
              "      <td>0</td>\n",
              "      <td>33729</td>\n",
              "      <td>2016-03-15 03:16:28</td>\n",
              "    </tr>\n",
              "    <tr>\n",
              "      <th>4</th>\n",
              "      <td>2016-04-01 14:38:50</td>\n",
              "      <td>Ford_Focus_1_6_Benzin_TÜV_neu_ist_sehr_gepfleg...</td>\n",
              "      <td>privat</td>\n",
              "      <td>Angebot</td>\n",
              "      <td>$1,350</td>\n",
              "      <td>test</td>\n",
              "      <td>kombi</td>\n",
              "      <td>2003</td>\n",
              "      <td>manuell</td>\n",
              "      <td>0</td>\n",
              "      <td>focus</td>\n",
              "      <td>150,000km</td>\n",
              "      <td>7</td>\n",
              "      <td>benzin</td>\n",
              "      <td>ford</td>\n",
              "      <td>nein</td>\n",
              "      <td>2016-04-01 00:00:00</td>\n",
              "      <td>0</td>\n",
              "      <td>39218</td>\n",
              "      <td>2016-04-01 14:38:50</td>\n",
              "    </tr>\n",
              "  </tbody>\n",
              "</table>\n",
              "</div>"
            ],
            "text/plain": [
              "          date_crawled  ...            last_seen\n",
              "0  2016-03-26 17:47:46  ...  2016-04-06 06:45:54\n",
              "1  2016-04-04 13:38:56  ...  2016-04-06 14:45:08\n",
              "2  2016-03-26 18:57:24  ...  2016-04-06 20:15:37\n",
              "3  2016-03-12 16:58:10  ...  2016-03-15 03:16:28\n",
              "4  2016-04-01 14:38:50  ...  2016-04-01 14:38:50\n",
              "\n",
              "[5 rows x 20 columns]"
            ]
          },
          "metadata": {
            "tags": []
          },
          "execution_count": 98
        }
      ]
    },
    {
      "cell_type": "markdown",
      "metadata": {
        "id": "myNBbH0tbN7H",
        "colab_type": "text"
      },
      "source": [
        "## Initial Data Exploration and Cleaning"
      ]
    },
    {
      "cell_type": "markdown",
      "metadata": {
        "id": "eGH-o_Y-bN7K",
        "colab_type": "text"
      },
      "source": [
        "I'll start by exploring the data to find obvious areas where I can clean the data."
      ]
    },
    {
      "cell_type": "code",
      "metadata": {
        "id": "AqCp-VZ7bN7N",
        "colab_type": "code",
        "outputId": "ddef6785-6f1a-4289-fb38-65c73bb1069b",
        "colab": {
          "base_uri": "https://localhost:8080/",
          "height": 444
        }
      },
      "source": [
        "autos.describe(include='all')"
      ],
      "execution_count": 99,
      "outputs": [
        {
          "output_type": "execute_result",
          "data": {
            "text/html": [
              "<div>\n",
              "<style scoped>\n",
              "    .dataframe tbody tr th:only-of-type {\n",
              "        vertical-align: middle;\n",
              "    }\n",
              "\n",
              "    .dataframe tbody tr th {\n",
              "        vertical-align: top;\n",
              "    }\n",
              "\n",
              "    .dataframe thead th {\n",
              "        text-align: right;\n",
              "    }\n",
              "</style>\n",
              "<table border=\"1\" class=\"dataframe\">\n",
              "  <thead>\n",
              "    <tr style=\"text-align: right;\">\n",
              "      <th></th>\n",
              "      <th>date_crawled</th>\n",
              "      <th>name</th>\n",
              "      <th>seller</th>\n",
              "      <th>offer_type</th>\n",
              "      <th>price</th>\n",
              "      <th>abtest</th>\n",
              "      <th>vehicle_type</th>\n",
              "      <th>registration_year</th>\n",
              "      <th>gearbox</th>\n",
              "      <th>power_ps</th>\n",
              "      <th>model</th>\n",
              "      <th>odometer</th>\n",
              "      <th>registration_month</th>\n",
              "      <th>fuel_type</th>\n",
              "      <th>brand</th>\n",
              "      <th>unrepaired_damage</th>\n",
              "      <th>ad_created</th>\n",
              "      <th>num_photos</th>\n",
              "      <th>postal_code</th>\n",
              "      <th>last_seen</th>\n",
              "    </tr>\n",
              "  </thead>\n",
              "  <tbody>\n",
              "    <tr>\n",
              "      <th>count</th>\n",
              "      <td>50000</td>\n",
              "      <td>50000</td>\n",
              "      <td>50000</td>\n",
              "      <td>50000</td>\n",
              "      <td>50000</td>\n",
              "      <td>50000</td>\n",
              "      <td>44905</td>\n",
              "      <td>50000.000000</td>\n",
              "      <td>47320</td>\n",
              "      <td>50000.000000</td>\n",
              "      <td>47242</td>\n",
              "      <td>50000</td>\n",
              "      <td>50000.000000</td>\n",
              "      <td>45518</td>\n",
              "      <td>50000</td>\n",
              "      <td>40171</td>\n",
              "      <td>50000</td>\n",
              "      <td>50000.0</td>\n",
              "      <td>50000.000000</td>\n",
              "      <td>50000</td>\n",
              "    </tr>\n",
              "    <tr>\n",
              "      <th>unique</th>\n",
              "      <td>48213</td>\n",
              "      <td>38754</td>\n",
              "      <td>2</td>\n",
              "      <td>2</td>\n",
              "      <td>2357</td>\n",
              "      <td>2</td>\n",
              "      <td>8</td>\n",
              "      <td>NaN</td>\n",
              "      <td>2</td>\n",
              "      <td>NaN</td>\n",
              "      <td>245</td>\n",
              "      <td>13</td>\n",
              "      <td>NaN</td>\n",
              "      <td>7</td>\n",
              "      <td>40</td>\n",
              "      <td>2</td>\n",
              "      <td>76</td>\n",
              "      <td>NaN</td>\n",
              "      <td>NaN</td>\n",
              "      <td>39481</td>\n",
              "    </tr>\n",
              "    <tr>\n",
              "      <th>top</th>\n",
              "      <td>2016-03-27 22:55:05</td>\n",
              "      <td>Ford_Fiesta</td>\n",
              "      <td>privat</td>\n",
              "      <td>Angebot</td>\n",
              "      <td>$0</td>\n",
              "      <td>test</td>\n",
              "      <td>limousine</td>\n",
              "      <td>NaN</td>\n",
              "      <td>manuell</td>\n",
              "      <td>NaN</td>\n",
              "      <td>golf</td>\n",
              "      <td>150,000km</td>\n",
              "      <td>NaN</td>\n",
              "      <td>benzin</td>\n",
              "      <td>volkswagen</td>\n",
              "      <td>nein</td>\n",
              "      <td>2016-04-03 00:00:00</td>\n",
              "      <td>NaN</td>\n",
              "      <td>NaN</td>\n",
              "      <td>2016-04-07 06:17:27</td>\n",
              "    </tr>\n",
              "    <tr>\n",
              "      <th>freq</th>\n",
              "      <td>3</td>\n",
              "      <td>78</td>\n",
              "      <td>49999</td>\n",
              "      <td>49999</td>\n",
              "      <td>1421</td>\n",
              "      <td>25756</td>\n",
              "      <td>12859</td>\n",
              "      <td>NaN</td>\n",
              "      <td>36993</td>\n",
              "      <td>NaN</td>\n",
              "      <td>4024</td>\n",
              "      <td>32424</td>\n",
              "      <td>NaN</td>\n",
              "      <td>30107</td>\n",
              "      <td>10687</td>\n",
              "      <td>35232</td>\n",
              "      <td>1946</td>\n",
              "      <td>NaN</td>\n",
              "      <td>NaN</td>\n",
              "      <td>8</td>\n",
              "    </tr>\n",
              "    <tr>\n",
              "      <th>mean</th>\n",
              "      <td>NaN</td>\n",
              "      <td>NaN</td>\n",
              "      <td>NaN</td>\n",
              "      <td>NaN</td>\n",
              "      <td>NaN</td>\n",
              "      <td>NaN</td>\n",
              "      <td>NaN</td>\n",
              "      <td>2005.073280</td>\n",
              "      <td>NaN</td>\n",
              "      <td>116.355920</td>\n",
              "      <td>NaN</td>\n",
              "      <td>NaN</td>\n",
              "      <td>5.723360</td>\n",
              "      <td>NaN</td>\n",
              "      <td>NaN</td>\n",
              "      <td>NaN</td>\n",
              "      <td>NaN</td>\n",
              "      <td>0.0</td>\n",
              "      <td>50813.627300</td>\n",
              "      <td>NaN</td>\n",
              "    </tr>\n",
              "    <tr>\n",
              "      <th>std</th>\n",
              "      <td>NaN</td>\n",
              "      <td>NaN</td>\n",
              "      <td>NaN</td>\n",
              "      <td>NaN</td>\n",
              "      <td>NaN</td>\n",
              "      <td>NaN</td>\n",
              "      <td>NaN</td>\n",
              "      <td>105.712813</td>\n",
              "      <td>NaN</td>\n",
              "      <td>209.216627</td>\n",
              "      <td>NaN</td>\n",
              "      <td>NaN</td>\n",
              "      <td>3.711984</td>\n",
              "      <td>NaN</td>\n",
              "      <td>NaN</td>\n",
              "      <td>NaN</td>\n",
              "      <td>NaN</td>\n",
              "      <td>0.0</td>\n",
              "      <td>25779.747957</td>\n",
              "      <td>NaN</td>\n",
              "    </tr>\n",
              "    <tr>\n",
              "      <th>min</th>\n",
              "      <td>NaN</td>\n",
              "      <td>NaN</td>\n",
              "      <td>NaN</td>\n",
              "      <td>NaN</td>\n",
              "      <td>NaN</td>\n",
              "      <td>NaN</td>\n",
              "      <td>NaN</td>\n",
              "      <td>1000.000000</td>\n",
              "      <td>NaN</td>\n",
              "      <td>0.000000</td>\n",
              "      <td>NaN</td>\n",
              "      <td>NaN</td>\n",
              "      <td>0.000000</td>\n",
              "      <td>NaN</td>\n",
              "      <td>NaN</td>\n",
              "      <td>NaN</td>\n",
              "      <td>NaN</td>\n",
              "      <td>0.0</td>\n",
              "      <td>1067.000000</td>\n",
              "      <td>NaN</td>\n",
              "    </tr>\n",
              "    <tr>\n",
              "      <th>25%</th>\n",
              "      <td>NaN</td>\n",
              "      <td>NaN</td>\n",
              "      <td>NaN</td>\n",
              "      <td>NaN</td>\n",
              "      <td>NaN</td>\n",
              "      <td>NaN</td>\n",
              "      <td>NaN</td>\n",
              "      <td>1999.000000</td>\n",
              "      <td>NaN</td>\n",
              "      <td>70.000000</td>\n",
              "      <td>NaN</td>\n",
              "      <td>NaN</td>\n",
              "      <td>3.000000</td>\n",
              "      <td>NaN</td>\n",
              "      <td>NaN</td>\n",
              "      <td>NaN</td>\n",
              "      <td>NaN</td>\n",
              "      <td>0.0</td>\n",
              "      <td>30451.000000</td>\n",
              "      <td>NaN</td>\n",
              "    </tr>\n",
              "    <tr>\n",
              "      <th>50%</th>\n",
              "      <td>NaN</td>\n",
              "      <td>NaN</td>\n",
              "      <td>NaN</td>\n",
              "      <td>NaN</td>\n",
              "      <td>NaN</td>\n",
              "      <td>NaN</td>\n",
              "      <td>NaN</td>\n",
              "      <td>2003.000000</td>\n",
              "      <td>NaN</td>\n",
              "      <td>105.000000</td>\n",
              "      <td>NaN</td>\n",
              "      <td>NaN</td>\n",
              "      <td>6.000000</td>\n",
              "      <td>NaN</td>\n",
              "      <td>NaN</td>\n",
              "      <td>NaN</td>\n",
              "      <td>NaN</td>\n",
              "      <td>0.0</td>\n",
              "      <td>49577.000000</td>\n",
              "      <td>NaN</td>\n",
              "    </tr>\n",
              "    <tr>\n",
              "      <th>75%</th>\n",
              "      <td>NaN</td>\n",
              "      <td>NaN</td>\n",
              "      <td>NaN</td>\n",
              "      <td>NaN</td>\n",
              "      <td>NaN</td>\n",
              "      <td>NaN</td>\n",
              "      <td>NaN</td>\n",
              "      <td>2008.000000</td>\n",
              "      <td>NaN</td>\n",
              "      <td>150.000000</td>\n",
              "      <td>NaN</td>\n",
              "      <td>NaN</td>\n",
              "      <td>9.000000</td>\n",
              "      <td>NaN</td>\n",
              "      <td>NaN</td>\n",
              "      <td>NaN</td>\n",
              "      <td>NaN</td>\n",
              "      <td>0.0</td>\n",
              "      <td>71540.000000</td>\n",
              "      <td>NaN</td>\n",
              "    </tr>\n",
              "    <tr>\n",
              "      <th>max</th>\n",
              "      <td>NaN</td>\n",
              "      <td>NaN</td>\n",
              "      <td>NaN</td>\n",
              "      <td>NaN</td>\n",
              "      <td>NaN</td>\n",
              "      <td>NaN</td>\n",
              "      <td>NaN</td>\n",
              "      <td>9999.000000</td>\n",
              "      <td>NaN</td>\n",
              "      <td>17700.000000</td>\n",
              "      <td>NaN</td>\n",
              "      <td>NaN</td>\n",
              "      <td>12.000000</td>\n",
              "      <td>NaN</td>\n",
              "      <td>NaN</td>\n",
              "      <td>NaN</td>\n",
              "      <td>NaN</td>\n",
              "      <td>0.0</td>\n",
              "      <td>99998.000000</td>\n",
              "      <td>NaN</td>\n",
              "    </tr>\n",
              "  </tbody>\n",
              "</table>\n",
              "</div>"
            ],
            "text/plain": [
              "               date_crawled         name  ...   postal_code            last_seen\n",
              "count                 50000        50000  ...  50000.000000                50000\n",
              "unique                48213        38754  ...           NaN                39481\n",
              "top     2016-03-27 22:55:05  Ford_Fiesta  ...           NaN  2016-04-07 06:17:27\n",
              "freq                      3           78  ...           NaN                    8\n",
              "mean                    NaN          NaN  ...  50813.627300                  NaN\n",
              "std                     NaN          NaN  ...  25779.747957                  NaN\n",
              "min                     NaN          NaN  ...   1067.000000                  NaN\n",
              "25%                     NaN          NaN  ...  30451.000000                  NaN\n",
              "50%                     NaN          NaN  ...  49577.000000                  NaN\n",
              "75%                     NaN          NaN  ...  71540.000000                  NaN\n",
              "max                     NaN          NaN  ...  99998.000000                  NaN\n",
              "\n",
              "[11 rows x 20 columns]"
            ]
          },
          "metadata": {
            "tags": []
          },
          "execution_count": 99
        }
      ]
    },
    {
      "cell_type": "markdown",
      "metadata": {
        "id": "kYNs4FsnbN7X",
        "colab_type": "text"
      },
      "source": [
        "Initial observations:\n",
        "\n",
        "- There are a number of text columns where all (or nearly all) of the values are the same:\n",
        "    - `seller`\n",
        "    - `offer_type`\n",
        "- The `num_photos` column looks odd, I'll need to investigate this further."
      ]
    },
    {
      "cell_type": "code",
      "metadata": {
        "id": "jJoDlzARbN7Z",
        "colab_type": "code",
        "outputId": "f268b4ea-ffb5-4a45-aadc-da22fb78cae7",
        "colab": {
          "base_uri": "https://localhost:8080/",
          "height": 51
        }
      },
      "source": [
        "autos[\"num_photos\"].value_counts()"
      ],
      "execution_count": 100,
      "outputs": [
        {
          "output_type": "execute_result",
          "data": {
            "text/plain": [
              "0    50000\n",
              "Name: num_photos, dtype: int64"
            ]
          },
          "metadata": {
            "tags": []
          },
          "execution_count": 100
        }
      ]
    },
    {
      "cell_type": "markdown",
      "metadata": {
        "id": "jvHbOFLvbN7e",
        "colab_type": "text"
      },
      "source": [
        "It looks like the `num_photos` column has `0` for every column.  I'll drop this column, plus the other two I noted as mostly one value."
      ]
    },
    {
      "cell_type": "code",
      "metadata": {
        "id": "qBU4bU6XbN7g",
        "colab_type": "code",
        "colab": {}
      },
      "source": [
        "autos = autos.drop([\"num_photos\", \"seller\", \"offer_type\"], axis=1)"
      ],
      "execution_count": 0,
      "outputs": []
    },
    {
      "cell_type": "markdown",
      "metadata": {
        "id": "MYbH_0n5bN7m",
        "colab_type": "text"
      },
      "source": [
        "There are two columns, `price` and `auto`, which are numeric values with extra characters being stored as text.  I'll clean and convert these."
      ]
    },
    {
      "cell_type": "code",
      "metadata": {
        "id": "eAaAhWkmbN7o",
        "colab_type": "code",
        "outputId": "f4769563-b235-4271-9745-5ebc8000f72c",
        "colab": {
          "base_uri": "https://localhost:8080/",
          "height": 119
        }
      },
      "source": [
        "autos[\"price\"] = (autos[\"price\"]\n",
        "                          .str.replace(\"$\",\"\")\n",
        "                          .str.replace(\",\",\"\")\n",
        "                          .astype(int)\n",
        "                          )\n",
        "autos[\"price\"].head()"
      ],
      "execution_count": 102,
      "outputs": [
        {
          "output_type": "execute_result",
          "data": {
            "text/plain": [
              "0    5000\n",
              "1    8500\n",
              "2    8990\n",
              "3    4350\n",
              "4    1350\n",
              "Name: price, dtype: int64"
            ]
          },
          "metadata": {
            "tags": []
          },
          "execution_count": 102
        }
      ]
    },
    {
      "cell_type": "code",
      "metadata": {
        "id": "R-wZD09ebN7t",
        "colab_type": "code",
        "outputId": "1ae54d28-87e5-4e45-de05-3fa2352dafab",
        "colab": {
          "base_uri": "https://localhost:8080/",
          "height": 119
        }
      },
      "source": [
        "autos[\"odometer\"] = (autos[\"odometer\"]\n",
        "                             .str.replace(\"km\",\"\")\n",
        "                             .str.replace(\",\",\"\")\n",
        "                             .astype(int)\n",
        "                             )\n",
        "autos.rename({\"odometer\": \"odometer_km\"}, axis=1, inplace=True)\n",
        "autos[\"odometer_km\"].head()"
      ],
      "execution_count": 103,
      "outputs": [
        {
          "output_type": "execute_result",
          "data": {
            "text/plain": [
              "0    150000\n",
              "1    150000\n",
              "2     70000\n",
              "3     70000\n",
              "4    150000\n",
              "Name: odometer_km, dtype: int64"
            ]
          },
          "metadata": {
            "tags": []
          },
          "execution_count": 103
        }
      ]
    },
    {
      "cell_type": "markdown",
      "metadata": {
        "id": "Ve-aLQtIbN71",
        "colab_type": "text"
      },
      "source": [
        "## Exploring Odometer and Price"
      ]
    },
    {
      "cell_type": "code",
      "metadata": {
        "id": "Qky05RdSbN77",
        "colab_type": "code",
        "outputId": "6735ec50-f4d3-47da-f6ae-8d64f4edf11b",
        "colab": {
          "base_uri": "https://localhost:8080/",
          "height": 255
        }
      },
      "source": [
        "autos[\"odometer_km\"].value_counts()"
      ],
      "execution_count": 104,
      "outputs": [
        {
          "output_type": "execute_result",
          "data": {
            "text/plain": [
              "150000    32424\n",
              "125000     5170\n",
              "100000     2169\n",
              "90000      1757\n",
              "80000      1436\n",
              "70000      1230\n",
              "60000      1164\n",
              "50000      1027\n",
              "5000        967\n",
              "40000       819\n",
              "30000       789\n",
              "20000       784\n",
              "10000       264\n",
              "Name: odometer_km, dtype: int64"
            ]
          },
          "metadata": {
            "tags": []
          },
          "execution_count": 104
        }
      ]
    },
    {
      "cell_type": "markdown",
      "metadata": {
        "id": "TKXZTzB6bN8C",
        "colab_type": "text"
      },
      "source": [
        "We can see that the values in this field are rounded, which might indicate that sellers had to choose from pre-set options for this field.  Additionally, there are more high mileage than low mileage vehicles."
      ]
    },
    {
      "cell_type": "code",
      "metadata": {
        "id": "jkMzkdqQbN8E",
        "colab_type": "code",
        "outputId": "268e15ed-ae94-45d0-c0eb-8b6fb8a036df",
        "colab": {
          "base_uri": "https://localhost:8080/",
          "height": 544
        }
      },
      "source": [
        "print(autos[\"price\"].unique().shape)\n",
        "print(autos[\"price\"].describe())\n",
        "autos[\"price\"].value_counts().head(20)"
      ],
      "execution_count": 105,
      "outputs": [
        {
          "output_type": "stream",
          "text": [
            "(2357,)\n",
            "count    5.000000e+04\n",
            "mean     9.840044e+03\n",
            "std      4.811044e+05\n",
            "min      0.000000e+00\n",
            "25%      1.100000e+03\n",
            "50%      2.950000e+03\n",
            "75%      7.200000e+03\n",
            "max      1.000000e+08\n",
            "Name: price, dtype: float64\n"
          ],
          "name": "stdout"
        },
        {
          "output_type": "execute_result",
          "data": {
            "text/plain": [
              "0       1421\n",
              "500      781\n",
              "1500     734\n",
              "2500     643\n",
              "1000     639\n",
              "1200     639\n",
              "600      531\n",
              "800      498\n",
              "3500     498\n",
              "2000     460\n",
              "999      434\n",
              "750      433\n",
              "900      420\n",
              "650      419\n",
              "850      410\n",
              "700      395\n",
              "4500     394\n",
              "300      384\n",
              "2200     382\n",
              "950      379\n",
              "Name: price, dtype: int64"
            ]
          },
          "metadata": {
            "tags": []
          },
          "execution_count": 105
        }
      ]
    },
    {
      "cell_type": "markdown",
      "metadata": {
        "id": "wGSE60W7bN8T",
        "colab_type": "text"
      },
      "source": [
        "Again, the prices in this column seem rounded, however given there are 2357 unique values in the column, that may just be people's tendency to round prices on the site.\n",
        "\n",
        "\n",
        "There are 1,421 cars listed with $0 price - given that this is only 2% of the of the cars, we might consider removing these rows.  The maximum price is one hundred million dollars, which seems a lot, let's look at the highest prices further."
      ]
    },
    {
      "cell_type": "code",
      "metadata": {
        "id": "knLL1NhwbN8W",
        "colab_type": "code",
        "outputId": "dc22886f-1487-494d-a4d1-2bf8b65fe31f",
        "colab": {
          "base_uri": "https://localhost:8080/",
          "height": 370
        }
      },
      "source": [
        "autos[\"price\"].value_counts().sort_index(ascending=False).head(20)"
      ],
      "execution_count": 106,
      "outputs": [
        {
          "output_type": "execute_result",
          "data": {
            "text/plain": [
              "99999999    1\n",
              "27322222    1\n",
              "12345678    3\n",
              "11111111    2\n",
              "10000000    1\n",
              "3890000     1\n",
              "1300000     1\n",
              "1234566     1\n",
              "999999      2\n",
              "999990      1\n",
              "350000      1\n",
              "345000      1\n",
              "299000      1\n",
              "295000      1\n",
              "265000      1\n",
              "259000      1\n",
              "250000      1\n",
              "220000      1\n",
              "198000      1\n",
              "197000      1\n",
              "Name: price, dtype: int64"
            ]
          },
          "metadata": {
            "tags": []
          },
          "execution_count": 106
        }
      ]
    },
    {
      "cell_type": "code",
      "metadata": {
        "id": "VFDhJbpVbN8m",
        "colab_type": "code",
        "outputId": "fba99ed0-c16e-4e98-d809-0b8df4ec6f18",
        "colab": {
          "base_uri": "https://localhost:8080/",
          "height": 374
        }
      },
      "source": [
        "autos[\"price\"].value_counts().sort_index(ascending=True).head(20)"
      ],
      "execution_count": 107,
      "outputs": [
        {
          "output_type": "execute_result",
          "data": {
            "text/plain": [
              "0     1421\n",
              "1      156\n",
              "2        3\n",
              "3        1\n",
              "5        2\n",
              "8        1\n",
              "9        1\n",
              "10       7\n",
              "11       2\n",
              "12       3\n",
              "13       2\n",
              "14       1\n",
              "15       2\n",
              "17       3\n",
              "18       1\n",
              "20       4\n",
              "25       5\n",
              "29       1\n",
              "30       7\n",
              "35       1\n",
              "Name: price, dtype: int64"
            ]
          },
          "metadata": {
            "tags": []
          },
          "execution_count": 107
        }
      ]
    },
    {
      "cell_type": "markdown",
      "metadata": {
        "id": "fsw9sC3nbN83",
        "colab_type": "text"
      },
      "source": [
        "There are a number of listings with prices below \\$30, including about 1,500 at \\$0.  There are also a small number of listings with very high values, including 14 at around or over $1 million.\n",
        "\n",
        "Given that eBay is an auction site, there could legitimately be items where the opening bid is \\$1.  I'll keep the \\$1 items, but remove anything above \\$350,000, since it seems that prices increase steadily to that number and then jump up to less realistic numbers."
      ]
    },
    {
      "cell_type": "code",
      "metadata": {
        "id": "XVxVViatbN85",
        "colab_type": "code",
        "outputId": "946f9fe5-28d3-4230-b640-9f5c5bf3707f",
        "colab": {
          "base_uri": "https://localhost:8080/",
          "height": 170
        }
      },
      "source": [
        "autos = autos[autos[\"price\"].between(1,351000)]\n",
        "autos[\"price\"].describe()"
      ],
      "execution_count": 108,
      "outputs": [
        {
          "output_type": "execute_result",
          "data": {
            "text/plain": [
              "count     48565.000000\n",
              "mean       5888.935591\n",
              "std        9059.854754\n",
              "min           1.000000\n",
              "25%        1200.000000\n",
              "50%        3000.000000\n",
              "75%        7490.000000\n",
              "max      350000.000000\n",
              "Name: price, dtype: float64"
            ]
          },
          "metadata": {
            "tags": []
          },
          "execution_count": 108
        }
      ]
    },
    {
      "cell_type": "markdown",
      "metadata": {
        "id": "BESblq1sbN9I",
        "colab_type": "text"
      },
      "source": [
        "## Exploring the date columns"
      ]
    },
    {
      "cell_type": "markdown",
      "metadata": {
        "id": "Po1mee74bN9J",
        "colab_type": "text"
      },
      "source": [
        "There are a number of columns with date information:\n",
        "\n",
        "- `date_crawled`\n",
        "- `registration_month`\n",
        "- `registration_year`\n",
        "- `ad_created`\n",
        "- `last_seen`\n",
        "\n",
        "These are a combination of dates that were crawled, and dates with meta-information from the crawler. The non-registration dates are stored as strings.\n",
        "\n",
        "We'll explore each of these columns to learn more about the listings."
      ]
    },
    {
      "cell_type": "code",
      "metadata": {
        "id": "52vjbcxsbN9L",
        "colab_type": "code",
        "outputId": "af18a521-9c54-4e51-aed8-fb5d4c110d86",
        "colab": {
          "base_uri": "https://localhost:8080/",
          "height": 204
        }
      },
      "source": [
        "autos[['date_crawled','ad_created','last_seen']][0:5]"
      ],
      "execution_count": 109,
      "outputs": [
        {
          "output_type": "execute_result",
          "data": {
            "text/html": [
              "<div>\n",
              "<style scoped>\n",
              "    .dataframe tbody tr th:only-of-type {\n",
              "        vertical-align: middle;\n",
              "    }\n",
              "\n",
              "    .dataframe tbody tr th {\n",
              "        vertical-align: top;\n",
              "    }\n",
              "\n",
              "    .dataframe thead th {\n",
              "        text-align: right;\n",
              "    }\n",
              "</style>\n",
              "<table border=\"1\" class=\"dataframe\">\n",
              "  <thead>\n",
              "    <tr style=\"text-align: right;\">\n",
              "      <th></th>\n",
              "      <th>date_crawled</th>\n",
              "      <th>ad_created</th>\n",
              "      <th>last_seen</th>\n",
              "    </tr>\n",
              "  </thead>\n",
              "  <tbody>\n",
              "    <tr>\n",
              "      <th>0</th>\n",
              "      <td>2016-03-26 17:47:46</td>\n",
              "      <td>2016-03-26 00:00:00</td>\n",
              "      <td>2016-04-06 06:45:54</td>\n",
              "    </tr>\n",
              "    <tr>\n",
              "      <th>1</th>\n",
              "      <td>2016-04-04 13:38:56</td>\n",
              "      <td>2016-04-04 00:00:00</td>\n",
              "      <td>2016-04-06 14:45:08</td>\n",
              "    </tr>\n",
              "    <tr>\n",
              "      <th>2</th>\n",
              "      <td>2016-03-26 18:57:24</td>\n",
              "      <td>2016-03-26 00:00:00</td>\n",
              "      <td>2016-04-06 20:15:37</td>\n",
              "    </tr>\n",
              "    <tr>\n",
              "      <th>3</th>\n",
              "      <td>2016-03-12 16:58:10</td>\n",
              "      <td>2016-03-12 00:00:00</td>\n",
              "      <td>2016-03-15 03:16:28</td>\n",
              "    </tr>\n",
              "    <tr>\n",
              "      <th>4</th>\n",
              "      <td>2016-04-01 14:38:50</td>\n",
              "      <td>2016-04-01 00:00:00</td>\n",
              "      <td>2016-04-01 14:38:50</td>\n",
              "    </tr>\n",
              "  </tbody>\n",
              "</table>\n",
              "</div>"
            ],
            "text/plain": [
              "          date_crawled           ad_created            last_seen\n",
              "0  2016-03-26 17:47:46  2016-03-26 00:00:00  2016-04-06 06:45:54\n",
              "1  2016-04-04 13:38:56  2016-04-04 00:00:00  2016-04-06 14:45:08\n",
              "2  2016-03-26 18:57:24  2016-03-26 00:00:00  2016-04-06 20:15:37\n",
              "3  2016-03-12 16:58:10  2016-03-12 00:00:00  2016-03-15 03:16:28\n",
              "4  2016-04-01 14:38:50  2016-04-01 00:00:00  2016-04-01 14:38:50"
            ]
          },
          "metadata": {
            "tags": []
          },
          "execution_count": 109
        }
      ]
    },
    {
      "cell_type": "code",
      "metadata": {
        "id": "GTgVkzAabN9V",
        "colab_type": "code",
        "outputId": "6bb7e057-09f1-401f-8882-f9082645f2bf",
        "colab": {
          "base_uri": "https://localhost:8080/",
          "height": 612
        }
      },
      "source": [
        "(autos[\"date_crawled\"]\n",
        "        .str[:10]\n",
        "        .value_counts(normalize=True, dropna=False)\n",
        "        .sort_index()\n",
        "        )"
      ],
      "execution_count": 110,
      "outputs": [
        {
          "output_type": "execute_result",
          "data": {
            "text/plain": [
              "2016-03-05    0.025327\n",
              "2016-03-06    0.014043\n",
              "2016-03-07    0.036014\n",
              "2016-03-08    0.033296\n",
              "2016-03-09    0.033090\n",
              "2016-03-10    0.032184\n",
              "2016-03-11    0.032575\n",
              "2016-03-12    0.036920\n",
              "2016-03-13    0.015670\n",
              "2016-03-14    0.036549\n",
              "2016-03-15    0.034284\n",
              "2016-03-16    0.029610\n",
              "2016-03-17    0.031628\n",
              "2016-03-18    0.012911\n",
              "2016-03-19    0.034778\n",
              "2016-03-20    0.037887\n",
              "2016-03-21    0.037373\n",
              "2016-03-22    0.032987\n",
              "2016-03-23    0.032225\n",
              "2016-03-24    0.029342\n",
              "2016-03-25    0.031607\n",
              "2016-03-26    0.032204\n",
              "2016-03-27    0.031092\n",
              "2016-03-28    0.034860\n",
              "2016-03-29    0.034099\n",
              "2016-03-30    0.033687\n",
              "2016-03-31    0.031834\n",
              "2016-04-01    0.033687\n",
              "2016-04-02    0.035478\n",
              "2016-04-03    0.038608\n",
              "2016-04-04    0.036487\n",
              "2016-04-05    0.013096\n",
              "2016-04-06    0.003171\n",
              "2016-04-07    0.001400\n",
              "Name: date_crawled, dtype: float64"
            ]
          },
          "metadata": {
            "tags": []
          },
          "execution_count": 110
        }
      ]
    },
    {
      "cell_type": "markdown",
      "metadata": {
        "id": "cxyTAqIgbN96",
        "colab_type": "text"
      },
      "source": [
        "Looks like the site was crawled daily over roughly a one month period in March and April 2016.  The distribution of listings crawled on each day is roughly uniform."
      ]
    },
    {
      "cell_type": "code",
      "metadata": {
        "id": "MGUTlpbLbN-D",
        "colab_type": "code",
        "outputId": "bb5c275d-5e39-4a70-9e91-332a768686e0",
        "colab": {
          "base_uri": "https://localhost:8080/",
          "height": 612
        }
      },
      "source": [
        "(autos[\"last_seen\"]\n",
        "        .str[:10]\n",
        "        .value_counts(normalize=True, dropna=False)\n",
        "        .sort_index()\n",
        "        )"
      ],
      "execution_count": 111,
      "outputs": [
        {
          "output_type": "execute_result",
          "data": {
            "text/plain": [
              "2016-03-05    0.001071\n",
              "2016-03-06    0.004324\n",
              "2016-03-07    0.005395\n",
              "2016-03-08    0.007413\n",
              "2016-03-09    0.009595\n",
              "2016-03-10    0.010666\n",
              "2016-03-11    0.012375\n",
              "2016-03-12    0.023783\n",
              "2016-03-13    0.008895\n",
              "2016-03-14    0.012602\n",
              "2016-03-15    0.015876\n",
              "2016-03-16    0.016452\n",
              "2016-03-17    0.028086\n",
              "2016-03-18    0.007351\n",
              "2016-03-19    0.015834\n",
              "2016-03-20    0.020653\n",
              "2016-03-21    0.020632\n",
              "2016-03-22    0.021373\n",
              "2016-03-23    0.018532\n",
              "2016-03-24    0.019767\n",
              "2016-03-25    0.019211\n",
              "2016-03-26    0.016802\n",
              "2016-03-27    0.015649\n",
              "2016-03-28    0.020859\n",
              "2016-03-29    0.022341\n",
              "2016-03-30    0.024771\n",
              "2016-03-31    0.023783\n",
              "2016-04-01    0.022794\n",
              "2016-04-02    0.024915\n",
              "2016-04-03    0.025203\n",
              "2016-04-04    0.024483\n",
              "2016-04-05    0.124761\n",
              "2016-04-06    0.221806\n",
              "2016-04-07    0.131947\n",
              "Name: last_seen, dtype: float64"
            ]
          },
          "metadata": {
            "tags": []
          },
          "execution_count": 111
        }
      ]
    },
    {
      "cell_type": "markdown",
      "metadata": {
        "id": "znEfGifYbN-4",
        "colab_type": "text"
      },
      "source": [
        "The crawler recorded the date it last saw any listing, which allows us to determine on what day a listing was removed, presumably because the car was sold.\n",
        "\n",
        "The last three days contain a disproportionate amount of 'last seen' values. Given that these are 6-10x the values from the previous days, it's unlikely that there was a massive spike in sales, and more likely that these values are to do with the crawling period ending and don't indicate car sales."
      ]
    },
    {
      "cell_type": "code",
      "metadata": {
        "id": "wh6CIRu7bN-8",
        "colab_type": "code",
        "outputId": "55e208e9-62ef-412b-e8ac-8989c6c3cdb3",
        "colab": {
          "base_uri": "https://localhost:8080/",
          "height": 238
        }
      },
      "source": [
        "print(autos[\"ad_created\"].str[:10].unique().shape)\n",
        "(autos[\"ad_created\"]\n",
        "        .str[:10]\n",
        "        .value_counts(normalize=True, dropna=False)\n",
        "        .sort_index()\n",
        "        )"
      ],
      "execution_count": 112,
      "outputs": [
        {
          "output_type": "stream",
          "text": [
            "(76,)\n"
          ],
          "name": "stdout"
        },
        {
          "output_type": "execute_result",
          "data": {
            "text/plain": [
              "2015-06-11    0.000021\n",
              "2015-08-10    0.000021\n",
              "2015-09-09    0.000021\n",
              "2015-11-10    0.000021\n",
              "2015-12-05    0.000021\n",
              "                ...   \n",
              "2016-04-03    0.038855\n",
              "2016-04-04    0.036858\n",
              "2016-04-05    0.011819\n",
              "2016-04-06    0.003253\n",
              "2016-04-07    0.001256\n",
              "Name: ad_created, Length: 76, dtype: float64"
            ]
          },
          "metadata": {
            "tags": []
          },
          "execution_count": 112
        }
      ]
    },
    {
      "cell_type": "markdown",
      "metadata": {
        "id": "WzVtouYSbN_C",
        "colab_type": "text"
      },
      "source": [
        "There is a large variety of ad created dates.  Most fall within 1-2 months of the listing date, but a few are quite old, with the oldest at around 9 months."
      ]
    },
    {
      "cell_type": "code",
      "metadata": {
        "id": "Oys0J8ojbN_Q",
        "colab_type": "code",
        "outputId": "6a152d0c-fbc9-41a8-a30e-a2a46aeeda75",
        "colab": {
          "base_uri": "https://localhost:8080/",
          "height": 170
        }
      },
      "source": [
        "autos[\"registration_year\"].describe()"
      ],
      "execution_count": 113,
      "outputs": [
        {
          "output_type": "execute_result",
          "data": {
            "text/plain": [
              "count    48565.000000\n",
              "mean      2004.755421\n",
              "std         88.643887\n",
              "min       1000.000000\n",
              "25%       1999.000000\n",
              "50%       2004.000000\n",
              "75%       2008.000000\n",
              "max       9999.000000\n",
              "Name: registration_year, dtype: float64"
            ]
          },
          "metadata": {
            "tags": []
          },
          "execution_count": 113
        }
      ]
    },
    {
      "cell_type": "markdown",
      "metadata": {
        "id": "RWJfpkC5bN_z",
        "colab_type": "text"
      },
      "source": [
        "The year that the car was first registered will likely indicate the age of the car.  Looking at this column, we can note some odd values.  The minimum value is `1000`, long before cars were invented and the maximum is `9999`, many years into the future."
      ]
    },
    {
      "cell_type": "markdown",
      "metadata": {
        "id": "vYtyfWq1bN_1",
        "colab_type": "text"
      },
      "source": [
        "## Dealing with Incorrect Registration Year Data"
      ]
    },
    {
      "cell_type": "markdown",
      "metadata": {
        "id": "Ti1NpmC_bN_4",
        "colab_type": "text"
      },
      "source": [
        "Because a car can't be first registered before the listing was seen, any vehicle with a registration year above 2016 is definitely inaccurate.  Determining the earliest valid year is more difficult.  Realistically, it could be somewhere in the first few decades of the 1900s."
      ]
    },
    {
      "cell_type": "code",
      "metadata": {
        "id": "OvMfKi8svTTB",
        "colab_type": "code",
        "colab": {
          "base_uri": "https://localhost:8080/",
          "height": 323
        },
        "outputId": "1bc0bc81-6959-453e-fc02-9191580ed258"
      },
      "source": [
        "autos.loc[~autos[\"registration_year\"].between(1900,2016), \"registration_year\"].value_counts().sort_index()"
      ],
      "execution_count": 114,
      "outputs": [
        {
          "output_type": "execute_result",
          "data": {
            "text/plain": [
              "1000       1\n",
              "1001       1\n",
              "1111       1\n",
              "1800       2\n",
              "2017    1392\n",
              "2018     470\n",
              "2019       2\n",
              "2800       1\n",
              "4100       1\n",
              "4500       1\n",
              "4800       1\n",
              "5000       4\n",
              "5911       1\n",
              "6200       1\n",
              "8888       1\n",
              "9000       1\n",
              "9999       3\n",
              "Name: registration_year, dtype: int64"
            ]
          },
          "metadata": {
            "tags": []
          },
          "execution_count": 114
        }
      ]
    },
    {
      "cell_type": "markdown",
      "metadata": {
        "id": "3hid_njY0boe",
        "colab_type": "text"
      },
      "source": [
        "One option is to remove the listings with these values.  Let's determine what percentage of the data has invalid values in this column:"
      ]
    },
    {
      "cell_type": "code",
      "metadata": {
        "id": "oEaJJOKkbN__",
        "colab_type": "code",
        "outputId": "1ce25caf-4ef3-4fe6-cd35-8787444844b4",
        "colab": {
          "base_uri": "https://localhost:8080/",
          "height": 34
        }
      },
      "source": [
        "(~autos[\"registration_year\"].between(1900,2016)).sum() / autos.shape[0]"
      ],
      "execution_count": 115,
      "outputs": [
        {
          "output_type": "execute_result",
          "data": {
            "text/plain": [
              "0.038793369710697"
            ]
          },
          "metadata": {
            "tags": []
          },
          "execution_count": 115
        }
      ]
    },
    {
      "cell_type": "markdown",
      "metadata": {
        "id": "9WcqCDpjbOAL",
        "colab_type": "text"
      },
      "source": [
        "Given that this is less than 4% of our data, I'll remove these rows."
      ]
    },
    {
      "cell_type": "code",
      "metadata": {
        "id": "MNHMKlJvbOAM",
        "colab_type": "code",
        "outputId": "21e108c5-c804-41ec-850a-4df3d8079a4b",
        "colab": {
          "base_uri": "https://localhost:8080/",
          "height": 204
        }
      },
      "source": [
        "autos = autos[autos[\"registration_year\"].between(1900,2016)]\n",
        "autos[\"registration_year\"].value_counts(normalize=True).head(10)"
      ],
      "execution_count": 116,
      "outputs": [
        {
          "output_type": "execute_result",
          "data": {
            "text/plain": [
              "2000    0.067608\n",
              "2005    0.062895\n",
              "1999    0.062060\n",
              "2004    0.057904\n",
              "2003    0.057818\n",
              "2006    0.057197\n",
              "2001    0.056468\n",
              "2002    0.053255\n",
              "1998    0.050620\n",
              "2007    0.048778\n",
              "Name: registration_year, dtype: float64"
            ]
          },
          "metadata": {
            "tags": []
          },
          "execution_count": 116
        }
      ]
    },
    {
      "cell_type": "markdown",
      "metadata": {
        "id": "_yNZ7QghbOAU",
        "colab_type": "text"
      },
      "source": [
        "It appears that most of the vehicles were first registered in the past 20 years."
      ]
    },
    {
      "cell_type": "markdown",
      "metadata": {
        "id": "aRzB0XIsbOAV",
        "colab_type": "text"
      },
      "source": [
        "## Exploring Price by Brand"
      ]
    },
    {
      "cell_type": "code",
      "metadata": {
        "id": "UpjS36NXbOAW",
        "colab_type": "code",
        "outputId": "78b0e2af-3019-4871-fd9b-2ef5a77daeda",
        "colab": {
          "base_uri": "https://localhost:8080/",
          "height": 714
        }
      },
      "source": [
        "autos[\"brand\"].value_counts(normalize=True)"
      ],
      "execution_count": 117,
      "outputs": [
        {
          "output_type": "execute_result",
          "data": {
            "text/plain": [
              "volkswagen        0.211264\n",
              "bmw               0.110045\n",
              "opel              0.107581\n",
              "mercedes_benz     0.096463\n",
              "audi              0.086566\n",
              "ford              0.069900\n",
              "renault           0.047150\n",
              "peugeot           0.029841\n",
              "fiat              0.025642\n",
              "seat              0.018273\n",
              "skoda             0.016409\n",
              "nissan            0.015274\n",
              "mazda             0.015188\n",
              "smart             0.014160\n",
              "citroen           0.014010\n",
              "toyota            0.012703\n",
              "hyundai           0.010025\n",
              "sonstige_autos    0.009811\n",
              "volvo             0.009147\n",
              "mini              0.008762\n",
              "mitsubishi        0.008226\n",
              "honda             0.007840\n",
              "kia               0.007069\n",
              "alfa_romeo        0.006641\n",
              "porsche           0.006127\n",
              "suzuki            0.005934\n",
              "chevrolet         0.005698\n",
              "chrysler          0.003513\n",
              "dacia             0.002635\n",
              "daihatsu          0.002506\n",
              "jeep              0.002271\n",
              "subaru            0.002142\n",
              "land_rover        0.002099\n",
              "saab              0.001649\n",
              "jaguar            0.001564\n",
              "daewoo            0.001500\n",
              "trabant           0.001392\n",
              "rover             0.001328\n",
              "lancia            0.001071\n",
              "lada              0.000578\n",
              "Name: brand, dtype: float64"
            ]
          },
          "metadata": {
            "tags": []
          },
          "execution_count": 117
        }
      ]
    },
    {
      "cell_type": "markdown",
      "metadata": {
        "id": "633TNQZ8bOAd",
        "colab_type": "text"
      },
      "source": [
        "German manufacturers represent four out of the top five brands, almost 50% of the overall listings.  Volkswagen is by far the most popular brand, with approximately double the cars for sale of the next two brands combined.\n",
        "\n",
        "There are lots of brands that don't have a significant percentage of listings, so I'll limit our analysis to brands representing more than 5% of total listings."
      ]
    },
    {
      "cell_type": "code",
      "metadata": {
        "id": "qbXekw5bbOAk",
        "colab_type": "code",
        "outputId": "bc7049d8-5c2d-4f5e-cfaf-a77f1a4e6598",
        "colab": {
          "base_uri": "https://localhost:8080/",
          "height": 34
        }
      },
      "source": [
        "brand_counts = autos[\"brand\"].value_counts(normalize=True)\n",
        "common_brands = brand_counts[brand_counts > .05].index\n",
        "print(common_brands)"
      ],
      "execution_count": 118,
      "outputs": [
        {
          "output_type": "stream",
          "text": [
            "Index(['volkswagen', 'bmw', 'opel', 'mercedes_benz', 'audi', 'ford'], dtype='object')\n"
          ],
          "name": "stdout"
        }
      ]
    },
    {
      "cell_type": "code",
      "metadata": {
        "id": "68Z7XbUjbOAq",
        "colab_type": "code",
        "outputId": "ec46e77b-a81f-45d9-f33f-20d10964a17c",
        "colab": {
          "base_uri": "https://localhost:8080/",
          "height": 235
        }
      },
      "source": [
        "brand_mean_prices = {}\n",
        "\n",
        "for brand in common_brands:\n",
        "    brand_only = autos[autos[\"brand\"] == brand]\n",
        "    mean_price = brand_only[\"price\"].mean()\n",
        "    brand_mean_prices[brand] = int(mean_price)\n",
        "\n",
        "bmp_series = pd.Series(brand_mean_prices)\n",
        "pd.DataFrame(bmp_series, columns=[\"mean_price\"])"
      ],
      "execution_count": 119,
      "outputs": [
        {
          "output_type": "execute_result",
          "data": {
            "text/html": [
              "<div>\n",
              "<style scoped>\n",
              "    .dataframe tbody tr th:only-of-type {\n",
              "        vertical-align: middle;\n",
              "    }\n",
              "\n",
              "    .dataframe tbody tr th {\n",
              "        vertical-align: top;\n",
              "    }\n",
              "\n",
              "    .dataframe thead th {\n",
              "        text-align: right;\n",
              "    }\n",
              "</style>\n",
              "<table border=\"1\" class=\"dataframe\">\n",
              "  <thead>\n",
              "    <tr style=\"text-align: right;\">\n",
              "      <th></th>\n",
              "      <th>mean_price</th>\n",
              "    </tr>\n",
              "  </thead>\n",
              "  <tbody>\n",
              "    <tr>\n",
              "      <th>volkswagen</th>\n",
              "      <td>5402</td>\n",
              "    </tr>\n",
              "    <tr>\n",
              "      <th>bmw</th>\n",
              "      <td>8332</td>\n",
              "    </tr>\n",
              "    <tr>\n",
              "      <th>opel</th>\n",
              "      <td>2975</td>\n",
              "    </tr>\n",
              "    <tr>\n",
              "      <th>mercedes_benz</th>\n",
              "      <td>8628</td>\n",
              "    </tr>\n",
              "    <tr>\n",
              "      <th>audi</th>\n",
              "      <td>9336</td>\n",
              "    </tr>\n",
              "    <tr>\n",
              "      <th>ford</th>\n",
              "      <td>3749</td>\n",
              "    </tr>\n",
              "  </tbody>\n",
              "</table>\n",
              "</div>"
            ],
            "text/plain": [
              "               mean_price\n",
              "volkswagen           5402\n",
              "bmw                  8332\n",
              "opel                 2975\n",
              "mercedes_benz        8628\n",
              "audi                 9336\n",
              "ford                 3749"
            ]
          },
          "metadata": {
            "tags": []
          },
          "execution_count": 119
        }
      ]
    },
    {
      "cell_type": "markdown",
      "metadata": {
        "id": "mt2UbpqobOA0",
        "colab_type": "text"
      },
      "source": [
        "Of the top 6 brands, there is a distinct price gap:\n",
        "\n",
        "- Audi, BMW and Mercedes Benz are more expensive\n",
        "- Ford and Opel are less expensive\n",
        "- Volkswagen is in between - this may explain its popularity, it may be a 'best of 'both worlds' option."
      ]
    },
    {
      "cell_type": "markdown",
      "metadata": {
        "id": "FHR7sgIfbOA1",
        "colab_type": "text"
      },
      "source": [
        "## Exploring Mileage"
      ]
    },
    {
      "cell_type": "code",
      "metadata": {
        "colab_type": "code",
        "id": "uvL5hayc5UBu",
        "colab": {}
      },
      "source": [
        "brand_mean_mileage = {}\n",
        "\n",
        "for brand in common_brands:\n",
        "    brand_only = autos[autos[\"brand\"] == brand]\n",
        "    mean_mileage = brand_only[\"odometer_km\"].mean()\n",
        "    brand_mean_mileage[brand] = int(mean_mileage)\n",
        "\n",
        "mean_mileage = pd.Series(brand_mean_mileage).sort_values(ascending=False)\n",
        "mean_prices = pd.Series(brand_mean_prices).sort_values(ascending=False)"
      ],
      "execution_count": 0,
      "outputs": []
    },
    {
      "cell_type": "code",
      "metadata": {
        "id": "gRW2K3R6bOBB",
        "colab_type": "code",
        "outputId": "407c2d23-6b26-4512-d902-477489da786f",
        "colab": {
          "base_uri": "https://localhost:8080/",
          "height": 235
        }
      },
      "source": [
        "brand_info = pd.DataFrame(mean_mileage,columns=['mean_mileage'])\n",
        "brand_info"
      ],
      "execution_count": 121,
      "outputs": [
        {
          "output_type": "execute_result",
          "data": {
            "text/html": [
              "<div>\n",
              "<style scoped>\n",
              "    .dataframe tbody tr th:only-of-type {\n",
              "        vertical-align: middle;\n",
              "    }\n",
              "\n",
              "    .dataframe tbody tr th {\n",
              "        vertical-align: top;\n",
              "    }\n",
              "\n",
              "    .dataframe thead th {\n",
              "        text-align: right;\n",
              "    }\n",
              "</style>\n",
              "<table border=\"1\" class=\"dataframe\">\n",
              "  <thead>\n",
              "    <tr style=\"text-align: right;\">\n",
              "      <th></th>\n",
              "      <th>mean_mileage</th>\n",
              "    </tr>\n",
              "  </thead>\n",
              "  <tbody>\n",
              "    <tr>\n",
              "      <th>bmw</th>\n",
              "      <td>132572</td>\n",
              "    </tr>\n",
              "    <tr>\n",
              "      <th>mercedes_benz</th>\n",
              "      <td>130788</td>\n",
              "    </tr>\n",
              "    <tr>\n",
              "      <th>opel</th>\n",
              "      <td>129310</td>\n",
              "    </tr>\n",
              "    <tr>\n",
              "      <th>audi</th>\n",
              "      <td>129157</td>\n",
              "    </tr>\n",
              "    <tr>\n",
              "      <th>volkswagen</th>\n",
              "      <td>128707</td>\n",
              "    </tr>\n",
              "    <tr>\n",
              "      <th>ford</th>\n",
              "      <td>124266</td>\n",
              "    </tr>\n",
              "  </tbody>\n",
              "</table>\n",
              "</div>"
            ],
            "text/plain": [
              "               mean_mileage\n",
              "bmw                  132572\n",
              "mercedes_benz        130788\n",
              "opel                 129310\n",
              "audi                 129157\n",
              "volkswagen           128707\n",
              "ford                 124266"
            ]
          },
          "metadata": {
            "tags": []
          },
          "execution_count": 121
        }
      ]
    },
    {
      "cell_type": "code",
      "metadata": {
        "id": "-YzzuSd9bOBG",
        "colab_type": "code",
        "outputId": "dea84548-ee01-4756-8f71-f54513983b09",
        "colab": {
          "base_uri": "https://localhost:8080/",
          "height": 235
        }
      },
      "source": [
        "brand_info[\"mean_price\"] = mean_prices\n",
        "brand_info"
      ],
      "execution_count": 122,
      "outputs": [
        {
          "output_type": "execute_result",
          "data": {
            "text/html": [
              "<div>\n",
              "<style scoped>\n",
              "    .dataframe tbody tr th:only-of-type {\n",
              "        vertical-align: middle;\n",
              "    }\n",
              "\n",
              "    .dataframe tbody tr th {\n",
              "        vertical-align: top;\n",
              "    }\n",
              "\n",
              "    .dataframe thead th {\n",
              "        text-align: right;\n",
              "    }\n",
              "</style>\n",
              "<table border=\"1\" class=\"dataframe\">\n",
              "  <thead>\n",
              "    <tr style=\"text-align: right;\">\n",
              "      <th></th>\n",
              "      <th>mean_mileage</th>\n",
              "      <th>mean_price</th>\n",
              "    </tr>\n",
              "  </thead>\n",
              "  <tbody>\n",
              "    <tr>\n",
              "      <th>bmw</th>\n",
              "      <td>132572</td>\n",
              "      <td>8332</td>\n",
              "    </tr>\n",
              "    <tr>\n",
              "      <th>mercedes_benz</th>\n",
              "      <td>130788</td>\n",
              "      <td>8628</td>\n",
              "    </tr>\n",
              "    <tr>\n",
              "      <th>opel</th>\n",
              "      <td>129310</td>\n",
              "      <td>2975</td>\n",
              "    </tr>\n",
              "    <tr>\n",
              "      <th>audi</th>\n",
              "      <td>129157</td>\n",
              "      <td>9336</td>\n",
              "    </tr>\n",
              "    <tr>\n",
              "      <th>volkswagen</th>\n",
              "      <td>128707</td>\n",
              "      <td>5402</td>\n",
              "    </tr>\n",
              "    <tr>\n",
              "      <th>ford</th>\n",
              "      <td>124266</td>\n",
              "      <td>3749</td>\n",
              "    </tr>\n",
              "  </tbody>\n",
              "</table>\n",
              "</div>"
            ],
            "text/plain": [
              "               mean_mileage  mean_price\n",
              "bmw                  132572        8332\n",
              "mercedes_benz        130788        8628\n",
              "opel                 129310        2975\n",
              "audi                 129157        9336\n",
              "volkswagen           128707        5402\n",
              "ford                 124266        3749"
            ]
          },
          "metadata": {
            "tags": []
          },
          "execution_count": 122
        }
      ]
    },
    {
      "cell_type": "markdown",
      "metadata": {
        "id": "-6CAm_9ybOBM",
        "colab_type": "text"
      },
      "source": [
        "The range of car mileages does not vary as much as the prices do by brand, instead all falling within 10% for the top brands.  There is a slight trend to the more expensive vehicles having higher mileage, with the less expensive vehicles having lower mileage."
      ]
    }
  ]
}