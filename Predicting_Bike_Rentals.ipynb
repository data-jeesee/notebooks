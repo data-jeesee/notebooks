{
  "nbformat": 4,
  "nbformat_minor": 0,
  "metadata": {
    "colab": {
      "name": "Predicting Bike Rentals",
      "provenance": [],
      "authorship_tag": "ABX9TyP4d0e6nNo7K5yzNzbA1HES"
    },
    "kernelspec": {
      "name": "python3",
      "display_name": "Python 3"
    }
  },
  "cells": [
    {
      "cell_type": "markdown",
      "metadata": {
        "id": "Jc7PL3u39Vyn",
        "colab_type": "text"
      },
      "source": [
        "# Predicting Bike Rentals\n",
        "\n",
        "Many American cities have communal bike sharing stations where it's possible to rent bicycles by the hour or day. Washington, D.C. is one of these cities. The District collects detailed data on the number of bicycles people rent by the hour and day.\n",
        "\n",
        "In this project, I'll try to predict the total number of bikes people rented in a given hour. To accomplish this, I'll create a few different machine learning models and evaluate their performance."
      ]
    },
    {
      "cell_type": "markdown",
      "metadata": {
        "id": "cnA6JpyfAxXa",
        "colab_type": "text"
      },
      "source": [
        "# Exploring the Data\n",
        "\n",
        "[Hadi Fanaee-T](http://www.liaad.up.pt/area/fanaee) at the University of Porto compiled this data into a CSV file. The file contains 17380 rows, with each row representing the number of bike rentals for a single hour of a single day. You can download the data from the [University of California, Irvine's website](http://archive.ics.uci.edu/ml/datasets/Bike+Sharing+Dataset). \n",
        "\n",
        "Here's a preview of the data set:"
      ]
    },
    {
      "cell_type": "code",
      "metadata": {
        "id": "gjgrYhAc_xpJ",
        "colab_type": "code",
        "outputId": "a86f9f68-5451-4c9b-fefb-f905a21177f2",
        "colab": {
          "base_uri": "https://localhost:8080/",
          "height": 309
        }
      },
      "source": [
        "# Import libraries\n",
        "import pandas as pd\n",
        "import numpy as np\n",
        "import matplotlib.pyplot as plt\n",
        "from sklearn.linear_model import LinearRegression\n",
        "from sklearn.tree import DecisionTreeRegressor\n",
        "from sklearn.ensemble import RandomForestRegressor\n",
        "from sklearn.model_selection import KFold\n",
        "from sklearn.model_selection import cross_val_score\n",
        "\n",
        "# Options to set\n",
        "%matplotlib inline\n",
        "plt.style.use('fivethirtyeight')\n",
        "pd.set_option('display.max_columns', 99)\n",
        "np.random.seed(1)\n",
        "model_seed = 1\n",
        "\n",
        "# Load the data\n",
        "bike_rentals = pd.read_csv(\"bike_rental_hour.csv\")\n",
        "\n",
        "bike_rentals.head()"
      ],
      "execution_count": 32,
      "outputs": [
        {
          "output_type": "execute_result",
          "data": {
            "text/html": [
              "<div>\n",
              "<style scoped>\n",
              "    .dataframe tbody tr th:only-of-type {\n",
              "        vertical-align: middle;\n",
              "    }\n",
              "\n",
              "    .dataframe tbody tr th {\n",
              "        vertical-align: top;\n",
              "    }\n",
              "\n",
              "    .dataframe thead th {\n",
              "        text-align: right;\n",
              "    }\n",
              "</style>\n",
              "<table border=\"1\" class=\"dataframe\">\n",
              "  <thead>\n",
              "    <tr style=\"text-align: right;\">\n",
              "      <th></th>\n",
              "      <th>instant</th>\n",
              "      <th>dteday</th>\n",
              "      <th>season</th>\n",
              "      <th>yr</th>\n",
              "      <th>mnth</th>\n",
              "      <th>hr</th>\n",
              "      <th>holiday</th>\n",
              "      <th>weekday</th>\n",
              "      <th>workingday</th>\n",
              "      <th>weathersit</th>\n",
              "      <th>temp</th>\n",
              "      <th>atemp</th>\n",
              "      <th>hum</th>\n",
              "      <th>windspeed</th>\n",
              "      <th>casual</th>\n",
              "      <th>registered</th>\n",
              "      <th>cnt</th>\n",
              "    </tr>\n",
              "  </thead>\n",
              "  <tbody>\n",
              "    <tr>\n",
              "      <th>0</th>\n",
              "      <td>1</td>\n",
              "      <td>2011-01-01</td>\n",
              "      <td>1</td>\n",
              "      <td>0</td>\n",
              "      <td>1</td>\n",
              "      <td>0</td>\n",
              "      <td>0</td>\n",
              "      <td>6</td>\n",
              "      <td>0</td>\n",
              "      <td>1</td>\n",
              "      <td>0.24</td>\n",
              "      <td>0.2879</td>\n",
              "      <td>0.81</td>\n",
              "      <td>0.0</td>\n",
              "      <td>3</td>\n",
              "      <td>13</td>\n",
              "      <td>16</td>\n",
              "    </tr>\n",
              "    <tr>\n",
              "      <th>1</th>\n",
              "      <td>2</td>\n",
              "      <td>2011-01-01</td>\n",
              "      <td>1</td>\n",
              "      <td>0</td>\n",
              "      <td>1</td>\n",
              "      <td>1</td>\n",
              "      <td>0</td>\n",
              "      <td>6</td>\n",
              "      <td>0</td>\n",
              "      <td>1</td>\n",
              "      <td>0.22</td>\n",
              "      <td>0.2727</td>\n",
              "      <td>0.80</td>\n",
              "      <td>0.0</td>\n",
              "      <td>8</td>\n",
              "      <td>32</td>\n",
              "      <td>40</td>\n",
              "    </tr>\n",
              "    <tr>\n",
              "      <th>2</th>\n",
              "      <td>3</td>\n",
              "      <td>2011-01-01</td>\n",
              "      <td>1</td>\n",
              "      <td>0</td>\n",
              "      <td>1</td>\n",
              "      <td>2</td>\n",
              "      <td>0</td>\n",
              "      <td>6</td>\n",
              "      <td>0</td>\n",
              "      <td>1</td>\n",
              "      <td>0.22</td>\n",
              "      <td>0.2727</td>\n",
              "      <td>0.80</td>\n",
              "      <td>0.0</td>\n",
              "      <td>5</td>\n",
              "      <td>27</td>\n",
              "      <td>32</td>\n",
              "    </tr>\n",
              "    <tr>\n",
              "      <th>3</th>\n",
              "      <td>4</td>\n",
              "      <td>2011-01-01</td>\n",
              "      <td>1</td>\n",
              "      <td>0</td>\n",
              "      <td>1</td>\n",
              "      <td>3</td>\n",
              "      <td>0</td>\n",
              "      <td>6</td>\n",
              "      <td>0</td>\n",
              "      <td>1</td>\n",
              "      <td>0.24</td>\n",
              "      <td>0.2879</td>\n",
              "      <td>0.75</td>\n",
              "      <td>0.0</td>\n",
              "      <td>3</td>\n",
              "      <td>10</td>\n",
              "      <td>13</td>\n",
              "    </tr>\n",
              "    <tr>\n",
              "      <th>4</th>\n",
              "      <td>5</td>\n",
              "      <td>2011-01-01</td>\n",
              "      <td>1</td>\n",
              "      <td>0</td>\n",
              "      <td>1</td>\n",
              "      <td>4</td>\n",
              "      <td>0</td>\n",
              "      <td>6</td>\n",
              "      <td>0</td>\n",
              "      <td>1</td>\n",
              "      <td>0.24</td>\n",
              "      <td>0.2879</td>\n",
              "      <td>0.75</td>\n",
              "      <td>0.0</td>\n",
              "      <td>0</td>\n",
              "      <td>1</td>\n",
              "      <td>1</td>\n",
              "    </tr>\n",
              "  </tbody>\n",
              "</table>\n",
              "</div>"
            ],
            "text/plain": [
              "   instant      dteday  season  yr  mnth  hr  holiday  weekday  workingday  \\\n",
              "0        1  2011-01-01       1   0     1   0        0        6           0   \n",
              "1        2  2011-01-01       1   0     1   1        0        6           0   \n",
              "2        3  2011-01-01       1   0     1   2        0        6           0   \n",
              "3        4  2011-01-01       1   0     1   3        0        6           0   \n",
              "4        5  2011-01-01       1   0     1   4        0        6           0   \n",
              "\n",
              "   weathersit  temp   atemp   hum  windspeed  casual  registered  cnt  \n",
              "0           1  0.24  0.2879  0.81        0.0       3          13   16  \n",
              "1           1  0.22  0.2727  0.80        0.0       8          32   40  \n",
              "2           1  0.22  0.2727  0.80        0.0       5          27   32  \n",
              "3           1  0.24  0.2879  0.75        0.0       3          10   13  \n",
              "4           1  0.24  0.2879  0.75        0.0       0           1    1  "
            ]
          },
          "metadata": {
            "tags": []
          },
          "execution_count": 32
        }
      ]
    },
    {
      "cell_type": "markdown",
      "metadata": {
        "id": "9xsfEftI_eb6",
        "colab_type": "text"
      },
      "source": [
        "Here are the descriptions for the relevant columns:\n",
        "\n",
        "- `instant` - A unique sequential ID number for each row\n",
        "- `dteday` - The date of the rentals\n",
        "- `season` - The season in which the rentals occurred\n",
        "- `yr` - The year the rentals occurred\n",
        "- `mnth` - The month the rentals occurred\n",
        "- `hr` - The hour the rentals occurred\n",
        "- `holiday` - Whether or not the day was a holiday\n",
        "- `weekday` - The day of the week (as a number, 0 to 7)\n",
        "- `workingday` - Whether or not the day was a working day\n",
        "- `weathersit` - The weather (as a categorical variable)\n",
        "- `temp` - The temperature, on a 0-1 scale\n",
        "- `atemp` - The adjusted temperature\n",
        "- `hum` - The humidity, on a 0-1 scale\n",
        "- `windspeed` - The wind speed, on a 0-1 scale\n",
        "- `casual` - The number of casual riders (people who hadn't previously signed up with the bike sharing program)\n",
        "- `registered` - The number of registered riders (people who had already signed up)\n",
        "- `cnt` - The total number of bike rentals (`casual` + `registered`)\n",
        "\n",
        "I'll predict the `cnt` column using all of the other columns, except for `casual` and `registered`.\n"
      ]
    },
    {
      "cell_type": "markdown",
      "metadata": {
        "id": "tKEIxMZtAl2K",
        "colab_type": "text"
      },
      "source": [
        "## Histogram\n",
        "\n",
        "Let's make a histogram of the `cnt` column of `bike_rentals`, and take a look at the distribution of total rentals."
      ]
    },
    {
      "cell_type": "code",
      "metadata": {
        "id": "YJv5KFgj9Gfj",
        "colab_type": "code",
        "colab": {
          "base_uri": "https://localhost:8080/",
          "height": 435
        },
        "outputId": "ba6eb528-c185-4ebb-972e-fdb151513a8e"
      },
      "source": [
        "bike_rentals[\"cnt\"].hist()\n",
        "bike_rentals[\"cnt\"].describe()"
      ],
      "execution_count": 33,
      "outputs": [
        {
          "output_type": "execute_result",
          "data": {
            "text/plain": [
              "count    17379.000000\n",
              "mean       189.463088\n",
              "std        181.387599\n",
              "min          1.000000\n",
              "25%         40.000000\n",
              "50%        142.000000\n",
              "75%        281.000000\n",
              "max        977.000000\n",
              "Name: cnt, dtype: float64"
            ]
          },
          "metadata": {
            "tags": []
          },
          "execution_count": 33
        },
        {
          "output_type": "display_data",
          "data": {
            "image/png": "[encoded data removed]",
            "text/plain": [
              "<Figure size 432x288 with 1 Axes>"
            ]
          },
          "metadata": {
            "tags": []
          }
        }
      ]
    },
    {
      "cell_type": "markdown",
      "metadata": {
        "id": "yDi53TeEBo4O",
        "colab_type": "text"
      },
      "source": [
        "## Correlation\n",
        "\n",
        "LEt's use the `corr()` method on the `bike_rentals` dataframe to explore how each column is correlated with `cnt`."
      ]
    },
    {
      "cell_type": "code",
      "metadata": {
        "id": "3gWfZGlg9Ivb",
        "colab_type": "code",
        "outputId": "ec39b2e1-365e-4e71-a0fc-d3744d175410",
        "colab": {
          "base_uri": "https://localhost:8080/",
          "height": 306
        }
      },
      "source": [
        "bike_rentals.corr()[\"cnt\"].sort_values(ascending=False)"
      ],
      "execution_count": 34,
      "outputs": [
        {
          "output_type": "execute_result",
          "data": {
            "text/plain": [
              "cnt           1.000000\n",
              "registered    0.972151\n",
              "casual        0.694564\n",
              "temp          0.404772\n",
              "atemp         0.400929\n",
              "hr            0.394071\n",
              "instant       0.278379\n",
              "yr            0.250495\n",
              "season        0.178056\n",
              "mnth          0.120638\n",
              "windspeed     0.093234\n",
              "workingday    0.030284\n",
              "weekday       0.026900\n",
              "holiday      -0.030927\n",
              "weathersit   -0.142426\n",
              "hum          -0.322911\n",
              "Name: cnt, dtype: float64"
            ]
          },
          "metadata": {
            "tags": []
          },
          "execution_count": 34
        }
      ]
    },
    {
      "cell_type": "markdown",
      "metadata": {
        "id": "1K5oQEfqEESO",
        "colab_type": "text"
      },
      "source": [
        "# Feature Engineering\n",
        "\n",
        "It can often be helpful to calculate features before applying machine learning models. Features can enhance the accuracy of models by introducing new information, or distilling existing information.\n",
        "\n",
        "For example, the `hr` column in `bike_rentals` contains the hours during which bikes are rented, from 1 to 24. A machine will treat each hour differently, without understanding that certain hours are related. I can introduce some order into the process by creating a new column with labels for `morning`, `afternoon`, `evening`, and `night`. This will bundle similar times together, enabling the model to make better decisions."
      ]
    },
    {
      "cell_type": "code",
      "metadata": {
        "id": "YtyP3Lmx9Iv0",
        "colab_type": "code",
        "colab": {}
      },
      "source": [
        "def assign_label(hour):\n",
        "    if hour < 6:\n",
        "        return 4\n",
        "    elif hour < 12:\n",
        "        return 1\n",
        "    elif hour < 18:\n",
        "        return 2\n",
        "    else:\n",
        "        return 3\n",
        "\n",
        "bike_rentals[\"time_label\"] = bike_rentals[\"hr\"].apply(assign_label)"
      ],
      "execution_count": 0,
      "outputs": []
    },
    {
      "cell_type": "markdown",
      "metadata": {
        "id": "Smc8ZHnisfHX",
        "colab_type": "text"
      },
      "source": [
        "Let's select the features that will be used for future models.\n",
        "\n",
        "I'll need to ignore the `casual` and `registered` columns because `cnt` is derived from them."
      ]
    },
    {
      "cell_type": "code",
      "metadata": {
        "id": "cRxqV_eVsnI1",
        "colab_type": "code",
        "colab": {}
      },
      "source": [
        "features = list(bike_rentals.columns)\n",
        "features.remove(\"cnt\")\n",
        "features.remove(\"casual\")\n",
        "features.remove(\"registered\")\n",
        "features.remove(\"dteday\")\n",
        "\n",
        "target = \"cnt\""
      ],
      "execution_count": 0,
      "outputs": []
    },
    {
      "cell_type": "markdown",
      "metadata": {
        "id": "BNRjqBNmEti-",
        "colab_type": "text"
      },
      "source": [
        "# Regression\n",
        "\n",
        "Now I'm going to create different regressive models and compare them with RMSE based on 10-fold cross validation to have a more robust evaluation."
      ]
    },
    {
      "cell_type": "markdown",
      "metadata": {
        "id": "2mtYvaUREwPu",
        "colab_type": "text"
      },
      "source": [
        "## Linear Regression\n",
        "\n",
        "Linear regression will probably work fairly well on this data, given that many of the columns are highly correlated with `cnt`.\n",
        "\n",
        "In general, linear regression works best when predictors are linearly correlated to the target and also independent. The good thing about linear regression is that it's fairly resistant to overfitting because it's straightforward. It also can be prone to underfitting the data, however, and not building a powerful enough model. This means that linear regression usually isn't the most accurate option."
      ]
    },
    {
      "cell_type": "code",
      "metadata": {
        "id": "1cCrVWzKBygG",
        "colab_type": "code",
        "colab": {
          "base_uri": "https://localhost:8080/",
          "height": 34
        },
        "outputId": "8fe2880e-75dc-4def-bf48-1d4c4ed51d8f"
      },
      "source": [
        "# Linear Regression\n",
        "lr = LinearRegression()\n",
        "\n",
        "# 10-fold cross validation\n",
        "kf = KFold(n_splits=10, shuffle=True, random_state=model_seed)\n",
        "\n",
        "# Calculate RMSE\n",
        "rmse_lr = abs(np.mean(cross_val_score(estimator=lr, \n",
        "                                X=bike_rentals[features], \n",
        "                                  y=bike_rentals[target], \n",
        "                                  scoring=\"neg_root_mean_squared_error\",\n",
        "                                  cv=kf)))\n",
        "\n",
        "print(\"RMSE: {:,.2f}\".format(rmse_lr))"
      ],
      "execution_count": 37,
      "outputs": [
        {
          "output_type": "stream",
          "text": [
            "RMSE: 132.27\n"
          ],
          "name": "stdout"
        }
      ]
    },
    {
      "cell_type": "markdown",
      "metadata": {
        "id": "b8c6NLhX9Iwv",
        "colab_type": "text"
      },
      "source": [
        "The error is very high, which may be due to the fact that the data has a few extremely high rental counts, but otherwise mostly low counts. Larger errors are penalized more with RMSE, which leads to a higher total error."
      ]
    },
    {
      "cell_type": "markdown",
      "metadata": {
        "colab_type": "text",
        "id": "OUYjRB7nvmhK"
      },
      "source": [
        "## Decision Tree\n",
        "\n",
        "Decision trees tend to predict outcomes much more reliably than linear regression models. Because a decision tree is a fairly complex model, it also tends to overfit, particularly when we don't tweak parameters like maximum depth and minimum number of samples per leaf. Decision trees are also prone to instability, small changes in the input data can result in a very different output model."
      ]
    },
    {
      "cell_type": "code",
      "metadata": {
        "colab_type": "code",
        "outputId": "b0aaa8d2-7855-4f10-cb0d-da7a4c9ce3af",
        "id": "tgux6E3ZvmhL",
        "colab": {
          "base_uri": "https://localhost:8080/",
          "height": 34
        }
      },
      "source": [
        "# Decision Tree\n",
        "dt = DecisionTreeRegressor(min_samples_leaf=5)\n",
        "\n",
        "# 10-fold cross validation\n",
        "kf = KFold(n_splits=10, shuffle=True, random_state=model_seed)\n",
        "\n",
        "# Calculate RMSE\n",
        "rmse_dt = abs(np.mean(cross_val_score(estimator=dt, \n",
        "                                X=bike_rentals[features], \n",
        "                                  y=bike_rentals[target], \n",
        "                                  scoring=\"neg_root_mean_squared_error\",\n",
        "                                  cv=kf)))\n",
        "\n",
        "print(\"RMSE: {:,.2f}\".format(rmse_dt))"
      ],
      "execution_count": 38,
      "outputs": [
        {
          "output_type": "stream",
          "text": [
            "RMSE: 50.71\n"
          ],
          "name": "stdout"
        }
      ]
    },
    {
      "cell_type": "markdown",
      "metadata": {
        "colab_type": "text",
        "id": "lrNFR8CjvmhP"
      },
      "source": [
        "By taking the nonlinear predictors into account, the decision tree regressor appears to have much higher accuracy than linear regression."
      ]
    },
    {
      "cell_type": "markdown",
      "metadata": {
        "colab_type": "text",
        "id": "QGqDT6l6wnDW"
      },
      "source": [
        "## Random Forest\n",
        "\n",
        "Random forests tend to be much more accurate than simple models like linear regression. Due to the way random forests are constructed, they tend to overfit much less than decision trees. Random forests can still be prone to overfitting, though, so it's important to tune parameters like maximum depth and minimum samples per leaf."
      ]
    },
    {
      "cell_type": "code",
      "metadata": {
        "colab_type": "code",
        "outputId": "c613d357-e22c-41b9-804e-96b327594066",
        "id": "42E7ttHLwnDY",
        "colab": {
          "base_uri": "https://localhost:8080/",
          "height": 34
        }
      },
      "source": [
        "# Random Forest\n",
        "rf = RandomForestRegressor(min_samples_leaf=5)\n",
        "\n",
        "# 10-fold cross validation\n",
        "kf = KFold(n_splits=10, shuffle=True, random_state=model_seed)\n",
        "\n",
        "# Calculate RMSE\n",
        "rmse_rf = abs(np.mean(cross_val_score(estimator=rf, \n",
        "                                X=bike_rentals[features], \n",
        "                                  y=bike_rentals[target], \n",
        "                                  scoring=\"neg_root_mean_squared_error\",\n",
        "                                  cv=kf)))\n",
        "\n",
        "print(\"RMSE: {:,.2f}\".format(rmse_rf))"
      ],
      "execution_count": 39,
      "outputs": [
        {
          "output_type": "stream",
          "text": [
            "RMSE: 42.18\n"
          ],
          "name": "stdout"
        }
      ]
    },
    {
      "cell_type": "markdown",
      "metadata": {
        "colab_type": "text",
        "id": "KbSlmgOnwnDe"
      },
      "source": [
        "By removing some of the sources of overfitting, the random forest accuracy is improved over the decision tree accuracy."
      ]
    },
    {
      "cell_type": "markdown",
      "metadata": {
        "id": "V0tfN9O0EePG",
        "colab_type": "text"
      },
      "source": [
        "## Comparison\n",
        "\n",
        "Let's compare the different regressive models created."
      ]
    },
    {
      "cell_type": "code",
      "metadata": {
        "id": "_MzghrCTEyds",
        "colab_type": "code",
        "colab": {
          "base_uri": "https://localhost:8080/",
          "height": 303
        },
        "outputId": "ea160b49-10d8-4219-cd65-76a50c8e4b1b"
      },
      "source": [
        "pd.Series([rmse_lr, rmse_dt, rmse_rf], index=[\"Logistic Regression\", \"Decision Tree\", \"Random Forest\"]).plot.barh()\n",
        "plt.title(\"RMSE\")\n",
        "plt.show()"
      ],
      "execution_count": 40,
      "outputs": [
        {
          "output_type": "display_data",
          "data": {
            "image/png": "[encoded data removed]",
            "text/plain": [
              "<Figure size 432x288 with 1 Axes>"
            ]
          },
          "metadata": {
            "tags": []
          }
        }
      ]
    },
    {
      "cell_type": "markdown",
      "metadata": {
        "id": "jYJJF6MXxE9F",
        "colab_type": "text"
      },
      "source": [
        "It's possible to see that Random Forest was the best one among all the others."
      ]
    }
  ]
}