{
  "nbformat": 4,
  "nbformat_minor": 0,
  "metadata": {
    "colab": {
      "name": "Analyzing NYC High School Data",
      "provenance": [],
      "authorship_tag": "ABX9TyNRRa+TsP/NPZ9tml9MxXHK"
    },
    "kernelspec": {
      "name": "python3",
      "display_name": "Python 3"
    }
  },
  "cells": [
    {
      "cell_type": "markdown",
      "metadata": {
        "id": "e6-WbfwSJRsr",
        "colab_type": "text"
      },
      "source": [
        "# Analyzing NYC High School Data\n",
        "\n",
        "One of the most controversial issues in the U.S. educational system is the efficacy of standardized tests, and whether they're unfair to certain groups. Investigating the correlations between [SAT scores](https://en.wikipedia.org/wiki/SAT) and demographics might be an interesting angle to take.\n",
        "\n",
        "The SAT, or Scholastic Aptitude Test, is an exam that U.S. high school students take before applying to college. Colleges take the test scores into account when deciding who to admit, so it's fairly important to perform well on it.\n",
        "\n",
        "The test consists of three sections, each of which has 800 possible points. The combined score is out of 2,400 possible points (while this number has changed a few times, the data set for our project is based on 2,400 total points). Organizations often rank high schools by their average SAT scores. The scores are also considered a measure of overall school district quality.\n",
        "\n",
        "New York City makes its [data on high school SAT scores](https://data.cityofnewyork.us/Education/SAT-Results/f9bf-2cp4) available online, as well as the [demographics for each high school](https://data.cityofnewyork.us/Education/DOE-High-School-Directory-2014-2015/n3p6-zve2).\n",
        "\n",
        "Unfortunately, combining both of the data sets won't give me all of the demographic information I want to use. I'll need to supplement the data with other sources to do a full analysis.\n",
        "\n",
        "The same website has several related data sets covering demographic information and test scores. Here are the links to all of the data sets I'll be using:\n",
        "\n",
        "- [SAT scores by school](https://data.cityofnewyork.us/Education/SAT-Results/f9bf-2cp4) - SAT scores for each high school in New York City\n",
        "- [School attendance](https://data.cityofnewyork.us/Education/School-Attendance-and-Enrollment-Statistics-by-Dis/7z8d-msnt) - Attendance information for each school in New York City\n",
        "- [Class size](https://data.cityofnewyork.us/Education/2010-2011-Class-Size-School-level-detail/urz7-pzb3) - Information on class size for each school\n",
        "- [AP test results](https://data.cityofnewyork.us/Education/AP-College-Board-2010-School-Level-Results/itfs-ms3e) - Advanced Placement (AP) exam results for each high school (passing an optional AP exam in a particular subject can earn a student college credit in that subject)\n",
        "- [Graduation outcomes](https://data.cityofnewyork.us/Education/Graduation-Outcomes-Classes-Of-2005-2010-School-Le/vh2h-md7a) - The percentage of students who graduated, and other outcome information\n",
        "- [Demographics](https://data.cityofnewyork.us/Education/School-Demographics-and-Accountability-Snapshot-20/ihfw-zy9j) - Demographic information for each school\n",
        "- [School survey](https://data.cityofnewyork.us/Education/NYC-School-Survey-2011/mnz3-dyi8) - Surveys of parents, teachers, and students at each school\n",
        "\n",
        "All of these data sets are interrelated. I'll need to combine them into a single data set before we can find correlations.\n",
        "\n",
        "New York City has a significant immigrant population and is very diverse, so comparing demographic factors such as race, income, and gender with SAT scores is a good way to determine whether the SAT is a fair test. For example, if certain racial groups consistently perform better on the SAT, we would have some evidence that the SAT is unfair."
      ]
    },
    {
      "cell_type": "markdown",
      "metadata": {
        "id": "AVnlHCALNDO9",
        "colab_type": "text"
      },
      "source": [
        "# Data Cleaning"
      ]
    },
    {
      "cell_type": "markdown",
      "metadata": {
        "id": "tYrKfDhYJ0rT",
        "colab_type": "text"
      },
      "source": [
        "## Read in the data"
      ]
    },
    {
      "cell_type": "code",
      "metadata": {
        "id": "LJRm7mtGJ0rW",
        "colab_type": "code",
        "colab": {}
      },
      "source": [
        "import pandas as pd\n",
        "import numpy\n",
        "import re\n",
        "\n",
        "data_files = [\n",
        "    \"ap_2010.csv\",\n",
        "    \"class_size.csv\",\n",
        "    \"demographics.csv\",\n",
        "    \"graduation.csv\",\n",
        "    \"hs_directory.csv\",\n",
        "    \"sat_results.csv\"\n",
        "]\n",
        "\n",
        "data = {}\n",
        "\n",
        "for f in data_files:\n",
        "    d = pd.read_csv(\"schools/{0}\".format(f))\n",
        "    data[f.replace(\".csv\", \"\")] = d"
      ],
      "execution_count": 0,
      "outputs": []
    },
    {
      "cell_type": "markdown",
      "metadata": {
        "id": "k--xVxZfJ0re",
        "colab_type": "text"
      },
      "source": [
        "## Read in the surveys"
      ]
    },
    {
      "cell_type": "code",
      "metadata": {
        "id": "EQ9b9PWAJ0rf",
        "colab_type": "code",
        "colab": {}
      },
      "source": [
        "all_survey = pd.read_csv(\"schools/survey_all.txt\", delimiter=\"\\t\", encoding='windows-1252')\n",
        "d75_survey = pd.read_csv(\"schools/survey_d75.txt\", delimiter=\"\\t\", encoding='windows-1252')\n",
        "survey = pd.concat([all_survey, d75_survey], axis=0, sort=True)\n",
        "\n",
        "survey[\"DBN\"] = survey[\"dbn\"]\n",
        "\n",
        "survey_fields = [\n",
        "    \"DBN\", \n",
        "    \"rr_s\", \n",
        "    \"rr_t\", \n",
        "    \"rr_p\", \n",
        "    \"N_s\", \n",
        "    \"N_t\", \n",
        "    \"N_p\", \n",
        "    \"saf_p_11\", \n",
        "    \"com_p_11\", \n",
        "    \"eng_p_11\", \n",
        "    \"aca_p_11\", \n",
        "    \"saf_t_11\", \n",
        "    \"com_t_11\", \n",
        "    \"eng_t_11\", \n",
        "    \"aca_t_11\", \n",
        "    \"saf_s_11\", \n",
        "    \"com_s_11\", \n",
        "    \"eng_s_11\", \n",
        "    \"aca_s_11\", \n",
        "    \"saf_tot_11\", \n",
        "    \"com_tot_11\", \n",
        "    \"eng_tot_11\", \n",
        "    \"aca_tot_11\",\n",
        "]\n",
        "survey = survey[survey_fields]\n",
        "data[\"survey\"] = survey"
      ],
      "execution_count": 0,
      "outputs": []
    },
    {
      "cell_type": "markdown",
      "metadata": {
        "id": "iDbS_YXLJ0ri",
        "colab_type": "text"
      },
      "source": [
        "## Add DBN columns"
      ]
    },
    {
      "cell_type": "code",
      "metadata": {
        "id": "66r3GtkyJ0rj",
        "colab_type": "code",
        "colab": {}
      },
      "source": [
        "data[\"hs_directory\"][\"DBN\"] = data[\"hs_directory\"][\"dbn\"]\n",
        "\n",
        "def pad_csd(num):\n",
        "    string_representation = str(num)\n",
        "    if len(string_representation) > 1:\n",
        "        return string_representation\n",
        "    else:\n",
        "        return \"0\" + string_representation\n",
        "    \n",
        "data[\"class_size\"][\"padded_csd\"] = data[\"class_size\"][\"CSD\"].apply(pad_csd)\n",
        "data[\"class_size\"][\"DBN\"] = data[\"class_size\"][\"padded_csd\"] + data[\"class_size\"][\"SCHOOL CODE\"]"
      ],
      "execution_count": 0,
      "outputs": []
    },
    {
      "cell_type": "markdown",
      "metadata": {
        "id": "mlInlYh_J0rm",
        "colab_type": "text"
      },
      "source": [
        "## Convert columns to numeric"
      ]
    },
    {
      "cell_type": "code",
      "metadata": {
        "id": "UkrE2ZahJ0rn",
        "colab_type": "code",
        "colab": {}
      },
      "source": [
        "cols = ['SAT Math Avg. Score', 'SAT Critical Reading Avg. Score', 'SAT Writing Avg. Score']\n",
        "for c in cols:\n",
        "    data[\"sat_results\"][c] = pd.to_numeric(data[\"sat_results\"][c], errors=\"coerce\")\n",
        "\n",
        "data['sat_results']['sat_score'] = data['sat_results'][cols[0]] + data['sat_results'][cols[1]] + data['sat_results'][cols[2]]\n",
        "\n",
        "def find_lat(loc):\n",
        "    coords = re.findall(\"\\(.+, .+\\)\", loc)\n",
        "    lat = coords[0].split(\",\")[0].replace(\"(\", \"\")\n",
        "    return lat\n",
        "\n",
        "def find_lon(loc):\n",
        "    coords = re.findall(\"\\(.+, .+\\)\", loc)\n",
        "    lon = coords[0].split(\",\")[1].replace(\")\", \"\").strip()\n",
        "    return lon\n",
        "\n",
        "data[\"hs_directory\"][\"lat\"] = data[\"hs_directory\"][\"Location 1\"].apply(find_lat)\n",
        "data[\"hs_directory\"][\"lon\"] = data[\"hs_directory\"][\"Location 1\"].apply(find_lon)\n",
        "\n",
        "data[\"hs_directory\"][\"lat\"] = pd.to_numeric(data[\"hs_directory\"][\"lat\"], errors=\"coerce\")\n",
        "data[\"hs_directory\"][\"lon\"] = pd.to_numeric(data[\"hs_directory\"][\"lon\"], errors=\"coerce\")"
      ],
      "execution_count": 0,
      "outputs": []
    },
    {
      "cell_type": "markdown",
      "metadata": {
        "id": "DaYF13eLJ0rq",
        "colab_type": "text"
      },
      "source": [
        "## Condense datasets"
      ]
    },
    {
      "cell_type": "code",
      "metadata": {
        "id": "dixvsxefJ0rr",
        "colab_type": "code",
        "colab": {}
      },
      "source": [
        "class_size = data[\"class_size\"]\n",
        "class_size = class_size[class_size[\"GRADE \"] == \"09-12\"]\n",
        "class_size = class_size[class_size[\"PROGRAM TYPE\"] == \"GEN ED\"]\n",
        "\n",
        "class_size = class_size.groupby(\"DBN\").agg(numpy.mean)\n",
        "class_size.reset_index(inplace=True)\n",
        "data[\"class_size\"] = class_size\n",
        "\n",
        "data[\"demographics\"] = data[\"demographics\"][data[\"demographics\"][\"schoolyear\"] == 20112012]\n",
        "\n",
        "data[\"graduation\"] = data[\"graduation\"][data[\"graduation\"][\"Cohort\"] == \"2006\"]\n",
        "data[\"graduation\"] = data[\"graduation\"][data[\"graduation\"][\"Demographic\"] == \"Total Cohort\"]"
      ],
      "execution_count": 0,
      "outputs": []
    },
    {
      "cell_type": "markdown",
      "metadata": {
        "id": "rzOH6dbzJ0ru",
        "colab_type": "text"
      },
      "source": [
        "## Convert AP scores to numeric"
      ]
    },
    {
      "cell_type": "code",
      "metadata": {
        "id": "7cB2MphkJ0rv",
        "colab_type": "code",
        "colab": {}
      },
      "source": [
        "cols = ['AP Test Takers ', 'Total Exams Taken', 'Number of Exams with scores 3 4 or 5']\n",
        "\n",
        "for col in cols:\n",
        "    data[\"ap_2010\"][col] = pd.to_numeric(data[\"ap_2010\"][col], errors=\"coerce\")"
      ],
      "execution_count": 0,
      "outputs": []
    },
    {
      "cell_type": "markdown",
      "metadata": {
        "id": "fkHOqRSvJ0ry",
        "colab_type": "text"
      },
      "source": [
        "## Combine the datasets"
      ]
    },
    {
      "cell_type": "code",
      "metadata": {
        "id": "JDmr45_jJ0rz",
        "colab_type": "code",
        "colab": {}
      },
      "source": [
        "combined = data[\"sat_results\"]\n",
        "\n",
        "combined = combined.merge(data[\"ap_2010\"], on=\"DBN\", how=\"left\")\n",
        "combined = combined.merge(data[\"graduation\"], on=\"DBN\", how=\"left\")\n",
        "\n",
        "to_merge = [\"class_size\", \"demographics\", \"survey\", \"hs_directory\"]\n",
        "\n",
        "for m in to_merge:\n",
        "    combined = combined.merge(data[m], on=\"DBN\", how=\"inner\")\n",
        "\n",
        "combined = combined.fillna(combined.mean())\n",
        "combined = combined.fillna(0)"
      ],
      "execution_count": 0,
      "outputs": []
    },
    {
      "cell_type": "markdown",
      "metadata": {
        "id": "ks6beCAYJ0r2",
        "colab_type": "text"
      },
      "source": [
        "## Add a school district column for mapping"
      ]
    },
    {
      "cell_type": "code",
      "metadata": {
        "id": "3jeVXEkQJ0r3",
        "colab_type": "code",
        "colab": {}
      },
      "source": [
        "def get_first_two_chars(dbn):\n",
        "    return dbn[0:2]\n",
        "\n",
        "combined[\"school_dist\"] = combined[\"DBN\"].apply(get_first_two_chars)"
      ],
      "execution_count": 0,
      "outputs": []
    },
    {
      "cell_type": "markdown",
      "metadata": {
        "id": "MK_S9Mn3NT5P",
        "colab_type": "text"
      },
      "source": [
        "# Data Analysis"
      ]
    },
    {
      "cell_type": "markdown",
      "metadata": {
        "id": "F0lLvhCCJ0r9",
        "colab_type": "text"
      },
      "source": [
        "## Find correlations"
      ]
    },
    {
      "cell_type": "code",
      "metadata": {
        "id": "d_ZFBxvyJ0r-",
        "colab_type": "code",
        "outputId": "0db9a217-c02e-40fa-acd3-0a4d08f4ec4c",
        "colab": {
          "base_uri": "https://localhost:8080/",
          "height": 221
        }
      },
      "source": [
        "correlations = combined.corr()\n",
        "correlations = correlations[\"sat_score\"]\n",
        "print(correlations)"
      ],
      "execution_count": 59,
      "outputs": [
        {
          "output_type": "stream",
          "text": [
            "SAT Critical Reading Avg. Score    0.986820\n",
            "SAT Math Avg. Score                0.972643\n",
            "SAT Writing Avg. Score             0.987771\n",
            "sat_score                          1.000000\n",
            "AP Test Takers                     0.523140\n",
            "                                     ...   \n",
            "priority08                              NaN\n",
            "priority09                              NaN\n",
            "priority10                              NaN\n",
            "lat                               -0.121029\n",
            "lon                               -0.132222\n",
            "Name: sat_score, Length: 67, dtype: float64\n"
          ],
          "name": "stdout"
        }
      ]
    },
    {
      "cell_type": "markdown",
      "metadata": {
        "id": "PGrYHkyLJ0sB",
        "colab_type": "text"
      },
      "source": [
        "## Plotting survey correlations"
      ]
    },
    {
      "cell_type": "code",
      "metadata": {
        "scrolled": true,
        "id": "RRc4Oq25J0sC",
        "colab_type": "code",
        "colab": {}
      },
      "source": [
        "# Remove DBN since it's a unique identifier, not a useful numerical value for correlation.\n",
        "survey_fields.remove(\"DBN\")"
      ],
      "execution_count": 0,
      "outputs": []
    },
    {
      "cell_type": "code",
      "metadata": {
        "id": "OF3WE4hkJ0sF",
        "colab_type": "code",
        "outputId": "bfff23f8-781f-4d6c-ff04-9844d991fa0e",
        "colab": {
          "base_uri": "https://localhost:8080/",
          "height": 330
        }
      },
      "source": [
        "%matplotlib inline\n",
        "combined.corr()[\"sat_score\"][survey_fields].plot.bar()"
      ],
      "execution_count": 61,
      "outputs": [
        {
          "output_type": "execute_result",
          "data": {
            "text/plain": [
              "<matplotlib.axes._subplots.AxesSubplot at 0x7f3283813550>"
            ]
          },
          "metadata": {
            "tags": []
          },
          "execution_count": 61
        },
        {
          "output_type": "display_data",
          "data": {
            "image/png": "[encoded data removed]",
            "text/plain": [
              "<Figure size 432x288 with 1 Axes>"
            ]
          },
          "metadata": {
            "tags": []
          }
        }
      ]
    },
    {
      "cell_type": "markdown",
      "metadata": {
        "id": "X0TnhKSuJ0sI",
        "colab_type": "text"
      },
      "source": [
        "There are high correlations between `N_s`, `N_t`, `N_p` and `sat_score`.  Since these columns are correlated with `total_enrollment`, it makes sense that they would be high.  \n",
        "\n",
        "It is more interesting that `rr_s`, the student response rate, or the percentage of students that completed the survey, correlates with `sat_score`.  This might make sense because students who are more likely to fill out surveys may be more likely to also be doing well academically.\n",
        "\n",
        "How students and teachers percieved safety (`saf_t_11` and `saf_s_11`) correlate with `sat_score`.  This make sense, as it's hard to teach or learn in an unsafe environment.\n",
        "\n",
        "The last interesting correlation is the `aca_s_11`, which indicates how the student perceives academic standards, correlates with `sat_score`, but this is not true for `aca_t_11`, how teachers perceive academic standards, or `aca_p_11`, how parents perceive academic standards."
      ]
    },
    {
      "cell_type": "markdown",
      "metadata": {
        "id": "bh8LROnZJ0sL",
        "colab_type": "text"
      },
      "source": [
        "## Exploring safety"
      ]
    },
    {
      "cell_type": "code",
      "metadata": {
        "id": "43UDUsCUJ0sN",
        "colab_type": "code",
        "outputId": "b0160329-cbf4-4128-e27f-000afd95840e",
        "colab": {
          "base_uri": "https://localhost:8080/",
          "height": 297
        }
      },
      "source": [
        "combined.plot.scatter(\"saf_s_11\", \"sat_score\")"
      ],
      "execution_count": 62,
      "outputs": [
        {
          "output_type": "execute_result",
          "data": {
            "text/plain": [
              "<matplotlib.axes._subplots.AxesSubplot at 0x7f328673bc18>"
            ]
          },
          "metadata": {
            "tags": []
          },
          "execution_count": 62
        },
        {
          "output_type": "display_data",
          "data": {
            "image/png": "[encoded data removed]",
            "text/plain": [
              "<Figure size 432x288 with 1 Axes>"
            ]
          },
          "metadata": {
            "tags": []
          }
        }
      ]
    },
    {
      "cell_type": "markdown",
      "metadata": {
        "id": "6roCSghdJ0sQ",
        "colab_type": "text"
      },
      "source": [
        "There appears to be a correlation between SAT scores and safety, although it isn't thatstrong.  It looks like there are a few schools with extremely high SAT scores and high safety scores.  There are a few schools with low safety scores and low SAT scores.  No school with a safety score lower than `6.5` has an average SAT score higher than 1500 or so."
      ]
    },
    {
      "cell_type": "markdown",
      "metadata": {
        "id": "p9AZN2qAJ0sQ",
        "colab_type": "text"
      },
      "source": [
        "## Plotting safety"
      ]
    },
    {
      "cell_type": "code",
      "metadata": {
        "id": "8PFymyBOJ0sR",
        "colab_type": "code",
        "outputId": "084b0dcd-b10a-47f6-9403-6abd9c5aa700",
        "colab": {
          "base_uri": "https://localhost:8080/",
          "height": 252
        }
      },
      "source": [
        "import matplotlib.pyplot as plt\n",
        "from mpl_toolkits.basemap import Basemap\n",
        "\n",
        "districts = combined.groupby(\"school_dist\").agg(numpy.mean)\n",
        "districts.reset_index(inplace=True)\n",
        "\n",
        "m = Basemap(\n",
        "    projection='merc', \n",
        "    llcrnrlat=40.496044, \n",
        "    urcrnrlat=40.915256, \n",
        "    llcrnrlon=-74.255735, \n",
        "    urcrnrlon=-73.700272,\n",
        "    resolution='i'\n",
        ")\n",
        "\n",
        "m.drawmapboundary(fill_color='#85A6D9')\n",
        "m.drawcoastlines(color='#6D5F47', linewidth=.4)\n",
        "m.drawrivers(color='#6D5F47', linewidth=.4)\n",
        "# Temporary bug: if you run the following line of code in the Jupyter Guided Project interface on Dataquest, you'll get an error. \n",
        "# We're working on a fix, thanks for your patience! This should work fine locally on your own computer though.\n",
        "# m.fillcontinents(color='white',lake_color='#85A6D9')\n",
        "\n",
        "longitudes = districts[\"lon\"].tolist()\n",
        "latitudes = districts[\"lat\"].tolist()\n",
        "m.scatter(longitudes, latitudes, s=50, zorder=2, latlon=True, c=districts[\"saf_s_11\"], cmap=\"summer\")\n",
        "plt.show()"
      ],
      "execution_count": 63,
      "outputs": [
        {
          "output_type": "display_data",
          "data": {
            "image/png": "[encoded data removed]",
            "text/plain": [
              "<Figure size 432x288 with 1 Axes>"
            ]
          },
          "metadata": {
            "tags": []
          }
        }
      ]
    },
    {
      "cell_type": "markdown",
      "metadata": {
        "id": "nN78eqpSJ0sU",
        "colab_type": "text"
      },
      "source": [
        "It looks like Upper Manhattan and parts of Queens and the Bronx tend to have higher safety scores, whereas Brooklyn has low safety scores."
      ]
    },
    {
      "cell_type": "markdown",
      "metadata": {
        "id": "77Fizq2eJ0sV",
        "colab_type": "text"
      },
      "source": [
        "## Racial differences in SAT scores"
      ]
    },
    {
      "cell_type": "code",
      "metadata": {
        "id": "msDpM-ZlJ0sV",
        "colab_type": "code",
        "outputId": "a92ea36e-3778-4815-c1ea-7b250ea4a036",
        "colab": {
          "base_uri": "https://localhost:8080/",
          "height": 335
        }
      },
      "source": [
        "race_fields = [\"white_per\", \"asian_per\", \"black_per\", \"hispanic_per\"]\n",
        "combined.corr()[\"sat_score\"][race_fields].plot.bar()"
      ],
      "execution_count": 64,
      "outputs": [
        {
          "output_type": "execute_result",
          "data": {
            "text/plain": [
              "<matplotlib.axes._subplots.AxesSubplot at 0x7f32826d10f0>"
            ]
          },
          "metadata": {
            "tags": []
          },
          "execution_count": 64
        },
        {
          "output_type": "display_data",
          "data": {
            "image/png": "[encoded data removed]",
            "text/plain": [
              "<Figure size 432x288 with 1 Axes>"
            ]
          },
          "metadata": {
            "tags": []
          }
        }
      ]
    },
    {
      "cell_type": "markdown",
      "metadata": {
        "id": "c4SD4auCJ0sY",
        "colab_type": "text"
      },
      "source": [
        "It looks like a higher percentage of white or asian students at a school correlates positively with sat score, whereas a higher percentage of black or hispanic students correlates negatively with sat score.  This may be due to a lack of funding for schools in certain areas, which are more likely to have a higher percentage of black or hispanic students."
      ]
    },
    {
      "cell_type": "code",
      "metadata": {
        "id": "opRkGsaJJ0sZ",
        "colab_type": "code",
        "outputId": "66797cc0-4908-4330-e2e9-a15cf6829d64",
        "colab": {
          "base_uri": "https://localhost:8080/",
          "height": 297
        }
      },
      "source": [
        "combined.plot.scatter(\"hispanic_per\", \"sat_score\")"
      ],
      "execution_count": 65,
      "outputs": [
        {
          "output_type": "execute_result",
          "data": {
            "text/plain": [
              "<matplotlib.axes._subplots.AxesSubplot at 0x7f32826e6860>"
            ]
          },
          "metadata": {
            "tags": []
          },
          "execution_count": 65
        },
        {
          "output_type": "display_data",
          "data": {
            "image/png": "[encoded data removed]",
            "text/plain": [
              "<Figure size 432x288 with 1 Axes>"
            ]
          },
          "metadata": {
            "tags": []
          }
        }
      ]
    },
    {
      "cell_type": "code",
      "metadata": {
        "id": "AqQU3Z61J0sd",
        "colab_type": "code",
        "outputId": "6cb232c3-4c60-45cb-be01-8093e4be9224",
        "colab": {
          "base_uri": "https://localhost:8080/",
          "height": 170
        }
      },
      "source": [
        "print(combined[combined[\"hispanic_per\"] > 95][\"SCHOOL NAME\"])"
      ],
      "execution_count": 66,
      "outputs": [
        {
          "output_type": "stream",
          "text": [
            "44                         MANHATTAN BRIDGES HIGH SCHOOL\n",
            "82      WASHINGTON HEIGHTS EXPEDITIONARY LEARNING SCHOOL\n",
            "89     GREGORIO LUPERON HIGH SCHOOL FOR SCIENCE AND M...\n",
            "125                  ACADEMY FOR LANGUAGE AND TECHNOLOGY\n",
            "141                INTERNATIONAL SCHOOL FOR LIBERAL ARTS\n",
            "176     PAN AMERICAN INTERNATIONAL HIGH SCHOOL AT MONROE\n",
            "253                            MULTICULTURAL HIGH SCHOOL\n",
            "286               PAN AMERICAN INTERNATIONAL HIGH SCHOOL\n",
            "Name: SCHOOL NAME, dtype: object\n"
          ],
          "name": "stdout"
        }
      ]
    },
    {
      "cell_type": "markdown",
      "metadata": {
        "id": "nIGXML1rJ0sh",
        "colab_type": "text"
      },
      "source": [
        "The schools listed above appear to primarily be geared towards recent immigrants to the US.  These schools have a lot of students who are learning English, which would explain the lower SAT scores."
      ]
    },
    {
      "cell_type": "code",
      "metadata": {
        "id": "OEK7xTuIJ0si",
        "colab_type": "code",
        "outputId": "c6dc3547-b40d-454a-8c03-09b12c9deb1c",
        "colab": {
          "base_uri": "https://localhost:8080/",
          "height": 119
        }
      },
      "source": [
        "print(combined[(combined[\"hispanic_per\"] < 10) & (combined[\"sat_score\"] > 1800)][\"SCHOOL NAME\"])"
      ],
      "execution_count": 67,
      "outputs": [
        {
          "output_type": "stream",
          "text": [
            "37                                STUYVESANT HIGH SCHOOL\n",
            "151                         BRONX HIGH SCHOOL OF SCIENCE\n",
            "187                       BROOKLYN TECHNICAL HIGH SCHOOL\n",
            "327    QUEENS HIGH SCHOOL FOR THE SCIENCES AT YORK CO...\n",
            "356                  STATEN ISLAND TECHNICAL HIGH SCHOOL\n",
            "Name: SCHOOL NAME, dtype: object\n"
          ],
          "name": "stdout"
        }
      ]
    },
    {
      "cell_type": "markdown",
      "metadata": {
        "id": "iPxYq6h_J0sm",
        "colab_type": "text"
      },
      "source": [
        "Many of the schools above appear to be specialized science and technology schools that receive extra funding, and only admit students who pass an entrance exam.  This doesn't explain the low `hispanic_per`, but it does explain why their students tend to do better on the SAT -- they are students from all over New York City who did well on a standardized test."
      ]
    },
    {
      "cell_type": "markdown",
      "metadata": {
        "id": "7N8slA5TJ0sn",
        "colab_type": "text"
      },
      "source": [
        "## Gender differences in SAT scores"
      ]
    },
    {
      "cell_type": "code",
      "metadata": {
        "id": "P6EoBkGQJ0sn",
        "colab_type": "code",
        "outputId": "e55ec5ae-14a8-40cd-e5d3-a871bfd19883",
        "colab": {
          "base_uri": "https://localhost:8080/",
          "height": 328
        }
      },
      "source": [
        "gender_fields = [\"male_per\", \"female_per\"]\n",
        "combined.corr()[\"sat_score\"][gender_fields].plot.bar()"
      ],
      "execution_count": 68,
      "outputs": [
        {
          "output_type": "execute_result",
          "data": {
            "text/plain": [
              "<matplotlib.axes._subplots.AxesSubplot at 0x7f32826d2438>"
            ]
          },
          "metadata": {
            "tags": []
          },
          "execution_count": 68
        },
        {
          "output_type": "display_data",
          "data": {
            "image/png": "[encoded data removed]",
            "text/plain": [
              "<Figure size 432x288 with 1 Axes>"
            ]
          },
          "metadata": {
            "tags": []
          }
        }
      ]
    },
    {
      "cell_type": "markdown",
      "metadata": {
        "id": "zdM6cC6oJ0sr",
        "colab_type": "text"
      },
      "source": [
        "In the plot above, we can see that a high percentage of females at a school positively correlates with SAT score, whereas a high percentage of males at a school negatively correlates with SAT score.  Neither correlation is extremely strong."
      ]
    },
    {
      "cell_type": "code",
      "metadata": {
        "id": "besr-Ny6J0sr",
        "colab_type": "code",
        "outputId": "4568861f-c537-45a6-cdeb-fb0192cda209",
        "colab": {
          "base_uri": "https://localhost:8080/",
          "height": 297
        }
      },
      "source": [
        "combined.plot.scatter(\"female_per\", \"sat_score\")"
      ],
      "execution_count": 69,
      "outputs": [
        {
          "output_type": "execute_result",
          "data": {
            "text/plain": [
              "<matplotlib.axes._subplots.AxesSubplot at 0x7f32838149b0>"
            ]
          },
          "metadata": {
            "tags": []
          },
          "execution_count": 69
        },
        {
          "output_type": "display_data",
          "data": {
            "image/png": "[encoded data removed]",
            "text/plain": [
              "<Figure size 432x288 with 1 Axes>"
            ]
          },
          "metadata": {
            "tags": []
          }
        }
      ]
    },
    {
      "cell_type": "markdown",
      "metadata": {
        "id": "bPMDdXiHJ0sv",
        "colab_type": "text"
      },
      "source": [
        "Based on the scatterplot, there doesn't seem to be any real correlation between `sat_score` and `female_per`.  However, there is a cluster of schools with a high percentage of females (`60` to `80`), and high SAT scores."
      ]
    },
    {
      "cell_type": "code",
      "metadata": {
        "id": "AWUughNVJ0sw",
        "colab_type": "code",
        "outputId": "8b2c531e-eb0c-49e9-86e9-cf42d9d512d1",
        "colab": {
          "base_uri": "https://localhost:8080/",
          "height": 119
        }
      },
      "source": [
        "print(combined[(combined[\"female_per\"] > 60) & (combined[\"sat_score\"] > 1700)][\"SCHOOL NAME\"])"
      ],
      "execution_count": 70,
      "outputs": [
        {
          "output_type": "stream",
          "text": [
            "5                         BARD HIGH SCHOOL EARLY COLLEGE\n",
            "26                         ELEANOR ROOSEVELT HIGH SCHOOL\n",
            "60                                    BEACON HIGH SCHOOL\n",
            "61     FIORELLO H. LAGUARDIA HIGH SCHOOL OF MUSIC & A...\n",
            "302                          TOWNSEND HARRIS HIGH SCHOOL\n",
            "Name: SCHOOL NAME, dtype: object\n"
          ],
          "name": "stdout"
        }
      ]
    },
    {
      "cell_type": "markdown",
      "metadata": {
        "id": "1AYjxvoLJ0sz",
        "colab_type": "text"
      },
      "source": [
        "These schools appears to be very selective liberal arts schools that have high academic standards."
      ]
    },
    {
      "cell_type": "markdown",
      "metadata": {
        "id": "FsAxSF3yJ0s0",
        "colab_type": "text"
      },
      "source": [
        "## AP Exam Scores vs SAT Scores"
      ]
    },
    {
      "cell_type": "code",
      "metadata": {
        "id": "CcxiMwP0J0s1",
        "colab_type": "code",
        "outputId": "80332c97-5e3d-4bde-d3a2-ee9e62596181",
        "colab": {
          "base_uri": "https://localhost:8080/",
          "height": 296
        }
      },
      "source": [
        "combined[\"ap_per\"] = combined[\"AP Test Takers \"] / combined[\"total_enrollment\"]\n",
        "\n",
        "combined.plot.scatter(x='ap_per', y='sat_score')"
      ],
      "execution_count": 71,
      "outputs": [
        {
          "output_type": "execute_result",
          "data": {
            "text/plain": [
              "<matplotlib.axes._subplots.AxesSubplot at 0x7f32867fe4a8>"
            ]
          },
          "metadata": {
            "tags": []
          },
          "execution_count": 71
        },
        {
          "output_type": "display_data",
          "data": {
            "image/png": "[encoded data removed]",
            "text/plain": [
              "<Figure size 432x288 with 1 Axes>"
            ]
          },
          "metadata": {
            "tags": []
          }
        }
      ]
    },
    {
      "cell_type": "markdown",
      "metadata": {
        "id": "93Lt9SWdJ0s5",
        "colab_type": "text"
      },
      "source": [
        "It looks like there is a relationship between the percentage of students in a school who take the AP exam, and their average SAT scores.  It's not an extremely strong correlation, though."
      ]
    }
  ]
}