{
  "nbformat": 4,
  "nbformat_minor": 0,
  "metadata": {
    "colab": {
      "name": "Investigating Fandango Movie Ratings",
      "provenance": [],
      "toc_visible": true,
      "authorship_tag": "ABX9TyOYdo1tiLPSwjNVrwIkenIv"
    },
    "kernelspec": {
      "name": "python3",
      "display_name": "Python 3"
    }
  },
  "cells": [
    {
      "cell_type": "markdown",
      "metadata": {
        "id": "uXF2wcJebptY",
        "colab_type": "text"
      },
      "source": [
        "# Investigating Fandango Movie Ratings\n",
        "\n",
        "In October 2015, a data journalist named Walt Hickey analyzed movie ratings data and found strong evidence to suggest that Fandango's rating system was biased and dishonest ([Fandango](https://www.fandango.com/) is an online movie ratings aggregator). He published his analysis in [this article](https://fivethirtyeight.com/features/fandango-movies-ratings/) — a great piece of data journalism that's totally worth reading.\n",
        "\n",
        "Fandango displays a 5-star rating system on their website, where the minimum rating is 0 stars and the maximum is 5 stars.\n",
        "\n",
        "Fandango's officials replied that the biased rounding off was caused by a bug in their system rather than being intentional, and they promised to fix the bug as soon as possible. Presumably, this has already happened, although I can't tell for sure since the actual rating value doesn't seem to be displayed anymore in the pages' HTML.\n",
        "\n",
        "In this project, I'll analyze more recent movie ratings data to determine whether there has been any change in Fandango's rating system after Hickey's analysis.\n",
        "\n",
        "Because I want to find out whether the Fandango's rating system changed after Hickey's analysis, I'm interested in sampling the population at two different periods in time — previous and after Hickey's analysis — so I can compare the two periods."
      ]
    },
    {
      "cell_type": "markdown",
      "metadata": {
        "id": "YGWetvE_mV2j",
        "colab_type": "text"
      },
      "source": [
        "## Understanding the Data\n",
        "\n",
        "I'll work with two samples of movie ratings: the data in one sample was collected previous to Hickey's analysis, while the other sample was collected after. \n",
        "\n",
        "In Hickey's article it's written that he used the following sampling criteria:\n",
        "\n",
        "* The movie must have had tickets on sale in 2015.\n",
        "* The movie must have had at least 30 fan ratings on Fandango's website at the time of sampling (Aug. 24, 2015).\n",
        "\n",
        "The sampling was clearly not random because not every movie had the same chance to be included in the sample. It seems more likely that this sample isn't representative of the entire population I'm interested to describe, mostly because this sample is subject to *temporal trends*.\n",
        "\n",
        "The sampling conditions for the other sample were:\n",
        "\n",
        "* The movie must have been released in 2016 or later.\n",
        "* The movie must have had a considerable number of votes and reviews (unclear how many).\n",
        "\n",
        "This second sample is also subject to temporal trends and it's unlikely to be representative of the population of interest.\n",
        "\n",
        "Unfortunately these samples don't seem too useful for us."
      ]
    },
    {
      "cell_type": "markdown",
      "metadata": {
        "id": "sI_o1rRomYxb",
        "colab_type": "text"
      },
      "source": [
        "## Changing the Goal of the Analysis\n",
        "\n",
        "At this point, I can either collect new data or change the goal of the analysis. I choose the latter.\n",
        "\n",
        "Instead of trying to determine whether there has been any change in Fandango's rating system after Hickey's analysis, the new goal is to determine whether there's any difference between Fandango's ratings for popular movies in 2015 and Fandango's ratings for popular movies in 2016. This new goal should also be a fairly good proxy for the initial goal."
      ]
    },
    {
      "cell_type": "markdown",
      "metadata": {
        "id": "vI_JmQmTeKpl",
        "colab_type": "text"
      },
      "source": [
        "# Exploring the Data\n",
        "\n",
        "Let's start by reading in the two samples (which are stored as CSV files) and getting familiar with their structure."
      ]
    },
    {
      "cell_type": "code",
      "metadata": {
        "id": "9C34XaxacaIm",
        "colab_type": "code",
        "outputId": "7059cce7-79a1-4600-878e-52b394e6f4c3",
        "colab": {
          "base_uri": "https://localhost:8080/",
          "height": 247
        }
      },
      "source": [
        "import pandas as pd\n",
        "pd.options.display.max_columns = 100  # Avoid having displayed truncated output\n",
        "\n",
        "previous = pd.read_csv('fandango_score_comparison.csv')\n",
        "after = pd.read_csv('movie_ratings_16_17.csv')\n",
        "\n",
        "previous.head(3)"
      ],
      "execution_count": 37,
      "outputs": [
        {
          "output_type": "execute_result",
          "data": {
            "text/html": [
              "<div>\n",
              "<style scoped>\n",
              "    .dataframe tbody tr th:only-of-type {\n",
              "        vertical-align: middle;\n",
              "    }\n",
              "\n",
              "    .dataframe tbody tr th {\n",
              "        vertical-align: top;\n",
              "    }\n",
              "\n",
              "    .dataframe thead th {\n",
              "        text-align: right;\n",
              "    }\n",
              "</style>\n",
              "<table border=\"1\" class=\"dataframe\">\n",
              "  <thead>\n",
              "    <tr style=\"text-align: right;\">\n",
              "      <th></th>\n",
              "      <th>FILM</th>\n",
              "      <th>RottenTomatoes</th>\n",
              "      <th>RottenTomatoes_User</th>\n",
              "      <th>Metacritic</th>\n",
              "      <th>Metacritic_User</th>\n",
              "      <th>IMDB</th>\n",
              "      <th>Fandango_Stars</th>\n",
              "      <th>Fandango_Ratingvalue</th>\n",
              "      <th>RT_norm</th>\n",
              "      <th>RT_user_norm</th>\n",
              "      <th>Metacritic_norm</th>\n",
              "      <th>Metacritic_user_nom</th>\n",
              "      <th>IMDB_norm</th>\n",
              "      <th>RT_norm_round</th>\n",
              "      <th>RT_user_norm_round</th>\n",
              "      <th>Metacritic_norm_round</th>\n",
              "      <th>Metacritic_user_norm_round</th>\n",
              "      <th>IMDB_norm_round</th>\n",
              "      <th>Metacritic_user_vote_count</th>\n",
              "      <th>IMDB_user_vote_count</th>\n",
              "      <th>Fandango_votes</th>\n",
              "      <th>Fandango_Difference</th>\n",
              "    </tr>\n",
              "  </thead>\n",
              "  <tbody>\n",
              "    <tr>\n",
              "      <th>0</th>\n",
              "      <td>Avengers: Age of Ultron (2015)</td>\n",
              "      <td>74</td>\n",
              "      <td>86</td>\n",
              "      <td>66</td>\n",
              "      <td>7.1</td>\n",
              "      <td>7.8</td>\n",
              "      <td>5.0</td>\n",
              "      <td>4.5</td>\n",
              "      <td>3.70</td>\n",
              "      <td>4.3</td>\n",
              "      <td>3.30</td>\n",
              "      <td>3.55</td>\n",
              "      <td>3.90</td>\n",
              "      <td>3.5</td>\n",
              "      <td>4.5</td>\n",
              "      <td>3.5</td>\n",
              "      <td>3.5</td>\n",
              "      <td>4.0</td>\n",
              "      <td>1330</td>\n",
              "      <td>271107</td>\n",
              "      <td>14846</td>\n",
              "      <td>0.5</td>\n",
              "    </tr>\n",
              "    <tr>\n",
              "      <th>1</th>\n",
              "      <td>Cinderella (2015)</td>\n",
              "      <td>85</td>\n",
              "      <td>80</td>\n",
              "      <td>67</td>\n",
              "      <td>7.5</td>\n",
              "      <td>7.1</td>\n",
              "      <td>5.0</td>\n",
              "      <td>4.5</td>\n",
              "      <td>4.25</td>\n",
              "      <td>4.0</td>\n",
              "      <td>3.35</td>\n",
              "      <td>3.75</td>\n",
              "      <td>3.55</td>\n",
              "      <td>4.5</td>\n",
              "      <td>4.0</td>\n",
              "      <td>3.5</td>\n",
              "      <td>4.0</td>\n",
              "      <td>3.5</td>\n",
              "      <td>249</td>\n",
              "      <td>65709</td>\n",
              "      <td>12640</td>\n",
              "      <td>0.5</td>\n",
              "    </tr>\n",
              "    <tr>\n",
              "      <th>2</th>\n",
              "      <td>Ant-Man (2015)</td>\n",
              "      <td>80</td>\n",
              "      <td>90</td>\n",
              "      <td>64</td>\n",
              "      <td>8.1</td>\n",
              "      <td>7.8</td>\n",
              "      <td>5.0</td>\n",
              "      <td>4.5</td>\n",
              "      <td>4.00</td>\n",
              "      <td>4.5</td>\n",
              "      <td>3.20</td>\n",
              "      <td>4.05</td>\n",
              "      <td>3.90</td>\n",
              "      <td>4.0</td>\n",
              "      <td>4.5</td>\n",
              "      <td>3.0</td>\n",
              "      <td>4.0</td>\n",
              "      <td>4.0</td>\n",
              "      <td>627</td>\n",
              "      <td>103660</td>\n",
              "      <td>12055</td>\n",
              "      <td>0.5</td>\n",
              "    </tr>\n",
              "  </tbody>\n",
              "</table>\n",
              "</div>"
            ],
            "text/plain": [
              "                             FILM  RottenTomatoes  RottenTomatoes_User  \\\n",
              "0  Avengers: Age of Ultron (2015)              74                   86   \n",
              "1               Cinderella (2015)              85                   80   \n",
              "2                  Ant-Man (2015)              80                   90   \n",
              "\n",
              "   Metacritic  Metacritic_User  IMDB  Fandango_Stars  Fandango_Ratingvalue  \\\n",
              "0          66              7.1   7.8             5.0                   4.5   \n",
              "1          67              7.5   7.1             5.0                   4.5   \n",
              "2          64              8.1   7.8             5.0                   4.5   \n",
              "\n",
              "   RT_norm  RT_user_norm  Metacritic_norm  Metacritic_user_nom  IMDB_norm  \\\n",
              "0     3.70           4.3             3.30                 3.55       3.90   \n",
              "1     4.25           4.0             3.35                 3.75       3.55   \n",
              "2     4.00           4.5             3.20                 4.05       3.90   \n",
              "\n",
              "   RT_norm_round  RT_user_norm_round  Metacritic_norm_round  \\\n",
              "0            3.5                 4.5                    3.5   \n",
              "1            4.5                 4.0                    3.5   \n",
              "2            4.0                 4.5                    3.0   \n",
              "\n",
              "   Metacritic_user_norm_round  IMDB_norm_round  Metacritic_user_vote_count  \\\n",
              "0                         3.5              4.0                        1330   \n",
              "1                         4.0              3.5                         249   \n",
              "2                         4.0              4.0                         627   \n",
              "\n",
              "   IMDB_user_vote_count  Fandango_votes  Fandango_Difference  \n",
              "0                271107           14846                  0.5  \n",
              "1                 65709           12640                  0.5  \n",
              "2                103660           12055                  0.5  "
            ]
          },
          "metadata": {
            "tags": []
          },
          "execution_count": 37
        }
      ]
    },
    {
      "cell_type": "code",
      "metadata": {
        "id": "eW8Rxox8caIr",
        "colab_type": "code",
        "outputId": "a6f1497c-a924-4d29-cc14-3f3145679591",
        "colab": {
          "base_uri": "https://localhost:8080/",
          "height": 142
        }
      },
      "source": [
        "after.head(3)"
      ],
      "execution_count": 38,
      "outputs": [
        {
          "output_type": "execute_result",
          "data": {
            "text/html": [
              "<div>\n",
              "<style scoped>\n",
              "    .dataframe tbody tr th:only-of-type {\n",
              "        vertical-align: middle;\n",
              "    }\n",
              "\n",
              "    .dataframe tbody tr th {\n",
              "        vertical-align: top;\n",
              "    }\n",
              "\n",
              "    .dataframe thead th {\n",
              "        text-align: right;\n",
              "    }\n",
              "</style>\n",
              "<table border=\"1\" class=\"dataframe\">\n",
              "  <thead>\n",
              "    <tr style=\"text-align: right;\">\n",
              "      <th></th>\n",
              "      <th>movie</th>\n",
              "      <th>year</th>\n",
              "      <th>metascore</th>\n",
              "      <th>imdb</th>\n",
              "      <th>tmeter</th>\n",
              "      <th>audience</th>\n",
              "      <th>fandango</th>\n",
              "      <th>n_metascore</th>\n",
              "      <th>n_imdb</th>\n",
              "      <th>n_tmeter</th>\n",
              "      <th>n_audience</th>\n",
              "      <th>nr_metascore</th>\n",
              "      <th>nr_imdb</th>\n",
              "      <th>nr_tmeter</th>\n",
              "      <th>nr_audience</th>\n",
              "    </tr>\n",
              "  </thead>\n",
              "  <tbody>\n",
              "    <tr>\n",
              "      <th>0</th>\n",
              "      <td>10 Cloverfield Lane</td>\n",
              "      <td>2016</td>\n",
              "      <td>76</td>\n",
              "      <td>7.2</td>\n",
              "      <td>90</td>\n",
              "      <td>79</td>\n",
              "      <td>3.5</td>\n",
              "      <td>3.80</td>\n",
              "      <td>3.60</td>\n",
              "      <td>4.5</td>\n",
              "      <td>3.95</td>\n",
              "      <td>4.0</td>\n",
              "      <td>3.5</td>\n",
              "      <td>4.5</td>\n",
              "      <td>4.0</td>\n",
              "    </tr>\n",
              "    <tr>\n",
              "      <th>1</th>\n",
              "      <td>13 Hours</td>\n",
              "      <td>2016</td>\n",
              "      <td>48</td>\n",
              "      <td>7.3</td>\n",
              "      <td>50</td>\n",
              "      <td>83</td>\n",
              "      <td>4.5</td>\n",
              "      <td>2.40</td>\n",
              "      <td>3.65</td>\n",
              "      <td>2.5</td>\n",
              "      <td>4.15</td>\n",
              "      <td>2.5</td>\n",
              "      <td>3.5</td>\n",
              "      <td>2.5</td>\n",
              "      <td>4.0</td>\n",
              "    </tr>\n",
              "    <tr>\n",
              "      <th>2</th>\n",
              "      <td>A Cure for Wellness</td>\n",
              "      <td>2016</td>\n",
              "      <td>47</td>\n",
              "      <td>6.6</td>\n",
              "      <td>40</td>\n",
              "      <td>47</td>\n",
              "      <td>3.0</td>\n",
              "      <td>2.35</td>\n",
              "      <td>3.30</td>\n",
              "      <td>2.0</td>\n",
              "      <td>2.35</td>\n",
              "      <td>2.5</td>\n",
              "      <td>3.5</td>\n",
              "      <td>2.0</td>\n",
              "      <td>2.5</td>\n",
              "    </tr>\n",
              "  </tbody>\n",
              "</table>\n",
              "</div>"
            ],
            "text/plain": [
              "                 movie  year  metascore  imdb  tmeter  audience  fandango  \\\n",
              "0  10 Cloverfield Lane  2016         76   7.2      90        79       3.5   \n",
              "1             13 Hours  2016         48   7.3      50        83       4.5   \n",
              "2  A Cure for Wellness  2016         47   6.6      40        47       3.0   \n",
              "\n",
              "   n_metascore  n_imdb  n_tmeter  n_audience  nr_metascore  nr_imdb  \\\n",
              "0         3.80    3.60       4.5        3.95           4.0      3.5   \n",
              "1         2.40    3.65       2.5        4.15           2.5      3.5   \n",
              "2         2.35    3.30       2.0        2.35           2.5      3.5   \n",
              "\n",
              "   nr_tmeter  nr_audience  \n",
              "0        4.5          4.0  \n",
              "1        2.5          4.0  \n",
              "2        2.0          2.5  "
            ]
          },
          "metadata": {
            "tags": []
          },
          "execution_count": 38
        }
      ]
    },
    {
      "cell_type": "markdown",
      "metadata": {
        "id": "NG6H5hBvcaIv",
        "colab_type": "text"
      },
      "source": [
        "Below I isolate only the columns that provide information about Fandango to make the relevant data more readily available for later use. I'll make copies to avoid any `SettingWithCopyWarning` later on. "
      ]
    },
    {
      "cell_type": "code",
      "metadata": {
        "id": "BOrjuhhzcaIw",
        "colab_type": "code",
        "outputId": "b60a08b4-ea9a-4775-b81d-8142884bb784",
        "colab": {
          "base_uri": "https://localhost:8080/",
          "height": 142
        }
      },
      "source": [
        "fandango_previous = previous[['FILM', 'Fandango_Stars', 'Fandango_Ratingvalue', 'Fandango_votes',\n",
        "                             'Fandango_Difference']].copy()\n",
        "fandango_after = after[['movie', 'year', 'fandango']].copy()\n",
        "\n",
        "fandango_previous.head(3)"
      ],
      "execution_count": 39,
      "outputs": [
        {
          "output_type": "execute_result",
          "data": {
            "text/html": [
              "<div>\n",
              "<style scoped>\n",
              "    .dataframe tbody tr th:only-of-type {\n",
              "        vertical-align: middle;\n",
              "    }\n",
              "\n",
              "    .dataframe tbody tr th {\n",
              "        vertical-align: top;\n",
              "    }\n",
              "\n",
              "    .dataframe thead th {\n",
              "        text-align: right;\n",
              "    }\n",
              "</style>\n",
              "<table border=\"1\" class=\"dataframe\">\n",
              "  <thead>\n",
              "    <tr style=\"text-align: right;\">\n",
              "      <th></th>\n",
              "      <th>FILM</th>\n",
              "      <th>Fandango_Stars</th>\n",
              "      <th>Fandango_Ratingvalue</th>\n",
              "      <th>Fandango_votes</th>\n",
              "      <th>Fandango_Difference</th>\n",
              "    </tr>\n",
              "  </thead>\n",
              "  <tbody>\n",
              "    <tr>\n",
              "      <th>0</th>\n",
              "      <td>Avengers: Age of Ultron (2015)</td>\n",
              "      <td>5.0</td>\n",
              "      <td>4.5</td>\n",
              "      <td>14846</td>\n",
              "      <td>0.5</td>\n",
              "    </tr>\n",
              "    <tr>\n",
              "      <th>1</th>\n",
              "      <td>Cinderella (2015)</td>\n",
              "      <td>5.0</td>\n",
              "      <td>4.5</td>\n",
              "      <td>12640</td>\n",
              "      <td>0.5</td>\n",
              "    </tr>\n",
              "    <tr>\n",
              "      <th>2</th>\n",
              "      <td>Ant-Man (2015)</td>\n",
              "      <td>5.0</td>\n",
              "      <td>4.5</td>\n",
              "      <td>12055</td>\n",
              "      <td>0.5</td>\n",
              "    </tr>\n",
              "  </tbody>\n",
              "</table>\n",
              "</div>"
            ],
            "text/plain": [
              "                             FILM  Fandango_Stars  Fandango_Ratingvalue  \\\n",
              "0  Avengers: Age of Ultron (2015)             5.0                   4.5   \n",
              "1               Cinderella (2015)             5.0                   4.5   \n",
              "2                  Ant-Man (2015)             5.0                   4.5   \n",
              "\n",
              "   Fandango_votes  Fandango_Difference  \n",
              "0           14846                  0.5  \n",
              "1           12640                  0.5  \n",
              "2           12055                  0.5  "
            ]
          },
          "metadata": {
            "tags": []
          },
          "execution_count": 39
        }
      ]
    },
    {
      "cell_type": "code",
      "metadata": {
        "id": "OkN-JbH1caI0",
        "colab_type": "code",
        "outputId": "c97b080f-adee-4465-ece1-30607ecc56f1",
        "colab": {
          "base_uri": "https://localhost:8080/",
          "height": 142
        }
      },
      "source": [
        "fandango_after.head(3)"
      ],
      "execution_count": 40,
      "outputs": [
        {
          "output_type": "execute_result",
          "data": {
            "text/html": [
              "<div>\n",
              "<style scoped>\n",
              "    .dataframe tbody tr th:only-of-type {\n",
              "        vertical-align: middle;\n",
              "    }\n",
              "\n",
              "    .dataframe tbody tr th {\n",
              "        vertical-align: top;\n",
              "    }\n",
              "\n",
              "    .dataframe thead th {\n",
              "        text-align: right;\n",
              "    }\n",
              "</style>\n",
              "<table border=\"1\" class=\"dataframe\">\n",
              "  <thead>\n",
              "    <tr style=\"text-align: right;\">\n",
              "      <th></th>\n",
              "      <th>movie</th>\n",
              "      <th>year</th>\n",
              "      <th>fandango</th>\n",
              "    </tr>\n",
              "  </thead>\n",
              "  <tbody>\n",
              "    <tr>\n",
              "      <th>0</th>\n",
              "      <td>10 Cloverfield Lane</td>\n",
              "      <td>2016</td>\n",
              "      <td>3.5</td>\n",
              "    </tr>\n",
              "    <tr>\n",
              "      <th>1</th>\n",
              "      <td>13 Hours</td>\n",
              "      <td>2016</td>\n",
              "      <td>4.5</td>\n",
              "    </tr>\n",
              "    <tr>\n",
              "      <th>2</th>\n",
              "      <td>A Cure for Wellness</td>\n",
              "      <td>2016</td>\n",
              "      <td>3.0</td>\n",
              "    </tr>\n",
              "  </tbody>\n",
              "</table>\n",
              "</div>"
            ],
            "text/plain": [
              "                 movie  year  fandango\n",
              "0  10 Cloverfield Lane  2016       3.5\n",
              "1             13 Hours  2016       4.5\n",
              "2  A Cure for Wellness  2016       3.0"
            ]
          },
          "metadata": {
            "tags": []
          },
          "execution_count": 40
        }
      ]
    },
    {
      "cell_type": "markdown",
      "metadata": {
        "id": "Ga9K8KLMcaI4",
        "colab_type": "text"
      },
      "source": [
        "## Isolating the Samples We Need\n",
        "\n",
        "We have two populations of interest:\n",
        "\n",
        "1. All Fandango's ratings for popular movies released in 2015.\n",
        "2. All Fandango's ratings for popular movies released in 2016.\n",
        "\n",
        "I need to be clear about what counts as popular movies. I'll use Hickey's benchmark of 30 fan ratings and count a movie as popular only if it has 30 fan ratings or more on Fandango's website.\n",
        "\n",
        "Although one of the sampling criteria in the second sample is movie popularity, the sample doesn't provide information about the number of fan ratings. I should be skeptical once more and ask whether this sample is truly representative and contains popular movies (movies with over 30 fan ratings).\n",
        "\n",
        "One quick way to check the representativity of this sample is to sample randomly 10 movies from it and then check the number of fan ratings on Fandango's website. Ideally, at least 8 out of the 10 movies have 30 fan ratings or more."
      ]
    },
    {
      "cell_type": "code",
      "metadata": {
        "id": "nMDWzfm_caI5",
        "colab_type": "code",
        "outputId": "a4e26c4c-2abe-4d69-fd29-1dc7f90b50e0",
        "colab": {
          "base_uri": "https://localhost:8080/",
          "height": 359
        }
      },
      "source": [
        "fandango_after.sample(10, random_state = 1)"
      ],
      "execution_count": 41,
      "outputs": [
        {
          "output_type": "execute_result",
          "data": {
            "text/html": [
              "<div>\n",
              "<style scoped>\n",
              "    .dataframe tbody tr th:only-of-type {\n",
              "        vertical-align: middle;\n",
              "    }\n",
              "\n",
              "    .dataframe tbody tr th {\n",
              "        vertical-align: top;\n",
              "    }\n",
              "\n",
              "    .dataframe thead th {\n",
              "        text-align: right;\n",
              "    }\n",
              "</style>\n",
              "<table border=\"1\" class=\"dataframe\">\n",
              "  <thead>\n",
              "    <tr style=\"text-align: right;\">\n",
              "      <th></th>\n",
              "      <th>movie</th>\n",
              "      <th>year</th>\n",
              "      <th>fandango</th>\n",
              "    </tr>\n",
              "  </thead>\n",
              "  <tbody>\n",
              "    <tr>\n",
              "      <th>108</th>\n",
              "      <td>Mechanic: Resurrection</td>\n",
              "      <td>2016</td>\n",
              "      <td>4.0</td>\n",
              "    </tr>\n",
              "    <tr>\n",
              "      <th>206</th>\n",
              "      <td>Warcraft</td>\n",
              "      <td>2016</td>\n",
              "      <td>4.0</td>\n",
              "    </tr>\n",
              "    <tr>\n",
              "      <th>106</th>\n",
              "      <td>Max Steel</td>\n",
              "      <td>2016</td>\n",
              "      <td>3.5</td>\n",
              "    </tr>\n",
              "    <tr>\n",
              "      <th>107</th>\n",
              "      <td>Me Before You</td>\n",
              "      <td>2016</td>\n",
              "      <td>4.5</td>\n",
              "    </tr>\n",
              "    <tr>\n",
              "      <th>51</th>\n",
              "      <td>Fantastic Beasts and Where to Find Them</td>\n",
              "      <td>2016</td>\n",
              "      <td>4.5</td>\n",
              "    </tr>\n",
              "    <tr>\n",
              "      <th>33</th>\n",
              "      <td>Cell</td>\n",
              "      <td>2016</td>\n",
              "      <td>3.0</td>\n",
              "    </tr>\n",
              "    <tr>\n",
              "      <th>59</th>\n",
              "      <td>Genius</td>\n",
              "      <td>2016</td>\n",
              "      <td>3.5</td>\n",
              "    </tr>\n",
              "    <tr>\n",
              "      <th>152</th>\n",
              "      <td>Sully</td>\n",
              "      <td>2016</td>\n",
              "      <td>4.5</td>\n",
              "    </tr>\n",
              "    <tr>\n",
              "      <th>4</th>\n",
              "      <td>A Hologram for the King</td>\n",
              "      <td>2016</td>\n",
              "      <td>3.0</td>\n",
              "    </tr>\n",
              "    <tr>\n",
              "      <th>31</th>\n",
              "      <td>Captain America: Civil War</td>\n",
              "      <td>2016</td>\n",
              "      <td>4.5</td>\n",
              "    </tr>\n",
              "  </tbody>\n",
              "</table>\n",
              "</div>"
            ],
            "text/plain": [
              "                                       movie  year  fandango\n",
              "108                   Mechanic: Resurrection  2016       4.0\n",
              "206                                 Warcraft  2016       4.0\n",
              "106                                Max Steel  2016       3.5\n",
              "107                            Me Before You  2016       4.5\n",
              "51   Fantastic Beasts and Where to Find Them  2016       4.5\n",
              "33                                      Cell  2016       3.0\n",
              "59                                    Genius  2016       3.5\n",
              "152                                    Sully  2016       4.5\n",
              "4                    A Hologram for the King  2016       3.0\n",
              "31                Captain America: Civil War  2016       4.5"
            ]
          },
          "metadata": {
            "tags": []
          },
          "execution_count": 41
        }
      ]
    },
    {
      "cell_type": "markdown",
      "metadata": {
        "id": "4uhkJXe7caI8",
        "colab_type": "text"
      },
      "source": [
        "Using a value of 1 as the random seed is good practice because it suggests that I wasn't trying out various random seeds just to get a favorable sample.\n",
        "\n",
        "These are the fan ratings I found:\n",
        "\n",
        "<style type=\"text/css\">\n",
        ".tg  {border-collapse:collapse;border-spacing:0;}\n",
        ".tg td{font-family:Arial, sans-serif;font-size:14px;padding:10px 5px;border-style:solid;border-width:1px;overflow:hidden;word-break:normal;border-color:black;}\n",
        ".tg th{font-family:Arial, sans-serif;font-size:14px;font-weight:normal;padding:10px 5px;border-style:solid;border-width:1px;overflow:hidden;word-break:normal;border-color:black;}\n",
        ".tg .tg-baqh{text-align:center;vertical-align:top}\n",
        ".tg .tg-amwm{font-weight:bold;text-align:center;vertical-align:top}\n",
        ".tg .tg-yw4l{vertical-align:top}\n",
        "</style>\n",
        "<table class=\"tg\">\n",
        "  <tr>\n",
        "    <th class=\"tg-amwm\">Movie</th>\n",
        "    <th class=\"tg-amwm\">Fan ratings</th>\n",
        "  </tr>\n",
        "  <tr>\n",
        "    <td class=\"tg-baqh\">Mechanic: Resurrection</td>\n",
        "    <td class=\"tg-baqh\">2247</td>\n",
        "  </tr>\n",
        "  <tr>\n",
        "    <td class=\"tg-baqh\">Warcraft</td>\n",
        "    <td class=\"tg-baqh\">7271</td>\n",
        "  </tr>\n",
        "  <tr>\n",
        "    <td class=\"tg-baqh\">Max Steel</td>\n",
        "    <td class=\"tg-baqh\">493</td>\n",
        "  </tr>\n",
        "  <tr>\n",
        "    <td class=\"tg-baqh\">Me Before You</td>\n",
        "    <td class=\"tg-baqh\">5263</td>\n",
        "  </tr>\n",
        "  <tr>\n",
        "    <td class=\"tg-baqh\">Fantastic Beasts and Where to Find Them</td>\n",
        "    <td class=\"tg-baqh\">13400</td>\n",
        "  </tr>\n",
        "  <tr>\n",
        "    <td class=\"tg-yw4l\">Cell</td>\n",
        "    <td class=\"tg-yw4l\">17</td>\n",
        "  </tr>\n",
        "  <tr>\n",
        "    <td class=\"tg-yw4l\">Genius</td>\n",
        "    <td class=\"tg-yw4l\">127</td>\n",
        "  </tr>\n",
        "  <tr>\n",
        "    <td class=\"tg-yw4l\">Sully</td>\n",
        "    <td class=\"tg-yw4l\">11877</td>\n",
        "  </tr>\n",
        "  <tr>\n",
        "    <td class=\"tg-yw4l\">A Hologram for the King\t</td>\n",
        "    <td class=\"tg-yw4l\">500</td>\n",
        "  </tr>\n",
        "  <tr>\n",
        "    <td class=\"tg-yw4l\">Captain America: Civil War</td>\n",
        "    <td class=\"tg-yw4l\">35057</td>\n",
        "  </tr>\n",
        "</table>\n",
        "\n",
        "\n",
        "90% of the movies in this sample are popular. This is enough and I move forward with a bit more confidence."
      ]
    },
    {
      "cell_type": "markdown",
      "metadata": {
        "id": "unC3-GZ2caJA",
        "colab_type": "text"
      },
      "source": [
        "If you explore the two data sets, you'll notice that there are movies with a releasing year different than 2015 or 2016. For my purposes, I'll need to isolate only the movies released in 2015 and 2016.\n",
        "\n",
        "Let's start with Hickey's data set and isolate only the movies released in 2015. There's no special column for the releasing year, but I can extract it from the strings in the `FILM` column."
      ]
    },
    {
      "cell_type": "code",
      "metadata": {
        "id": "lpuHAb2rcaJB",
        "colab_type": "code",
        "outputId": "5d3867bb-dfcc-4bf8-be5e-c8d6d8fb107e",
        "colab": {
          "base_uri": "https://localhost:8080/",
          "height": 111
        }
      },
      "source": [
        "fandango_previous.head(2)"
      ],
      "execution_count": 42,
      "outputs": [
        {
          "output_type": "execute_result",
          "data": {
            "text/html": [
              "<div>\n",
              "<style scoped>\n",
              "    .dataframe tbody tr th:only-of-type {\n",
              "        vertical-align: middle;\n",
              "    }\n",
              "\n",
              "    .dataframe tbody tr th {\n",
              "        vertical-align: top;\n",
              "    }\n",
              "\n",
              "    .dataframe thead th {\n",
              "        text-align: right;\n",
              "    }\n",
              "</style>\n",
              "<table border=\"1\" class=\"dataframe\">\n",
              "  <thead>\n",
              "    <tr style=\"text-align: right;\">\n",
              "      <th></th>\n",
              "      <th>FILM</th>\n",
              "      <th>Fandango_Stars</th>\n",
              "      <th>Fandango_Ratingvalue</th>\n",
              "      <th>Fandango_votes</th>\n",
              "      <th>Fandango_Difference</th>\n",
              "    </tr>\n",
              "  </thead>\n",
              "  <tbody>\n",
              "    <tr>\n",
              "      <th>0</th>\n",
              "      <td>Avengers: Age of Ultron (2015)</td>\n",
              "      <td>5.0</td>\n",
              "      <td>4.5</td>\n",
              "      <td>14846</td>\n",
              "      <td>0.5</td>\n",
              "    </tr>\n",
              "    <tr>\n",
              "      <th>1</th>\n",
              "      <td>Cinderella (2015)</td>\n",
              "      <td>5.0</td>\n",
              "      <td>4.5</td>\n",
              "      <td>12640</td>\n",
              "      <td>0.5</td>\n",
              "    </tr>\n",
              "  </tbody>\n",
              "</table>\n",
              "</div>"
            ],
            "text/plain": [
              "                             FILM  Fandango_Stars  Fandango_Ratingvalue  \\\n",
              "0  Avengers: Age of Ultron (2015)             5.0                   4.5   \n",
              "1               Cinderella (2015)             5.0                   4.5   \n",
              "\n",
              "   Fandango_votes  Fandango_Difference  \n",
              "0           14846                  0.5  \n",
              "1           12640                  0.5  "
            ]
          },
          "metadata": {
            "tags": []
          },
          "execution_count": 42
        }
      ]
    },
    {
      "cell_type": "code",
      "metadata": {
        "id": "9YbveN_1caJE",
        "colab_type": "code",
        "outputId": "c573764a-ad47-4b47-e412-7c1fcddd1595",
        "colab": {
          "base_uri": "https://localhost:8080/",
          "height": 111
        }
      },
      "source": [
        "fandango_previous['Year'] = fandango_previous['FILM'].str[-5:-1]\n",
        "fandango_previous.head(2)"
      ],
      "execution_count": 43,
      "outputs": [
        {
          "output_type": "execute_result",
          "data": {
            "text/html": [
              "<div>\n",
              "<style scoped>\n",
              "    .dataframe tbody tr th:only-of-type {\n",
              "        vertical-align: middle;\n",
              "    }\n",
              "\n",
              "    .dataframe tbody tr th {\n",
              "        vertical-align: top;\n",
              "    }\n",
              "\n",
              "    .dataframe thead th {\n",
              "        text-align: right;\n",
              "    }\n",
              "</style>\n",
              "<table border=\"1\" class=\"dataframe\">\n",
              "  <thead>\n",
              "    <tr style=\"text-align: right;\">\n",
              "      <th></th>\n",
              "      <th>FILM</th>\n",
              "      <th>Fandango_Stars</th>\n",
              "      <th>Fandango_Ratingvalue</th>\n",
              "      <th>Fandango_votes</th>\n",
              "      <th>Fandango_Difference</th>\n",
              "      <th>Year</th>\n",
              "    </tr>\n",
              "  </thead>\n",
              "  <tbody>\n",
              "    <tr>\n",
              "      <th>0</th>\n",
              "      <td>Avengers: Age of Ultron (2015)</td>\n",
              "      <td>5.0</td>\n",
              "      <td>4.5</td>\n",
              "      <td>14846</td>\n",
              "      <td>0.5</td>\n",
              "      <td>2015</td>\n",
              "    </tr>\n",
              "    <tr>\n",
              "      <th>1</th>\n",
              "      <td>Cinderella (2015)</td>\n",
              "      <td>5.0</td>\n",
              "      <td>4.5</td>\n",
              "      <td>12640</td>\n",
              "      <td>0.5</td>\n",
              "      <td>2015</td>\n",
              "    </tr>\n",
              "  </tbody>\n",
              "</table>\n",
              "</div>"
            ],
            "text/plain": [
              "                             FILM  Fandango_Stars  Fandango_Ratingvalue  \\\n",
              "0  Avengers: Age of Ultron (2015)             5.0                   4.5   \n",
              "1               Cinderella (2015)             5.0                   4.5   \n",
              "\n",
              "   Fandango_votes  Fandango_Difference  Year  \n",
              "0           14846                  0.5  2015  \n",
              "1           12640                  0.5  2015  "
            ]
          },
          "metadata": {
            "tags": []
          },
          "execution_count": 43
        }
      ]
    },
    {
      "cell_type": "markdown",
      "metadata": {
        "id": "xRhlJx4acaJH",
        "colab_type": "text"
      },
      "source": [
        "Let's examine the frequency distribution for the `Year` column and then isolate the movies released in 2015."
      ]
    },
    {
      "cell_type": "code",
      "metadata": {
        "id": "SVHxdp9XcaJI",
        "colab_type": "code",
        "outputId": "310e9107-299f-4a8b-95cd-34741a597b27",
        "colab": {
          "base_uri": "https://localhost:8080/",
          "height": 68
        }
      },
      "source": [
        "fandango_previous['Year'].value_counts()"
      ],
      "execution_count": 44,
      "outputs": [
        {
          "output_type": "execute_result",
          "data": {
            "text/plain": [
              "2015    129\n",
              "2014     17\n",
              "Name: Year, dtype: int64"
            ]
          },
          "metadata": {
            "tags": []
          },
          "execution_count": 44
        }
      ]
    },
    {
      "cell_type": "code",
      "metadata": {
        "id": "B55SzwBKcaJL",
        "colab_type": "code",
        "outputId": "b7f3aae2-84d0-4530-d071-659c177aa031",
        "colab": {
          "base_uri": "https://localhost:8080/",
          "height": 51
        }
      },
      "source": [
        "fandango_2015 = fandango_previous[fandango_previous['Year'] == '2015'].copy()\n",
        "fandango_2015['Year'].value_counts()"
      ],
      "execution_count": 45,
      "outputs": [
        {
          "output_type": "execute_result",
          "data": {
            "text/plain": [
              "2015    129\n",
              "Name: Year, dtype: int64"
            ]
          },
          "metadata": {
            "tags": []
          },
          "execution_count": 45
        }
      ]
    },
    {
      "cell_type": "markdown",
      "metadata": {
        "id": "KyhKkGY7caJO",
        "colab_type": "text"
      },
      "source": [
        "Now let's isolate the movies in the other data set."
      ]
    },
    {
      "cell_type": "code",
      "metadata": {
        "id": "bYNtFdhOcaJP",
        "colab_type": "code",
        "outputId": "ca00152c-b34b-4753-bf30-f3703b73a3d0",
        "colab": {
          "base_uri": "https://localhost:8080/",
          "height": 111
        }
      },
      "source": [
        "fandango_after.head(2)"
      ],
      "execution_count": 46,
      "outputs": [
        {
          "output_type": "execute_result",
          "data": {
            "text/html": [
              "<div>\n",
              "<style scoped>\n",
              "    .dataframe tbody tr th:only-of-type {\n",
              "        vertical-align: middle;\n",
              "    }\n",
              "\n",
              "    .dataframe tbody tr th {\n",
              "        vertical-align: top;\n",
              "    }\n",
              "\n",
              "    .dataframe thead th {\n",
              "        text-align: right;\n",
              "    }\n",
              "</style>\n",
              "<table border=\"1\" class=\"dataframe\">\n",
              "  <thead>\n",
              "    <tr style=\"text-align: right;\">\n",
              "      <th></th>\n",
              "      <th>movie</th>\n",
              "      <th>year</th>\n",
              "      <th>fandango</th>\n",
              "    </tr>\n",
              "  </thead>\n",
              "  <tbody>\n",
              "    <tr>\n",
              "      <th>0</th>\n",
              "      <td>10 Cloverfield Lane</td>\n",
              "      <td>2016</td>\n",
              "      <td>3.5</td>\n",
              "    </tr>\n",
              "    <tr>\n",
              "      <th>1</th>\n",
              "      <td>13 Hours</td>\n",
              "      <td>2016</td>\n",
              "      <td>4.5</td>\n",
              "    </tr>\n",
              "  </tbody>\n",
              "</table>\n",
              "</div>"
            ],
            "text/plain": [
              "                 movie  year  fandango\n",
              "0  10 Cloverfield Lane  2016       3.5\n",
              "1             13 Hours  2016       4.5"
            ]
          },
          "metadata": {
            "tags": []
          },
          "execution_count": 46
        }
      ]
    },
    {
      "cell_type": "code",
      "metadata": {
        "id": "Jn2ZnahBcaJR",
        "colab_type": "code",
        "outputId": "87de0ce9-66b1-49ba-e9f0-adcff4bea957",
        "colab": {
          "base_uri": "https://localhost:8080/",
          "height": 68
        }
      },
      "source": [
        "fandango_after['year'].value_counts()"
      ],
      "execution_count": 47,
      "outputs": [
        {
          "output_type": "execute_result",
          "data": {
            "text/plain": [
              "2016    191\n",
              "2017     23\n",
              "Name: year, dtype: int64"
            ]
          },
          "metadata": {
            "tags": []
          },
          "execution_count": 47
        }
      ]
    },
    {
      "cell_type": "code",
      "metadata": {
        "id": "nPCNZ4ILcaJU",
        "colab_type": "code",
        "outputId": "fe2b56c8-f8b1-420b-8f0a-270797877e53",
        "colab": {
          "base_uri": "https://localhost:8080/",
          "height": 51
        }
      },
      "source": [
        "fandango_2016 = fandango_after[fandango_after['year'] == 2016].copy()\n",
        "fandango_2016['year'].value_counts()"
      ],
      "execution_count": 48,
      "outputs": [
        {
          "output_type": "execute_result",
          "data": {
            "text/plain": [
              "2016    191\n",
              "Name: year, dtype: int64"
            ]
          },
          "metadata": {
            "tags": []
          },
          "execution_count": 48
        }
      ]
    },
    {
      "cell_type": "markdown",
      "metadata": {
        "id": "P6SxGj0ZokPu",
        "colab_type": "text"
      },
      "source": [
        "# Data Analysis"
      ]
    },
    {
      "cell_type": "markdown",
      "metadata": {
        "id": "leyOWC8ecaJY",
        "colab_type": "text"
      },
      "source": [
        "## Comparing Distribution Shapes for 2015 and 2016\n",
        "\n",
        "The aim is to figure out whether there's any difference between Fandango's ratings for popular movies in 2015 and Fandango's ratings for popular movies in 2016. One way to go about is to analyze and compare the distributions of movie ratings for the two samples.\n",
        "\n",
        "I'll start with comparing the shape of the two distributions using kernel density plots."
      ]
    },
    {
      "cell_type": "code",
      "metadata": {
        "id": "TpkVPHL7caJZ",
        "colab_type": "code",
        "outputId": "435f4a04-1b93-4d50-848f-5a40fe23a518",
        "colab": {
          "base_uri": "https://localhost:8080/",
          "height": 418
        }
      },
      "source": [
        "import matplotlib.pyplot as plt\n",
        "from numpy import arange\n",
        "%matplotlib inline\n",
        "plt.style.use('ggplot')\n",
        "\n",
        "fandango_2015['Fandango_Stars'].plot.kde(label = '2015', legend = True, figsize = (8,5.5))\n",
        "fandango_2016['fandango'].plot.kde(label = '2016', legend = True)\n",
        "\n",
        "plt.title(\"Comparing distribution shapes for Fandango's ratings\\n(2015 vs 2016)\",\n",
        "          y = 1.07) # the `y` parameter pads the title upward\n",
        "plt.xlabel('Stars')\n",
        "plt.xlim(0,5) # because ratings start at 0 and end at 5\n",
        "plt.xticks(arange(0,5.1,.5))\n",
        "plt.show()"
      ],
      "execution_count": 49,
      "outputs": [
        {
          "output_type": "display_data",
          "data": {
            "image/png": "[encoded data removed]",
            "text/plain": [
              "<Figure size 576x396 with 1 Axes>"
            ]
          },
          "metadata": {
            "tags": []
          }
        }
      ]
    },
    {
      "cell_type": "markdown",
      "metadata": {
        "id": "ZpnLiZptcaJb",
        "colab_type": "text"
      },
      "source": [
        "Two aspects are striking on the figure above:\n",
        "* Both distributions are strongly left skewed.\n",
        "* The 2016 distribution is slightly shifted to the left relative to the 2015 distribution.\n",
        "\n",
        "The left skew suggests that movies on Fandango are given mostly high and very high fan ratings.\n",
        "\n",
        "The slight left shift of the 2016 distribution is very interesting for the analysis. It shows that ratings were slightly lower in 2016 compared to 2015. This suggests that there was a difference indeed between Fandango's ratings for popular movies in 2015 and Fandango's ratings for popular movies in 2016."
      ]
    },
    {
      "cell_type": "markdown",
      "metadata": {
        "id": "AZh_YNADsA47",
        "colab_type": "text"
      },
      "source": [
        "## Comparing Relative Frequencies\n",
        "\n",
        "Let's examine the frequency tables of the two distributions to analyze some numbers. Because the data sets have different numbers of movies, I normalize the tables and show percentages instead."
      ]
    },
    {
      "cell_type": "code",
      "metadata": {
        "id": "Vz57JmO5caJc",
        "colab_type": "code",
        "outputId": "aa58177d-c411-43c3-9454-c04067ff7939",
        "colab": {
          "base_uri": "https://localhost:8080/",
          "height": 153
        }
      },
      "source": [
        "print('2015' + '\\n' + '-' * 16)\n",
        "fandango_2015['Fandango_Stars'].value_counts(normalize = True).sort_index() * 100"
      ],
      "execution_count": 50,
      "outputs": [
        {
          "output_type": "stream",
          "text": [
            "2015\n",
            "----------------\n"
          ],
          "name": "stdout"
        },
        {
          "output_type": "execute_result",
          "data": {
            "text/plain": [
              "3.0     8.527132\n",
              "3.5    17.829457\n",
              "4.0    28.682171\n",
              "4.5    37.984496\n",
              "5.0     6.976744\n",
              "Name: Fandango_Stars, dtype: float64"
            ]
          },
          "metadata": {
            "tags": []
          },
          "execution_count": 50
        }
      ]
    },
    {
      "cell_type": "code",
      "metadata": {
        "id": "044zv_lqcaJf",
        "colab_type": "code",
        "outputId": "cc26c5af-dbac-4e4d-f588-a54e7097e38d",
        "colab": {
          "base_uri": "https://localhost:8080/",
          "height": 170
        }
      },
      "source": [
        "print('2016' + '\\n' + '-' * 16)\n",
        "fandango_2016['fandango'].value_counts(normalize = True).sort_index() * 100"
      ],
      "execution_count": 51,
      "outputs": [
        {
          "output_type": "stream",
          "text": [
            "2016\n",
            "----------------\n"
          ],
          "name": "stdout"
        },
        {
          "output_type": "execute_result",
          "data": {
            "text/plain": [
              "2.5     3.141361\n",
              "3.0     7.329843\n",
              "3.5    24.083770\n",
              "4.0    40.314136\n",
              "4.5    24.607330\n",
              "5.0     0.523560\n",
              "Name: fandango, dtype: float64"
            ]
          },
          "metadata": {
            "tags": []
          },
          "execution_count": 51
        }
      ]
    },
    {
      "cell_type": "markdown",
      "metadata": {
        "id": "tRqMiKwscaJh",
        "colab_type": "text"
      },
      "source": [
        "In 2016, very high ratings (4.5 and 5 stars) had significantly lower percentages compared to 2015. In 2016, under 1% of the movies had a perfect rating of 5 stars, compared to 2015 when the percentage was close to 7%. Ratings of 4.5 were also more popular in 2015 — there were approximately 13% more movies rated with a 4.5 in 2015 compared to 2016.\n",
        "\n",
        "The minimum rating is also lower in 2016 — 2.5 instead of 3 stars, the minimum of 2015. There clearly is a difference between the two frequency distributions.\n",
        "\n",
        "For some other ratings, the percentage went up in 2016. There was a greater percentage of movies in 2016 that received 3.5 and 4 stars, compared to 2015. 3.5 and 4.0 are high ratings and this challenges the direction of the change I saw on the kernel density plots."
      ]
    },
    {
      "cell_type": "markdown",
      "metadata": {
        "id": "wOA09VwZuBtN",
        "colab_type": "text"
      },
      "source": [
        "## Determining the Direction of the Change\n",
        "\n",
        "Let's take a couple of summary metrics to get a more precise picture about the direction of the change. In what follows, I'll compute the mean, the median, and the mode for both distributions and then use a bar graph to plot the values."
      ]
    },
    {
      "cell_type": "code",
      "metadata": {
        "id": "PnAE2PCscaJi",
        "colab_type": "code",
        "outputId": "449d2fc5-40ca-49f6-ce1a-42904fbed016",
        "colab": {
          "base_uri": "https://localhost:8080/",
          "height": 142
        }
      },
      "source": [
        "mean_2015 = fandango_2015['Fandango_Stars'].mean()\n",
        "mean_2016 = fandango_2016['fandango'].mean()\n",
        "\n",
        "median_2015 = fandango_2015['Fandango_Stars'].median()\n",
        "median_2016 = fandango_2016['fandango'].median()\n",
        "\n",
        "mode_2015 = fandango_2015['Fandango_Stars'].mode()[0]\n",
        "mode_2016 = fandango_2016['fandango'].mode()[0]\n",
        "\n",
        "summary = pd.DataFrame()\n",
        "summary['2015'] = [mean_2015, median_2015, mode_2015]\n",
        "summary['2016'] = [mean_2016, median_2016, mode_2016]\n",
        "summary.index = ['mean', 'median', 'mode']\n",
        "summary"
      ],
      "execution_count": 52,
      "outputs": [
        {
          "output_type": "execute_result",
          "data": {
            "text/html": [
              "<div>\n",
              "<style scoped>\n",
              "    .dataframe tbody tr th:only-of-type {\n",
              "        vertical-align: middle;\n",
              "    }\n",
              "\n",
              "    .dataframe tbody tr th {\n",
              "        vertical-align: top;\n",
              "    }\n",
              "\n",
              "    .dataframe thead th {\n",
              "        text-align: right;\n",
              "    }\n",
              "</style>\n",
              "<table border=\"1\" class=\"dataframe\">\n",
              "  <thead>\n",
              "    <tr style=\"text-align: right;\">\n",
              "      <th></th>\n",
              "      <th>2015</th>\n",
              "      <th>2016</th>\n",
              "    </tr>\n",
              "  </thead>\n",
              "  <tbody>\n",
              "    <tr>\n",
              "      <th>mean</th>\n",
              "      <td>4.085271</td>\n",
              "      <td>3.887435</td>\n",
              "    </tr>\n",
              "    <tr>\n",
              "      <th>median</th>\n",
              "      <td>4.000000</td>\n",
              "      <td>4.000000</td>\n",
              "    </tr>\n",
              "    <tr>\n",
              "      <th>mode</th>\n",
              "      <td>4.500000</td>\n",
              "      <td>4.000000</td>\n",
              "    </tr>\n",
              "  </tbody>\n",
              "</table>\n",
              "</div>"
            ],
            "text/plain": [
              "            2015      2016\n",
              "mean    4.085271  3.887435\n",
              "median  4.000000  4.000000\n",
              "mode    4.500000  4.000000"
            ]
          },
          "metadata": {
            "tags": []
          },
          "execution_count": 52
        }
      ]
    },
    {
      "cell_type": "code",
      "metadata": {
        "id": "ZveUN51acaJl",
        "colab_type": "code",
        "outputId": "a85efd24-3be9-4eb6-dfe1-02cda57f9d7f",
        "colab": {
          "base_uri": "https://localhost:8080/",
          "height": 356
        }
      },
      "source": [
        "plt.style.use('ggplot')\n",
        "summary['2015'].plot.bar(color = '#0066FF', align = 'center', label = '2015', width = .25)\n",
        "summary['2016'].plot.bar(color = '#CC0000', align = 'edge', label = '2016', width = .25,\n",
        "                         rot = 0, figsize = (8,5))\n",
        "\n",
        "plt.title('Comparing summary statistics: 2015 vs 2016', y = 1.07)\n",
        "plt.ylim(0,5.5)\n",
        "plt.yticks(arange(0,5.1,.5))\n",
        "plt.ylabel('Stars')\n",
        "plt.legend(framealpha = 0, loc = 'upper center')\n",
        "plt.show()"
      ],
      "execution_count": 53,
      "outputs": [
        {
          "output_type": "display_data",
          "data": {
            "image/png": "[encoded data removed]",
            "text/plain": [
              "<Figure size 576x360 with 1 Axes>"
            ]
          },
          "metadata": {
            "tags": []
          }
        }
      ]
    },
    {
      "cell_type": "markdown",
      "metadata": {
        "id": "m9Ag2taacaJn",
        "colab_type": "text"
      },
      "source": [
        "The mean rating was lower in 2016 with approximately 0.2. This means a drop of almost 5% relative to the mean rating in 2015."
      ]
    },
    {
      "cell_type": "code",
      "metadata": {
        "id": "OEZS9RLdcaJo",
        "colab_type": "code",
        "outputId": "07119c76-d873-4ef0-a831-28048a6532f6",
        "colab": {
          "base_uri": "https://localhost:8080/",
          "height": 34
        }
      },
      "source": [
        "(summary.loc['mean'][0] - summary.loc['mean'][1]) / summary.loc['mean'][0]"
      ],
      "execution_count": 54,
      "outputs": [
        {
          "output_type": "execute_result",
          "data": {
            "text/plain": [
              "0.04842683568951993"
            ]
          },
          "metadata": {
            "tags": []
          },
          "execution_count": 54
        }
      ]
    },
    {
      "cell_type": "markdown",
      "metadata": {
        "id": "84nPJhC0caJr",
        "colab_type": "text"
      },
      "source": [
        "While the median is the same for both distributions, the mode is lower in 2016 by 0.5. Coupled with what we saw for the mean, the direction of the change on the kernel density plot is confirmed: on average, popular movies released in 2016 were rated slightly lower than popular movies released in 2015."
      ]
    },
    {
      "cell_type": "markdown",
      "metadata": {
        "id": "KHuiLRIBvRSq",
        "colab_type": "text"
      },
      "source": [
        "# Conclusion\n",
        "\n",
        "The analysis showed that there's indeed a slight difference between Fandango's ratings for popular movies in 2015 and Fandango's ratings for popular movies in 2016. I also determined that, on average, popular movies released in 2016 were rated lower on Fandango than popular movies released in 2015.\n",
        "\n",
        "I cannot be completely sure what caused the change, but the chances are very high that it was caused by Fandango fixing the biased rating system after Hickey's analysis."
      ]
    }
  ]
}