{
  "nbformat": 4,
  "nbformat_minor": 0,
  "metadata": {
    "colab": {
      "name": "Exploring Hacker News Posts",
      "provenance": [],
      "authorship_tag": "ABX9TyP09dyCo5PnAetjaD1cm5r7"
    },
    "kernelspec": {
      "name": "python3",
      "display_name": "Python 3"
    }
  },
  "cells": [
    {
      "cell_type": "markdown",
      "metadata": {
        "id": "dns1tYkpGrCZ",
        "colab_type": "text"
      },
      "source": [
        "# Exploring Hackers News Posts\n",
        "\n",
        "In this project, I'll work with a data set of submissions to popular technology site [Hacker News](https://news.ycombinator.com/).\n",
        "\n",
        "Hacker News is a site started by the startup incubator [Y Combinator](https://www.ycombinator.com/), where user-submitted stories (known as \"posts\") are voted and commented upon, similar to reddit. Hacker News is extremely popular in technology and startup circles, and posts that make it to the top of Hacker News' listings can get hundreds of thousands of visitors as a result.\n",
        "\n",
        "You can find the data set [here](https://www.kaggle.com/hacker-news/hacker-news-posts), but note that it has been reduced from almost 300,000 rows to approximately 20,000 rows by removing all submissions that did not receive any comments, and then randomly sampling from the remaining submissions. Below are descriptions of the columns:\n",
        "\n",
        "* `id`: The unique identifier from Hacker News for the post\n",
        "* `title`: The title of the post\n",
        "* `url`: The URL that the posts links to, if it the post has a URL\n",
        "* `num_points`: The number of points the post acquired, calculated as the total number of upvotes minus the total number of downvotes\n",
        "* `num_comments`: The number of comments that were made on the post\n",
        "* `author`: The username of the person who submitted the post\n",
        "* `created_at`: The date and time at which the post was submitted\n",
        "\n",
        "I'm specifically interested in posts whose titles begin with either `Ask HN` or `Show HN`. Users submit `Ask HN` posts to ask the Hacker News community a specific question. Below are a couple examples:\n",
        "\n",
        "```\n",
        "Ask HN: How to improve my personal website?\n",
        "Ask HN: Am I the only one outraged by Twitter shutting down share counts?\n",
        "Ask HN: Aby recent changes to CSS that broke mobile?\n",
        "```\n",
        "\n",
        "Likewise, users submit `Show HN` posts to show the Hacker News community a project, product, or just generally something interesting. Below are a couple of examples:\n",
        "\n",
        "```\n",
        "Show HN: Wio Link  ESP8266 Based Web of Things Hardware Development Platform'\n",
        "Show HN: Something pointless I made\n",
        "Show HN: Shanhu.io, a programming playground powered by e8vm\n",
        "```\n",
        "\n",
        "I'll specifically compare these two types of posts to determine the following:\n",
        "\n",
        "- Do `Ask HN` or `Show HN` receive more comments on average?\n",
        "- Do posts created at a certain time receive more comments on average?"
      ]
    },
    {
      "cell_type": "markdown",
      "metadata": {
        "id": "yu4-mDlYGrCd",
        "colab_type": "text"
      },
      "source": [
        "## Introduction\n",
        "\n",
        "First, I'll read in the data and remove the headers."
      ]
    },
    {
      "cell_type": "code",
      "metadata": {
        "id": "U6bsF0LGG1Od",
        "colab_type": "code",
        "colab": {
          "base_uri": "https://localhost:8080/",
          "height": 629
        },
        "outputId": "4441b2c7-ba50-43d4-824b-d557b7ab7549"
      },
      "source": [
        "# Import libraries\n",
        "import datetime as dt\n",
        "from csv import reader\n",
        "\n",
        "with open(\"hacker_news.csv\") as file:\n",
        "  hn = list(reader(file))\n",
        "\n",
        "# Remove the headers\n",
        "headers = hn[0]\n",
        "print(headers)\n",
        "\n",
        "hn = hn[1:]\n",
        "\n",
        "hn[:5]"
      ],
      "execution_count": 21,
      "outputs": [
        {
          "output_type": "stream",
          "text": [
            "['id', 'title', 'url', 'num_points', 'num_comments', 'author', 'created_at']\n"
          ],
          "name": "stdout"
        },
        {
          "output_type": "execute_result",
          "data": {
            "text/plain": [
              "[['12224879',\n",
              "  'Interactive Dynamic Video',\n",
              "  'http://www.interactivedynamicvideo.com/',\n",
              "  '386',\n",
              "  '52',\n",
              "  'ne0phyte',\n",
              "  '8/4/2016 11:52'],\n",
              " ['10975351',\n",
              "  'How to Use Open Source and Shut the Fuck Up at the Same Time',\n",
              "  'http://hueniverse.com/2016/01/26/how-to-use-open-source-and-shut-the-fuck-up-at-the-same-time/',\n",
              "  '39',\n",
              "  '10',\n",
              "  'josep2',\n",
              "  '1/26/2016 19:30'],\n",
              " ['11964716',\n",
              "  \"Florida DJs May Face Felony for April Fools' Water Joke\",\n",
              "  'http://www.thewire.com/entertainment/2013/04/florida-djs-april-fools-water-joke/63798/',\n",
              "  '2',\n",
              "  '1',\n",
              "  'vezycash',\n",
              "  '6/23/2016 22:20'],\n",
              " ['11919867',\n",
              "  'Technology ventures: From Idea to Enterprise',\n",
              "  'https://www.amazon.com/Technology-Ventures-Enterprise-Thomas-Byers/dp/0073523429',\n",
              "  '3',\n",
              "  '1',\n",
              "  'hswarna',\n",
              "  '6/17/2016 0:01'],\n",
              " ['10301696',\n",
              "  'Note by Note: The Making of Steinway L1037 (2007)',\n",
              "  'http://www.nytimes.com/2007/11/07/movies/07stein.html?_r=0',\n",
              "  '8',\n",
              "  '2',\n",
              "  'walterbell',\n",
              "  '9/30/2015 4:12']]"
            ]
          },
          "metadata": {
            "tags": []
          },
          "execution_count": 21
        }
      ]
    },
    {
      "cell_type": "markdown",
      "metadata": {
        "id": "-yvvYHwoGrCm",
        "colab_type": "text"
      },
      "source": [
        "We can see above that the data set contains the title of the posts, the number of comments for each post, and the date the post was created. Let's start by exploring the number of comments for each type of post. "
      ]
    },
    {
      "cell_type": "markdown",
      "metadata": {
        "id": "DSHiaIHAGrCn",
        "colab_type": "text"
      },
      "source": [
        "## Extracting Ask HN and Show HN Posts\n",
        "\n",
        "First, I'll identify posts that begin with either `Ask HN` or `Show HN` and separate the data for those two types of posts into different lists. Separating the data makes it easier to analyze in the following steps."
      ]
    },
    {
      "cell_type": "code",
      "metadata": {
        "id": "k07yjqxyeIo0",
        "colab_type": "code",
        "colab": {
          "base_uri": "https://localhost:8080/",
          "height": 68
        },
        "outputId": "e61483c9-03a3-4fd8-8201-0dc488f2d737"
      },
      "source": [
        "# Identify posts that begin with either `Ask HN` or `Show HN` and separate the data into different lists\n",
        "ask_posts, show_posts, other_posts = [], [], []\n",
        "\n",
        "for row in hn:\n",
        "  title = row[1].lower()\n",
        "  if title.startswith(\"ask hn\"):\n",
        "    ask_posts.append(row)\n",
        "  elif title.startswith(\"show hn\"):\n",
        "    show_posts.append(row)\n",
        "  else:\n",
        "    other_posts.append(row)\n",
        "\n",
        "print(\"There are {} Ask HN posts\".format(len(ask_posts)))\n",
        "print(\"There are {} Show HN posts\".format(len(show_posts)))\n",
        "print(\"There are {} other posts\".format(len(other_posts)))"
      ],
      "execution_count": 22,
      "outputs": [
        {
          "output_type": "stream",
          "text": [
            "There are 1744 Ask HN posts\n",
            "There are 1162 Show HN posts\n",
            "There are 17194 other posts\n"
          ],
          "name": "stdout"
        }
      ]
    },
    {
      "cell_type": "markdown",
      "metadata": {
        "id": "s3twsNAXGrCs",
        "colab_type": "text"
      },
      "source": [
        "## Calculating the Average Number of Comments for Ask HN and Show HN Posts\n",
        "\n",
        "Now that I separated ask posts and show posts into different lists, I'll calculate the average number of comments each type of post receives."
      ]
    },
    {
      "cell_type": "code",
      "metadata": {
        "id": "yfNWq-uSfi4F",
        "colab_type": "code",
        "colab": {
          "base_uri": "https://localhost:8080/",
          "height": 51
        },
        "outputId": "74903441-45f2-4d7f-cd95-0e7aceeb594c"
      },
      "source": [
        "# Calculate the average number of comments for Ask HN posts\n",
        "total_ask_comments = 0\n",
        "\n",
        "for row in ask_posts:\n",
        "  total_ask_comments += int(row[4])\n",
        "avg_ask_comments = total_ask_comments/len(ask_posts)\n",
        "\n",
        "print(\"The average number of comments for Ask HN posts is {0:.2f}\".format(avg_ask_comments))\n",
        "\n",
        "# Calculate the average number of comments for Show HN posts\n",
        "total_show_comments = 0\n",
        "\n",
        "for row in show_posts:\n",
        "  total_show_comments += int(row[4])\n",
        "avg_show_comments = total_show_comments/len(show_posts)\n",
        "\n",
        "print(\"The average number of comments for Show HN posts is {0:.2f}\".format(avg_show_comments))"
      ],
      "execution_count": 23,
      "outputs": [
        {
          "output_type": "stream",
          "text": [
            "The average number of comments for Ask HN posts is 14.04\n",
            "The average number of comments for Show HN posts is 10.32\n"
          ],
          "name": "stdout"
        }
      ]
    },
    {
      "cell_type": "markdown",
      "metadata": {
        "id": "BLPZ0iAyGrC4",
        "colab_type": "text"
      },
      "source": [
        "On average, ask posts in our sample receive approximately 14 comments, whereas show posts receive approximately 10. Since ask posts are more likely to receive comments, we'll focus our remaining analysis just on these posts. "
      ]
    },
    {
      "cell_type": "markdown",
      "metadata": {
        "id": "mmUvAj2IGrC5",
        "colab_type": "text"
      },
      "source": [
        "## Finding the Amount of Ask Posts and Comments by Hour Created\n",
        "\n",
        "Next, I'll determine if we can maximize the amount of comments an ask post receives by creating it at a certain time. First, I'll find the amount of ask posts created during each hour of day, along with the number of comments those posts received. Then, I'll calculate the average amount of comments ask posts created at each hour of the day receive."
      ]
    },
    {
      "cell_type": "code",
      "metadata": {
        "id": "J7IeqIcah0B5",
        "colab_type": "code",
        "colab": {
          "base_uri": "https://localhost:8080/",
          "height": 425
        },
        "outputId": "8c656b9a-a75e-49dc-f1b6-2751eb609f1f"
      },
      "source": [
        "# Calculate the amount of ask posts created during each hour of day and the number of comments received\n",
        "result_list = []\n",
        "\n",
        "for row in ask_posts:\n",
        "  result_list.append([row[6], int(row[4])])\n",
        "\n",
        "counts_by_hour, comments_by_hour = {}, {}\n",
        "\n",
        "for row in result_list:\n",
        "  hour = dt.datetime.strptime(row[0], \"%m/%d/%Y %H:%M\")\n",
        "  hour = hour.strftime(\"%H\")\n",
        "\n",
        "  if not hour in counts_by_hour:\n",
        "    counts_by_hour[hour] = 1\n",
        "    comments_by_hour[hour] = row[1]\n",
        "  else:\n",
        "    counts_by_hour[hour] += 1\n",
        "    comments_by_hour[hour] += row[1]\n",
        "\n",
        "comments_by_hour"
      ],
      "execution_count": 24,
      "outputs": [
        {
          "output_type": "execute_result",
          "data": {
            "text/plain": [
              "{'00': 447,\n",
              " '01': 683,\n",
              " '02': 1381,\n",
              " '03': 421,\n",
              " '04': 337,\n",
              " '05': 464,\n",
              " '06': 397,\n",
              " '07': 267,\n",
              " '08': 492,\n",
              " '09': 251,\n",
              " '10': 793,\n",
              " '11': 641,\n",
              " '12': 687,\n",
              " '13': 1253,\n",
              " '14': 1416,\n",
              " '15': 4477,\n",
              " '16': 1814,\n",
              " '17': 1146,\n",
              " '18': 1439,\n",
              " '19': 1188,\n",
              " '20': 1722,\n",
              " '21': 1745,\n",
              " '22': 479,\n",
              " '23': 543}"
            ]
          },
          "metadata": {
            "tags": []
          },
          "execution_count": 24
        }
      ]
    },
    {
      "cell_type": "markdown",
      "metadata": {
        "id": "nEyOSuK_GrC9",
        "colab_type": "text"
      },
      "source": [
        "## Calculating the Average Number of Comments for Ask HN Posts by Hour"
      ]
    },
    {
      "cell_type": "code",
      "metadata": {
        "id": "2Xh_6ba4j2kV",
        "colab_type": "code",
        "colab": {
          "base_uri": "https://localhost:8080/",
          "height": 425
        },
        "outputId": "c62ddea8-067b-48f2-9cce-f06bdc1ff85a"
      },
      "source": [
        "# Calculate the average amount of comments `Ask HN` posts created at each hour of the day receive\n",
        "avg_by_hour = []\n",
        "\n",
        "for key, val in comments_by_hour.items():\n",
        "  avg_by_hour.append([key, val/counts_by_hour[key]])\n",
        "\n",
        "avg_by_hour"
      ],
      "execution_count": 25,
      "outputs": [
        {
          "output_type": "execute_result",
          "data": {
            "text/plain": [
              "[['09', 5.5777777777777775],\n",
              " ['13', 14.741176470588234],\n",
              " ['10', 13.440677966101696],\n",
              " ['14', 13.233644859813085],\n",
              " ['16', 16.796296296296298],\n",
              " ['23', 7.985294117647059],\n",
              " ['12', 9.41095890410959],\n",
              " ['17', 11.46],\n",
              " ['15', 38.5948275862069],\n",
              " ['21', 16.009174311926607],\n",
              " ['20', 21.525],\n",
              " ['02', 23.810344827586206],\n",
              " ['18', 13.20183486238532],\n",
              " ['03', 7.796296296296297],\n",
              " ['05', 10.08695652173913],\n",
              " ['19', 10.8],\n",
              " ['01', 11.383333333333333],\n",
              " ['22', 6.746478873239437],\n",
              " ['08', 10.25],\n",
              " ['04', 7.170212765957447],\n",
              " ['00', 8.127272727272727],\n",
              " ['06', 9.022727272727273],\n",
              " ['07', 7.852941176470588],\n",
              " ['11', 11.051724137931034]]"
            ]
          },
          "metadata": {
            "tags": []
          },
          "execution_count": 25
        }
      ]
    },
    {
      "cell_type": "markdown",
      "metadata": {
        "id": "j9Qo2O7bGrDB",
        "colab_type": "text"
      },
      "source": [
        "## Sorting and Printing Values from a List of Lists"
      ]
    },
    {
      "cell_type": "code",
      "metadata": {
        "id": "oxtG4Msf7ndu",
        "colab_type": "code",
        "colab": {
          "base_uri": "https://localhost:8080/",
          "height": 136
        },
        "outputId": "3abaa13e-d961-4457-83d1-eeeb919e78e4"
      },
      "source": [
        "# Sort the values and print the the 5 hours with the highest average comments\n",
        "swap_avg_by_hour = []\n",
        "\n",
        "for row in avg_by_hour:\n",
        "  swap_avg_by_hour.append(row[::-1])\n",
        "\n",
        "sorted_swap = sorted(swap_avg_by_hour, reverse=True)\n",
        "\n",
        "print(\"Top 5 Hours for Ask Posts Comments\\n\")\n",
        "\n",
        "for row in sorted_swap[:5]:\n",
        "  print(\"{} - {:.2f} average number of comments per post\".format(dt.datetime.strptime(row[1], \"%H\").strftime(\"%H:%M\"), row[0]))"
      ],
      "execution_count": 26,
      "outputs": [
        {
          "output_type": "stream",
          "text": [
            "Top 5 Hours for Ask Posts Comments\n",
            "\n",
            "15:00 - 38.59 average number of comments per post\n",
            "02:00 - 23.81 average number of comments per post\n",
            "20:00 - 21.52 average number of comments per post\n",
            "16:00 - 16.80 average number of comments per post\n",
            "21:00 - 16.01 average number of comments per post\n"
          ],
          "name": "stdout"
        }
      ]
    },
    {
      "cell_type": "markdown",
      "metadata": {
        "id": "lSPVgDPUGrDM",
        "colab_type": "text"
      },
      "source": [
        "The hour that receives the most comments per post on average is 15:00, with an average of 38.59 comments per post. There's about a 60% increase in the number of comments between the hours with the highest and second highest \n",
        "average number of comments.\n",
        "\n",
        "According to the data set [documentation](https://www.kaggle.com/hacker-news/hacker-news-posts/home), the timezone used is Eastern Time in the US. So, we could also write 15:00 as 3:00 pm est."
      ]
    },
    {
      "cell_type": "markdown",
      "metadata": {
        "id": "5dHa9PLCGrDM",
        "colab_type": "text"
      },
      "source": [
        "# Conclusion\n",
        "\n",
        "In this project, I analyzed ask posts and show posts to determine which type of post and time receive the most comments on average. Based on the analysis, to maximize the amount of comments a post receives, I would recommend the post be categorized as ask post and created between 15:00 and 16:00 (3:00 pm est - 4:00 pm est). \n",
        "\n",
        "However, it should be noted that the data set I analyzed excluded posts without any comments. Given that, it's more accurate to say that *of the posts that received comments*, ask posts received more comments on average and ask posts created between 15:00 and 16:00 (3:00 pm est - 4:00 pm est) received the most comments on average."
      ]
    }
  ]
}