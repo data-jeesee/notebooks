{
  "nbformat": 4,
  "nbformat_minor": 0,
  "metadata": {
    "colab": {
      "name": "Building A Handwritten Digits Classifier",
      "provenance": [],
      "authorship_tag": "ABX9TyNw0KMQcxgpmwJQ/VSo4d/L"
    },
    "kernelspec": {
      "name": "python3",
      "display_name": "Python 3"
    }
  },
  "cells": [
    {
      "cell_type": "markdown",
      "metadata": {
        "id": "IdXIYpv0V0yg",
        "colab_type": "text"
      },
      "source": [
        "# Building A Handwritten Digits Classifier\n",
        "\n",
        "In this project I'll build models that can classify handwritten digits, with a focus on deep neural network. \n",
        "\n",
        "Before the year 2000, institutions like the United States Post Office used handwriting recognition software to read addresses, zip codes, and more. One of their approaches, which consists of pre-processing handwritten images then feeding to a neural network model is detailed in [this paper](http://citeseerx.ist.psu.edu/viewdoc/download?doi=10.1.1.852.5499&rep=rep1&type=pdf).\n",
        "\n",
        "In this project, I'll:\n",
        "\n",
        "- Observe the limitations of traditional machine learning models for image classification;\n",
        "- Train, test, and improve a few different deep neural networks for image classification.\n",
        "\n",
        "Deep neural networks have been used to reach state-of-the-art performance on **image classification** tasks in the last decade. For some image classification tasks, deep neural networks actually perform as well as or slightly better than the human benchmark. You can read about the history of deep neural networks [here](https://arxiv.org/pdf/1803.01164.pdf).\n",
        "\n",
        "To end this course, we'll build models that can classify handwritten digits. Before the year 2000, institutions like the United States Post Office used handwriting recognition software to read addresses, zip codes, and more. One of their approaches, which consists of pre-processing handwritten images then feeding to a neural network model is detailed in this paper."
      ]
    },
    {
      "cell_type": "markdown",
      "metadata": {
        "id": "cnA6JpyfAxXa",
        "colab_type": "text"
      },
      "source": [
        "# Exploring the Data\n",
        "\n",
        "Scikit-learn contains a number of [datasets](https://scikit-learn.org/stable/datasets/index.html) pre-loaded with the library, within the namespace of `sklearn.datasets`. The `load_digits()` function returns a copy of the [hand-written digits dataset](http://archive.ics.uci.edu/ml/datasets/Optical+Recognition+of+Handwritten+Digits) from UCI.\n",
        "\n",
        "Here's a preview of the data set:"
      ]
    },
    {
      "cell_type": "code",
      "metadata": {
        "id": "gjgrYhAc_xpJ",
        "colab_type": "code",
        "outputId": "2b44a8ce-e70e-467e-ba06-6a1d4672d446",
        "colab": {
          "base_uri": "https://localhost:8080/",
          "height": 34
        }
      },
      "source": [
        "# Import libraries\n",
        "import pandas as pd\n",
        "import numpy as np\n",
        "import matplotlib.pyplot as plt\n",
        "from sklearn.datasets import load_digits\n",
        "from sklearn.model_selection import GridSearchCV\n",
        "from sklearn.neighbors import KNeighborsClassifier\n",
        "from sklearn.neural_network import MLPClassifier\n",
        "\n",
        "# Options to set\n",
        "%matplotlib inline\n",
        "plt.style.use('fivethirtyeight')\n",
        "pd.set_option('display.max_columns', 99)\n",
        "np.random.seed(1)\n",
        "model_seed = 1\n",
        "\n",
        "# Load the data\n",
        "digits_data = load_digits()\n",
        "\n",
        "digits_data.keys()"
      ],
      "execution_count": 51,
      "outputs": [
        {
          "output_type": "execute_result",
          "data": {
            "text/plain": [
              "dict_keys(['data', 'target', 'target_names', 'images', 'DESCR'])"
            ]
          },
          "metadata": {
            "tags": []
          },
          "execution_count": 51
        }
      ]
    },
    {
      "cell_type": "code",
      "metadata": {
        "id": "Ki7B3Qt-VkkU",
        "colab_type": "code",
        "colab": {
          "base_uri": "https://localhost:8080/",
          "height": 289
        },
        "outputId": "3195df59-ab4c-4f5c-ac8c-dfc3bb70f37d"
      },
      "source": [
        "# Target values\n",
        "labels = pd.Series(digits_data['target'])\n",
        "\n",
        "labels.head(15)"
      ],
      "execution_count": 52,
      "outputs": [
        {
          "output_type": "execute_result",
          "data": {
            "text/plain": [
              "0     0\n",
              "1     1\n",
              "2     2\n",
              "3     3\n",
              "4     4\n",
              "5     5\n",
              "6     6\n",
              "7     7\n",
              "8     8\n",
              "9     9\n",
              "10    0\n",
              "11    1\n",
              "12    2\n",
              "13    3\n",
              "14    4\n",
              "dtype: int64"
            ]
          },
          "metadata": {
            "tags": []
          },
          "execution_count": 52
        }
      ]
    },
    {
      "cell_type": "code",
      "metadata": {
        "id": "lbGuy2TcZKe_",
        "colab_type": "code",
        "colab": {
          "base_uri": "https://localhost:8080/",
          "height": 224
        },
        "outputId": "3d8aae3c-c589-41cd-bceb-94b3d03fcf52"
      },
      "source": [
        "# Images data\n",
        "data = pd.DataFrame(digits_data['data'])\n",
        "\n",
        "data.head()"
      ],
      "execution_count": 53,
      "outputs": [
        {
          "output_type": "execute_result",
          "data": {
            "text/html": [
              "<div>\n",
              "<style scoped>\n",
              "    .dataframe tbody tr th:only-of-type {\n",
              "        vertical-align: middle;\n",
              "    }\n",
              "\n",
              "    .dataframe tbody tr th {\n",
              "        vertical-align: top;\n",
              "    }\n",
              "\n",
              "    .dataframe thead th {\n",
              "        text-align: right;\n",
              "    }\n",
              "</style>\n",
              "<table border=\"1\" class=\"dataframe\">\n",
              "  <thead>\n",
              "    <tr style=\"text-align: right;\">\n",
              "      <th></th>\n",
              "      <th>0</th>\n",
              "      <th>1</th>\n",
              "      <th>2</th>\n",
              "      <th>3</th>\n",
              "      <th>4</th>\n",
              "      <th>5</th>\n",
              "      <th>6</th>\n",
              "      <th>7</th>\n",
              "      <th>8</th>\n",
              "      <th>9</th>\n",
              "      <th>10</th>\n",
              "      <th>11</th>\n",
              "      <th>12</th>\n",
              "      <th>13</th>\n",
              "      <th>14</th>\n",
              "      <th>15</th>\n",
              "      <th>16</th>\n",
              "      <th>17</th>\n",
              "      <th>18</th>\n",
              "      <th>19</th>\n",
              "      <th>20</th>\n",
              "      <th>21</th>\n",
              "      <th>22</th>\n",
              "      <th>23</th>\n",
              "      <th>24</th>\n",
              "      <th>25</th>\n",
              "      <th>26</th>\n",
              "      <th>27</th>\n",
              "      <th>28</th>\n",
              "      <th>29</th>\n",
              "      <th>30</th>\n",
              "      <th>31</th>\n",
              "      <th>32</th>\n",
              "      <th>33</th>\n",
              "      <th>34</th>\n",
              "      <th>35</th>\n",
              "      <th>36</th>\n",
              "      <th>37</th>\n",
              "      <th>38</th>\n",
              "      <th>39</th>\n",
              "      <th>40</th>\n",
              "      <th>41</th>\n",
              "      <th>42</th>\n",
              "      <th>43</th>\n",
              "      <th>44</th>\n",
              "      <th>45</th>\n",
              "      <th>46</th>\n",
              "      <th>47</th>\n",
              "      <th>48</th>\n",
              "      <th>49</th>\n",
              "      <th>50</th>\n",
              "      <th>51</th>\n",
              "      <th>52</th>\n",
              "      <th>53</th>\n",
              "      <th>54</th>\n",
              "      <th>55</th>\n",
              "      <th>56</th>\n",
              "      <th>57</th>\n",
              "      <th>58</th>\n",
              "      <th>59</th>\n",
              "      <th>60</th>\n",
              "      <th>61</th>\n",
              "      <th>62</th>\n",
              "      <th>63</th>\n",
              "    </tr>\n",
              "  </thead>\n",
              "  <tbody>\n",
              "    <tr>\n",
              "      <th>0</th>\n",
              "      <td>0.0</td>\n",
              "      <td>0.0</td>\n",
              "      <td>5.0</td>\n",
              "      <td>13.0</td>\n",
              "      <td>9.0</td>\n",
              "      <td>1.0</td>\n",
              "      <td>0.0</td>\n",
              "      <td>0.0</td>\n",
              "      <td>0.0</td>\n",
              "      <td>0.0</td>\n",
              "      <td>13.0</td>\n",
              "      <td>15.0</td>\n",
              "      <td>10.0</td>\n",
              "      <td>15.0</td>\n",
              "      <td>5.0</td>\n",
              "      <td>0.0</td>\n",
              "      <td>0.0</td>\n",
              "      <td>3.0</td>\n",
              "      <td>15.0</td>\n",
              "      <td>2.0</td>\n",
              "      <td>0.0</td>\n",
              "      <td>11.0</td>\n",
              "      <td>8.0</td>\n",
              "      <td>0.0</td>\n",
              "      <td>0.0</td>\n",
              "      <td>4.0</td>\n",
              "      <td>12.0</td>\n",
              "      <td>0.0</td>\n",
              "      <td>0.0</td>\n",
              "      <td>8.0</td>\n",
              "      <td>8.0</td>\n",
              "      <td>0.0</td>\n",
              "      <td>0.0</td>\n",
              "      <td>5.0</td>\n",
              "      <td>8.0</td>\n",
              "      <td>0.0</td>\n",
              "      <td>0.0</td>\n",
              "      <td>9.0</td>\n",
              "      <td>8.0</td>\n",
              "      <td>0.0</td>\n",
              "      <td>0.0</td>\n",
              "      <td>4.0</td>\n",
              "      <td>11.0</td>\n",
              "      <td>0.0</td>\n",
              "      <td>1.0</td>\n",
              "      <td>12.0</td>\n",
              "      <td>7.0</td>\n",
              "      <td>0.0</td>\n",
              "      <td>0.0</td>\n",
              "      <td>2.0</td>\n",
              "      <td>14.0</td>\n",
              "      <td>5.0</td>\n",
              "      <td>10.0</td>\n",
              "      <td>12.0</td>\n",
              "      <td>0.0</td>\n",
              "      <td>0.0</td>\n",
              "      <td>0.0</td>\n",
              "      <td>0.0</td>\n",
              "      <td>6.0</td>\n",
              "      <td>13.0</td>\n",
              "      <td>10.0</td>\n",
              "      <td>0.0</td>\n",
              "      <td>0.0</td>\n",
              "      <td>0.0</td>\n",
              "    </tr>\n",
              "    <tr>\n",
              "      <th>1</th>\n",
              "      <td>0.0</td>\n",
              "      <td>0.0</td>\n",
              "      <td>0.0</td>\n",
              "      <td>12.0</td>\n",
              "      <td>13.0</td>\n",
              "      <td>5.0</td>\n",
              "      <td>0.0</td>\n",
              "      <td>0.0</td>\n",
              "      <td>0.0</td>\n",
              "      <td>0.0</td>\n",
              "      <td>0.0</td>\n",
              "      <td>11.0</td>\n",
              "      <td>16.0</td>\n",
              "      <td>9.0</td>\n",
              "      <td>0.0</td>\n",
              "      <td>0.0</td>\n",
              "      <td>0.0</td>\n",
              "      <td>0.0</td>\n",
              "      <td>3.0</td>\n",
              "      <td>15.0</td>\n",
              "      <td>16.0</td>\n",
              "      <td>6.0</td>\n",
              "      <td>0.0</td>\n",
              "      <td>0.0</td>\n",
              "      <td>0.0</td>\n",
              "      <td>7.0</td>\n",
              "      <td>15.0</td>\n",
              "      <td>16.0</td>\n",
              "      <td>16.0</td>\n",
              "      <td>2.0</td>\n",
              "      <td>0.0</td>\n",
              "      <td>0.0</td>\n",
              "      <td>0.0</td>\n",
              "      <td>0.0</td>\n",
              "      <td>1.0</td>\n",
              "      <td>16.0</td>\n",
              "      <td>16.0</td>\n",
              "      <td>3.0</td>\n",
              "      <td>0.0</td>\n",
              "      <td>0.0</td>\n",
              "      <td>0.0</td>\n",
              "      <td>0.0</td>\n",
              "      <td>1.0</td>\n",
              "      <td>16.0</td>\n",
              "      <td>16.0</td>\n",
              "      <td>6.0</td>\n",
              "      <td>0.0</td>\n",
              "      <td>0.0</td>\n",
              "      <td>0.0</td>\n",
              "      <td>0.0</td>\n",
              "      <td>1.0</td>\n",
              "      <td>16.0</td>\n",
              "      <td>16.0</td>\n",
              "      <td>6.0</td>\n",
              "      <td>0.0</td>\n",
              "      <td>0.0</td>\n",
              "      <td>0.0</td>\n",
              "      <td>0.0</td>\n",
              "      <td>0.0</td>\n",
              "      <td>11.0</td>\n",
              "      <td>16.0</td>\n",
              "      <td>10.0</td>\n",
              "      <td>0.0</td>\n",
              "      <td>0.0</td>\n",
              "    </tr>\n",
              "    <tr>\n",
              "      <th>2</th>\n",
              "      <td>0.0</td>\n",
              "      <td>0.0</td>\n",
              "      <td>0.0</td>\n",
              "      <td>4.0</td>\n",
              "      <td>15.0</td>\n",
              "      <td>12.0</td>\n",
              "      <td>0.0</td>\n",
              "      <td>0.0</td>\n",
              "      <td>0.0</td>\n",
              "      <td>0.0</td>\n",
              "      <td>3.0</td>\n",
              "      <td>16.0</td>\n",
              "      <td>15.0</td>\n",
              "      <td>14.0</td>\n",
              "      <td>0.0</td>\n",
              "      <td>0.0</td>\n",
              "      <td>0.0</td>\n",
              "      <td>0.0</td>\n",
              "      <td>8.0</td>\n",
              "      <td>13.0</td>\n",
              "      <td>8.0</td>\n",
              "      <td>16.0</td>\n",
              "      <td>0.0</td>\n",
              "      <td>0.0</td>\n",
              "      <td>0.0</td>\n",
              "      <td>0.0</td>\n",
              "      <td>1.0</td>\n",
              "      <td>6.0</td>\n",
              "      <td>15.0</td>\n",
              "      <td>11.0</td>\n",
              "      <td>0.0</td>\n",
              "      <td>0.0</td>\n",
              "      <td>0.0</td>\n",
              "      <td>1.0</td>\n",
              "      <td>8.0</td>\n",
              "      <td>13.0</td>\n",
              "      <td>15.0</td>\n",
              "      <td>1.0</td>\n",
              "      <td>0.0</td>\n",
              "      <td>0.0</td>\n",
              "      <td>0.0</td>\n",
              "      <td>9.0</td>\n",
              "      <td>16.0</td>\n",
              "      <td>16.0</td>\n",
              "      <td>5.0</td>\n",
              "      <td>0.0</td>\n",
              "      <td>0.0</td>\n",
              "      <td>0.0</td>\n",
              "      <td>0.0</td>\n",
              "      <td>3.0</td>\n",
              "      <td>13.0</td>\n",
              "      <td>16.0</td>\n",
              "      <td>16.0</td>\n",
              "      <td>11.0</td>\n",
              "      <td>5.0</td>\n",
              "      <td>0.0</td>\n",
              "      <td>0.0</td>\n",
              "      <td>0.0</td>\n",
              "      <td>0.0</td>\n",
              "      <td>3.0</td>\n",
              "      <td>11.0</td>\n",
              "      <td>16.0</td>\n",
              "      <td>9.0</td>\n",
              "      <td>0.0</td>\n",
              "    </tr>\n",
              "    <tr>\n",
              "      <th>3</th>\n",
              "      <td>0.0</td>\n",
              "      <td>0.0</td>\n",
              "      <td>7.0</td>\n",
              "      <td>15.0</td>\n",
              "      <td>13.0</td>\n",
              "      <td>1.0</td>\n",
              "      <td>0.0</td>\n",
              "      <td>0.0</td>\n",
              "      <td>0.0</td>\n",
              "      <td>8.0</td>\n",
              "      <td>13.0</td>\n",
              "      <td>6.0</td>\n",
              "      <td>15.0</td>\n",
              "      <td>4.0</td>\n",
              "      <td>0.0</td>\n",
              "      <td>0.0</td>\n",
              "      <td>0.0</td>\n",
              "      <td>2.0</td>\n",
              "      <td>1.0</td>\n",
              "      <td>13.0</td>\n",
              "      <td>13.0</td>\n",
              "      <td>0.0</td>\n",
              "      <td>0.0</td>\n",
              "      <td>0.0</td>\n",
              "      <td>0.0</td>\n",
              "      <td>0.0</td>\n",
              "      <td>2.0</td>\n",
              "      <td>15.0</td>\n",
              "      <td>11.0</td>\n",
              "      <td>1.0</td>\n",
              "      <td>0.0</td>\n",
              "      <td>0.0</td>\n",
              "      <td>0.0</td>\n",
              "      <td>0.0</td>\n",
              "      <td>0.0</td>\n",
              "      <td>1.0</td>\n",
              "      <td>12.0</td>\n",
              "      <td>12.0</td>\n",
              "      <td>1.0</td>\n",
              "      <td>0.0</td>\n",
              "      <td>0.0</td>\n",
              "      <td>0.0</td>\n",
              "      <td>0.0</td>\n",
              "      <td>0.0</td>\n",
              "      <td>1.0</td>\n",
              "      <td>10.0</td>\n",
              "      <td>8.0</td>\n",
              "      <td>0.0</td>\n",
              "      <td>0.0</td>\n",
              "      <td>0.0</td>\n",
              "      <td>8.0</td>\n",
              "      <td>4.0</td>\n",
              "      <td>5.0</td>\n",
              "      <td>14.0</td>\n",
              "      <td>9.0</td>\n",
              "      <td>0.0</td>\n",
              "      <td>0.0</td>\n",
              "      <td>0.0</td>\n",
              "      <td>7.0</td>\n",
              "      <td>13.0</td>\n",
              "      <td>13.0</td>\n",
              "      <td>9.0</td>\n",
              "      <td>0.0</td>\n",
              "      <td>0.0</td>\n",
              "    </tr>\n",
              "    <tr>\n",
              "      <th>4</th>\n",
              "      <td>0.0</td>\n",
              "      <td>0.0</td>\n",
              "      <td>0.0</td>\n",
              "      <td>1.0</td>\n",
              "      <td>11.0</td>\n",
              "      <td>0.0</td>\n",
              "      <td>0.0</td>\n",
              "      <td>0.0</td>\n",
              "      <td>0.0</td>\n",
              "      <td>0.0</td>\n",
              "      <td>0.0</td>\n",
              "      <td>7.0</td>\n",
              "      <td>8.0</td>\n",
              "      <td>0.0</td>\n",
              "      <td>0.0</td>\n",
              "      <td>0.0</td>\n",
              "      <td>0.0</td>\n",
              "      <td>0.0</td>\n",
              "      <td>1.0</td>\n",
              "      <td>13.0</td>\n",
              "      <td>6.0</td>\n",
              "      <td>2.0</td>\n",
              "      <td>2.0</td>\n",
              "      <td>0.0</td>\n",
              "      <td>0.0</td>\n",
              "      <td>0.0</td>\n",
              "      <td>7.0</td>\n",
              "      <td>15.0</td>\n",
              "      <td>0.0</td>\n",
              "      <td>9.0</td>\n",
              "      <td>8.0</td>\n",
              "      <td>0.0</td>\n",
              "      <td>0.0</td>\n",
              "      <td>5.0</td>\n",
              "      <td>16.0</td>\n",
              "      <td>10.0</td>\n",
              "      <td>0.0</td>\n",
              "      <td>16.0</td>\n",
              "      <td>6.0</td>\n",
              "      <td>0.0</td>\n",
              "      <td>0.0</td>\n",
              "      <td>4.0</td>\n",
              "      <td>15.0</td>\n",
              "      <td>16.0</td>\n",
              "      <td>13.0</td>\n",
              "      <td>16.0</td>\n",
              "      <td>1.0</td>\n",
              "      <td>0.0</td>\n",
              "      <td>0.0</td>\n",
              "      <td>0.0</td>\n",
              "      <td>0.0</td>\n",
              "      <td>3.0</td>\n",
              "      <td>15.0</td>\n",
              "      <td>10.0</td>\n",
              "      <td>0.0</td>\n",
              "      <td>0.0</td>\n",
              "      <td>0.0</td>\n",
              "      <td>0.0</td>\n",
              "      <td>0.0</td>\n",
              "      <td>2.0</td>\n",
              "      <td>16.0</td>\n",
              "      <td>4.0</td>\n",
              "      <td>0.0</td>\n",
              "      <td>0.0</td>\n",
              "    </tr>\n",
              "  </tbody>\n",
              "</table>\n",
              "</div>"
            ],
            "text/plain": [
              "     0    1    2     3     4     5    6    7    8    9    10    11    12  \\\n",
              "0  0.0  0.0  5.0  13.0   9.0   1.0  0.0  0.0  0.0  0.0  13.0  15.0  10.0   \n",
              "1  0.0  0.0  0.0  12.0  13.0   5.0  0.0  0.0  0.0  0.0   0.0  11.0  16.0   \n",
              "2  0.0  0.0  0.0   4.0  15.0  12.0  0.0  0.0  0.0  0.0   3.0  16.0  15.0   \n",
              "3  0.0  0.0  7.0  15.0  13.0   1.0  0.0  0.0  0.0  8.0  13.0   6.0  15.0   \n",
              "4  0.0  0.0  0.0   1.0  11.0   0.0  0.0  0.0  0.0  0.0   0.0   7.0   8.0   \n",
              "\n",
              "     13   14   15   16   17    18    19    20    21   22   23   24   25    26  \\\n",
              "0  15.0  5.0  0.0  0.0  3.0  15.0   2.0   0.0  11.0  8.0  0.0  0.0  4.0  12.0   \n",
              "1   9.0  0.0  0.0  0.0  0.0   3.0  15.0  16.0   6.0  0.0  0.0  0.0  7.0  15.0   \n",
              "2  14.0  0.0  0.0  0.0  0.0   8.0  13.0   8.0  16.0  0.0  0.0  0.0  0.0   1.0   \n",
              "3   4.0  0.0  0.0  0.0  2.0   1.0  13.0  13.0   0.0  0.0  0.0  0.0  0.0   2.0   \n",
              "4   0.0  0.0  0.0  0.0  0.0   1.0  13.0   6.0   2.0  2.0  0.0  0.0  0.0   7.0   \n",
              "\n",
              "     27    28    29   30   31   32   33    34    35    36    37   38   39  \\\n",
              "0   0.0   0.0   8.0  8.0  0.0  0.0  5.0   8.0   0.0   0.0   9.0  8.0  0.0   \n",
              "1  16.0  16.0   2.0  0.0  0.0  0.0  0.0   1.0  16.0  16.0   3.0  0.0  0.0   \n",
              "2   6.0  15.0  11.0  0.0  0.0  0.0  1.0   8.0  13.0  15.0   1.0  0.0  0.0   \n",
              "3  15.0  11.0   1.0  0.0  0.0  0.0  0.0   0.0   1.0  12.0  12.0  1.0  0.0   \n",
              "4  15.0   0.0   9.0  8.0  0.0  0.0  5.0  16.0  10.0   0.0  16.0  6.0  0.0   \n",
              "\n",
              "    40   41    42    43    44    45   46   47   48   49    50    51    52  \\\n",
              "0  0.0  4.0  11.0   0.0   1.0  12.0  7.0  0.0  0.0  2.0  14.0   5.0  10.0   \n",
              "1  0.0  0.0   1.0  16.0  16.0   6.0  0.0  0.0  0.0  0.0   1.0  16.0  16.0   \n",
              "2  0.0  9.0  16.0  16.0   5.0   0.0  0.0  0.0  0.0  3.0  13.0  16.0  16.0   \n",
              "3  0.0  0.0   0.0   0.0   1.0  10.0  8.0  0.0  0.0  0.0   8.0   4.0   5.0   \n",
              "4  0.0  4.0  15.0  16.0  13.0  16.0  1.0  0.0  0.0  0.0   0.0   3.0  15.0   \n",
              "\n",
              "     53   54   55   56   57   58    59    60    61   62   63  \n",
              "0  12.0  0.0  0.0  0.0  0.0  6.0  13.0  10.0   0.0  0.0  0.0  \n",
              "1   6.0  0.0  0.0  0.0  0.0  0.0  11.0  16.0  10.0  0.0  0.0  \n",
              "2  11.0  5.0  0.0  0.0  0.0  0.0   3.0  11.0  16.0  9.0  0.0  \n",
              "3  14.0  9.0  0.0  0.0  0.0  7.0  13.0  13.0   9.0  0.0  0.0  \n",
              "4  10.0  0.0  0.0  0.0  0.0  0.0   2.0  16.0   4.0  0.0  0.0  "
            ]
          },
          "metadata": {
            "tags": []
          },
          "execution_count": 53
        }
      ]
    },
    {
      "cell_type": "markdown",
      "metadata": {
        "id": "U9FDnOxqZc21",
        "colab_type": "text"
      },
      "source": [
        "## Visualyze Digits\n",
        "\n",
        "Because dataframes are a tabular representation of data, each image is represented as a row of pixel values. To visualize the image, I need to reshape these pixel values back into the 8 by 8 and plot them on a coordinate grid."
      ]
    },
    {
      "cell_type": "code",
      "metadata": {
        "id": "n07y3N2QabFm",
        "colab_type": "code",
        "colab": {
          "base_uri": "https://localhost:8080/",
          "height": 430
        },
        "outputId": "2f056365-3efc-442e-f90d-4e4c8ebb3309"
      },
      "source": [
        "# Reshape the first image\n",
        "np_image = data.iloc[0].values.reshape(8,8)\n",
        "\n",
        "# PLot the image with \"default\" style\n",
        "with plt.style.context('default'):\n",
        "  plt.imshow(np_image, cmap='gray_r')\n",
        "plt.show()"
      ],
      "execution_count": 54,
      "outputs": [
        {
          "output_type": "display_data",
          "data": {
            "image/png": "[encoded data removed]",
            "text/plain": [
              "<Figure size 640x480 with 1 Axes>"
            ]
          },
          "metadata": {
            "tags": []
          }
        }
      ]
    },
    {
      "cell_type": "code",
      "metadata": {
        "id": "Hg6lO-EvaurV",
        "colab_type": "code",
        "colab": {
          "base_uri": "https://localhost:8080/",
          "height": 244
        },
        "outputId": "df6254b3-e0c8-4f86-b2e4-fd8d21acd191"
      },
      "source": [
        "fig, ax = plt.subplots(2, 5)\n",
        "\n",
        "for i in range(2):\n",
        "  for j in range(5):\n",
        "    index = i*5 + j\n",
        "    ax[i,j].imshow(data.iloc[index].values.reshape(8,8), cmap='gray_r')\n",
        "    ax[i,j].set_title(labels.iloc[index])\n",
        "    ax[i,j].axis('off')\n",
        "    \n",
        "plt.show()"
      ],
      "execution_count": 55,
      "outputs": [
        {
          "output_type": "display_data",
          "data": {
            "image/png": "[encoded data removed]",
            "text/plain": [
              "<Figure size 432x288 with 10 Axes>"
            ]
          },
          "metadata": {
            "tags": []
          }
        }
      ]
    },
    {
      "cell_type": "markdown",
      "metadata": {
        "id": "UnsLybHLeRil",
        "colab_type": "text"
      },
      "source": [
        "# Classification"
      ]
    },
    {
      "cell_type": "markdown",
      "metadata": {
        "id": "BgJfnsPBev7c",
        "colab_type": "text"
      },
      "source": [
        "## K-Nearest Neighbors\n",
        "\n",
        "While linear and logistic regression models make assumptions about the linearity between the features and the output labels, the k-nearest neighbors algorithm make no such assumption. This allows them to capture nonlinearity in the data. K-nearest neighbors don't have a specific model representation, hence why it's referred to as an algorithm and not a model.\n",
        "\n",
        "The k-nearest neighbors algorithm compares every unseen observation in the test set to all training observations to look for similar observations. Then, the algorithm finds the label with the most nearby observations and assigns that as the prediction for the unseen observation."
      ]
    },
    {
      "cell_type": "code",
      "metadata": {
        "id": "Dsyf1Klie22J",
        "colab_type": "code",
        "colab": {
          "base_uri": "https://localhost:8080/",
          "height": 303
        },
        "outputId": "d01b85ca-6ff0-45b7-f0ea-98f42edc2e11"
      },
      "source": [
        "np.random.seed(1)\n",
        "# Set the hyperparameter\n",
        "parameters = {\"n_neighbors\": range(1,21)}\n",
        "\n",
        "# Set the classifier\n",
        "knn = KNeighborsClassifier()\n",
        "# Set the grid search\n",
        "gs = GridSearchCV(knn, parameters, scoring=\"accuracy\")\n",
        "gs.fit(data, labels)\n",
        "# Take results\n",
        "knn_results = gs.cv_results_[\"mean_test_score\"]\n",
        "\n",
        "plt.plot(range(1,21), knn_results)\n",
        "plt.title(\"Accuracy vs K\")\n",
        "plt.show()"
      ],
      "execution_count": 56,
      "outputs": [
        {
          "output_type": "display_data",
          "data": {
            "image/png": "[encoded data removed]",
            "text/plain": [
              "<Figure size 432x288 with 1 Axes>"
            ]
          },
          "metadata": {
            "tags": []
          }
        }
      ]
    },
    {
      "cell_type": "markdown",
      "metadata": {
        "id": "E6iCbH_DkhU4",
        "colab_type": "text"
      },
      "source": [
        "There are a few downsides to using k-nearest neighbors:\n",
        "\n",
        "- high memory usage (for each new unseen observation, many comparisons need to be made to seen observations);\n",
        "- no model representation to debug and explore."
      ]
    },
    {
      "cell_type": "markdown",
      "metadata": {
        "id": "RLrkrvTFVd1m",
        "colab_type": "text"
      },
      "source": [
        "## Neural Network\n",
        "\n",
        "Let's now try a neural network with the [`MLPClassifier`](http://scikit-learn.org/stable/modules/generated/sklearn.neural_network.MLPClassifier.html) package from scikit-learn."
      ]
    },
    {
      "cell_type": "markdown",
      "metadata": {
        "id": "kL53_9xgkZBA",
        "colab_type": "text"
      },
      "source": [
        "### One Hidden Layer\n",
        "\n"
      ]
    },
    {
      "cell_type": "code",
      "metadata": {
        "colab_type": "code",
        "outputId": "858bb3a5-1bb0-4236-aff0-3dae429a53b4",
        "id": "yaMii6ZklX7F",
        "colab": {
          "base_uri": "https://localhost:8080/",
          "height": 325
        }
      },
      "source": [
        "np.random.seed(1)\n",
        "sizes = [2**i for i in range(4,9)]\n",
        "\n",
        "# Set the hyperparameter\n",
        "parameters = {\"hidden_layer_sizes\": [(i,) for i in sizes]}\n",
        "\n",
        "# Set the classifier\n",
        "mlp1 = MLPClassifier(max_iter=1000)\n",
        "# Set the grid search\n",
        "gs = GridSearchCV(mlp1, parameters, scoring=\"accuracy\")\n",
        "gs.fit(data, labels)\n",
        "# Take results\n",
        "mlp1_results = gs.cv_results_[\"mean_test_score\"]\n",
        "\n",
        "plt.plot(sizes, mlp1_results)\n",
        "plt.title(\"Accuracy vs Number of Neurons\\nSingle Hidden Layer\")\n",
        "plt.show()"
      ],
      "execution_count": 57,
      "outputs": [
        {
          "output_type": "display_data",
          "data": {
            "image/png": "[encoded data removed]",
            "text/plain": [
              "<Figure size 432x288 with 1 Axes>"
            ]
          },
          "metadata": {
            "tags": []
          }
        }
      ]
    },
    {
      "cell_type": "markdown",
      "metadata": {
        "id": "MaRpnzcGVd1w",
        "colab_type": "text"
      },
      "source": [
        "It looks like adding more neurons to the single hidden layer helped massively improved accuracy from approximately `90%` to approximately `94%`. Simple accuracy computes the number of correct classifications the model made, but doesn't tell anything about false or true positives or false or true negatives.\n",
        "\n",
        "Given that k-nearest neighbors achieved approximately `96%` accuracy, there doesn't seem to be any advantages to using a single hidden layer neural network for this problem."
      ]
    },
    {
      "cell_type": "markdown",
      "metadata": {
        "colab_type": "text",
        "id": "HltscLVDny15"
      },
      "source": [
        "### Two Hidden Layers\n",
        "\n"
      ]
    },
    {
      "cell_type": "code",
      "metadata": {
        "colab_type": "code",
        "outputId": "6c23c9c7-0b87-4ff3-cb54-9267d4a64d9a",
        "id": "uXhodCWKny1_",
        "colab": {
          "base_uri": "https://localhost:8080/",
          "height": 325
        }
      },
      "source": [
        "np.random.seed(1)\n",
        "\n",
        "# Set the hyperparameter\n",
        "parameters = {\"hidden_layer_sizes\": [(i,i) for i in sizes]}\n",
        "\n",
        "# Set the classifier\n",
        "mlp2 = MLPClassifier(max_iter=1000)\n",
        "# Set the grid search\n",
        "gs = GridSearchCV(mlp2, parameters, scoring=\"accuracy\")\n",
        "gs.fit(data, labels)\n",
        "# Take results\n",
        "mlp2_results = gs.cv_results_[\"mean_test_score\"]\n",
        "\n",
        "plt.plot(sizes, mlp2_results)\n",
        "plt.title(\"Accuracy vs Number of Neurons\\nTwo Hidden Layers\")\n",
        "plt.show()"
      ],
      "execution_count": 58,
      "outputs": [
        {
          "output_type": "display_data",
          "data": {
            "image/png": "[encoded data removed]",
            "text/plain": [
              "<Figure size 432x288 with 1 Axes>"
            ]
          },
          "metadata": {
            "tags": []
          }
        }
      ]
    },
    {
      "cell_type": "markdown",
      "metadata": {
        "colab_type": "text",
        "id": "jivQPBHLny2E"
      },
      "source": [
        "Using 2 hidden layers improved the accuracy to `95%`. While I'd traditionally be worried about overfitting, using 5-fold cross validation also gives me a bit more assurance that the model is generalizing to achieve the extra `1%` in simple accuracy over the single hidden layer networks tried earlier."
      ]
    },
    {
      "cell_type": "markdown",
      "metadata": {
        "colab_type": "text",
        "id": "u8giBxwJoZgU"
      },
      "source": [
        "### Three Hidden Layers\n",
        "\n"
      ]
    },
    {
      "cell_type": "code",
      "metadata": {
        "colab_type": "code",
        "outputId": "cd61046f-a78a-41f8-a337-37312e744f3d",
        "id": "ODxFYeGwoZgX",
        "colab": {
          "base_uri": "https://localhost:8080/",
          "height": 325
        }
      },
      "source": [
        "np.random.seed(1)\n",
        "\n",
        "# Set the hyperparameter\n",
        "parameters = {\"hidden_layer_sizes\": [(i,i,i) for i in sizes]}\n",
        "\n",
        "# Set the classifier\n",
        "mlp3 = MLPClassifier(max_iter=1000)\n",
        "# Set the grid search\n",
        "gs = GridSearchCV(mlp3, parameters, scoring=\"accuracy\")\n",
        "gs.fit(data, labels)\n",
        "# Take results\n",
        "mlp3_results = gs.cv_results_[\"mean_test_score\"]\n",
        "\n",
        "plt.plot(sizes, mlp3_results)\n",
        "plt.title(\"Accuracy vs Number of Neurons\\nThree Hidden Layers\")\n",
        "plt.show()"
      ],
      "execution_count": 59,
      "outputs": [
        {
          "output_type": "display_data",
          "data": {
            "image/png": "[encoded data removed]",
            "text/plain": [
              "<Figure size 432x288 with 1 Axes>"
            ]
          },
          "metadata": {
            "tags": []
          }
        }
      ]
    },
    {
      "cell_type": "markdown",
      "metadata": {
        "colab_type": "text",
        "id": "nfQmHQ8XoZgb"
      },
      "source": [
        "Using 3 hidden layers improved the accuracy to 96%, even with 5-fold cross validation. This seems to be in line with the research literature out there about deep neural networks for computer vision. Having more layers and more neurons tends to improve the network's performance."
      ]
    },
    {
      "cell_type": "markdown",
      "metadata": {
        "id": "gSq60dJGonlI",
        "colab_type": "text"
      },
      "source": [
        "### Comparison\n",
        "\n",
        "Let's see all the results of neural networks on a single figure."
      ]
    },
    {
      "cell_type": "code",
      "metadata": {
        "id": "7h2DDDv4o2CE",
        "colab_type": "code",
        "colab": {
          "base_uri": "https://localhost:8080/",
          "height": 457
        },
        "outputId": "db0ff72a-8ac1-4be5-8528-cf4d36723c26"
      },
      "source": [
        "# Create a dataframe with all the results\n",
        "nn_results = pd.DataFrame({\"One Hidden Layer\": mlp1_results,\n",
        "                           \"Two Hidden Layers\": mlp2_results,\n",
        "                           \"Three Hidden Layers\": mlp3_results},\n",
        "                          index=sizes)\n",
        "\n",
        "# Plot the results\n",
        "nn_results.plot(figsize=(10,7))\n",
        "plt.show()"
      ],
      "execution_count": 61,
      "outputs": [
        {
          "output_type": "display_data",
          "data": {
            "image/png": "[encoded data removed]",
            "text/plain": [
              "<Figure size 720x504 with 1 Axes>"
            ]
          },
          "metadata": {
            "tags": []
          }
        }
      ]
    },
    {
      "cell_type": "markdown",
      "metadata": {
        "id": "BKUIkXJYXDxv",
        "colab_type": "text"
      },
      "source": [
        "# Conclusion\n",
        "\n",
        "In this project, I have explored the effectiveness of deep, feedforward neural networks at classifying images."
      ]
    }
  ]
}