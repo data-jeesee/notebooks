{
  "nbformat": 4,
  "nbformat_minor": 0,
  "metadata": {
    "colab": {
      "name": "Analyzing CIA Factbook Data Using SQL",
      "provenance": [],
      "toc_visible": true,
      "authorship_tag": "ABX9TyNDniJmll7ind1A3XyCgb1k"
    },
    "kernelspec": {
      "name": "python3",
      "display_name": "Python 3"
    }
  },
  "cells": [
    {
      "cell_type": "markdown",
      "metadata": {
        "id": "glbR3rNa9VQv",
        "colab_type": "text"
      },
      "source": [
        "# Analyzing CIA Factbook Data Using SQL\n",
        "\n",
        "In this project, I'll work with data from the [CIA World Factbook](https://www.cia.gov/library/publications/the-world-factbook/), a compendium of statistics about all of the countries on Earth. The Factbook contains demographic information like:\n",
        "\n",
        "- `population` - The population as of `2015`.\n",
        "- `population_growth` - The annual population growth rate, as a percentage.\n",
        "- `area` - The total land and water area.\n",
        "\n",
        "You can [download the SQLite database](https://dsserver-prod-resources-1.s3.amazonaws.com/257/factbook.db) `factbook.db`. In this project, I'll use SQL to explore and analyze data from this database."
      ]
    },
    {
      "cell_type": "markdown",
      "metadata": {
        "id": "NwdERKBMAR57",
        "colab_type": "text"
      },
      "source": [
        "## Introduction\n",
        "\n",
        "First, connect the Jupyter Notebook to the database file."
      ]
    },
    {
      "cell_type": "code",
      "metadata": {
        "id": "-oJReP3X9yXv",
        "colab_type": "code",
        "colab": {}
      },
      "source": [
        "# Load SQL\n",
        "%%capture\n",
        "%load_ext sql"
      ],
      "execution_count": 0,
      "outputs": []
    },
    {
      "cell_type": "code",
      "metadata": {
        "id": "yMV9XelgAkJ3",
        "colab_type": "code",
        "colab": {
          "base_uri": "https://localhost:8080/",
          "height": 34
        },
        "outputId": "b9a12e6e-327e-42f4-f8c8-bcbcb6d98ceb"
      },
      "source": [
        "# Load the database\n",
        "%sql sqlite:///factbook.db"
      ],
      "execution_count": 13,
      "outputs": [
        {
          "output_type": "execute_result",
          "data": {
            "text/plain": [
              "'Connected: @factbook.db'"
            ]
          },
          "metadata": {
            "tags": []
          },
          "execution_count": 13
        }
      ]
    },
    {
      "cell_type": "markdown",
      "metadata": {
        "id": "7EAnuy7-BZ9G",
        "colab_type": "text"
      },
      "source": [
        "Query the database to get informations about the table."
      ]
    },
    {
      "cell_type": "code",
      "metadata": {
        "id": "K3bp6U2ABaV6",
        "colab_type": "code",
        "colab": {
          "base_uri": "https://localhost:8080/",
          "height": 146
        },
        "outputId": "10051117-286d-41bc-d79a-f1c91f61f3ae"
      },
      "source": [
        "%%sql\n",
        "SELECT * FROM sqlite_master WHERE type='table';"
      ],
      "execution_count": 14,
      "outputs": [
        {
          "output_type": "stream",
          "text": [
            " * sqlite:///factbook.db\n",
            "Done.\n"
          ],
          "name": "stdout"
        },
        {
          "output_type": "execute_result",
          "data": {
            "text/html": [
              "<table>\n",
              "    <tr>\n",
              "        <th>type</th>\n",
              "        <th>name</th>\n",
              "        <th>tbl_name</th>\n",
              "        <th>rootpage</th>\n",
              "        <th>sql</th>\n",
              "    </tr>\n",
              "    <tr>\n",
              "        <td>table</td>\n",
              "        <td>sqlite_sequence</td>\n",
              "        <td>sqlite_sequence</td>\n",
              "        <td>3</td>\n",
              "        <td>CREATE TABLE sqlite_sequence(name,seq)</td>\n",
              "    </tr>\n",
              "    <tr>\n",
              "        <td>table</td>\n",
              "        <td>facts</td>\n",
              "        <td>facts</td>\n",
              "        <td>47</td>\n",
              "        <td>CREATE TABLE &quot;facts&quot; (&quot;id&quot; INTEGER PRIMARY KEY AUTOINCREMENT NOT NULL, &quot;code&quot; varchar(255) NOT NULL, &quot;name&quot; varchar(255) NOT NULL, &quot;area&quot; integer, &quot;area_land&quot; integer, &quot;area_water&quot; integer, &quot;population&quot; integer, &quot;population_growth&quot; float, &quot;birth_rate&quot; float, &quot;death_rate&quot; float, &quot;migration_rate&quot; float)</td>\n",
              "    </tr>\n",
              "</table>"
            ],
            "text/plain": [
              "[('table', 'sqlite_sequence', 'sqlite_sequence', 3, 'CREATE TABLE sqlite_sequence(name,seq)'),\n",
              " ('table', 'facts', 'facts', 47, 'CREATE TABLE \"facts\" (\"id\" INTEGER PRIMARY KEY AUTOINCREMENT NOT NULL, \"code\" varchar(255) NOT NULL, \"name\" varchar(255) NOT NULL, \"area\" integer, \"a ... (4 characters truncated) ... land\" integer, \"area_water\" integer, \"population\" integer, \"population_growth\" float, \"birth_rate\" float, \"death_rate\" float, \"migration_rate\" float)')]"
            ]
          },
          "metadata": {
            "tags": []
          },
          "execution_count": 14
        }
      ]
    },
    {
      "cell_type": "markdown",
      "metadata": {
        "id": "slkZ9tIc9djE",
        "colab_type": "text"
      },
      "source": [
        "## Overview of the Data\n",
        "\n",
        "Let's see the first few rows of our `facts` table."
      ]
    },
    {
      "cell_type": "code",
      "metadata": {
        "id": "JG27-V2BCGoi",
        "colab_type": "code",
        "colab": {
          "base_uri": "https://localhost:8080/",
          "height": 172
        },
        "outputId": "d20d32a2-2b79-41cf-e9cb-643cab7f5eec"
      },
      "source": [
        "%%sql\n",
        "SELECT * FROM facts LIMIT 5;"
      ],
      "execution_count": 15,
      "outputs": [
        {
          "output_type": "stream",
          "text": [
            " * sqlite:///factbook.db\n",
            "Done.\n"
          ],
          "name": "stdout"
        },
        {
          "output_type": "execute_result",
          "data": {
            "text/html": [
              "<table>\n",
              "    <tr>\n",
              "        <th>id</th>\n",
              "        <th>code</th>\n",
              "        <th>name</th>\n",
              "        <th>area</th>\n",
              "        <th>area_land</th>\n",
              "        <th>area_water</th>\n",
              "        <th>population</th>\n",
              "        <th>population_growth</th>\n",
              "        <th>birth_rate</th>\n",
              "        <th>death_rate</th>\n",
              "        <th>migration_rate</th>\n",
              "    </tr>\n",
              "    <tr>\n",
              "        <td>1</td>\n",
              "        <td>af</td>\n",
              "        <td>Afghanistan</td>\n",
              "        <td>652230</td>\n",
              "        <td>652230</td>\n",
              "        <td>0</td>\n",
              "        <td>32564342</td>\n",
              "        <td>2.32</td>\n",
              "        <td>38.57</td>\n",
              "        <td>13.89</td>\n",
              "        <td>1.51</td>\n",
              "    </tr>\n",
              "    <tr>\n",
              "        <td>2</td>\n",
              "        <td>al</td>\n",
              "        <td>Albania</td>\n",
              "        <td>28748</td>\n",
              "        <td>27398</td>\n",
              "        <td>1350</td>\n",
              "        <td>3029278</td>\n",
              "        <td>0.3</td>\n",
              "        <td>12.92</td>\n",
              "        <td>6.58</td>\n",
              "        <td>3.3</td>\n",
              "    </tr>\n",
              "    <tr>\n",
              "        <td>3</td>\n",
              "        <td>ag</td>\n",
              "        <td>Algeria</td>\n",
              "        <td>2381741</td>\n",
              "        <td>2381741</td>\n",
              "        <td>0</td>\n",
              "        <td>39542166</td>\n",
              "        <td>1.84</td>\n",
              "        <td>23.67</td>\n",
              "        <td>4.31</td>\n",
              "        <td>0.92</td>\n",
              "    </tr>\n",
              "    <tr>\n",
              "        <td>4</td>\n",
              "        <td>an</td>\n",
              "        <td>Andorra</td>\n",
              "        <td>468</td>\n",
              "        <td>468</td>\n",
              "        <td>0</td>\n",
              "        <td>85580</td>\n",
              "        <td>0.12</td>\n",
              "        <td>8.13</td>\n",
              "        <td>6.96</td>\n",
              "        <td>0.0</td>\n",
              "    </tr>\n",
              "    <tr>\n",
              "        <td>5</td>\n",
              "        <td>ao</td>\n",
              "        <td>Angola</td>\n",
              "        <td>1246700</td>\n",
              "        <td>1246700</td>\n",
              "        <td>0</td>\n",
              "        <td>19625353</td>\n",
              "        <td>2.78</td>\n",
              "        <td>38.78</td>\n",
              "        <td>11.49</td>\n",
              "        <td>0.46</td>\n",
              "    </tr>\n",
              "</table>"
            ],
            "text/plain": [
              "[(1, 'af', 'Afghanistan', 652230, 652230, 0, 32564342, 2.32, 38.57, 13.89, 1.51),\n",
              " (2, 'al', 'Albania', 28748, 27398, 1350, 3029278, 0.3, 12.92, 6.58, 3.3),\n",
              " (3, 'ag', 'Algeria', 2381741, 2381741, 0, 39542166, 1.84, 23.67, 4.31, 0.92),\n",
              " (4, 'an', 'Andorra', 468, 468, 0, 85580, 0.12, 8.13, 6.96, 0.0),\n",
              " (5, 'ao', 'Angola', 1246700, 1246700, 0, 19625353, 2.78, 38.78, 11.49, 0.46)]"
            ]
          },
          "metadata": {
            "tags": []
          },
          "execution_count": 15
        }
      ]
    },
    {
      "cell_type": "markdown",
      "metadata": {
        "id": "j8f48hFBCm14",
        "colab_type": "text"
      },
      "source": [
        "Here are the descriptions for some of the columns:\n",
        "\n",
        "- `name` - The name of the country.\n",
        "- `area` - The total land and sea area of the country.\n",
        "- `population` - The country's population.\n",
        "- `population_growth` - The country's population growth as a percentage.\n",
        "- `birth_rate` - The country's birth rate, or the number of births a year per 1,000 people.\n",
        "- `death_rate` - The country's death rate, or the number of death a year per 1,000 people.\n",
        "- `area` - The country's total area (both land and water).\n",
        "- `area_land` - The country's land area in square kilometers.\n",
        "- `area_water` - The country's waterarea in square kilometers."
      ]
    },
    {
      "cell_type": "markdown",
      "metadata": {
        "id": "o9PwnDQQ9djK",
        "colab_type": "text"
      },
      "source": [
        "# Summary Statistics\n",
        "\n",
        "Let's start by calculating some summary statistics and look for any outlier countries."
      ]
    },
    {
      "cell_type": "code",
      "metadata": {
        "id": "J9oq-d4S9djL",
        "colab_type": "code",
        "outputId": "29207327-7a8c-4b76-9d73-081033826ed8",
        "colab": {
          "base_uri": "https://localhost:8080/",
          "height": 92
        }
      },
      "source": [
        "%%sql\n",
        "SELECT\n",
        "    MIN(population) min_pop,\n",
        "    MAX(population) max_pop, \n",
        "    MIN(population_growth) min_pop_grwth,\n",
        "    MAX(population_growth) max_pop_grwth \n",
        "FROM facts;"
      ],
      "execution_count": 19,
      "outputs": [
        {
          "output_type": "stream",
          "text": [
            " * sqlite:///factbook.db\n",
            "Done.\n"
          ],
          "name": "stdout"
        },
        {
          "output_type": "execute_result",
          "data": {
            "text/html": [
              "<table>\n",
              "    <tr>\n",
              "        <th>min_pop</th>\n",
              "        <th>max_pop</th>\n",
              "        <th>min_pop_grwth</th>\n",
              "        <th>max_pop_grwth</th>\n",
              "    </tr>\n",
              "    <tr>\n",
              "        <td>0</td>\n",
              "        <td>7256490011</td>\n",
              "        <td>0.0</td>\n",
              "        <td>4.02</td>\n",
              "    </tr>\n",
              "</table>"
            ],
            "text/plain": [
              "[(0, 7256490011, 0.0, 4.02)]"
            ]
          },
          "metadata": {
            "tags": []
          },
          "execution_count": 19
        }
      ]
    },
    {
      "cell_type": "markdown",
      "metadata": {
        "id": "k1Iej9uUEJYT",
        "colab_type": "text"
      },
      "source": [
        "A few things stick out from the summary statistics in the last screen:\n",
        "\n",
        "- there's a country with a population of `0`\n",
        "- there's a country with a population of `7256490011` (or more than 7.2 billion people)\n",
        "\n",
        "Let's use subqueries to zoom in on just these countries."
      ]
    },
    {
      "cell_type": "code",
      "metadata": {
        "id": "jWfjh_cMEYnq",
        "colab_type": "code",
        "colab": {
          "base_uri": "https://localhost:8080/",
          "height": 112
        },
        "outputId": "1110eca0-9ebf-44e9-d4ec-cdf4cf7d5ff7"
      },
      "source": [
        "%%sql\n",
        "SELECT name country_name, population FROM facts\n",
        "WHERE (\n",
        "    population = (SELECT MIN(population) FROM facts)\n",
        "    ) OR (\n",
        "    population = (SELECT MAX(population) FROM facts)\n",
        "    );"
      ],
      "execution_count": 21,
      "outputs": [
        {
          "output_type": "stream",
          "text": [
            " * sqlite:///factbook.db\n",
            "Done.\n"
          ],
          "name": "stdout"
        },
        {
          "output_type": "execute_result",
          "data": {
            "text/html": [
              "<table>\n",
              "    <tr>\n",
              "        <th>country_name</th>\n",
              "        <th>population</th>\n",
              "    </tr>\n",
              "    <tr>\n",
              "        <td>Antarctica</td>\n",
              "        <td>0</td>\n",
              "    </tr>\n",
              "    <tr>\n",
              "        <td>World</td>\n",
              "        <td>7256490011</td>\n",
              "    </tr>\n",
              "</table>"
            ],
            "text/plain": [
              "[('Antarctica', 0), ('World', 7256490011)]"
            ]
          },
          "metadata": {
            "tags": []
          },
          "execution_count": 21
        }
      ]
    },
    {
      "cell_type": "markdown",
      "metadata": {
        "id": "h9hQAQO7Fsj7",
        "colab_type": "text"
      },
      "source": [
        "It seems like the table contains a row for the whole world, which explains the population of over 7.2 billion. It also seems like the table contains a row for Antarctica, which explains the population of 0. This seems to match the CIA Factbook [page for Antarctica](https://www.cia.gov/library/publications/the-world-factbook/geos/ay.html)."
      ]
    },
    {
      "cell_type": "markdown",
      "metadata": {
        "id": "FoMG3Z7U9djW",
        "colab_type": "text"
      },
      "source": [
        "## Exploring Average Population and Area\n",
        "\n",
        "Let's continue by calculating some averages."
      ]
    },
    {
      "cell_type": "code",
      "metadata": {
        "id": "1qFEJcvLF7U-",
        "colab_type": "code",
        "colab": {
          "base_uri": "https://localhost:8080/",
          "height": 92
        },
        "outputId": "691ec06e-b0a5-429b-e95b-6656cedf118a"
      },
      "source": [
        "%%sql\n",
        "SELECT \n",
        "    ROUND(AVG(population)) averge_pop, \n",
        "    ROUND(AVG(area)) average_area \n",
        "FROM facts;"
      ],
      "execution_count": 23,
      "outputs": [
        {
          "output_type": "stream",
          "text": [
            " * sqlite:///factbook.db\n",
            "Done.\n"
          ],
          "name": "stdout"
        },
        {
          "output_type": "execute_result",
          "data": {
            "text/html": [
              "<table>\n",
              "    <tr>\n",
              "        <th>averge_pop</th>\n",
              "        <th>average_area</th>\n",
              "    </tr>\n",
              "    <tr>\n",
              "        <td>62094928.0</td>\n",
              "        <td>555094.0</td>\n",
              "    </tr>\n",
              "</table>"
            ],
            "text/plain": [
              "[(62094928.0, 555094.0)]"
            ]
          },
          "metadata": {
            "tags": []
          },
          "execution_count": 23
        }
      ]
    },
    {
      "cell_type": "markdown",
      "metadata": {
        "id": "rEDh6b2o9djb",
        "colab_type": "text"
      },
      "source": [
        "# Finding Densely Populated Countries\n",
        "\n",
        "I'll identify countries that have:\n",
        "\n",
        "- Above average values for `population`.\n",
        "- Below average values for `area`."
      ]
    },
    {
      "cell_type": "code",
      "metadata": {
        "id": "27_SXVWuG_Qc",
        "colab_type": "code",
        "colab": {
          "base_uri": "https://localhost:8080/",
          "height": 212
        },
        "outputId": "135ca234-01af-443c-8f45-ffc1ea1e4806"
      },
      "source": [
        "%%sql\n",
        "SELECT name country_name, population / 1000000 population_millions, area FROM facts\n",
        "WHERE (\n",
        "    population > (SELECT AVG(population) FROM facts)\n",
        ") AND(\n",
        "    area < (SELECT AVG(area) FROM facts)\n",
        ");"
      ],
      "execution_count": 31,
      "outputs": [
        {
          "output_type": "stream",
          "text": [
            " * sqlite:///factbook.db\n",
            "Done.\n"
          ],
          "name": "stdout"
        },
        {
          "output_type": "execute_result",
          "data": {
            "text/html": [
              "<table>\n",
              "    <tr>\n",
              "        <th>country_name</th>\n",
              "        <th>population_millions</th>\n",
              "        <th>area</th>\n",
              "    </tr>\n",
              "    <tr>\n",
              "        <td>Bangladesh</td>\n",
              "        <td>168</td>\n",
              "        <td>148460</td>\n",
              "    </tr>\n",
              "    <tr>\n",
              "        <td>Germany</td>\n",
              "        <td>80</td>\n",
              "        <td>357022</td>\n",
              "    </tr>\n",
              "    <tr>\n",
              "        <td>Japan</td>\n",
              "        <td>126</td>\n",
              "        <td>377915</td>\n",
              "    </tr>\n",
              "    <tr>\n",
              "        <td>Philippines</td>\n",
              "        <td>100</td>\n",
              "        <td>300000</td>\n",
              "    </tr>\n",
              "    <tr>\n",
              "        <td>Thailand</td>\n",
              "        <td>67</td>\n",
              "        <td>513120</td>\n",
              "    </tr>\n",
              "    <tr>\n",
              "        <td>United Kingdom</td>\n",
              "        <td>64</td>\n",
              "        <td>243610</td>\n",
              "    </tr>\n",
              "    <tr>\n",
              "        <td>Vietnam</td>\n",
              "        <td>94</td>\n",
              "        <td>331210</td>\n",
              "    </tr>\n",
              "</table>"
            ],
            "text/plain": [
              "[('Bangladesh', 168, 148460),\n",
              " ('Germany', 80, 357022),\n",
              " ('Japan', 126, 377915),\n",
              " ('Philippines', 100, 300000),\n",
              " ('Thailand', 67, 513120),\n",
              " ('United Kingdom', 64, 243610),\n",
              " ('Vietnam', 94, 331210)]"
            ]
          },
          "metadata": {
            "tags": []
          },
          "execution_count": 31
        }
      ]
    }
  ]
}